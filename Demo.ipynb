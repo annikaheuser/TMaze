{
  "nbformat": 4,
  "nbformat_minor": 0,
  "metadata": {
    "colab": {
      "provenance": [],
      "gpuType": "T4"
    },
    "kernelspec": {
      "name": "python3",
      "display_name": "Python 3"
    },
    "language_info": {
      "name": "python"
    },
    "accelerator": "GPU"
  },
  "cells": [
    {
      "cell_type": "markdown",
      "source": [
        "The below set up is for a Google Colab notebook. This assumes that this notebook is in a Google Folder called TMaze, which contains all the files in [the Github repository](https://github.com/annikaheuser/TMaze/blob/main/tmaze.py)."
      ],
      "metadata": {
        "id": "lKF9ArsbKD-H"
      }
    },
    {
      "cell_type": "code",
      "source": [
        "#Installations\n",
        "!ln -s /usr/local/cuda/lib64/libcusolver.so.11 /usr/local/cuda/lib64/libcusolver.so.10\n",
        "!ls /usr/local/cuda/lib64/libcusolver*\n",
        "!pip install torch mxnet-cu117\n",
        "!pip install wordfreq language_tool_python transformers\n",
        "!git clone https://github.com/awslabs/mlm-scoring.git mlm_scoring/\n",
        "!cd mlm_scoring/; git checkout 9cab61e6774bcc4983f7117f1a280c334f3e68b5; sed -i '21s/.*/\"transformers\",/' setup.py; cat setup.py; pip install .; pip install .; cd .."
      ],
      "metadata": {
        "colab": {
          "base_uri": "https://localhost:8080/"
        },
        "id": "ezR2LagIi_K9",
        "outputId": "161dcf2e-4a0a-4b3a-9d31-0f0876bc67d1"
      },
      "execution_count": 10,
      "outputs": [
        {
          "output_type": "stream",
          "name": "stdout",
          "text": [
            "ln: failed to create symbolic link '/usr/local/cuda/lib64/libcusolver.so.10': File exists\n",
            "/usr/local/cuda/lib64/libcusolver_lapack_static.a\n",
            "/usr/local/cuda/lib64/libcusolverMg.so\n",
            "/usr/local/cuda/lib64/libcusolverMg.so.11\n",
            "/usr/local/cuda/lib64/libcusolverMg.so.11.4.1.48\n",
            "/usr/local/cuda/lib64/libcusolver.so\n",
            "/usr/local/cuda/lib64/libcusolver.so.10\n",
            "/usr/local/cuda/lib64/libcusolver.so.11\n",
            "/usr/local/cuda/lib64/libcusolver.so.11.4.1.48\n",
            "/usr/local/cuda/lib64/libcusolver_static.a\n",
            "Requirement already satisfied: torch in /usr/local/lib/python3.10/dist-packages (2.0.1+cu118)\n",
            "Requirement already satisfied: mxnet-cu117 in /usr/local/lib/python3.10/dist-packages (1.9.1)\n",
            "Requirement already satisfied: filelock in /usr/local/lib/python3.10/dist-packages (from torch) (3.12.2)\n",
            "Requirement already satisfied: typing-extensions in /usr/local/lib/python3.10/dist-packages (from torch) (4.7.1)\n",
            "Requirement already satisfied: sympy in /usr/local/lib/python3.10/dist-packages (from torch) (1.11.1)\n",
            "Requirement already satisfied: networkx in /usr/local/lib/python3.10/dist-packages (from torch) (3.1)\n",
            "Requirement already satisfied: jinja2 in /usr/local/lib/python3.10/dist-packages (from torch) (3.1.2)\n",
            "Requirement already satisfied: triton==2.0.0 in /usr/local/lib/python3.10/dist-packages (from torch) (2.0.0)\n",
            "Requirement already satisfied: cmake in /usr/local/lib/python3.10/dist-packages (from triton==2.0.0->torch) (3.25.2)\n",
            "Requirement already satisfied: lit in /usr/local/lib/python3.10/dist-packages (from triton==2.0.0->torch) (16.0.6)\n",
            "Requirement already satisfied: numpy<2.0.0,>1.16.0 in /usr/local/lib/python3.10/dist-packages (from mxnet-cu117) (1.22.4)\n",
            "Requirement already satisfied: requests<3,>=2.20.0 in /usr/local/lib/python3.10/dist-packages (from mxnet-cu117) (2.27.1)\n",
            "Requirement already satisfied: graphviz<0.9.0,>=0.8.1 in /usr/local/lib/python3.10/dist-packages (from mxnet-cu117) (0.8.4)\n",
            "Requirement already satisfied: urllib3<1.27,>=1.21.1 in /usr/local/lib/python3.10/dist-packages (from requests<3,>=2.20.0->mxnet-cu117) (1.26.16)\n",
            "Requirement already satisfied: certifi>=2017.4.17 in /usr/local/lib/python3.10/dist-packages (from requests<3,>=2.20.0->mxnet-cu117) (2023.5.7)\n",
            "Requirement already satisfied: charset-normalizer~=2.0.0 in /usr/local/lib/python3.10/dist-packages (from requests<3,>=2.20.0->mxnet-cu117) (2.0.12)\n",
            "Requirement already satisfied: idna<4,>=2.5 in /usr/local/lib/python3.10/dist-packages (from requests<3,>=2.20.0->mxnet-cu117) (3.4)\n",
            "Requirement already satisfied: MarkupSafe>=2.0 in /usr/local/lib/python3.10/dist-packages (from jinja2->torch) (2.1.3)\n",
            "Requirement already satisfied: mpmath>=0.19 in /usr/local/lib/python3.10/dist-packages (from sympy->torch) (1.3.0)\n",
            "Requirement already satisfied: wordfreq in /usr/local/lib/python3.10/dist-packages (3.0.3)\n",
            "Requirement already satisfied: language_tool_python in /usr/local/lib/python3.10/dist-packages (2.7.1)\n",
            "Requirement already satisfied: transformers in /usr/local/lib/python3.10/dist-packages (4.30.2)\n",
            "Requirement already satisfied: ftfy>=6.1 in /usr/local/lib/python3.10/dist-packages (from wordfreq) (6.1.1)\n",
            "Requirement already satisfied: langcodes>=3.0 in /usr/local/lib/python3.10/dist-packages (from wordfreq) (3.3.0)\n",
            "Requirement already satisfied: msgpack>=1.0 in /usr/local/lib/python3.10/dist-packages (from wordfreq) (1.0.5)\n",
            "Requirement already satisfied: regex>=2021.7.6 in /usr/local/lib/python3.10/dist-packages (from wordfreq) (2022.10.31)\n",
            "Requirement already satisfied: requests in /usr/local/lib/python3.10/dist-packages (from language_tool_python) (2.27.1)\n",
            "Requirement already satisfied: tqdm in /usr/local/lib/python3.10/dist-packages (from language_tool_python) (4.65.0)\n",
            "Requirement already satisfied: filelock in /usr/local/lib/python3.10/dist-packages (from transformers) (3.12.2)\n",
            "Requirement already satisfied: huggingface-hub<1.0,>=0.14.1 in /usr/local/lib/python3.10/dist-packages (from transformers) (0.16.4)\n",
            "Requirement already satisfied: numpy>=1.17 in /usr/local/lib/python3.10/dist-packages (from transformers) (1.22.4)\n",
            "Requirement already satisfied: packaging>=20.0 in /usr/local/lib/python3.10/dist-packages (from transformers) (23.1)\n",
            "Requirement already satisfied: pyyaml>=5.1 in /usr/local/lib/python3.10/dist-packages (from transformers) (6.0)\n",
            "Requirement already satisfied: tokenizers!=0.11.3,<0.14,>=0.11.1 in /usr/local/lib/python3.10/dist-packages (from transformers) (0.13.3)\n",
            "Requirement already satisfied: safetensors>=0.3.1 in /usr/local/lib/python3.10/dist-packages (from transformers) (0.3.1)\n",
            "Requirement already satisfied: wcwidth>=0.2.5 in /usr/local/lib/python3.10/dist-packages (from ftfy>=6.1->wordfreq) (0.2.6)\n",
            "Requirement already satisfied: fsspec in /usr/local/lib/python3.10/dist-packages (from huggingface-hub<1.0,>=0.14.1->transformers) (2023.6.0)\n",
            "Requirement already satisfied: typing-extensions>=3.7.4.3 in /usr/local/lib/python3.10/dist-packages (from huggingface-hub<1.0,>=0.14.1->transformers) (4.7.1)\n",
            "Requirement already satisfied: urllib3<1.27,>=1.21.1 in /usr/local/lib/python3.10/dist-packages (from requests->language_tool_python) (1.26.16)\n",
            "Requirement already satisfied: certifi>=2017.4.17 in /usr/local/lib/python3.10/dist-packages (from requests->language_tool_python) (2023.5.7)\n",
            "Requirement already satisfied: charset-normalizer~=2.0.0 in /usr/local/lib/python3.10/dist-packages (from requests->language_tool_python) (2.0.12)\n",
            "Requirement already satisfied: idna<4,>=2.5 in /usr/local/lib/python3.10/dist-packages (from requests->language_tool_python) (3.4)\n",
            "fatal: destination path 'mlm_scoring' already exists and is not an empty directory.\n",
            "M\tsetup.py\n",
            "HEAD is now at 9cab61e Update to transformers~=3.3.1\n",
            "#!/usr/bin/env python3\n",
            "\n",
            "from setuptools import find_packages, setup\n",
            "\n",
            "setup(\n",
            "    name='mlm',\n",
            "    version='0.1',\n",
            "    description=\"Masked Language Model Scoring\",\n",
            "    author='Julian Salazar',\n",
            "    packages=find_packages('src'),\n",
            "    package_dir={'': 'src'},\n",
            "    entry_points = {\n",
            "        'console_scripts': ['mlm=mlm.cmds:main'],\n",
            "    },\n",
            "\n",
            "    install_requires=[\n",
            "        'gluonnlp~=0.8.3',\n",
            "        'regex',\n",
            "        'sacrebleu',\n",
            "        'mosestokenizer',\n",
            "\"transformers\",\n",
            "    ],\n",
            "\n",
            "    extras_require={\n",
            "        'dev': [\n",
            "            'pylint',\n",
            "            'pytest',\n",
            "            'pytest-cov',\n",
            "            'mypy'\n",
            "        ]\n",
            "    },\n",
            "\n",
            "    # Needed for static type checking\n",
            "    # https://mypy.readthedocs.io/en/latest/installed_packages.html\n",
            "    zip_safe=False\n",
            ")\n",
            "Processing /content/mlm_scoring\n",
            "  Preparing metadata (setup.py) ... \u001b[?25l\u001b[?25hdone\n",
            "Requirement already satisfied: gluonnlp~=0.8.3 in /usr/local/lib/python3.10/dist-packages (from mlm==0.1) (0.8.3)\n",
            "Requirement already satisfied: regex in /usr/local/lib/python3.10/dist-packages (from mlm==0.1) (2022.10.31)\n",
            "Requirement already satisfied: sacrebleu in /usr/local/lib/python3.10/dist-packages (from mlm==0.1) (2.3.1)\n",
            "Requirement already satisfied: mosestokenizer in /usr/local/lib/python3.10/dist-packages (from mlm==0.1) (1.2.1)\n",
            "Requirement already satisfied: transformers in /usr/local/lib/python3.10/dist-packages (from mlm==0.1) (4.30.2)\n",
            "Requirement already satisfied: numpy in /usr/local/lib/python3.10/dist-packages (from gluonnlp~=0.8.3->mlm==0.1) (1.22.4)\n",
            "Requirement already satisfied: docopt in /usr/local/lib/python3.10/dist-packages (from mosestokenizer->mlm==0.1) (0.6.2)\n",
            "Requirement already satisfied: openfile in /usr/local/lib/python3.10/dist-packages (from mosestokenizer->mlm==0.1) (0.0.7)\n",
            "Requirement already satisfied: uctools in /usr/local/lib/python3.10/dist-packages (from mosestokenizer->mlm==0.1) (1.3.0)\n",
            "Requirement already satisfied: toolwrapper in /usr/local/lib/python3.10/dist-packages (from mosestokenizer->mlm==0.1) (2.1.0)\n",
            "Requirement already satisfied: portalocker in /usr/local/lib/python3.10/dist-packages (from sacrebleu->mlm==0.1) (2.7.0)\n",
            "Requirement already satisfied: tabulate>=0.8.9 in /usr/local/lib/python3.10/dist-packages (from sacrebleu->mlm==0.1) (0.8.10)\n",
            "Requirement already satisfied: colorama in /usr/local/lib/python3.10/dist-packages (from sacrebleu->mlm==0.1) (0.4.6)\n",
            "Requirement already satisfied: lxml in /usr/local/lib/python3.10/dist-packages (from sacrebleu->mlm==0.1) (4.9.3)\n",
            "Requirement already satisfied: filelock in /usr/local/lib/python3.10/dist-packages (from transformers->mlm==0.1) (3.12.2)\n",
            "Requirement already satisfied: huggingface-hub<1.0,>=0.14.1 in /usr/local/lib/python3.10/dist-packages (from transformers->mlm==0.1) (0.16.4)\n",
            "Requirement already satisfied: packaging>=20.0 in /usr/local/lib/python3.10/dist-packages (from transformers->mlm==0.1) (23.1)\n",
            "Requirement already satisfied: pyyaml>=5.1 in /usr/local/lib/python3.10/dist-packages (from transformers->mlm==0.1) (6.0)\n",
            "Requirement already satisfied: requests in /usr/local/lib/python3.10/dist-packages (from transformers->mlm==0.1) (2.27.1)\n",
            "Requirement already satisfied: tokenizers!=0.11.3,<0.14,>=0.11.1 in /usr/local/lib/python3.10/dist-packages (from transformers->mlm==0.1) (0.13.3)\n",
            "Requirement already satisfied: safetensors>=0.3.1 in /usr/local/lib/python3.10/dist-packages (from transformers->mlm==0.1) (0.3.1)\n",
            "Requirement already satisfied: tqdm>=4.27 in /usr/local/lib/python3.10/dist-packages (from transformers->mlm==0.1) (4.65.0)\n",
            "Requirement already satisfied: fsspec in /usr/local/lib/python3.10/dist-packages (from huggingface-hub<1.0,>=0.14.1->transformers->mlm==0.1) (2023.6.0)\n",
            "Requirement already satisfied: typing-extensions>=3.7.4.3 in /usr/local/lib/python3.10/dist-packages (from huggingface-hub<1.0,>=0.14.1->transformers->mlm==0.1) (4.7.1)\n",
            "Requirement already satisfied: urllib3<1.27,>=1.21.1 in /usr/local/lib/python3.10/dist-packages (from requests->transformers->mlm==0.1) (1.26.16)\n",
            "Requirement already satisfied: certifi>=2017.4.17 in /usr/local/lib/python3.10/dist-packages (from requests->transformers->mlm==0.1) (2023.5.7)\n",
            "Requirement already satisfied: charset-normalizer~=2.0.0 in /usr/local/lib/python3.10/dist-packages (from requests->transformers->mlm==0.1) (2.0.12)\n",
            "Requirement already satisfied: idna<4,>=2.5 in /usr/local/lib/python3.10/dist-packages (from requests->transformers->mlm==0.1) (3.4)\n",
            "Building wheels for collected packages: mlm\n",
            "  Building wheel for mlm (setup.py) ... \u001b[?25l\u001b[?25hdone\n",
            "  Created wheel for mlm: filename=mlm-0.1-py3-none-any.whl size=37712 sha256=eff37f8cfaf0ec14873e3b2e3901730bbadbdf103cf1cc3483280a863f8edec2\n",
            "  Stored in directory: /tmp/pip-ephem-wheel-cache-hd2wpj08/wheels/83/16/02/cd5b4d6a85c75f97ad7207d6799f9daf7f4677282abd7c4fa0\n",
            "Successfully built mlm\n",
            "Installing collected packages: mlm\n",
            "  Attempting uninstall: mlm\n",
            "    Found existing installation: mlm 0.1\n",
            "    Uninstalling mlm-0.1:\n",
            "      Successfully uninstalled mlm-0.1\n",
            "Successfully installed mlm-0.1\n",
            "Processing /content/mlm_scoring\n",
            "  Preparing metadata (setup.py) ... \u001b[?25l\u001b[?25hdone\n",
            "Requirement already satisfied: gluonnlp~=0.8.3 in /usr/local/lib/python3.10/dist-packages (from mlm==0.1) (0.8.3)\n",
            "Requirement already satisfied: regex in /usr/local/lib/python3.10/dist-packages (from mlm==0.1) (2022.10.31)\n",
            "Requirement already satisfied: sacrebleu in /usr/local/lib/python3.10/dist-packages (from mlm==0.1) (2.3.1)\n",
            "Requirement already satisfied: mosestokenizer in /usr/local/lib/python3.10/dist-packages (from mlm==0.1) (1.2.1)\n",
            "Requirement already satisfied: transformers in /usr/local/lib/python3.10/dist-packages (from mlm==0.1) (4.30.2)\n",
            "Requirement already satisfied: numpy in /usr/local/lib/python3.10/dist-packages (from gluonnlp~=0.8.3->mlm==0.1) (1.22.4)\n",
            "Requirement already satisfied: docopt in /usr/local/lib/python3.10/dist-packages (from mosestokenizer->mlm==0.1) (0.6.2)\n",
            "Requirement already satisfied: openfile in /usr/local/lib/python3.10/dist-packages (from mosestokenizer->mlm==0.1) (0.0.7)\n",
            "Requirement already satisfied: uctools in /usr/local/lib/python3.10/dist-packages (from mosestokenizer->mlm==0.1) (1.3.0)\n",
            "Requirement already satisfied: toolwrapper in /usr/local/lib/python3.10/dist-packages (from mosestokenizer->mlm==0.1) (2.1.0)\n",
            "Requirement already satisfied: portalocker in /usr/local/lib/python3.10/dist-packages (from sacrebleu->mlm==0.1) (2.7.0)\n",
            "Requirement already satisfied: tabulate>=0.8.9 in /usr/local/lib/python3.10/dist-packages (from sacrebleu->mlm==0.1) (0.8.10)\n",
            "Requirement already satisfied: colorama in /usr/local/lib/python3.10/dist-packages (from sacrebleu->mlm==0.1) (0.4.6)\n",
            "Requirement already satisfied: lxml in /usr/local/lib/python3.10/dist-packages (from sacrebleu->mlm==0.1) (4.9.3)\n",
            "Requirement already satisfied: filelock in /usr/local/lib/python3.10/dist-packages (from transformers->mlm==0.1) (3.12.2)\n",
            "Requirement already satisfied: huggingface-hub<1.0,>=0.14.1 in /usr/local/lib/python3.10/dist-packages (from transformers->mlm==0.1) (0.16.4)\n",
            "Requirement already satisfied: packaging>=20.0 in /usr/local/lib/python3.10/dist-packages (from transformers->mlm==0.1) (23.1)\n",
            "Requirement already satisfied: pyyaml>=5.1 in /usr/local/lib/python3.10/dist-packages (from transformers->mlm==0.1) (6.0)\n",
            "Requirement already satisfied: requests in /usr/local/lib/python3.10/dist-packages (from transformers->mlm==0.1) (2.27.1)\n",
            "Requirement already satisfied: tokenizers!=0.11.3,<0.14,>=0.11.1 in /usr/local/lib/python3.10/dist-packages (from transformers->mlm==0.1) (0.13.3)\n",
            "Requirement already satisfied: safetensors>=0.3.1 in /usr/local/lib/python3.10/dist-packages (from transformers->mlm==0.1) (0.3.1)\n",
            "Requirement already satisfied: tqdm>=4.27 in /usr/local/lib/python3.10/dist-packages (from transformers->mlm==0.1) (4.65.0)\n",
            "Requirement already satisfied: fsspec in /usr/local/lib/python3.10/dist-packages (from huggingface-hub<1.0,>=0.14.1->transformers->mlm==0.1) (2023.6.0)\n",
            "Requirement already satisfied: typing-extensions>=3.7.4.3 in /usr/local/lib/python3.10/dist-packages (from huggingface-hub<1.0,>=0.14.1->transformers->mlm==0.1) (4.7.1)\n",
            "Requirement already satisfied: urllib3<1.27,>=1.21.1 in /usr/local/lib/python3.10/dist-packages (from requests->transformers->mlm==0.1) (1.26.16)\n",
            "Requirement already satisfied: certifi>=2017.4.17 in /usr/local/lib/python3.10/dist-packages (from requests->transformers->mlm==0.1) (2023.5.7)\n",
            "Requirement already satisfied: charset-normalizer~=2.0.0 in /usr/local/lib/python3.10/dist-packages (from requests->transformers->mlm==0.1) (2.0.12)\n",
            "Requirement already satisfied: idna<4,>=2.5 in /usr/local/lib/python3.10/dist-packages (from requests->transformers->mlm==0.1) (3.4)\n",
            "Building wheels for collected packages: mlm\n",
            "  Building wheel for mlm (setup.py) ... \u001b[?25l\u001b[?25hdone\n",
            "  Created wheel for mlm: filename=mlm-0.1-py3-none-any.whl size=37712 sha256=bb818d0b31f5deff2b7a7a71f72eb1286f4d511a7ab496b990cd0decc93e28ef\n",
            "  Stored in directory: /tmp/pip-ephem-wheel-cache-iylqossw/wheels/83/16/02/cd5b4d6a85c75f97ad7207d6799f9daf7f4677282abd7c4fa0\n",
            "Successfully built mlm\n",
            "Installing collected packages: mlm\n",
            "  Attempting uninstall: mlm\n",
            "    Found existing installation: mlm 0.1\n",
            "    Uninstalling mlm-0.1:\n",
            "      Successfully uninstalled mlm-0.1\n",
            "Successfully installed mlm-0.1\n"
          ]
        }
      ]
    },
    {
      "cell_type": "code",
      "execution_count": 11,
      "metadata": {
        "id": "5R5uZvELfNFz",
        "colab": {
          "base_uri": "https://localhost:8080/"
        },
        "outputId": "50111924-aec0-4930-9a86-47c6d9f3b790"
      },
      "outputs": [
        {
          "output_type": "stream",
          "name": "stdout",
          "text": [
            "/content\n",
            "Drive already mounted at /content/gdrive/; to attempt to forcibly remount, call drive.mount(\"/content/gdrive/\", force_remount=True).\n"
          ]
        }
      ],
      "source": [
        "!pwd\n",
        "import torch\n",
        "import mxnet as mx\n",
        "from google.colab import drive\n",
        "drive.mount('/content/gdrive/')\n",
        "WORK_PATH = \"/content/gdrive/My Drive/TMaze\"\n",
        "from mlm.scorers import MLMScorer, MLMScorerPT, LMScorer\n",
        "from mlm.models import get_pretrained\n",
        "import mxnet as mx\n",
        "import pickle\n",
        "import wordfreq\n",
        "import string\n",
        "from scipy.stats import norm\n",
        "import spacy\n",
        "import numpy as np\n",
        "import pandas as pd\n",
        "import sys\n",
        "sys.path.append(WORK_PATH)\n",
        "import tmaze\n",
        "import materials\n",
        "import ibex_prep\n",
        "import lang_spec"
      ]
    },
    {
      "cell_type": "code",
      "source": [
        "%load_ext autoreload\n",
        "%autoreload 2"
      ],
      "metadata": {
        "id": "qbgoH8_4i8eL",
        "colab": {
          "base_uri": "https://localhost:8080/"
        },
        "outputId": "b253f9cf-09f8-4ce4-a567-254a0bfbdca5"
      },
      "execution_count": 12,
      "outputs": [
        {
          "output_type": "stream",
          "name": "stdout",
          "text": [
            "The autoreload extension is already loaded. To reload it, use:\n",
            "  %reload_ext autoreload\n"
          ]
        }
      ]
    },
    {
      "cell_type": "code",
      "source": [],
      "metadata": {
        "id": "RyU4iUr7KZ_w"
      },
      "execution_count": null,
      "outputs": []
    },
    {
      "cell_type": "markdown",
      "source": [
        "If you're using a language other than English, please refer to [Heuser, 2022](https://dspace.mit.edu/handle/1721.1/147233) for detailed instructions on how to create the necessary language-specific files. In English, these are `nonwords_en.pkl` and `freq_bins_en_ensemble.pkl`, which were created via functions in `lang_spec.py` and are included in [the Github repository](https://github.com/annikaheuser/TMaze/blob/main/tmaze.py).\n",
        "\n"
      ],
      "metadata": {
        "id": "bsEM1Q2jto4E"
      }
    },
    {
      "cell_type": "code",
      "source": [
        "eng = lang_spec.lang_spec(\"en-US\",True,WORK_PATH)\n",
        "eng.compile_freq_bins_and_nonwords_set()"
      ],
      "metadata": {
        "id": "ZmbzvrgCO6Aa",
        "colab": {
          "base_uri": "https://localhost:8080/"
        },
        "outputId": "e37c93d2-66a8-4637-d84f-7f4f09d20294"
      },
      "execution_count": 13,
      "outputs": [
        {
          "output_type": "stream",
          "name": "stdout",
          "text": [
            "Loading nonwords_set from pkl used by developers for en.\n",
            "Loading freq_bins from pkl used by developers for en.\n"
          ]
        }
      ]
    },
    {
      "cell_type": "markdown",
      "source": [
        "`boyce_materials_formatted.txt` has the expected format for experimental materials that are to be matched with distractors, namely:\n",
        "```\n",
        "ConditionName;ItemID;Sentence\n",
        "```\n",
        "For example:\n",
        "\n",
        "```\n",
        "adverb_high;72;Kim will display the photos she took next month, but she won't show all of them.\n",
        "adverb_low;72;Kim will display the photos she took last month, but she won't show all of them.\n",
        "```\n",
        "This file was derived from [g_maze.js](https://github.com/vboyce/Maze/blob/master/experiment/Materials/g_maze.js), made by Boyce et al. (2020).\n"
      ],
      "metadata": {
        "id": "dyhyag5Uwtvc"
      }
    },
    {
      "cell_type": "code",
      "source": [
        "with open(f'{WORK_PATH}/boyce_materials_formatted.txt') as f:\n",
        "    sents = f.readlines()"
      ],
      "metadata": {
        "id": "3bxqZ0fPfOoc"
      },
      "execution_count": 14,
      "outputs": []
    },
    {
      "cell_type": "markdown",
      "source": [
        "The materials object has a number of potentially useful attributes. Refer to [materials.py](https://github.com/annikaheuser/TMaze/blob/main/materials.py) for all of them. The following code creates new files with the names specified in the dictorionary at `WORK_PATH/{file_name}`. For example, in this case we will create `/content/gdrive/My Drive/TMaze/BoyceCondDict.pkl`."
      ],
      "metadata": {
        "id": "k4R173BWTEJ1"
      }
    },
    {
      "cell_type": "code",
      "source": [
        "m_pickle_dict = {\"cond_dict\": \"BoyceCondDict.pkl\", \"word_info\": \"BoyceWordInfo.pkl\",\"item_pairs\": \"BoyceNumItemPairs.pkl\"}\n",
        "boyce = materials.materials(sents,\";\",WORK_PATH,'en',m_pickle_dict)"
      ],
      "metadata": {
        "id": "6HI-uWmyfcEG",
        "colab": {
          "base_uri": "https://localhost:8080/"
        },
        "outputId": "f6c23497-377c-402d-e032-a942169838a1"
      },
      "execution_count": 15,
      "outputs": [
        {
          "output_type": "stream",
          "name": "stdout",
          "text": [
            "All pickle files already exist, loading existing pickles as opposed to creating new ones.\n",
            "If you want these files overwritten, please delete one or both of them from the directory.\n"
          ]
        }
      ]
    },
    {
      "cell_type": "markdown",
      "source": [
        "Here we specify the transformer model that TMaze should use to produce materials. Run\n",
        "\n",
        "```\n",
        "mlm.models.SUPPORTED_MLMS\n",
        "```\n",
        "to see what other models can be run by just changing the string in the below code. 'bert-base-multi-cased' may work decently well for languages like German, French, or Spanish.\n"
      ],
      "metadata": {
        "id": "cfDp5OKaU7BD"
      }
    },
    {
      "cell_type": "code",
      "source": [
        "ctxs = [mx.gpu(0)]\n",
        "model, vocab, tokenizer = get_pretrained(ctxs, 'bert-base-en-uncased')\n",
        "scorer = MLMScorer(model, vocab, tokenizer, ctxs)"
      ],
      "metadata": {
        "id": "eZtI7riN4veu",
        "colab": {
          "base_uri": "https://localhost:8080/"
        },
        "outputId": "efdd9f31-b4e5-448a-ac48-bb9605fb52f4"
      },
      "execution_count": 16,
      "outputs": [
        {
          "output_type": "stream",
          "name": "stderr",
          "text": [
            "WARNING:root:Created scorer of class 'MLMScorer'.\n"
          ]
        }
      ]
    },
    {
      "cell_type": "code",
      "source": [
        "pickle_dict = {\"freq_dict\":f'{WORK_PATH}/freq_bins_en_ensemble.pkl', \"word_info\": f\"{WORK_PATH}/BoyceWordInfo.pkl\", \"nonwords_set\": f\"{WORK_PATH}/nonwords_en.pkl\", \"dists_dict\":f\"{WORK_PATH}/EnglishDistractors.pkl\"}\n",
        "with open(pickle_dict['dists_dict'], \"wb\") as f:\n",
        "  pickle.dump({},f) #to initialize the dictionary within TMaze"
      ],
      "metadata": {
        "id": "hnVkcif6iaWZ"
      },
      "execution_count": 25,
      "outputs": []
    },
    {
      "cell_type": "markdown",
      "source": [
        "The above pickle files are either the result of the language specific setup (which are included in the Github repository for English) or from loading in the materials (i.e. `materials.materials(...)`). We initialize the final one at the desired file path in the code block above.\n",
        "\n",
        "TMaze takes the scorer (which assigns strings psuedologlikelihood values or log likelihood values based on a model) as its first argument. While the scorer does not necessarily need to be from `mlm.scorers`, it does need a `score_sentences` function to be compatible with the current code. Therefore you may need to build a simple object based on a transformer such that it returns a list of likelihood values for each string `score_sentences` is passed. See the [mlm-scoring repository](https://github.com/awslabs/mlm-scoring) from [Salazar et al. (2020)](https://aclanthology.org/2020.acl-main.240/) for more details.\n",
        "\n",
        "The second argument is the name of a [spaCy](https://spacy.io/) pipeline. The available pipelines are listed here: https://spacy.io/models. This was introduced for part of speech tagging purposes, which we keep track of for analysis purposes. These are included in a dataframe with all the generated distractors."
      ],
      "metadata": {
        "id": "StXWJnzaouwg"
      }
    },
    {
      "cell_type": "code",
      "source": [
        "en_tmaze = tmaze.tmaze(scorer,'en_core_web_sm',WORK_PATH,pickle_dict)"
      ],
      "metadata": {
        "id": "kils6yyP4sXG"
      },
      "execution_count": 26,
      "outputs": []
    },
    {
      "cell_type": "markdown",
      "source": [
        "The next code block produces and saves the resulting experimental materials as a Javascript file so that it can easily be plugged in to PCIbex.\n",
        "\n",
        "`ibex_prep.compile_all_sent_items_from_dict` actually determines the distractors. It takes two objects built earlier in this notebook: the TMaze object (i.e. `en_tmaze`) and an attribute of the loaded experimental materials.\n",
        "\n",
        "The third parameter is the number of potential distractors checked before returning the best one for any given words. In other words, with this set to 100, we find the best of 100 potential distractors. Increasing this number increases the time the function will take to run but the distractors it then returns might be higher quality.\n",
        "\n",
        "The last parameter is the number of top distractors that are saved in the `pandas` dataframe returned by the function. In this case, we save the top 3 distractors for every word. If the chosen distractor is unideal for any reason, then we can replace it with the second or even third best distractor. We save the dataframe in a csv, in case we want to reload it after generating our distractors for any reason.\n",
        "\n",
        "In addition to the dataframe, the function returns the sentences in JavaScript (JS) formatting, which we then write to a JS file. This file can quickly be plugged into a PCIbex project. We uploaded [this Github repository](https://github.com/vboyce/Ibex-with-Maze) to PCIbex and then inserted the content of `boyce_matchedDistractors.js` into the `sample.js` file for our validation experiment in [Heuser, 2022](https://dspace.mit.edu/handle/1721.1/147233)."
      ],
      "metadata": {
        "id": "q-rrmH-Bosto"
      }
    },
    {
      "cell_type": "code",
      "source": [
        "items_js, dist_df = ibex_prep.compile_all_sent_items_from_dict(en_tmaze,boyce.num_item_pairs,100,3)\n",
        "js_to_write = \"\"\n",
        "js_to_write+=items_js\n",
        "with open(f\"{WORK_PATH}/boyce_matchedDistractors.js\",\"w\") as doc:\n",
        "  doc.write(js_to_write)\n",
        "dist_df.to_csv(f\"{WORK_PATH}/boyce100matchedDistractors.csv\")"
      ],
      "metadata": {
        "id": "423_SHDSirK1",
        "colab": {
          "base_uri": "https://localhost:8080/"
        },
        "outputId": "31134495-48bc-4323-b3e9-268e3b0bd5a8"
      },
      "execution_count": 27,
      "outputs": [
        {
          "metadata": {
            "tags": null
          },
          "name": "stderr",
          "output_type": "stream",
          "text": [
            "/usr/local/lib/python3.10/dist-packages/gluonnlp/data/sampler.py:353: UserWarning: Some buckets are empty and will be removed. Unused bucket keys=[5]\n",
            "  warnings.warn('Some buckets are empty and will be removed. Unused bucket keys=%s' %\n",
            "/usr/local/lib/python3.10/dist-packages/gluonnlp/data/sampler.py:353: UserWarning: Some buckets are empty and will be removed. Unused bucket keys=[6]\n",
            "  warnings.warn('Some buckets are empty and will be removed. Unused bucket keys=%s' %\n",
            "/usr/local/lib/python3.10/dist-packages/gluonnlp/data/sampler.py:353: UserWarning: Some buckets are empty and will be removed. Unused bucket keys=[7]\n",
            "  warnings.warn('Some buckets are empty and will be removed. Unused bucket keys=%s' %\n",
            "/usr/local/lib/python3.10/dist-packages/gluonnlp/data/sampler.py:353: UserWarning: Some buckets are empty and will be removed. Unused bucket keys=[8]\n",
            "  warnings.warn('Some buckets are empty and will be removed. Unused bucket keys=%s' %\n",
            "/usr/local/lib/python3.10/dist-packages/gluonnlp/data/sampler.py:353: UserWarning: Some buckets are empty and will be removed. Unused bucket keys=[9]\n",
            "  warnings.warn('Some buckets are empty and will be removed. Unused bucket keys=%s' %\n",
            "/usr/local/lib/python3.10/dist-packages/gluonnlp/data/sampler.py:353: UserWarning: Some buckets are empty and will be removed. Unused bucket keys=[10]\n",
            "  warnings.warn('Some buckets are empty and will be removed. Unused bucket keys=%s' %\n",
            "/usr/local/lib/python3.10/dist-packages/gluonnlp/data/sampler.py:353: UserWarning: Some buckets are empty and will be removed. Unused bucket keys=[11]\n",
            "  warnings.warn('Some buckets are empty and will be removed. Unused bucket keys=%s' %\n",
            "/usr/local/lib/python3.10/dist-packages/gluonnlp/data/sampler.py:353: UserWarning: Some buckets are empty and will be removed. Unused bucket keys=[13]\n",
            "  warnings.warn('Some buckets are empty and will be removed. Unused bucket keys=%s' %\n",
            "/usr/local/lib/python3.10/dist-packages/gluonnlp/data/sampler.py:353: UserWarning: Some buckets are empty and will be removed. Unused bucket keys=[14]\n",
            "  warnings.warn('Some buckets are empty and will be removed. Unused bucket keys=%s' %\n",
            "/usr/local/lib/python3.10/dist-packages/gluonnlp/data/sampler.py:353: UserWarning: Some buckets are empty and will be removed. Unused bucket keys=[15]\n",
            "  warnings.warn('Some buckets are empty and will be removed. Unused bucket keys=%s' %\n",
            "/usr/local/lib/python3.10/dist-packages/gluonnlp/data/sampler.py:353: UserWarning: Some buckets are empty and will be removed. Unused bucket keys=[16]\n",
            "  warnings.warn('Some buckets are empty and will be removed. Unused bucket keys=%s' %\n",
            "/usr/local/lib/python3.10/dist-packages/gluonnlp/data/sampler.py:353: UserWarning: Some buckets are empty and will be removed. Unused bucket keys=[19]\n",
            "  warnings.warn('Some buckets are empty and will be removed. Unused bucket keys=%s' %\n",
            "/usr/local/lib/python3.10/dist-packages/gluonnlp/data/sampler.py:353: UserWarning: Some buckets are empty and will be removed. Unused bucket keys=[20]\n",
            "  warnings.warn('Some buckets are empty and will be removed. Unused bucket keys=%s' %\n",
            "/usr/local/lib/python3.10/dist-packages/gluonnlp/data/sampler.py:353: UserWarning: Some buckets are empty and will be removed. Unused bucket keys=[21]\n",
            "  warnings.warn('Some buckets are empty and will be removed. Unused bucket keys=%s' %\n",
            "/usr/local/lib/python3.10/dist-packages/gluonnlp/data/sampler.py:353: UserWarning: Some buckets are empty and will be removed. Unused bucket keys=[23]\n",
            "  warnings.warn('Some buckets are empty and will be removed. Unused bucket keys=%s' %\n"
          ]
        },
        {
          "metadata": {
            "tags": null
          },
          "name": "stdout",
          "output_type": "stream",
          "text": [
            "Finished item 1 of 104\n"
          ]
        },
        {
          "metadata": {
            "tags": null
          },
          "name": "stderr",
          "output_type": "stream",
          "text": [
            "/usr/local/lib/python3.10/dist-packages/gluonnlp/data/sampler.py:353: UserWarning: Some buckets are empty and will be removed. Unused bucket keys=[5]\n",
            "  warnings.warn('Some buckets are empty and will be removed. Unused bucket keys=%s' %\n",
            "/usr/local/lib/python3.10/dist-packages/gluonnlp/data/sampler.py:353: UserWarning: Some buckets are empty and will be removed. Unused bucket keys=[6]\n",
            "  warnings.warn('Some buckets are empty and will be removed. Unused bucket keys=%s' %\n",
            "/usr/local/lib/python3.10/dist-packages/gluonnlp/data/sampler.py:353: UserWarning: Some buckets are empty and will be removed. Unused bucket keys=[7]\n",
            "  warnings.warn('Some buckets are empty and will be removed. Unused bucket keys=%s' %\n",
            "/usr/local/lib/python3.10/dist-packages/gluonnlp/data/sampler.py:353: UserWarning: Some buckets are empty and will be removed. Unused bucket keys=[8]\n",
            "  warnings.warn('Some buckets are empty and will be removed. Unused bucket keys=%s' %\n",
            "/usr/local/lib/python3.10/dist-packages/gluonnlp/data/sampler.py:353: UserWarning: Some buckets are empty and will be removed. Unused bucket keys=[9]\n",
            "  warnings.warn('Some buckets are empty and will be removed. Unused bucket keys=%s' %\n",
            "/usr/local/lib/python3.10/dist-packages/gluonnlp/data/sampler.py:353: UserWarning: Some buckets are empty and will be removed. Unused bucket keys=[10]\n",
            "  warnings.warn('Some buckets are empty and will be removed. Unused bucket keys=%s' %\n",
            "/usr/local/lib/python3.10/dist-packages/gluonnlp/data/sampler.py:353: UserWarning: Some buckets are empty and will be removed. Unused bucket keys=[11]\n",
            "  warnings.warn('Some buckets are empty and will be removed. Unused bucket keys=%s' %\n",
            "/usr/local/lib/python3.10/dist-packages/gluonnlp/data/sampler.py:353: UserWarning: Some buckets are empty and will be removed. Unused bucket keys=[13]\n",
            "  warnings.warn('Some buckets are empty and will be removed. Unused bucket keys=%s' %\n",
            "/usr/local/lib/python3.10/dist-packages/gluonnlp/data/sampler.py:353: UserWarning: Some buckets are empty and will be removed. Unused bucket keys=[14]\n",
            "  warnings.warn('Some buckets are empty and will be removed. Unused bucket keys=%s' %\n",
            "/usr/local/lib/python3.10/dist-packages/gluonnlp/data/sampler.py:353: UserWarning: Some buckets are empty and will be removed. Unused bucket keys=[16]\n",
            "  warnings.warn('Some buckets are empty and will be removed. Unused bucket keys=%s' %\n",
            "/usr/local/lib/python3.10/dist-packages/gluonnlp/data/sampler.py:353: UserWarning: Some buckets are empty and will be removed. Unused bucket keys=[19]\n",
            "  warnings.warn('Some buckets are empty and will be removed. Unused bucket keys=%s' %\n",
            "/usr/local/lib/python3.10/dist-packages/gluonnlp/data/sampler.py:353: UserWarning: Some buckets are empty and will be removed. Unused bucket keys=[21]\n",
            "  warnings.warn('Some buckets are empty and will be removed. Unused bucket keys=%s' %\n"
          ]
        },
        {
          "metadata": {
            "tags": null
          },
          "name": "stdout",
          "output_type": "stream",
          "text": [
            "Finished item 2 of 104\n"
          ]
        },
        {
          "metadata": {
            "tags": null
          },
          "name": "stderr",
          "output_type": "stream",
          "text": [
            "/usr/local/lib/python3.10/dist-packages/gluonnlp/data/sampler.py:353: UserWarning: Some buckets are empty and will be removed. Unused bucket keys=[5]\n",
            "  warnings.warn('Some buckets are empty and will be removed. Unused bucket keys=%s' %\n",
            "/usr/local/lib/python3.10/dist-packages/gluonnlp/data/sampler.py:353: UserWarning: Some buckets are empty and will be removed. Unused bucket keys=[6]\n",
            "  warnings.warn('Some buckets are empty and will be removed. Unused bucket keys=%s' %\n",
            "/usr/local/lib/python3.10/dist-packages/gluonnlp/data/sampler.py:353: UserWarning: Some buckets are empty and will be removed. Unused bucket keys=[8]\n",
            "  warnings.warn('Some buckets are empty and will be removed. Unused bucket keys=%s' %\n",
            "/usr/local/lib/python3.10/dist-packages/gluonnlp/data/sampler.py:353: UserWarning: Some buckets are empty and will be removed. Unused bucket keys=[9]\n",
            "  warnings.warn('Some buckets are empty and will be removed. Unused bucket keys=%s' %\n",
            "/usr/local/lib/python3.10/dist-packages/gluonnlp/data/sampler.py:353: UserWarning: Some buckets are empty and will be removed. Unused bucket keys=[10]\n",
            "  warnings.warn('Some buckets are empty and will be removed. Unused bucket keys=%s' %\n",
            "/usr/local/lib/python3.10/dist-packages/gluonnlp/data/sampler.py:353: UserWarning: Some buckets are empty and will be removed. Unused bucket keys=[11]\n",
            "  warnings.warn('Some buckets are empty and will be removed. Unused bucket keys=%s' %\n",
            "/usr/local/lib/python3.10/dist-packages/gluonnlp/data/sampler.py:353: UserWarning: Some buckets are empty and will be removed. Unused bucket keys=[13]\n",
            "  warnings.warn('Some buckets are empty and will be removed. Unused bucket keys=%s' %\n",
            "/usr/local/lib/python3.10/dist-packages/gluonnlp/data/sampler.py:353: UserWarning: Some buckets are empty and will be removed. Unused bucket keys=[14]\n",
            "  warnings.warn('Some buckets are empty and will be removed. Unused bucket keys=%s' %\n",
            "/usr/local/lib/python3.10/dist-packages/gluonnlp/data/sampler.py:353: UserWarning: Some buckets are empty and will be removed. Unused bucket keys=[15]\n",
            "  warnings.warn('Some buckets are empty and will be removed. Unused bucket keys=%s' %\n",
            "/usr/local/lib/python3.10/dist-packages/gluonnlp/data/sampler.py:353: UserWarning: Some buckets are empty and will be removed. Unused bucket keys=[17]\n",
            "  warnings.warn('Some buckets are empty and will be removed. Unused bucket keys=%s' %\n",
            "/usr/local/lib/python3.10/dist-packages/gluonnlp/data/sampler.py:353: UserWarning: Some buckets are empty and will be removed. Unused bucket keys=[19]\n",
            "  warnings.warn('Some buckets are empty and will be removed. Unused bucket keys=%s' %\n"
          ]
        },
        {
          "metadata": {
            "tags": null
          },
          "name": "stdout",
          "output_type": "stream",
          "text": [
            "Finished item 3 of 104\n"
          ]
        },
        {
          "metadata": {
            "tags": null
          },
          "name": "stderr",
          "output_type": "stream",
          "text": [
            "/usr/local/lib/python3.10/dist-packages/gluonnlp/data/sampler.py:353: UserWarning: Some buckets are empty and will be removed. Unused bucket keys=[5]\n",
            "  warnings.warn('Some buckets are empty and will be removed. Unused bucket keys=%s' %\n",
            "/usr/local/lib/python3.10/dist-packages/gluonnlp/data/sampler.py:353: UserWarning: Some buckets are empty and will be removed. Unused bucket keys=[6]\n",
            "  warnings.warn('Some buckets are empty and will be removed. Unused bucket keys=%s' %\n",
            "/usr/local/lib/python3.10/dist-packages/gluonnlp/data/sampler.py:353: UserWarning: Some buckets are empty and will be removed. Unused bucket keys=[7]\n",
            "  warnings.warn('Some buckets are empty and will be removed. Unused bucket keys=%s' %\n",
            "/usr/local/lib/python3.10/dist-packages/gluonnlp/data/sampler.py:353: UserWarning: Some buckets are empty and will be removed. Unused bucket keys=[9]\n",
            "  warnings.warn('Some buckets are empty and will be removed. Unused bucket keys=%s' %\n",
            "/usr/local/lib/python3.10/dist-packages/gluonnlp/data/sampler.py:353: UserWarning: Some buckets are empty and will be removed. Unused bucket keys=[10]\n",
            "  warnings.warn('Some buckets are empty and will be removed. Unused bucket keys=%s' %\n",
            "/usr/local/lib/python3.10/dist-packages/gluonnlp/data/sampler.py:353: UserWarning: Some buckets are empty and will be removed. Unused bucket keys=[11]\n",
            "  warnings.warn('Some buckets are empty and will be removed. Unused bucket keys=%s' %\n",
            "/usr/local/lib/python3.10/dist-packages/gluonnlp/data/sampler.py:353: UserWarning: Some buckets are empty and will be removed. Unused bucket keys=[13]\n",
            "  warnings.warn('Some buckets are empty and will be removed. Unused bucket keys=%s' %\n",
            "/usr/local/lib/python3.10/dist-packages/gluonnlp/data/sampler.py:353: UserWarning: Some buckets are empty and will be removed. Unused bucket keys=[14]\n",
            "  warnings.warn('Some buckets are empty and will be removed. Unused bucket keys=%s' %\n",
            "/usr/local/lib/python3.10/dist-packages/gluonnlp/data/sampler.py:353: UserWarning: Some buckets are empty and will be removed. Unused bucket keys=[15]\n",
            "  warnings.warn('Some buckets are empty and will be removed. Unused bucket keys=%s' %\n",
            "/usr/local/lib/python3.10/dist-packages/gluonnlp/data/sampler.py:353: UserWarning: Some buckets are empty and will be removed. Unused bucket keys=[16]\n",
            "  warnings.warn('Some buckets are empty and will be removed. Unused bucket keys=%s' %\n",
            "/usr/local/lib/python3.10/dist-packages/gluonnlp/data/sampler.py:353: UserWarning: Some buckets are empty and will be removed. Unused bucket keys=[17]\n",
            "  warnings.warn('Some buckets are empty and will be removed. Unused bucket keys=%s' %\n",
            "/usr/local/lib/python3.10/dist-packages/gluonnlp/data/sampler.py:353: UserWarning: Some buckets are empty and will be removed. Unused bucket keys=[18]\n",
            "  warnings.warn('Some buckets are empty and will be removed. Unused bucket keys=%s' %\n",
            "/usr/local/lib/python3.10/dist-packages/gluonnlp/data/sampler.py:353: UserWarning: Some buckets are empty and will be removed. Unused bucket keys=[19]\n",
            "  warnings.warn('Some buckets are empty and will be removed. Unused bucket keys=%s' %\n",
            "/usr/local/lib/python3.10/dist-packages/gluonnlp/data/sampler.py:353: UserWarning: Some buckets are empty and will be removed. Unused bucket keys=[21]\n",
            "  warnings.warn('Some buckets are empty and will be removed. Unused bucket keys=%s' %\n"
          ]
        },
        {
          "metadata": {
            "tags": null
          },
          "name": "stdout",
          "output_type": "stream",
          "text": [
            "Finished item 4 of 104\n"
          ]
        },
        {
          "metadata": {
            "tags": null
          },
          "name": "stderr",
          "output_type": "stream",
          "text": [
            "/usr/local/lib/python3.10/dist-packages/gluonnlp/data/sampler.py:353: UserWarning: Some buckets are empty and will be removed. Unused bucket keys=[5]\n",
            "  warnings.warn('Some buckets are empty and will be removed. Unused bucket keys=%s' %\n",
            "/usr/local/lib/python3.10/dist-packages/gluonnlp/data/sampler.py:353: UserWarning: Some buckets are empty and will be removed. Unused bucket keys=[6]\n",
            "  warnings.warn('Some buckets are empty and will be removed. Unused bucket keys=%s' %\n",
            "/usr/local/lib/python3.10/dist-packages/gluonnlp/data/sampler.py:353: UserWarning: Some buckets are empty and will be removed. Unused bucket keys=[7]\n",
            "  warnings.warn('Some buckets are empty and will be removed. Unused bucket keys=%s' %\n",
            "/usr/local/lib/python3.10/dist-packages/gluonnlp/data/sampler.py:353: UserWarning: Some buckets are empty and will be removed. Unused bucket keys=[9]\n",
            "  warnings.warn('Some buckets are empty and will be removed. Unused bucket keys=%s' %\n",
            "/usr/local/lib/python3.10/dist-packages/gluonnlp/data/sampler.py:353: UserWarning: Some buckets are empty and will be removed. Unused bucket keys=[10]\n",
            "  warnings.warn('Some buckets are empty and will be removed. Unused bucket keys=%s' %\n",
            "/usr/local/lib/python3.10/dist-packages/gluonnlp/data/sampler.py:353: UserWarning: Some buckets are empty and will be removed. Unused bucket keys=[11]\n",
            "  warnings.warn('Some buckets are empty and will be removed. Unused bucket keys=%s' %\n",
            "/usr/local/lib/python3.10/dist-packages/gluonnlp/data/sampler.py:353: UserWarning: Some buckets are empty and will be removed. Unused bucket keys=[13]\n",
            "  warnings.warn('Some buckets are empty and will be removed. Unused bucket keys=%s' %\n",
            "/usr/local/lib/python3.10/dist-packages/gluonnlp/data/sampler.py:353: UserWarning: Some buckets are empty and will be removed. Unused bucket keys=[14]\n",
            "  warnings.warn('Some buckets are empty and will be removed. Unused bucket keys=%s' %\n",
            "/usr/local/lib/python3.10/dist-packages/gluonnlp/data/sampler.py:353: UserWarning: Some buckets are empty and will be removed. Unused bucket keys=[15]\n",
            "  warnings.warn('Some buckets are empty and will be removed. Unused bucket keys=%s' %\n",
            "/usr/local/lib/python3.10/dist-packages/gluonnlp/data/sampler.py:353: UserWarning: Some buckets are empty and will be removed. Unused bucket keys=[16]\n",
            "  warnings.warn('Some buckets are empty and will be removed. Unused bucket keys=%s' %\n",
            "/usr/local/lib/python3.10/dist-packages/gluonnlp/data/sampler.py:353: UserWarning: Some buckets are empty and will be removed. Unused bucket keys=[19]\n",
            "  warnings.warn('Some buckets are empty and will be removed. Unused bucket keys=%s' %\n",
            "/usr/local/lib/python3.10/dist-packages/gluonnlp/data/sampler.py:353: UserWarning: Some buckets are empty and will be removed. Unused bucket keys=[20]\n",
            "  warnings.warn('Some buckets are empty and will be removed. Unused bucket keys=%s' %\n",
            "/usr/local/lib/python3.10/dist-packages/gluonnlp/data/sampler.py:353: UserWarning: Some buckets are empty and will be removed. Unused bucket keys=[21]\n",
            "  warnings.warn('Some buckets are empty and will be removed. Unused bucket keys=%s' %\n",
            "/usr/local/lib/python3.10/dist-packages/gluonnlp/data/sampler.py:353: UserWarning: Some buckets are empty and will be removed. Unused bucket keys=[23]\n",
            "  warnings.warn('Some buckets are empty and will be removed. Unused bucket keys=%s' %\n"
          ]
        },
        {
          "metadata": {
            "tags": null
          },
          "name": "stdout",
          "output_type": "stream",
          "text": [
            "Finished item 5 of 104\n"
          ]
        },
        {
          "metadata": {
            "tags": null
          },
          "name": "stderr",
          "output_type": "stream",
          "text": [
            "/usr/local/lib/python3.10/dist-packages/gluonnlp/data/sampler.py:353: UserWarning: Some buckets are empty and will be removed. Unused bucket keys=[6]\n",
            "  warnings.warn('Some buckets are empty and will be removed. Unused bucket keys=%s' %\n",
            "/usr/local/lib/python3.10/dist-packages/gluonnlp/data/sampler.py:353: UserWarning: Some buckets are empty and will be removed. Unused bucket keys=[7]\n",
            "  warnings.warn('Some buckets are empty and will be removed. Unused bucket keys=%s' %\n",
            "/usr/local/lib/python3.10/dist-packages/gluonnlp/data/sampler.py:353: UserWarning: Some buckets are empty and will be removed. Unused bucket keys=[8]\n",
            "  warnings.warn('Some buckets are empty and will be removed. Unused bucket keys=%s' %\n",
            "/usr/local/lib/python3.10/dist-packages/gluonnlp/data/sampler.py:353: UserWarning: Some buckets are empty and will be removed. Unused bucket keys=[9]\n",
            "  warnings.warn('Some buckets are empty and will be removed. Unused bucket keys=%s' %\n",
            "/usr/local/lib/python3.10/dist-packages/gluonnlp/data/sampler.py:353: UserWarning: Some buckets are empty and will be removed. Unused bucket keys=[13]\n",
            "  warnings.warn('Some buckets are empty and will be removed. Unused bucket keys=%s' %\n",
            "/usr/local/lib/python3.10/dist-packages/gluonnlp/data/sampler.py:353: UserWarning: Some buckets are empty and will be removed. Unused bucket keys=[14]\n",
            "  warnings.warn('Some buckets are empty and will be removed. Unused bucket keys=%s' %\n",
            "/usr/local/lib/python3.10/dist-packages/gluonnlp/data/sampler.py:353: UserWarning: Some buckets are empty and will be removed. Unused bucket keys=[16]\n",
            "  warnings.warn('Some buckets are empty and will be removed. Unused bucket keys=%s' %\n",
            "/usr/local/lib/python3.10/dist-packages/gluonnlp/data/sampler.py:353: UserWarning: Some buckets are empty and will be removed. Unused bucket keys=[17]\n",
            "  warnings.warn('Some buckets are empty and will be removed. Unused bucket keys=%s' %\n",
            "/usr/local/lib/python3.10/dist-packages/gluonnlp/data/sampler.py:353: UserWarning: Some buckets are empty and will be removed. Unused bucket keys=[18]\n",
            "  warnings.warn('Some buckets are empty and will be removed. Unused bucket keys=%s' %\n",
            "/usr/local/lib/python3.10/dist-packages/gluonnlp/data/sampler.py:353: UserWarning: Some buckets are empty and will be removed. Unused bucket keys=[20]\n",
            "  warnings.warn('Some buckets are empty and will be removed. Unused bucket keys=%s' %\n"
          ]
        },
        {
          "metadata": {
            "tags": null
          },
          "name": "stdout",
          "output_type": "stream",
          "text": [
            "Finished item 6 of 104\n"
          ]
        },
        {
          "metadata": {
            "tags": null
          },
          "name": "stderr",
          "output_type": "stream",
          "text": [
            "/usr/local/lib/python3.10/dist-packages/gluonnlp/data/sampler.py:353: UserWarning: Some buckets are empty and will be removed. Unused bucket keys=[5]\n",
            "  warnings.warn('Some buckets are empty and will be removed. Unused bucket keys=%s' %\n",
            "/usr/local/lib/python3.10/dist-packages/gluonnlp/data/sampler.py:353: UserWarning: Some buckets are empty and will be removed. Unused bucket keys=[6]\n",
            "  warnings.warn('Some buckets are empty and will be removed. Unused bucket keys=%s' %\n",
            "/usr/local/lib/python3.10/dist-packages/gluonnlp/data/sampler.py:353: UserWarning: Some buckets are empty and will be removed. Unused bucket keys=[9]\n",
            "  warnings.warn('Some buckets are empty and will be removed. Unused bucket keys=%s' %\n",
            "/usr/local/lib/python3.10/dist-packages/gluonnlp/data/sampler.py:353: UserWarning: Some buckets are empty and will be removed. Unused bucket keys=[8]\n",
            "  warnings.warn('Some buckets are empty and will be removed. Unused bucket keys=%s' %\n",
            "/usr/local/lib/python3.10/dist-packages/gluonnlp/data/sampler.py:353: UserWarning: Some buckets are empty and will be removed. Unused bucket keys=[9]\n",
            "  warnings.warn('Some buckets are empty and will be removed. Unused bucket keys=%s' %\n",
            "/usr/local/lib/python3.10/dist-packages/gluonnlp/data/sampler.py:353: UserWarning: Some buckets are empty and will be removed. Unused bucket keys=[10]\n",
            "  warnings.warn('Some buckets are empty and will be removed. Unused bucket keys=%s' %\n",
            "/usr/local/lib/python3.10/dist-packages/gluonnlp/data/sampler.py:353: UserWarning: Some buckets are empty and will be removed. Unused bucket keys=[13]\n",
            "  warnings.warn('Some buckets are empty and will be removed. Unused bucket keys=%s' %\n",
            "/usr/local/lib/python3.10/dist-packages/gluonnlp/data/sampler.py:353: UserWarning: Some buckets are empty and will be removed. Unused bucket keys=[14]\n",
            "  warnings.warn('Some buckets are empty and will be removed. Unused bucket keys=%s' %\n",
            "/usr/local/lib/python3.10/dist-packages/gluonnlp/data/sampler.py:353: UserWarning: Some buckets are empty and will be removed. Unused bucket keys=[15]\n",
            "  warnings.warn('Some buckets are empty and will be removed. Unused bucket keys=%s' %\n",
            "/usr/local/lib/python3.10/dist-packages/gluonnlp/data/sampler.py:353: UserWarning: Some buckets are empty and will be removed. Unused bucket keys=[16]\n",
            "  warnings.warn('Some buckets are empty and will be removed. Unused bucket keys=%s' %\n",
            "/usr/local/lib/python3.10/dist-packages/gluonnlp/data/sampler.py:353: UserWarning: Some buckets are empty and will be removed. Unused bucket keys=[18]\n",
            "  warnings.warn('Some buckets are empty and will be removed. Unused bucket keys=%s' %\n"
          ]
        },
        {
          "metadata": {
            "tags": null
          },
          "name": "stdout",
          "output_type": "stream",
          "text": [
            "Finished item 7 of 104\n"
          ]
        },
        {
          "metadata": {
            "tags": null
          },
          "name": "stderr",
          "output_type": "stream",
          "text": [
            "/usr/local/lib/python3.10/dist-packages/gluonnlp/data/sampler.py:353: UserWarning: Some buckets are empty and will be removed. Unused bucket keys=[5]\n",
            "  warnings.warn('Some buckets are empty and will be removed. Unused bucket keys=%s' %\n",
            "/usr/local/lib/python3.10/dist-packages/gluonnlp/data/sampler.py:353: UserWarning: Some buckets are empty and will be removed. Unused bucket keys=[7]\n",
            "  warnings.warn('Some buckets are empty and will be removed. Unused bucket keys=%s' %\n",
            "/usr/local/lib/python3.10/dist-packages/gluonnlp/data/sampler.py:353: UserWarning: Some buckets are empty and will be removed. Unused bucket keys=[8]\n",
            "  warnings.warn('Some buckets are empty and will be removed. Unused bucket keys=%s' %\n",
            "/usr/local/lib/python3.10/dist-packages/gluonnlp/data/sampler.py:353: UserWarning: Some buckets are empty and will be removed. Unused bucket keys=[9]\n",
            "  warnings.warn('Some buckets are empty and will be removed. Unused bucket keys=%s' %\n",
            "/usr/local/lib/python3.10/dist-packages/gluonnlp/data/sampler.py:353: UserWarning: Some buckets are empty and will be removed. Unused bucket keys=[13]\n",
            "  warnings.warn('Some buckets are empty and will be removed. Unused bucket keys=%s' %\n",
            "/usr/local/lib/python3.10/dist-packages/gluonnlp/data/sampler.py:353: UserWarning: Some buckets are empty and will be removed. Unused bucket keys=[14]\n",
            "  warnings.warn('Some buckets are empty and will be removed. Unused bucket keys=%s' %\n",
            "/usr/local/lib/python3.10/dist-packages/gluonnlp/data/sampler.py:353: UserWarning: Some buckets are empty and will be removed. Unused bucket keys=[15]\n",
            "  warnings.warn('Some buckets are empty and will be removed. Unused bucket keys=%s' %\n",
            "/usr/local/lib/python3.10/dist-packages/gluonnlp/data/sampler.py:353: UserWarning: Some buckets are empty and will be removed. Unused bucket keys=[16]\n",
            "  warnings.warn('Some buckets are empty and will be removed. Unused bucket keys=%s' %\n",
            "/usr/local/lib/python3.10/dist-packages/gluonnlp/data/sampler.py:353: UserWarning: Some buckets are empty and will be removed. Unused bucket keys=[17]\n",
            "  warnings.warn('Some buckets are empty and will be removed. Unused bucket keys=%s' %\n",
            "/usr/local/lib/python3.10/dist-packages/gluonnlp/data/sampler.py:353: UserWarning: Some buckets are empty and will be removed. Unused bucket keys=[19]\n",
            "  warnings.warn('Some buckets are empty and will be removed. Unused bucket keys=%s' %\n"
          ]
        },
        {
          "metadata": {
            "tags": null
          },
          "name": "stdout",
          "output_type": "stream",
          "text": [
            "Finished item 8 of 104\n"
          ]
        },
        {
          "metadata": {
            "tags": null
          },
          "name": "stderr",
          "output_type": "stream",
          "text": [
            "/usr/local/lib/python3.10/dist-packages/gluonnlp/data/sampler.py:353: UserWarning: Some buckets are empty and will be removed. Unused bucket keys=[5]\n",
            "  warnings.warn('Some buckets are empty and will be removed. Unused bucket keys=%s' %\n",
            "/usr/local/lib/python3.10/dist-packages/gluonnlp/data/sampler.py:353: UserWarning: Some buckets are empty and will be removed. Unused bucket keys=[6]\n",
            "  warnings.warn('Some buckets are empty and will be removed. Unused bucket keys=%s' %\n",
            "/usr/local/lib/python3.10/dist-packages/gluonnlp/data/sampler.py:353: UserWarning: Some buckets are empty and will be removed. Unused bucket keys=[7]\n",
            "  warnings.warn('Some buckets are empty and will be removed. Unused bucket keys=%s' %\n",
            "/usr/local/lib/python3.10/dist-packages/gluonnlp/data/sampler.py:353: UserWarning: Some buckets are empty and will be removed. Unused bucket keys=[8]\n",
            "  warnings.warn('Some buckets are empty and will be removed. Unused bucket keys=%s' %\n",
            "/usr/local/lib/python3.10/dist-packages/gluonnlp/data/sampler.py:353: UserWarning: Some buckets are empty and will be removed. Unused bucket keys=[9]\n",
            "  warnings.warn('Some buckets are empty and will be removed. Unused bucket keys=%s' %\n",
            "/usr/local/lib/python3.10/dist-packages/gluonnlp/data/sampler.py:353: UserWarning: Some buckets are empty and will be removed. Unused bucket keys=[10]\n",
            "  warnings.warn('Some buckets are empty and will be removed. Unused bucket keys=%s' %\n",
            "/usr/local/lib/python3.10/dist-packages/gluonnlp/data/sampler.py:353: UserWarning: Some buckets are empty and will be removed. Unused bucket keys=[13]\n",
            "  warnings.warn('Some buckets are empty and will be removed. Unused bucket keys=%s' %\n",
            "/usr/local/lib/python3.10/dist-packages/gluonnlp/data/sampler.py:353: UserWarning: Some buckets are empty and will be removed. Unused bucket keys=[14]\n",
            "  warnings.warn('Some buckets are empty and will be removed. Unused bucket keys=%s' %\n",
            "/usr/local/lib/python3.10/dist-packages/gluonnlp/data/sampler.py:353: UserWarning: Some buckets are empty and will be removed. Unused bucket keys=[15]\n",
            "  warnings.warn('Some buckets are empty and will be removed. Unused bucket keys=%s' %\n",
            "/usr/local/lib/python3.10/dist-packages/gluonnlp/data/sampler.py:353: UserWarning: Some buckets are empty and will be removed. Unused bucket keys=[18]\n",
            "  warnings.warn('Some buckets are empty and will be removed. Unused bucket keys=%s' %\n",
            "/usr/local/lib/python3.10/dist-packages/gluonnlp/data/sampler.py:353: UserWarning: Some buckets are empty and will be removed. Unused bucket keys=[19]\n",
            "  warnings.warn('Some buckets are empty and will be removed. Unused bucket keys=%s' %\n"
          ]
        },
        {
          "metadata": {
            "tags": null
          },
          "name": "stdout",
          "output_type": "stream",
          "text": [
            "Finished item 9 of 104\n"
          ]
        },
        {
          "metadata": {
            "tags": null
          },
          "name": "stderr",
          "output_type": "stream",
          "text": [
            "/usr/local/lib/python3.10/dist-packages/gluonnlp/data/sampler.py:353: UserWarning: Some buckets are empty and will be removed. Unused bucket keys=[5]\n",
            "  warnings.warn('Some buckets are empty and will be removed. Unused bucket keys=%s' %\n",
            "/usr/local/lib/python3.10/dist-packages/gluonnlp/data/sampler.py:353: UserWarning: Some buckets are empty and will be removed. Unused bucket keys=[6]\n",
            "  warnings.warn('Some buckets are empty and will be removed. Unused bucket keys=%s' %\n",
            "/usr/local/lib/python3.10/dist-packages/gluonnlp/data/sampler.py:353: UserWarning: Some buckets are empty and will be removed. Unused bucket keys=[7]\n",
            "  warnings.warn('Some buckets are empty and will be removed. Unused bucket keys=%s' %\n",
            "/usr/local/lib/python3.10/dist-packages/gluonnlp/data/sampler.py:353: UserWarning: Some buckets are empty and will be removed. Unused bucket keys=[8]\n",
            "  warnings.warn('Some buckets are empty and will be removed. Unused bucket keys=%s' %\n",
            "/usr/local/lib/python3.10/dist-packages/gluonnlp/data/sampler.py:353: UserWarning: Some buckets are empty and will be removed. Unused bucket keys=[9]\n",
            "  warnings.warn('Some buckets are empty and will be removed. Unused bucket keys=%s' %\n",
            "/usr/local/lib/python3.10/dist-packages/gluonnlp/data/sampler.py:353: UserWarning: Some buckets are empty and will be removed. Unused bucket keys=[10]\n",
            "  warnings.warn('Some buckets are empty and will be removed. Unused bucket keys=%s' %\n",
            "/usr/local/lib/python3.10/dist-packages/gluonnlp/data/sampler.py:353: UserWarning: Some buckets are empty and will be removed. Unused bucket keys=[11]\n",
            "  warnings.warn('Some buckets are empty and will be removed. Unused bucket keys=%s' %\n",
            "/usr/local/lib/python3.10/dist-packages/gluonnlp/data/sampler.py:353: UserWarning: Some buckets are empty and will be removed. Unused bucket keys=[12]\n",
            "  warnings.warn('Some buckets are empty and will be removed. Unused bucket keys=%s' %\n",
            "/usr/local/lib/python3.10/dist-packages/gluonnlp/data/sampler.py:353: UserWarning: Some buckets are empty and will be removed. Unused bucket keys=[14]\n",
            "  warnings.warn('Some buckets are empty and will be removed. Unused bucket keys=%s' %\n",
            "/usr/local/lib/python3.10/dist-packages/gluonnlp/data/sampler.py:353: UserWarning: Some buckets are empty and will be removed. Unused bucket keys=[15]\n",
            "  warnings.warn('Some buckets are empty and will be removed. Unused bucket keys=%s' %\n",
            "/usr/local/lib/python3.10/dist-packages/gluonnlp/data/sampler.py:353: UserWarning: Some buckets are empty and will be removed. Unused bucket keys=[16]\n",
            "  warnings.warn('Some buckets are empty and will be removed. Unused bucket keys=%s' %\n",
            "/usr/local/lib/python3.10/dist-packages/gluonnlp/data/sampler.py:353: UserWarning: Some buckets are empty and will be removed. Unused bucket keys=[17]\n",
            "  warnings.warn('Some buckets are empty and will be removed. Unused bucket keys=%s' %\n",
            "/usr/local/lib/python3.10/dist-packages/gluonnlp/data/sampler.py:353: UserWarning: Some buckets are empty and will be removed. Unused bucket keys=[18]\n",
            "  warnings.warn('Some buckets are empty and will be removed. Unused bucket keys=%s' %\n",
            "/usr/local/lib/python3.10/dist-packages/gluonnlp/data/sampler.py:353: UserWarning: Some buckets are empty and will be removed. Unused bucket keys=[19]\n",
            "  warnings.warn('Some buckets are empty and will be removed. Unused bucket keys=%s' %\n",
            "/usr/local/lib/python3.10/dist-packages/gluonnlp/data/sampler.py:353: UserWarning: Some buckets are empty and will be removed. Unused bucket keys=[21]\n",
            "  warnings.warn('Some buckets are empty and will be removed. Unused bucket keys=%s' %\n"
          ]
        },
        {
          "metadata": {
            "tags": null
          },
          "name": "stdout",
          "output_type": "stream",
          "text": [
            "Finished item 10 of 104\n"
          ]
        },
        {
          "metadata": {
            "tags": null
          },
          "name": "stderr",
          "output_type": "stream",
          "text": [
            "/usr/local/lib/python3.10/dist-packages/gluonnlp/data/sampler.py:353: UserWarning: Some buckets are empty and will be removed. Unused bucket keys=[5]\n",
            "  warnings.warn('Some buckets are empty and will be removed. Unused bucket keys=%s' %\n",
            "/usr/local/lib/python3.10/dist-packages/gluonnlp/data/sampler.py:353: UserWarning: Some buckets are empty and will be removed. Unused bucket keys=[6]\n",
            "  warnings.warn('Some buckets are empty and will be removed. Unused bucket keys=%s' %\n",
            "/usr/local/lib/python3.10/dist-packages/gluonnlp/data/sampler.py:353: UserWarning: Some buckets are empty and will be removed. Unused bucket keys=[7]\n",
            "  warnings.warn('Some buckets are empty and will be removed. Unused bucket keys=%s' %\n",
            "/usr/local/lib/python3.10/dist-packages/gluonnlp/data/sampler.py:353: UserWarning: Some buckets are empty and will be removed. Unused bucket keys=[8]\n",
            "  warnings.warn('Some buckets are empty and will be removed. Unused bucket keys=%s' %\n",
            "/usr/local/lib/python3.10/dist-packages/gluonnlp/data/sampler.py:353: UserWarning: Some buckets are empty and will be removed. Unused bucket keys=[9]\n",
            "  warnings.warn('Some buckets are empty and will be removed. Unused bucket keys=%s' %\n",
            "/usr/local/lib/python3.10/dist-packages/gluonnlp/data/sampler.py:353: UserWarning: Some buckets are empty and will be removed. Unused bucket keys=[10]\n",
            "  warnings.warn('Some buckets are empty and will be removed. Unused bucket keys=%s' %\n",
            "/usr/local/lib/python3.10/dist-packages/gluonnlp/data/sampler.py:353: UserWarning: Some buckets are empty and will be removed. Unused bucket keys=[12]\n",
            "  warnings.warn('Some buckets are empty and will be removed. Unused bucket keys=%s' %\n",
            "/usr/local/lib/python3.10/dist-packages/gluonnlp/data/sampler.py:353: UserWarning: Some buckets are empty and will be removed. Unused bucket keys=[14]\n",
            "  warnings.warn('Some buckets are empty and will be removed. Unused bucket keys=%s' %\n",
            "/usr/local/lib/python3.10/dist-packages/gluonnlp/data/sampler.py:353: UserWarning: Some buckets are empty and will be removed. Unused bucket keys=[15]\n",
            "  warnings.warn('Some buckets are empty and will be removed. Unused bucket keys=%s' %\n",
            "/usr/local/lib/python3.10/dist-packages/gluonnlp/data/sampler.py:353: UserWarning: Some buckets are empty and will be removed. Unused bucket keys=[16]\n",
            "  warnings.warn('Some buckets are empty and will be removed. Unused bucket keys=%s' %\n",
            "/usr/local/lib/python3.10/dist-packages/gluonnlp/data/sampler.py:353: UserWarning: Some buckets are empty and will be removed. Unused bucket keys=[18]\n",
            "  warnings.warn('Some buckets are empty and will be removed. Unused bucket keys=%s' %\n",
            "/usr/local/lib/python3.10/dist-packages/gluonnlp/data/sampler.py:353: UserWarning: Some buckets are empty and will be removed. Unused bucket keys=[19]\n",
            "  warnings.warn('Some buckets are empty and will be removed. Unused bucket keys=%s' %\n",
            "/usr/local/lib/python3.10/dist-packages/gluonnlp/data/sampler.py:353: UserWarning: Some buckets are empty and will be removed. Unused bucket keys=[21]\n",
            "  warnings.warn('Some buckets are empty and will be removed. Unused bucket keys=%s' %\n"
          ]
        },
        {
          "metadata": {
            "tags": null
          },
          "name": "stdout",
          "output_type": "stream",
          "text": [
            "Finished item 11 of 104\n"
          ]
        },
        {
          "metadata": {
            "tags": null
          },
          "name": "stderr",
          "output_type": "stream",
          "text": [
            "/usr/local/lib/python3.10/dist-packages/gluonnlp/data/sampler.py:353: UserWarning: Some buckets are empty and will be removed. Unused bucket keys=[5]\n",
            "  warnings.warn('Some buckets are empty and will be removed. Unused bucket keys=%s' %\n",
            "/usr/local/lib/python3.10/dist-packages/gluonnlp/data/sampler.py:353: UserWarning: Some buckets are empty and will be removed. Unused bucket keys=[6]\n",
            "  warnings.warn('Some buckets are empty and will be removed. Unused bucket keys=%s' %\n",
            "/usr/local/lib/python3.10/dist-packages/gluonnlp/data/sampler.py:353: UserWarning: Some buckets are empty and will be removed. Unused bucket keys=[7]\n",
            "  warnings.warn('Some buckets are empty and will be removed. Unused bucket keys=%s' %\n",
            "/usr/local/lib/python3.10/dist-packages/gluonnlp/data/sampler.py:353: UserWarning: Some buckets are empty and will be removed. Unused bucket keys=[8]\n",
            "  warnings.warn('Some buckets are empty and will be removed. Unused bucket keys=%s' %\n",
            "/usr/local/lib/python3.10/dist-packages/gluonnlp/data/sampler.py:353: UserWarning: Some buckets are empty and will be removed. Unused bucket keys=[9]\n",
            "  warnings.warn('Some buckets are empty and will be removed. Unused bucket keys=%s' %\n",
            "/usr/local/lib/python3.10/dist-packages/gluonnlp/data/sampler.py:353: UserWarning: Some buckets are empty and will be removed. Unused bucket keys=[10]\n",
            "  warnings.warn('Some buckets are empty and will be removed. Unused bucket keys=%s' %\n",
            "/usr/local/lib/python3.10/dist-packages/gluonnlp/data/sampler.py:353: UserWarning: Some buckets are empty and will be removed. Unused bucket keys=[11]\n",
            "  warnings.warn('Some buckets are empty and will be removed. Unused bucket keys=%s' %\n",
            "/usr/local/lib/python3.10/dist-packages/gluonnlp/data/sampler.py:353: UserWarning: Some buckets are empty and will be removed. Unused bucket keys=[13]\n",
            "  warnings.warn('Some buckets are empty and will be removed. Unused bucket keys=%s' %\n",
            "/usr/local/lib/python3.10/dist-packages/gluonnlp/data/sampler.py:353: UserWarning: Some buckets are empty and will be removed. Unused bucket keys=[14]\n",
            "  warnings.warn('Some buckets are empty and will be removed. Unused bucket keys=%s' %\n",
            "/usr/local/lib/python3.10/dist-packages/gluonnlp/data/sampler.py:353: UserWarning: Some buckets are empty and will be removed. Unused bucket keys=[15]\n",
            "  warnings.warn('Some buckets are empty and will be removed. Unused bucket keys=%s' %\n",
            "/usr/local/lib/python3.10/dist-packages/gluonnlp/data/sampler.py:353: UserWarning: Some buckets are empty and will be removed. Unused bucket keys=[20]\n",
            "  warnings.warn('Some buckets are empty and will be removed. Unused bucket keys=%s' %\n",
            "/usr/local/lib/python3.10/dist-packages/gluonnlp/data/sampler.py:353: UserWarning: Some buckets are empty and will be removed. Unused bucket keys=[22]\n",
            "  warnings.warn('Some buckets are empty and will be removed. Unused bucket keys=%s' %\n"
          ]
        },
        {
          "metadata": {
            "tags": null
          },
          "name": "stdout",
          "output_type": "stream",
          "text": [
            "Finished item 12 of 104\n"
          ]
        },
        {
          "metadata": {
            "tags": null
          },
          "name": "stderr",
          "output_type": "stream",
          "text": [
            "/usr/local/lib/python3.10/dist-packages/gluonnlp/data/sampler.py:353: UserWarning: Some buckets are empty and will be removed. Unused bucket keys=[5]\n",
            "  warnings.warn('Some buckets are empty and will be removed. Unused bucket keys=%s' %\n",
            "/usr/local/lib/python3.10/dist-packages/gluonnlp/data/sampler.py:353: UserWarning: Some buckets are empty and will be removed. Unused bucket keys=[6]\n",
            "  warnings.warn('Some buckets are empty and will be removed. Unused bucket keys=%s' %\n",
            "/usr/local/lib/python3.10/dist-packages/gluonnlp/data/sampler.py:353: UserWarning: Some buckets are empty and will be removed. Unused bucket keys=[7]\n",
            "  warnings.warn('Some buckets are empty and will be removed. Unused bucket keys=%s' %\n",
            "/usr/local/lib/python3.10/dist-packages/gluonnlp/data/sampler.py:353: UserWarning: Some buckets are empty and will be removed. Unused bucket keys=[8]\n",
            "  warnings.warn('Some buckets are empty and will be removed. Unused bucket keys=%s' %\n",
            "/usr/local/lib/python3.10/dist-packages/gluonnlp/data/sampler.py:353: UserWarning: Some buckets are empty and will be removed. Unused bucket keys=[9]\n",
            "  warnings.warn('Some buckets are empty and will be removed. Unused bucket keys=%s' %\n",
            "/usr/local/lib/python3.10/dist-packages/gluonnlp/data/sampler.py:353: UserWarning: Some buckets are empty and will be removed. Unused bucket keys=[10]\n",
            "  warnings.warn('Some buckets are empty and will be removed. Unused bucket keys=%s' %\n",
            "/usr/local/lib/python3.10/dist-packages/gluonnlp/data/sampler.py:353: UserWarning: Some buckets are empty and will be removed. Unused bucket keys=[11]\n",
            "  warnings.warn('Some buckets are empty and will be removed. Unused bucket keys=%s' %\n",
            "/usr/local/lib/python3.10/dist-packages/gluonnlp/data/sampler.py:353: UserWarning: Some buckets are empty and will be removed. Unused bucket keys=[13]\n",
            "  warnings.warn('Some buckets are empty and will be removed. Unused bucket keys=%s' %\n",
            "/usr/local/lib/python3.10/dist-packages/gluonnlp/data/sampler.py:353: UserWarning: Some buckets are empty and will be removed. Unused bucket keys=[14]\n",
            "  warnings.warn('Some buckets are empty and will be removed. Unused bucket keys=%s' %\n",
            "/usr/local/lib/python3.10/dist-packages/gluonnlp/data/sampler.py:353: UserWarning: Some buckets are empty and will be removed. Unused bucket keys=[15]\n",
            "  warnings.warn('Some buckets are empty and will be removed. Unused bucket keys=%s' %\n",
            "/usr/local/lib/python3.10/dist-packages/gluonnlp/data/sampler.py:353: UserWarning: Some buckets are empty and will be removed. Unused bucket keys=[19]\n",
            "  warnings.warn('Some buckets are empty and will be removed. Unused bucket keys=%s' %\n"
          ]
        },
        {
          "metadata": {
            "tags": null
          },
          "name": "stdout",
          "output_type": "stream",
          "text": [
            "Finished item 13 of 104\n"
          ]
        },
        {
          "metadata": {
            "tags": null
          },
          "name": "stderr",
          "output_type": "stream",
          "text": [
            "/usr/local/lib/python3.10/dist-packages/gluonnlp/data/sampler.py:353: UserWarning: Some buckets are empty and will be removed. Unused bucket keys=[5]\n",
            "  warnings.warn('Some buckets are empty and will be removed. Unused bucket keys=%s' %\n",
            "/usr/local/lib/python3.10/dist-packages/gluonnlp/data/sampler.py:353: UserWarning: Some buckets are empty and will be removed. Unused bucket keys=[6]\n",
            "  warnings.warn('Some buckets are empty and will be removed. Unused bucket keys=%s' %\n",
            "/usr/local/lib/python3.10/dist-packages/gluonnlp/data/sampler.py:353: UserWarning: Some buckets are empty and will be removed. Unused bucket keys=[8]\n",
            "  warnings.warn('Some buckets are empty and will be removed. Unused bucket keys=%s' %\n",
            "/usr/local/lib/python3.10/dist-packages/gluonnlp/data/sampler.py:353: UserWarning: Some buckets are empty and will be removed. Unused bucket keys=[9]\n",
            "  warnings.warn('Some buckets are empty and will be removed. Unused bucket keys=%s' %\n",
            "/usr/local/lib/python3.10/dist-packages/gluonnlp/data/sampler.py:353: UserWarning: Some buckets are empty and will be removed. Unused bucket keys=[10]\n",
            "  warnings.warn('Some buckets are empty and will be removed. Unused bucket keys=%s' %\n",
            "/usr/local/lib/python3.10/dist-packages/gluonnlp/data/sampler.py:353: UserWarning: Some buckets are empty and will be removed. Unused bucket keys=[11]\n",
            "  warnings.warn('Some buckets are empty and will be removed. Unused bucket keys=%s' %\n",
            "/usr/local/lib/python3.10/dist-packages/gluonnlp/data/sampler.py:353: UserWarning: Some buckets are empty and will be removed. Unused bucket keys=[13]\n",
            "  warnings.warn('Some buckets are empty and will be removed. Unused bucket keys=%s' %\n",
            "/usr/local/lib/python3.10/dist-packages/gluonnlp/data/sampler.py:353: UserWarning: Some buckets are empty and will be removed. Unused bucket keys=[14]\n",
            "  warnings.warn('Some buckets are empty and will be removed. Unused bucket keys=%s' %\n",
            "/usr/local/lib/python3.10/dist-packages/gluonnlp/data/sampler.py:353: UserWarning: Some buckets are empty and will be removed. Unused bucket keys=[15]\n",
            "  warnings.warn('Some buckets are empty and will be removed. Unused bucket keys=%s' %\n",
            "/usr/local/lib/python3.10/dist-packages/gluonnlp/data/sampler.py:353: UserWarning: Some buckets are empty and will be removed. Unused bucket keys=[16]\n",
            "  warnings.warn('Some buckets are empty and will be removed. Unused bucket keys=%s' %\n",
            "/usr/local/lib/python3.10/dist-packages/gluonnlp/data/sampler.py:353: UserWarning: Some buckets are empty and will be removed. Unused bucket keys=[19]\n",
            "  warnings.warn('Some buckets are empty and will be removed. Unused bucket keys=%s' %\n",
            "/usr/local/lib/python3.10/dist-packages/gluonnlp/data/sampler.py:353: UserWarning: Some buckets are empty and will be removed. Unused bucket keys=[20]\n",
            "  warnings.warn('Some buckets are empty and will be removed. Unused bucket keys=%s' %\n",
            "/usr/local/lib/python3.10/dist-packages/gluonnlp/data/sampler.py:353: UserWarning: Some buckets are empty and will be removed. Unused bucket keys=[22]\n",
            "  warnings.warn('Some buckets are empty and will be removed. Unused bucket keys=%s' %\n"
          ]
        },
        {
          "metadata": {
            "tags": null
          },
          "name": "stdout",
          "output_type": "stream",
          "text": [
            "Finished item 14 of 104\n"
          ]
        },
        {
          "metadata": {
            "tags": null
          },
          "name": "stderr",
          "output_type": "stream",
          "text": [
            "/usr/local/lib/python3.10/dist-packages/gluonnlp/data/sampler.py:353: UserWarning: Some buckets are empty and will be removed. Unused bucket keys=[5]\n",
            "  warnings.warn('Some buckets are empty and will be removed. Unused bucket keys=%s' %\n",
            "/usr/local/lib/python3.10/dist-packages/gluonnlp/data/sampler.py:353: UserWarning: Some buckets are empty and will be removed. Unused bucket keys=[6]\n",
            "  warnings.warn('Some buckets are empty and will be removed. Unused bucket keys=%s' %\n",
            "/usr/local/lib/python3.10/dist-packages/gluonnlp/data/sampler.py:353: UserWarning: Some buckets are empty and will be removed. Unused bucket keys=[7]\n",
            "  warnings.warn('Some buckets are empty and will be removed. Unused bucket keys=%s' %\n",
            "/usr/local/lib/python3.10/dist-packages/gluonnlp/data/sampler.py:353: UserWarning: Some buckets are empty and will be removed. Unused bucket keys=[8]\n",
            "  warnings.warn('Some buckets are empty and will be removed. Unused bucket keys=%s' %\n",
            "/usr/local/lib/python3.10/dist-packages/gluonnlp/data/sampler.py:353: UserWarning: Some buckets are empty and will be removed. Unused bucket keys=[9]\n",
            "  warnings.warn('Some buckets are empty and will be removed. Unused bucket keys=%s' %\n",
            "/usr/local/lib/python3.10/dist-packages/gluonnlp/data/sampler.py:353: UserWarning: Some buckets are empty and will be removed. Unused bucket keys=[10]\n",
            "  warnings.warn('Some buckets are empty and will be removed. Unused bucket keys=%s' %\n",
            "/usr/local/lib/python3.10/dist-packages/gluonnlp/data/sampler.py:353: UserWarning: Some buckets are empty and will be removed. Unused bucket keys=[11]\n",
            "  warnings.warn('Some buckets are empty and will be removed. Unused bucket keys=%s' %\n",
            "/usr/local/lib/python3.10/dist-packages/gluonnlp/data/sampler.py:353: UserWarning: Some buckets are empty and will be removed. Unused bucket keys=[13]\n",
            "  warnings.warn('Some buckets are empty and will be removed. Unused bucket keys=%s' %\n",
            "/usr/local/lib/python3.10/dist-packages/gluonnlp/data/sampler.py:353: UserWarning: Some buckets are empty and will be removed. Unused bucket keys=[14]\n",
            "  warnings.warn('Some buckets are empty and will be removed. Unused bucket keys=%s' %\n",
            "/usr/local/lib/python3.10/dist-packages/gluonnlp/data/sampler.py:353: UserWarning: Some buckets are empty and will be removed. Unused bucket keys=[15]\n",
            "  warnings.warn('Some buckets are empty and will be removed. Unused bucket keys=%s' %\n",
            "/usr/local/lib/python3.10/dist-packages/gluonnlp/data/sampler.py:353: UserWarning: Some buckets are empty and will be removed. Unused bucket keys=[16]\n",
            "  warnings.warn('Some buckets are empty and will be removed. Unused bucket keys=%s' %\n",
            "/usr/local/lib/python3.10/dist-packages/gluonnlp/data/sampler.py:353: UserWarning: Some buckets are empty and will be removed. Unused bucket keys=[19]\n",
            "  warnings.warn('Some buckets are empty and will be removed. Unused bucket keys=%s' %\n",
            "/usr/local/lib/python3.10/dist-packages/gluonnlp/data/sampler.py:353: UserWarning: Some buckets are empty and will be removed. Unused bucket keys=[20]\n",
            "  warnings.warn('Some buckets are empty and will be removed. Unused bucket keys=%s' %\n",
            "/usr/local/lib/python3.10/dist-packages/gluonnlp/data/sampler.py:353: UserWarning: Some buckets are empty and will be removed. Unused bucket keys=[21]\n",
            "  warnings.warn('Some buckets are empty and will be removed. Unused bucket keys=%s' %\n",
            "/usr/local/lib/python3.10/dist-packages/gluonnlp/data/sampler.py:353: UserWarning: Some buckets are empty and will be removed. Unused bucket keys=[23]\n",
            "  warnings.warn('Some buckets are empty and will be removed. Unused bucket keys=%s' %\n"
          ]
        },
        {
          "metadata": {
            "tags": null
          },
          "name": "stdout",
          "output_type": "stream",
          "text": [
            "Finished item 15 of 104\n"
          ]
        },
        {
          "metadata": {
            "tags": null
          },
          "name": "stderr",
          "output_type": "stream",
          "text": [
            "/usr/local/lib/python3.10/dist-packages/gluonnlp/data/sampler.py:353: UserWarning: Some buckets are empty and will be removed. Unused bucket keys=[5]\n",
            "  warnings.warn('Some buckets are empty and will be removed. Unused bucket keys=%s' %\n",
            "/usr/local/lib/python3.10/dist-packages/gluonnlp/data/sampler.py:353: UserWarning: Some buckets are empty and will be removed. Unused bucket keys=[6]\n",
            "  warnings.warn('Some buckets are empty and will be removed. Unused bucket keys=%s' %\n",
            "/usr/local/lib/python3.10/dist-packages/gluonnlp/data/sampler.py:353: UserWarning: Some buckets are empty and will be removed. Unused bucket keys=[7]\n",
            "  warnings.warn('Some buckets are empty and will be removed. Unused bucket keys=%s' %\n",
            "/usr/local/lib/python3.10/dist-packages/gluonnlp/data/sampler.py:353: UserWarning: Some buckets are empty and will be removed. Unused bucket keys=[8]\n",
            "  warnings.warn('Some buckets are empty and will be removed. Unused bucket keys=%s' %\n",
            "/usr/local/lib/python3.10/dist-packages/gluonnlp/data/sampler.py:353: UserWarning: Some buckets are empty and will be removed. Unused bucket keys=[9]\n",
            "  warnings.warn('Some buckets are empty and will be removed. Unused bucket keys=%s' %\n",
            "/usr/local/lib/python3.10/dist-packages/gluonnlp/data/sampler.py:353: UserWarning: Some buckets are empty and will be removed. Unused bucket keys=[10]\n",
            "  warnings.warn('Some buckets are empty and will be removed. Unused bucket keys=%s' %\n",
            "/usr/local/lib/python3.10/dist-packages/gluonnlp/data/sampler.py:353: UserWarning: Some buckets are empty and will be removed. Unused bucket keys=[11]\n",
            "  warnings.warn('Some buckets are empty and will be removed. Unused bucket keys=%s' %\n",
            "/usr/local/lib/python3.10/dist-packages/gluonnlp/data/sampler.py:353: UserWarning: Some buckets are empty and will be removed. Unused bucket keys=[13]\n",
            "  warnings.warn('Some buckets are empty and will be removed. Unused bucket keys=%s' %\n",
            "/usr/local/lib/python3.10/dist-packages/gluonnlp/data/sampler.py:353: UserWarning: Some buckets are empty and will be removed. Unused bucket keys=[14]\n",
            "  warnings.warn('Some buckets are empty and will be removed. Unused bucket keys=%s' %\n",
            "/usr/local/lib/python3.10/dist-packages/gluonnlp/data/sampler.py:353: UserWarning: Some buckets are empty and will be removed. Unused bucket keys=[15]\n",
            "  warnings.warn('Some buckets are empty and will be removed. Unused bucket keys=%s' %\n",
            "/usr/local/lib/python3.10/dist-packages/gluonnlp/data/sampler.py:353: UserWarning: Some buckets are empty and will be removed. Unused bucket keys=[16]\n",
            "  warnings.warn('Some buckets are empty and will be removed. Unused bucket keys=%s' %\n",
            "/usr/local/lib/python3.10/dist-packages/gluonnlp/data/sampler.py:353: UserWarning: Some buckets are empty and will be removed. Unused bucket keys=[19]\n",
            "  warnings.warn('Some buckets are empty and will be removed. Unused bucket keys=%s' %\n",
            "/usr/local/lib/python3.10/dist-packages/gluonnlp/data/sampler.py:353: UserWarning: Some buckets are empty and will be removed. Unused bucket keys=[20]\n",
            "  warnings.warn('Some buckets are empty and will be removed. Unused bucket keys=%s' %\n",
            "/usr/local/lib/python3.10/dist-packages/gluonnlp/data/sampler.py:353: UserWarning: Some buckets are empty and will be removed. Unused bucket keys=[21]\n",
            "  warnings.warn('Some buckets are empty and will be removed. Unused bucket keys=%s' %\n",
            "/usr/local/lib/python3.10/dist-packages/gluonnlp/data/sampler.py:353: UserWarning: Some buckets are empty and will be removed. Unused bucket keys=[22]\n",
            "  warnings.warn('Some buckets are empty and will be removed. Unused bucket keys=%s' %\n",
            "/usr/local/lib/python3.10/dist-packages/gluonnlp/data/sampler.py:353: UserWarning: Some buckets are empty and will be removed. Unused bucket keys=[24]\n",
            "  warnings.warn('Some buckets are empty and will be removed. Unused bucket keys=%s' %\n"
          ]
        },
        {
          "metadata": {
            "tags": null
          },
          "name": "stdout",
          "output_type": "stream",
          "text": [
            "Finished item 16 of 104\n"
          ]
        },
        {
          "metadata": {
            "tags": null
          },
          "name": "stderr",
          "output_type": "stream",
          "text": [
            "/usr/local/lib/python3.10/dist-packages/gluonnlp/data/sampler.py:353: UserWarning: Some buckets are empty and will be removed. Unused bucket keys=[7]\n",
            "  warnings.warn('Some buckets are empty and will be removed. Unused bucket keys=%s' %\n",
            "/usr/local/lib/python3.10/dist-packages/gluonnlp/data/sampler.py:353: UserWarning: Some buckets are empty and will be removed. Unused bucket keys=[9]\n",
            "  warnings.warn('Some buckets are empty and will be removed. Unused bucket keys=%s' %\n",
            "/usr/local/lib/python3.10/dist-packages/gluonnlp/data/sampler.py:353: UserWarning: Some buckets are empty and will be removed. Unused bucket keys=[10]\n",
            "  warnings.warn('Some buckets are empty and will be removed. Unused bucket keys=%s' %\n",
            "/usr/local/lib/python3.10/dist-packages/gluonnlp/data/sampler.py:353: UserWarning: Some buckets are empty and will be removed. Unused bucket keys=[11]\n",
            "  warnings.warn('Some buckets are empty and will be removed. Unused bucket keys=%s' %\n",
            "/usr/local/lib/python3.10/dist-packages/gluonnlp/data/sampler.py:353: UserWarning: Some buckets are empty and will be removed. Unused bucket keys=[12]\n",
            "  warnings.warn('Some buckets are empty and will be removed. Unused bucket keys=%s' %\n",
            "/usr/local/lib/python3.10/dist-packages/gluonnlp/data/sampler.py:353: UserWarning: Some buckets are empty and will be removed. Unused bucket keys=[14]\n",
            "  warnings.warn('Some buckets are empty and will be removed. Unused bucket keys=%s' %\n",
            "/usr/local/lib/python3.10/dist-packages/gluonnlp/data/sampler.py:353: UserWarning: Some buckets are empty and will be removed. Unused bucket keys=[15]\n",
            "  warnings.warn('Some buckets are empty and will be removed. Unused bucket keys=%s' %\n",
            "/usr/local/lib/python3.10/dist-packages/gluonnlp/data/sampler.py:353: UserWarning: Some buckets are empty and will be removed. Unused bucket keys=[16]\n",
            "  warnings.warn('Some buckets are empty and will be removed. Unused bucket keys=%s' %\n",
            "/usr/local/lib/python3.10/dist-packages/gluonnlp/data/sampler.py:353: UserWarning: Some buckets are empty and will be removed. Unused bucket keys=[17]\n",
            "  warnings.warn('Some buckets are empty and will be removed. Unused bucket keys=%s' %\n",
            "/usr/local/lib/python3.10/dist-packages/gluonnlp/data/sampler.py:353: UserWarning: Some buckets are empty and will be removed. Unused bucket keys=[18]\n",
            "  warnings.warn('Some buckets are empty and will be removed. Unused bucket keys=%s' %\n",
            "/usr/local/lib/python3.10/dist-packages/gluonnlp/data/sampler.py:353: UserWarning: Some buckets are empty and will be removed. Unused bucket keys=[19]\n",
            "  warnings.warn('Some buckets are empty and will be removed. Unused bucket keys=%s' %\n"
          ]
        },
        {
          "metadata": {
            "tags": null
          },
          "name": "stdout",
          "output_type": "stream",
          "text": [
            "Finished item 17 of 104\n"
          ]
        },
        {
          "metadata": {
            "tags": null
          },
          "name": "stderr",
          "output_type": "stream",
          "text": [
            "/usr/local/lib/python3.10/dist-packages/gluonnlp/data/sampler.py:353: UserWarning: Some buckets are empty and will be removed. Unused bucket keys=[5]\n",
            "  warnings.warn('Some buckets are empty and will be removed. Unused bucket keys=%s' %\n",
            "/usr/local/lib/python3.10/dist-packages/gluonnlp/data/sampler.py:353: UserWarning: Some buckets are empty and will be removed. Unused bucket keys=[6]\n",
            "  warnings.warn('Some buckets are empty and will be removed. Unused bucket keys=%s' %\n",
            "/usr/local/lib/python3.10/dist-packages/gluonnlp/data/sampler.py:353: UserWarning: Some buckets are empty and will be removed. Unused bucket keys=[8]\n",
            "  warnings.warn('Some buckets are empty and will be removed. Unused bucket keys=%s' %\n",
            "/usr/local/lib/python3.10/dist-packages/gluonnlp/data/sampler.py:353: UserWarning: Some buckets are empty and will be removed. Unused bucket keys=[9]\n",
            "  warnings.warn('Some buckets are empty and will be removed. Unused bucket keys=%s' %\n",
            "/usr/local/lib/python3.10/dist-packages/gluonnlp/data/sampler.py:353: UserWarning: Some buckets are empty and will be removed. Unused bucket keys=[10]\n",
            "  warnings.warn('Some buckets are empty and will be removed. Unused bucket keys=%s' %\n",
            "/usr/local/lib/python3.10/dist-packages/gluonnlp/data/sampler.py:353: UserWarning: Some buckets are empty and will be removed. Unused bucket keys=[11]\n",
            "  warnings.warn('Some buckets are empty and will be removed. Unused bucket keys=%s' %\n",
            "/usr/local/lib/python3.10/dist-packages/gluonnlp/data/sampler.py:353: UserWarning: Some buckets are empty and will be removed. Unused bucket keys=[13]\n",
            "  warnings.warn('Some buckets are empty and will be removed. Unused bucket keys=%s' %\n",
            "/usr/local/lib/python3.10/dist-packages/gluonnlp/data/sampler.py:353: UserWarning: Some buckets are empty and will be removed. Unused bucket keys=[14]\n",
            "  warnings.warn('Some buckets are empty and will be removed. Unused bucket keys=%s' %\n",
            "/usr/local/lib/python3.10/dist-packages/gluonnlp/data/sampler.py:353: UserWarning: Some buckets are empty and will be removed. Unused bucket keys=[15]\n",
            "  warnings.warn('Some buckets are empty and will be removed. Unused bucket keys=%s' %\n",
            "/usr/local/lib/python3.10/dist-packages/gluonnlp/data/sampler.py:353: UserWarning: Some buckets are empty and will be removed. Unused bucket keys=[16]\n",
            "  warnings.warn('Some buckets are empty and will be removed. Unused bucket keys=%s' %\n",
            "/usr/local/lib/python3.10/dist-packages/gluonnlp/data/sampler.py:353: UserWarning: Some buckets are empty and will be removed. Unused bucket keys=[17]\n",
            "  warnings.warn('Some buckets are empty and will be removed. Unused bucket keys=%s' %\n",
            "/usr/local/lib/python3.10/dist-packages/gluonnlp/data/sampler.py:353: UserWarning: Some buckets are empty and will be removed. Unused bucket keys=[18]\n",
            "  warnings.warn('Some buckets are empty and will be removed. Unused bucket keys=%s' %\n",
            "/usr/local/lib/python3.10/dist-packages/gluonnlp/data/sampler.py:353: UserWarning: Some buckets are empty and will be removed. Unused bucket keys=[20]\n",
            "  warnings.warn('Some buckets are empty and will be removed. Unused bucket keys=%s' %\n"
          ]
        },
        {
          "metadata": {
            "tags": null
          },
          "name": "stdout",
          "output_type": "stream",
          "text": [
            "Finished item 18 of 104\n"
          ]
        },
        {
          "metadata": {
            "tags": null
          },
          "name": "stderr",
          "output_type": "stream",
          "text": [
            "/usr/local/lib/python3.10/dist-packages/gluonnlp/data/sampler.py:353: UserWarning: Some buckets are empty and will be removed. Unused bucket keys=[6]\n",
            "  warnings.warn('Some buckets are empty and will be removed. Unused bucket keys=%s' %\n",
            "/usr/local/lib/python3.10/dist-packages/gluonnlp/data/sampler.py:353: UserWarning: Some buckets are empty and will be removed. Unused bucket keys=[7]\n",
            "  warnings.warn('Some buckets are empty and will be removed. Unused bucket keys=%s' %\n",
            "/usr/local/lib/python3.10/dist-packages/gluonnlp/data/sampler.py:353: UserWarning: Some buckets are empty and will be removed. Unused bucket keys=[8]\n",
            "  warnings.warn('Some buckets are empty and will be removed. Unused bucket keys=%s' %\n",
            "/usr/local/lib/python3.10/dist-packages/gluonnlp/data/sampler.py:353: UserWarning: Some buckets are empty and will be removed. Unused bucket keys=[9]\n",
            "  warnings.warn('Some buckets are empty and will be removed. Unused bucket keys=%s' %\n",
            "/usr/local/lib/python3.10/dist-packages/gluonnlp/data/sampler.py:353: UserWarning: Some buckets are empty and will be removed. Unused bucket keys=[13]\n",
            "  warnings.warn('Some buckets are empty and will be removed. Unused bucket keys=%s' %\n",
            "/usr/local/lib/python3.10/dist-packages/gluonnlp/data/sampler.py:353: UserWarning: Some buckets are empty and will be removed. Unused bucket keys=[14]\n",
            "  warnings.warn('Some buckets are empty and will be removed. Unused bucket keys=%s' %\n",
            "/usr/local/lib/python3.10/dist-packages/gluonnlp/data/sampler.py:353: UserWarning: Some buckets are empty and will be removed. Unused bucket keys=[15]\n",
            "  warnings.warn('Some buckets are empty and will be removed. Unused bucket keys=%s' %\n",
            "/usr/local/lib/python3.10/dist-packages/gluonnlp/data/sampler.py:353: UserWarning: Some buckets are empty and will be removed. Unused bucket keys=[16]\n",
            "  warnings.warn('Some buckets are empty and will be removed. Unused bucket keys=%s' %\n",
            "/usr/local/lib/python3.10/dist-packages/gluonnlp/data/sampler.py:353: UserWarning: Some buckets are empty and will be removed. Unused bucket keys=[18]\n",
            "  warnings.warn('Some buckets are empty and will be removed. Unused bucket keys=%s' %\n"
          ]
        },
        {
          "metadata": {
            "tags": null
          },
          "name": "stdout",
          "output_type": "stream",
          "text": [
            "Finished item 19 of 104\n"
          ]
        },
        {
          "metadata": {
            "tags": null
          },
          "name": "stderr",
          "output_type": "stream",
          "text": [
            "/usr/local/lib/python3.10/dist-packages/gluonnlp/data/sampler.py:353: UserWarning: Some buckets are empty and will be removed. Unused bucket keys=[5]\n",
            "  warnings.warn('Some buckets are empty and will be removed. Unused bucket keys=%s' %\n",
            "/usr/local/lib/python3.10/dist-packages/gluonnlp/data/sampler.py:353: UserWarning: Some buckets are empty and will be removed. Unused bucket keys=[6]\n",
            "  warnings.warn('Some buckets are empty and will be removed. Unused bucket keys=%s' %\n",
            "/usr/local/lib/python3.10/dist-packages/gluonnlp/data/sampler.py:353: UserWarning: Some buckets are empty and will be removed. Unused bucket keys=[7]\n",
            "  warnings.warn('Some buckets are empty and will be removed. Unused bucket keys=%s' %\n",
            "/usr/local/lib/python3.10/dist-packages/gluonnlp/data/sampler.py:353: UserWarning: Some buckets are empty and will be removed. Unused bucket keys=[8]\n",
            "  warnings.warn('Some buckets are empty and will be removed. Unused bucket keys=%s' %\n",
            "/usr/local/lib/python3.10/dist-packages/gluonnlp/data/sampler.py:353: UserWarning: Some buckets are empty and will be removed. Unused bucket keys=[9]\n",
            "  warnings.warn('Some buckets are empty and will be removed. Unused bucket keys=%s' %\n",
            "/usr/local/lib/python3.10/dist-packages/gluonnlp/data/sampler.py:353: UserWarning: Some buckets are empty and will be removed. Unused bucket keys=[13]\n",
            "  warnings.warn('Some buckets are empty and will be removed. Unused bucket keys=%s' %\n",
            "/usr/local/lib/python3.10/dist-packages/gluonnlp/data/sampler.py:353: UserWarning: Some buckets are empty and will be removed. Unused bucket keys=[14]\n",
            "  warnings.warn('Some buckets are empty and will be removed. Unused bucket keys=%s' %\n",
            "/usr/local/lib/python3.10/dist-packages/gluonnlp/data/sampler.py:353: UserWarning: Some buckets are empty and will be removed. Unused bucket keys=[15]\n",
            "  warnings.warn('Some buckets are empty and will be removed. Unused bucket keys=%s' %\n",
            "/usr/local/lib/python3.10/dist-packages/gluonnlp/data/sampler.py:353: UserWarning: Some buckets are empty and will be removed. Unused bucket keys=[16]\n",
            "  warnings.warn('Some buckets are empty and will be removed. Unused bucket keys=%s' %\n",
            "/usr/local/lib/python3.10/dist-packages/gluonnlp/data/sampler.py:353: UserWarning: Some buckets are empty and will be removed. Unused bucket keys=[17]\n",
            "  warnings.warn('Some buckets are empty and will be removed. Unused bucket keys=%s' %\n",
            "/usr/local/lib/python3.10/dist-packages/gluonnlp/data/sampler.py:353: UserWarning: Some buckets are empty and will be removed. Unused bucket keys=[20]\n",
            "  warnings.warn('Some buckets are empty and will be removed. Unused bucket keys=%s' %\n"
          ]
        },
        {
          "metadata": {
            "tags": null
          },
          "name": "stdout",
          "output_type": "stream",
          "text": [
            "Finished item 20 of 104\n"
          ]
        },
        {
          "metadata": {
            "tags": null
          },
          "name": "stderr",
          "output_type": "stream",
          "text": [
            "/usr/local/lib/python3.10/dist-packages/gluonnlp/data/sampler.py:353: UserWarning: Some buckets are empty and will be removed. Unused bucket keys=[5]\n",
            "  warnings.warn('Some buckets are empty and will be removed. Unused bucket keys=%s' %\n",
            "/usr/local/lib/python3.10/dist-packages/gluonnlp/data/sampler.py:353: UserWarning: Some buckets are empty and will be removed. Unused bucket keys=[6]\n",
            "  warnings.warn('Some buckets are empty and will be removed. Unused bucket keys=%s' %\n",
            "/usr/local/lib/python3.10/dist-packages/gluonnlp/data/sampler.py:353: UserWarning: Some buckets are empty and will be removed. Unused bucket keys=[7]\n",
            "  warnings.warn('Some buckets are empty and will be removed. Unused bucket keys=%s' %\n",
            "/usr/local/lib/python3.10/dist-packages/gluonnlp/data/sampler.py:353: UserWarning: Some buckets are empty and will be removed. Unused bucket keys=[8]\n",
            "  warnings.warn('Some buckets are empty and will be removed. Unused bucket keys=%s' %\n",
            "/usr/local/lib/python3.10/dist-packages/gluonnlp/data/sampler.py:353: UserWarning: Some buckets are empty and will be removed. Unused bucket keys=[9]\n",
            "  warnings.warn('Some buckets are empty and will be removed. Unused bucket keys=%s' %\n",
            "/usr/local/lib/python3.10/dist-packages/gluonnlp/data/sampler.py:353: UserWarning: Some buckets are empty and will be removed. Unused bucket keys=[14]\n",
            "  warnings.warn('Some buckets are empty and will be removed. Unused bucket keys=%s' %\n",
            "/usr/local/lib/python3.10/dist-packages/gluonnlp/data/sampler.py:353: UserWarning: Some buckets are empty and will be removed. Unused bucket keys=[15]\n",
            "  warnings.warn('Some buckets are empty and will be removed. Unused bucket keys=%s' %\n",
            "/usr/local/lib/python3.10/dist-packages/gluonnlp/data/sampler.py:353: UserWarning: Some buckets are empty and will be removed. Unused bucket keys=[16]\n",
            "  warnings.warn('Some buckets are empty and will be removed. Unused bucket keys=%s' %\n",
            "/usr/local/lib/python3.10/dist-packages/gluonnlp/data/sampler.py:353: UserWarning: Some buckets are empty and will be removed. Unused bucket keys=[19]\n",
            "  warnings.warn('Some buckets are empty and will be removed. Unused bucket keys=%s' %\n",
            "/usr/local/lib/python3.10/dist-packages/gluonnlp/data/sampler.py:353: UserWarning: Some buckets are empty and will be removed. Unused bucket keys=[21]\n",
            "  warnings.warn('Some buckets are empty and will be removed. Unused bucket keys=%s' %\n"
          ]
        },
        {
          "metadata": {
            "tags": null
          },
          "name": "stdout",
          "output_type": "stream",
          "text": [
            "Finished item 21 of 104\n"
          ]
        },
        {
          "metadata": {
            "tags": null
          },
          "name": "stderr",
          "output_type": "stream",
          "text": [
            "/usr/local/lib/python3.10/dist-packages/gluonnlp/data/sampler.py:353: UserWarning: Some buckets are empty and will be removed. Unused bucket keys=[5]\n",
            "  warnings.warn('Some buckets are empty and will be removed. Unused bucket keys=%s' %\n",
            "/usr/local/lib/python3.10/dist-packages/gluonnlp/data/sampler.py:353: UserWarning: Some buckets are empty and will be removed. Unused bucket keys=[6]\n",
            "  warnings.warn('Some buckets are empty and will be removed. Unused bucket keys=%s' %\n",
            "/usr/local/lib/python3.10/dist-packages/gluonnlp/data/sampler.py:353: UserWarning: Some buckets are empty and will be removed. Unused bucket keys=[7]\n",
            "  warnings.warn('Some buckets are empty and will be removed. Unused bucket keys=%s' %\n",
            "/usr/local/lib/python3.10/dist-packages/gluonnlp/data/sampler.py:353: UserWarning: Some buckets are empty and will be removed. Unused bucket keys=[8]\n",
            "  warnings.warn('Some buckets are empty and will be removed. Unused bucket keys=%s' %\n",
            "/usr/local/lib/python3.10/dist-packages/gluonnlp/data/sampler.py:353: UserWarning: Some buckets are empty and will be removed. Unused bucket keys=[9]\n",
            "  warnings.warn('Some buckets are empty and will be removed. Unused bucket keys=%s' %\n",
            "/usr/local/lib/python3.10/dist-packages/gluonnlp/data/sampler.py:353: UserWarning: Some buckets are empty and will be removed. Unused bucket keys=[10]\n",
            "  warnings.warn('Some buckets are empty and will be removed. Unused bucket keys=%s' %\n",
            "/usr/local/lib/python3.10/dist-packages/gluonnlp/data/sampler.py:353: UserWarning: Some buckets are empty and will be removed. Unused bucket keys=[13]\n",
            "  warnings.warn('Some buckets are empty and will be removed. Unused bucket keys=%s' %\n",
            "/usr/local/lib/python3.10/dist-packages/gluonnlp/data/sampler.py:353: UserWarning: Some buckets are empty and will be removed. Unused bucket keys=[14]\n",
            "  warnings.warn('Some buckets are empty and will be removed. Unused bucket keys=%s' %\n",
            "/usr/local/lib/python3.10/dist-packages/gluonnlp/data/sampler.py:353: UserWarning: Some buckets are empty and will be removed. Unused bucket keys=[15]\n",
            "  warnings.warn('Some buckets are empty and will be removed. Unused bucket keys=%s' %\n",
            "/usr/local/lib/python3.10/dist-packages/gluonnlp/data/sampler.py:353: UserWarning: Some buckets are empty and will be removed. Unused bucket keys=[18]\n",
            "  warnings.warn('Some buckets are empty and will be removed. Unused bucket keys=%s' %\n",
            "/usr/local/lib/python3.10/dist-packages/gluonnlp/data/sampler.py:353: UserWarning: Some buckets are empty and will be removed. Unused bucket keys=[19]\n",
            "  warnings.warn('Some buckets are empty and will be removed. Unused bucket keys=%s' %\n"
          ]
        },
        {
          "metadata": {
            "tags": null
          },
          "name": "stdout",
          "output_type": "stream",
          "text": [
            "Finished item 22 of 104\n"
          ]
        },
        {
          "metadata": {
            "tags": null
          },
          "name": "stderr",
          "output_type": "stream",
          "text": [
            "/usr/local/lib/python3.10/dist-packages/gluonnlp/data/sampler.py:353: UserWarning: Some buckets are empty and will be removed. Unused bucket keys=[5]\n",
            "  warnings.warn('Some buckets are empty and will be removed. Unused bucket keys=%s' %\n",
            "/usr/local/lib/python3.10/dist-packages/gluonnlp/data/sampler.py:353: UserWarning: Some buckets are empty and will be removed. Unused bucket keys=[7]\n",
            "  warnings.warn('Some buckets are empty and will be removed. Unused bucket keys=%s' %\n",
            "/usr/local/lib/python3.10/dist-packages/gluonnlp/data/sampler.py:353: UserWarning: Some buckets are empty and will be removed. Unused bucket keys=[8]\n",
            "  warnings.warn('Some buckets are empty and will be removed. Unused bucket keys=%s' %\n",
            "/usr/local/lib/python3.10/dist-packages/gluonnlp/data/sampler.py:353: UserWarning: Some buckets are empty and will be removed. Unused bucket keys=[9]\n",
            "  warnings.warn('Some buckets are empty and will be removed. Unused bucket keys=%s' %\n",
            "/usr/local/lib/python3.10/dist-packages/gluonnlp/data/sampler.py:353: UserWarning: Some buckets are empty and will be removed. Unused bucket keys=[10]\n",
            "  warnings.warn('Some buckets are empty and will be removed. Unused bucket keys=%s' %\n",
            "/usr/local/lib/python3.10/dist-packages/gluonnlp/data/sampler.py:353: UserWarning: Some buckets are empty and will be removed. Unused bucket keys=[10]\n",
            "  warnings.warn('Some buckets are empty and will be removed. Unused bucket keys=%s' %\n",
            "/usr/local/lib/python3.10/dist-packages/gluonnlp/data/sampler.py:353: UserWarning: Some buckets are empty and will be removed. Unused bucket keys=[11]\n",
            "  warnings.warn('Some buckets are empty and will be removed. Unused bucket keys=%s' %\n",
            "/usr/local/lib/python3.10/dist-packages/gluonnlp/data/sampler.py:353: UserWarning: Some buckets are empty and will be removed. Unused bucket keys=[11]\n",
            "  warnings.warn('Some buckets are empty and will be removed. Unused bucket keys=%s' %\n",
            "/usr/local/lib/python3.10/dist-packages/gluonnlp/data/sampler.py:353: UserWarning: Some buckets are empty and will be removed. Unused bucket keys=[12]\n",
            "  warnings.warn('Some buckets are empty and will be removed. Unused bucket keys=%s' %\n",
            "/usr/local/lib/python3.10/dist-packages/gluonnlp/data/sampler.py:353: UserWarning: Some buckets are empty and will be removed. Unused bucket keys=[13]\n",
            "  warnings.warn('Some buckets are empty and will be removed. Unused bucket keys=%s' %\n",
            "/usr/local/lib/python3.10/dist-packages/gluonnlp/data/sampler.py:353: UserWarning: Some buckets are empty and will be removed. Unused bucket keys=[14]\n",
            "  warnings.warn('Some buckets are empty and will be removed. Unused bucket keys=%s' %\n",
            "/usr/local/lib/python3.10/dist-packages/gluonnlp/data/sampler.py:353: UserWarning: Some buckets are empty and will be removed. Unused bucket keys=[14]\n",
            "  warnings.warn('Some buckets are empty and will be removed. Unused bucket keys=%s' %\n",
            "/usr/local/lib/python3.10/dist-packages/gluonnlp/data/sampler.py:353: UserWarning: Some buckets are empty and will be removed. Unused bucket keys=[15]\n",
            "  warnings.warn('Some buckets are empty and will be removed. Unused bucket keys=%s' %\n",
            "/usr/local/lib/python3.10/dist-packages/gluonnlp/data/sampler.py:353: UserWarning: Some buckets are empty and will be removed. Unused bucket keys=[15]\n",
            "  warnings.warn('Some buckets are empty and will be removed. Unused bucket keys=%s' %\n",
            "/usr/local/lib/python3.10/dist-packages/gluonnlp/data/sampler.py:353: UserWarning: Some buckets are empty and will be removed. Unused bucket keys=[16]\n",
            "  warnings.warn('Some buckets are empty and will be removed. Unused bucket keys=%s' %\n",
            "/usr/local/lib/python3.10/dist-packages/gluonnlp/data/sampler.py:353: UserWarning: Some buckets are empty and will be removed. Unused bucket keys=[16]\n",
            "  warnings.warn('Some buckets are empty and will be removed. Unused bucket keys=%s' %\n",
            "/usr/local/lib/python3.10/dist-packages/gluonnlp/data/sampler.py:353: UserWarning: Some buckets are empty and will be removed. Unused bucket keys=[17]\n",
            "  warnings.warn('Some buckets are empty and will be removed. Unused bucket keys=%s' %\n",
            "/usr/local/lib/python3.10/dist-packages/gluonnlp/data/sampler.py:353: UserWarning: Some buckets are empty and will be removed. Unused bucket keys=[18]\n",
            "  warnings.warn('Some buckets are empty and will be removed. Unused bucket keys=%s' %\n",
            "/usr/local/lib/python3.10/dist-packages/gluonnlp/data/sampler.py:353: UserWarning: Some buckets are empty and will be removed. Unused bucket keys=[19]\n",
            "  warnings.warn('Some buckets are empty and will be removed. Unused bucket keys=%s' %\n"
          ]
        },
        {
          "metadata": {
            "tags": null
          },
          "name": "stdout",
          "output_type": "stream",
          "text": [
            "Finished item 23 of 104\n"
          ]
        },
        {
          "metadata": {
            "tags": null
          },
          "name": "stderr",
          "output_type": "stream",
          "text": [
            "/usr/local/lib/python3.10/dist-packages/gluonnlp/data/sampler.py:353: UserWarning: Some buckets are empty and will be removed. Unused bucket keys=[6]\n",
            "  warnings.warn('Some buckets are empty and will be removed. Unused bucket keys=%s' %\n",
            "/usr/local/lib/python3.10/dist-packages/gluonnlp/data/sampler.py:353: UserWarning: Some buckets are empty and will be removed. Unused bucket keys=[7]\n",
            "  warnings.warn('Some buckets are empty and will be removed. Unused bucket keys=%s' %\n",
            "/usr/local/lib/python3.10/dist-packages/gluonnlp/data/sampler.py:353: UserWarning: Some buckets are empty and will be removed. Unused bucket keys=[8]\n",
            "  warnings.warn('Some buckets are empty and will be removed. Unused bucket keys=%s' %\n",
            "/usr/local/lib/python3.10/dist-packages/gluonnlp/data/sampler.py:353: UserWarning: Some buckets are empty and will be removed. Unused bucket keys=[9]\n",
            "  warnings.warn('Some buckets are empty and will be removed. Unused bucket keys=%s' %\n",
            "/usr/local/lib/python3.10/dist-packages/gluonnlp/data/sampler.py:353: UserWarning: Some buckets are empty and will be removed. Unused bucket keys=[10]\n",
            "  warnings.warn('Some buckets are empty and will be removed. Unused bucket keys=%s' %\n",
            "/usr/local/lib/python3.10/dist-packages/gluonnlp/data/sampler.py:353: UserWarning: Some buckets are empty and will be removed. Unused bucket keys=[10]\n",
            "  warnings.warn('Some buckets are empty and will be removed. Unused bucket keys=%s' %\n",
            "/usr/local/lib/python3.10/dist-packages/gluonnlp/data/sampler.py:353: UserWarning: Some buckets are empty and will be removed. Unused bucket keys=[11]\n",
            "  warnings.warn('Some buckets are empty and will be removed. Unused bucket keys=%s' %\n",
            "/usr/local/lib/python3.10/dist-packages/gluonnlp/data/sampler.py:353: UserWarning: Some buckets are empty and will be removed. Unused bucket keys=[11]\n",
            "  warnings.warn('Some buckets are empty and will be removed. Unused bucket keys=%s' %\n",
            "/usr/local/lib/python3.10/dist-packages/gluonnlp/data/sampler.py:353: UserWarning: Some buckets are empty and will be removed. Unused bucket keys=[12]\n",
            "  warnings.warn('Some buckets are empty and will be removed. Unused bucket keys=%s' %\n",
            "/usr/local/lib/python3.10/dist-packages/gluonnlp/data/sampler.py:353: UserWarning: Some buckets are empty and will be removed. Unused bucket keys=[12]\n",
            "  warnings.warn('Some buckets are empty and will be removed. Unused bucket keys=%s' %\n",
            "/usr/local/lib/python3.10/dist-packages/gluonnlp/data/sampler.py:353: UserWarning: Some buckets are empty and will be removed. Unused bucket keys=[13]\n",
            "  warnings.warn('Some buckets are empty and will be removed. Unused bucket keys=%s' %\n",
            "/usr/local/lib/python3.10/dist-packages/gluonnlp/data/sampler.py:353: UserWarning: Some buckets are empty and will be removed. Unused bucket keys=[14]\n",
            "  warnings.warn('Some buckets are empty and will be removed. Unused bucket keys=%s' %\n",
            "/usr/local/lib/python3.10/dist-packages/gluonnlp/data/sampler.py:353: UserWarning: Some buckets are empty and will be removed. Unused bucket keys=[15]\n",
            "  warnings.warn('Some buckets are empty and will be removed. Unused bucket keys=%s' %\n",
            "/usr/local/lib/python3.10/dist-packages/gluonnlp/data/sampler.py:353: UserWarning: Some buckets are empty and will be removed. Unused bucket keys=[15]\n",
            "  warnings.warn('Some buckets are empty and will be removed. Unused bucket keys=%s' %\n",
            "/usr/local/lib/python3.10/dist-packages/gluonnlp/data/sampler.py:353: UserWarning: Some buckets are empty and will be removed. Unused bucket keys=[16]\n",
            "  warnings.warn('Some buckets are empty and will be removed. Unused bucket keys=%s' %\n"
          ]
        },
        {
          "metadata": {
            "tags": null
          },
          "name": "stdout",
          "output_type": "stream",
          "text": [
            "Finished item 24 of 104\n"
          ]
        },
        {
          "metadata": {
            "tags": null
          },
          "name": "stderr",
          "output_type": "stream",
          "text": [
            "/usr/local/lib/python3.10/dist-packages/gluonnlp/data/sampler.py:353: UserWarning: Some buckets are empty and will be removed. Unused bucket keys=[6]\n",
            "  warnings.warn('Some buckets are empty and will be removed. Unused bucket keys=%s' %\n",
            "/usr/local/lib/python3.10/dist-packages/gluonnlp/data/sampler.py:353: UserWarning: Some buckets are empty and will be removed. Unused bucket keys=[7]\n",
            "  warnings.warn('Some buckets are empty and will be removed. Unused bucket keys=%s' %\n",
            "/usr/local/lib/python3.10/dist-packages/gluonnlp/data/sampler.py:353: UserWarning: Some buckets are empty and will be removed. Unused bucket keys=[10]\n",
            "  warnings.warn('Some buckets are empty and will be removed. Unused bucket keys=%s' %\n",
            "/usr/local/lib/python3.10/dist-packages/gluonnlp/data/sampler.py:353: UserWarning: Some buckets are empty and will be removed. Unused bucket keys=[11]\n",
            "  warnings.warn('Some buckets are empty and will be removed. Unused bucket keys=%s' %\n",
            "/usr/local/lib/python3.10/dist-packages/gluonnlp/data/sampler.py:353: UserWarning: Some buckets are empty and will be removed. Unused bucket keys=[11]\n",
            "  warnings.warn('Some buckets are empty and will be removed. Unused bucket keys=%s' %\n",
            "/usr/local/lib/python3.10/dist-packages/gluonnlp/data/sampler.py:353: UserWarning: Some buckets are empty and will be removed. Unused bucket keys=[12]\n",
            "  warnings.warn('Some buckets are empty and will be removed. Unused bucket keys=%s' %\n",
            "/usr/local/lib/python3.10/dist-packages/gluonnlp/data/sampler.py:353: UserWarning: Some buckets are empty and will be removed. Unused bucket keys=[14]\n",
            "  warnings.warn('Some buckets are empty and will be removed. Unused bucket keys=%s' %\n",
            "/usr/local/lib/python3.10/dist-packages/gluonnlp/data/sampler.py:353: UserWarning: Some buckets are empty and will be removed. Unused bucket keys=[15]\n",
            "  warnings.warn('Some buckets are empty and will be removed. Unused bucket keys=%s' %\n",
            "/usr/local/lib/python3.10/dist-packages/gluonnlp/data/sampler.py:353: UserWarning: Some buckets are empty and will be removed. Unused bucket keys=[15]\n",
            "  warnings.warn('Some buckets are empty and will be removed. Unused bucket keys=%s' %\n",
            "/usr/local/lib/python3.10/dist-packages/gluonnlp/data/sampler.py:353: UserWarning: Some buckets are empty and will be removed. Unused bucket keys=[16]\n",
            "  warnings.warn('Some buckets are empty and will be removed. Unused bucket keys=%s' %\n",
            "/usr/local/lib/python3.10/dist-packages/gluonnlp/data/sampler.py:353: UserWarning: Some buckets are empty and will be removed. Unused bucket keys=[16]\n",
            "  warnings.warn('Some buckets are empty and will be removed. Unused bucket keys=%s' %\n",
            "/usr/local/lib/python3.10/dist-packages/gluonnlp/data/sampler.py:353: UserWarning: Some buckets are empty and will be removed. Unused bucket keys=[17]\n",
            "  warnings.warn('Some buckets are empty and will be removed. Unused bucket keys=%s' %\n",
            "/usr/local/lib/python3.10/dist-packages/gluonnlp/data/sampler.py:353: UserWarning: Some buckets are empty and will be removed. Unused bucket keys=[17]\n",
            "  warnings.warn('Some buckets are empty and will be removed. Unused bucket keys=%s' %\n",
            "/usr/local/lib/python3.10/dist-packages/gluonnlp/data/sampler.py:353: UserWarning: Some buckets are empty and will be removed. Unused bucket keys=[18]\n",
            "  warnings.warn('Some buckets are empty and will be removed. Unused bucket keys=%s' %\n",
            "/usr/local/lib/python3.10/dist-packages/gluonnlp/data/sampler.py:353: UserWarning: Some buckets are empty and will be removed. Unused bucket keys=[19]\n",
            "  warnings.warn('Some buckets are empty and will be removed. Unused bucket keys=%s' %\n",
            "/usr/local/lib/python3.10/dist-packages/gluonnlp/data/sampler.py:353: UserWarning: Some buckets are empty and will be removed. Unused bucket keys=[20]\n",
            "  warnings.warn('Some buckets are empty and will be removed. Unused bucket keys=%s' %\n"
          ]
        },
        {
          "metadata": {
            "tags": null
          },
          "name": "stdout",
          "output_type": "stream",
          "text": [
            "Finished item 25 of 104\n"
          ]
        },
        {
          "metadata": {
            "tags": null
          },
          "name": "stderr",
          "output_type": "stream",
          "text": [
            "/usr/local/lib/python3.10/dist-packages/gluonnlp/data/sampler.py:353: UserWarning: Some buckets are empty and will be removed. Unused bucket keys=[6]\n",
            "  warnings.warn('Some buckets are empty and will be removed. Unused bucket keys=%s' %\n",
            "/usr/local/lib/python3.10/dist-packages/gluonnlp/data/sampler.py:353: UserWarning: Some buckets are empty and will be removed. Unused bucket keys=[7]\n",
            "  warnings.warn('Some buckets are empty and will be removed. Unused bucket keys=%s' %\n",
            "/usr/local/lib/python3.10/dist-packages/gluonnlp/data/sampler.py:353: UserWarning: Some buckets are empty and will be removed. Unused bucket keys=[8]\n",
            "  warnings.warn('Some buckets are empty and will be removed. Unused bucket keys=%s' %\n",
            "/usr/local/lib/python3.10/dist-packages/gluonnlp/data/sampler.py:353: UserWarning: Some buckets are empty and will be removed. Unused bucket keys=[9]\n",
            "  warnings.warn('Some buckets are empty and will be removed. Unused bucket keys=%s' %\n",
            "/usr/local/lib/python3.10/dist-packages/gluonnlp/data/sampler.py:353: UserWarning: Some buckets are empty and will be removed. Unused bucket keys=[9]\n",
            "  warnings.warn('Some buckets are empty and will be removed. Unused bucket keys=%s' %\n",
            "/usr/local/lib/python3.10/dist-packages/gluonnlp/data/sampler.py:353: UserWarning: Some buckets are empty and will be removed. Unused bucket keys=[10]\n",
            "  warnings.warn('Some buckets are empty and will be removed. Unused bucket keys=%s' %\n",
            "/usr/local/lib/python3.10/dist-packages/gluonnlp/data/sampler.py:353: UserWarning: Some buckets are empty and will be removed. Unused bucket keys=[10]\n",
            "  warnings.warn('Some buckets are empty and will be removed. Unused bucket keys=%s' %\n",
            "/usr/local/lib/python3.10/dist-packages/gluonnlp/data/sampler.py:353: UserWarning: Some buckets are empty and will be removed. Unused bucket keys=[11]\n",
            "  warnings.warn('Some buckets are empty and will be removed. Unused bucket keys=%s' %\n",
            "/usr/local/lib/python3.10/dist-packages/gluonnlp/data/sampler.py:353: UserWarning: Some buckets are empty and will be removed. Unused bucket keys=[11]\n",
            "  warnings.warn('Some buckets are empty and will be removed. Unused bucket keys=%s' %\n",
            "/usr/local/lib/python3.10/dist-packages/gluonnlp/data/sampler.py:353: UserWarning: Some buckets are empty and will be removed. Unused bucket keys=[12]\n",
            "  warnings.warn('Some buckets are empty and will be removed. Unused bucket keys=%s' %\n",
            "/usr/local/lib/python3.10/dist-packages/gluonnlp/data/sampler.py:353: UserWarning: Some buckets are empty and will be removed. Unused bucket keys=[13]\n",
            "  warnings.warn('Some buckets are empty and will be removed. Unused bucket keys=%s' %\n",
            "/usr/local/lib/python3.10/dist-packages/gluonnlp/data/sampler.py:353: UserWarning: Some buckets are empty and will be removed. Unused bucket keys=[14]\n",
            "  warnings.warn('Some buckets are empty and will be removed. Unused bucket keys=%s' %\n",
            "/usr/local/lib/python3.10/dist-packages/gluonnlp/data/sampler.py:353: UserWarning: Some buckets are empty and will be removed. Unused bucket keys=[15]\n",
            "  warnings.warn('Some buckets are empty and will be removed. Unused bucket keys=%s' %\n",
            "/usr/local/lib/python3.10/dist-packages/gluonnlp/data/sampler.py:353: UserWarning: Some buckets are empty and will be removed. Unused bucket keys=[16]\n",
            "  warnings.warn('Some buckets are empty and will be removed. Unused bucket keys=%s' %\n"
          ]
        },
        {
          "metadata": {
            "tags": null
          },
          "name": "stdout",
          "output_type": "stream",
          "text": [
            "Finished item 26 of 104\n"
          ]
        },
        {
          "metadata": {
            "tags": null
          },
          "name": "stderr",
          "output_type": "stream",
          "text": [
            "/usr/local/lib/python3.10/dist-packages/gluonnlp/data/sampler.py:353: UserWarning: Some buckets are empty and will be removed. Unused bucket keys=[7]\n",
            "  warnings.warn('Some buckets are empty and will be removed. Unused bucket keys=%s' %\n",
            "/usr/local/lib/python3.10/dist-packages/gluonnlp/data/sampler.py:353: UserWarning: Some buckets are empty and will be removed. Unused bucket keys=[8]\n",
            "  warnings.warn('Some buckets are empty and will be removed. Unused bucket keys=%s' %\n",
            "/usr/local/lib/python3.10/dist-packages/gluonnlp/data/sampler.py:353: UserWarning: Some buckets are empty and will be removed. Unused bucket keys=[11]\n",
            "  warnings.warn('Some buckets are empty and will be removed. Unused bucket keys=%s' %\n",
            "/usr/local/lib/python3.10/dist-packages/gluonnlp/data/sampler.py:353: UserWarning: Some buckets are empty and will be removed. Unused bucket keys=[12]\n",
            "  warnings.warn('Some buckets are empty and will be removed. Unused bucket keys=%s' %\n",
            "/usr/local/lib/python3.10/dist-packages/gluonnlp/data/sampler.py:353: UserWarning: Some buckets are empty and will be removed. Unused bucket keys=[12]\n",
            "  warnings.warn('Some buckets are empty and will be removed. Unused bucket keys=%s' %\n",
            "/usr/local/lib/python3.10/dist-packages/gluonnlp/data/sampler.py:353: UserWarning: Some buckets are empty and will be removed. Unused bucket keys=[13]\n",
            "  warnings.warn('Some buckets are empty and will be removed. Unused bucket keys=%s' %\n",
            "/usr/local/lib/python3.10/dist-packages/gluonnlp/data/sampler.py:353: UserWarning: Some buckets are empty and will be removed. Unused bucket keys=[13]\n",
            "  warnings.warn('Some buckets are empty and will be removed. Unused bucket keys=%s' %\n",
            "/usr/local/lib/python3.10/dist-packages/gluonnlp/data/sampler.py:353: UserWarning: Some buckets are empty and will be removed. Unused bucket keys=[14]\n",
            "  warnings.warn('Some buckets are empty and will be removed. Unused bucket keys=%s' %\n",
            "/usr/local/lib/python3.10/dist-packages/gluonnlp/data/sampler.py:353: UserWarning: Some buckets are empty and will be removed. Unused bucket keys=[15]\n",
            "  warnings.warn('Some buckets are empty and will be removed. Unused bucket keys=%s' %\n",
            "/usr/local/lib/python3.10/dist-packages/gluonnlp/data/sampler.py:353: UserWarning: Some buckets are empty and will be removed. Unused bucket keys=[16]\n",
            "  warnings.warn('Some buckets are empty and will be removed. Unused bucket keys=%s' %\n",
            "/usr/local/lib/python3.10/dist-packages/gluonnlp/data/sampler.py:353: UserWarning: Some buckets are empty and will be removed. Unused bucket keys=[16]\n",
            "  warnings.warn('Some buckets are empty and will be removed. Unused bucket keys=%s' %\n",
            "/usr/local/lib/python3.10/dist-packages/gluonnlp/data/sampler.py:353: UserWarning: Some buckets are empty and will be removed. Unused bucket keys=[17]\n",
            "  warnings.warn('Some buckets are empty and will be removed. Unused bucket keys=%s' %\n",
            "/usr/local/lib/python3.10/dist-packages/gluonnlp/data/sampler.py:353: UserWarning: Some buckets are empty and will be removed. Unused bucket keys=[17]\n",
            "  warnings.warn('Some buckets are empty and will be removed. Unused bucket keys=%s' %\n",
            "/usr/local/lib/python3.10/dist-packages/gluonnlp/data/sampler.py:353: UserWarning: Some buckets are empty and will be removed. Unused bucket keys=[18]\n",
            "  warnings.warn('Some buckets are empty and will be removed. Unused bucket keys=%s' %\n",
            "/usr/local/lib/python3.10/dist-packages/gluonnlp/data/sampler.py:353: UserWarning: Some buckets are empty and will be removed. Unused bucket keys=[19]\n",
            "  warnings.warn('Some buckets are empty and will be removed. Unused bucket keys=%s' %\n",
            "/usr/local/lib/python3.10/dist-packages/gluonnlp/data/sampler.py:353: UserWarning: Some buckets are empty and will be removed. Unused bucket keys=[20]\n",
            "  warnings.warn('Some buckets are empty and will be removed. Unused bucket keys=%s' %\n"
          ]
        },
        {
          "metadata": {
            "tags": null
          },
          "name": "stdout",
          "output_type": "stream",
          "text": [
            "Finished item 27 of 104\n"
          ]
        },
        {
          "metadata": {
            "tags": null
          },
          "name": "stderr",
          "output_type": "stream",
          "text": [
            "/usr/local/lib/python3.10/dist-packages/gluonnlp/data/sampler.py:353: UserWarning: Some buckets are empty and will be removed. Unused bucket keys=[5]\n",
            "  warnings.warn('Some buckets are empty and will be removed. Unused bucket keys=%s' %\n",
            "/usr/local/lib/python3.10/dist-packages/gluonnlp/data/sampler.py:353: UserWarning: Some buckets are empty and will be removed. Unused bucket keys=[6]\n",
            "  warnings.warn('Some buckets are empty and will be removed. Unused bucket keys=%s' %\n",
            "/usr/local/lib/python3.10/dist-packages/gluonnlp/data/sampler.py:353: UserWarning: Some buckets are empty and will be removed. Unused bucket keys=[9]\n",
            "  warnings.warn('Some buckets are empty and will be removed. Unused bucket keys=%s' %\n",
            "/usr/local/lib/python3.10/dist-packages/gluonnlp/data/sampler.py:353: UserWarning: Some buckets are empty and will be removed. Unused bucket keys=[10]\n",
            "  warnings.warn('Some buckets are empty and will be removed. Unused bucket keys=%s' %\n",
            "/usr/local/lib/python3.10/dist-packages/gluonnlp/data/sampler.py:353: UserWarning: Some buckets are empty and will be removed. Unused bucket keys=[11]\n",
            "  warnings.warn('Some buckets are empty and will be removed. Unused bucket keys=%s' %\n",
            "/usr/local/lib/python3.10/dist-packages/gluonnlp/data/sampler.py:353: UserWarning: Some buckets are empty and will be removed. Unused bucket keys=[12]\n",
            "  warnings.warn('Some buckets are empty and will be removed. Unused bucket keys=%s' %\n",
            "/usr/local/lib/python3.10/dist-packages/gluonnlp/data/sampler.py:353: UserWarning: Some buckets are empty and will be removed. Unused bucket keys=[14]\n",
            "  warnings.warn('Some buckets are empty and will be removed. Unused bucket keys=%s' %\n",
            "/usr/local/lib/python3.10/dist-packages/gluonnlp/data/sampler.py:353: UserWarning: Some buckets are empty and will be removed. Unused bucket keys=[15]\n",
            "  warnings.warn('Some buckets are empty and will be removed. Unused bucket keys=%s' %\n",
            "/usr/local/lib/python3.10/dist-packages/gluonnlp/data/sampler.py:353: UserWarning: Some buckets are empty and will be removed. Unused bucket keys=[16]\n",
            "  warnings.warn('Some buckets are empty and will be removed. Unused bucket keys=%s' %\n",
            "/usr/local/lib/python3.10/dist-packages/gluonnlp/data/sampler.py:353: UserWarning: Some buckets are empty and will be removed. Unused bucket keys=[17]\n",
            "  warnings.warn('Some buckets are empty and will be removed. Unused bucket keys=%s' %\n",
            "/usr/local/lib/python3.10/dist-packages/gluonnlp/data/sampler.py:353: UserWarning: Some buckets are empty and will be removed. Unused bucket keys=[18]\n",
            "  warnings.warn('Some buckets are empty and will be removed. Unused bucket keys=%s' %\n",
            "/usr/local/lib/python3.10/dist-packages/gluonnlp/data/sampler.py:353: UserWarning: Some buckets are empty and will be removed. Unused bucket keys=[19]\n",
            "  warnings.warn('Some buckets are empty and will be removed. Unused bucket keys=%s' %\n"
          ]
        },
        {
          "metadata": {
            "tags": null
          },
          "name": "stdout",
          "output_type": "stream",
          "text": [
            "Finished item 28 of 104\n"
          ]
        },
        {
          "metadata": {
            "tags": null
          },
          "name": "stderr",
          "output_type": "stream",
          "text": [
            "/usr/local/lib/python3.10/dist-packages/gluonnlp/data/sampler.py:353: UserWarning: Some buckets are empty and will be removed. Unused bucket keys=[5]\n",
            "  warnings.warn('Some buckets are empty and will be removed. Unused bucket keys=%s' %\n",
            "/usr/local/lib/python3.10/dist-packages/gluonnlp/data/sampler.py:353: UserWarning: Some buckets are empty and will be removed. Unused bucket keys=[6]\n",
            "  warnings.warn('Some buckets are empty and will be removed. Unused bucket keys=%s' %\n",
            "/usr/local/lib/python3.10/dist-packages/gluonnlp/data/sampler.py:353: UserWarning: Some buckets are empty and will be removed. Unused bucket keys=[9]\n",
            "  warnings.warn('Some buckets are empty and will be removed. Unused bucket keys=%s' %\n",
            "/usr/local/lib/python3.10/dist-packages/gluonnlp/data/sampler.py:353: UserWarning: Some buckets are empty and will be removed. Unused bucket keys=[10]\n",
            "  warnings.warn('Some buckets are empty and will be removed. Unused bucket keys=%s' %\n",
            "/usr/local/lib/python3.10/dist-packages/gluonnlp/data/sampler.py:353: UserWarning: Some buckets are empty and will be removed. Unused bucket keys=[10]\n",
            "  warnings.warn('Some buckets are empty and will be removed. Unused bucket keys=%s' %\n",
            "/usr/local/lib/python3.10/dist-packages/gluonnlp/data/sampler.py:353: UserWarning: Some buckets are empty and will be removed. Unused bucket keys=[11]\n",
            "  warnings.warn('Some buckets are empty and will be removed. Unused bucket keys=%s' %\n",
            "/usr/local/lib/python3.10/dist-packages/gluonnlp/data/sampler.py:353: UserWarning: Some buckets are empty and will be removed. Unused bucket keys=[12]\n",
            "  warnings.warn('Some buckets are empty and will be removed. Unused bucket keys=%s' %\n",
            "/usr/local/lib/python3.10/dist-packages/gluonnlp/data/sampler.py:353: UserWarning: Some buckets are empty and will be removed. Unused bucket keys=[13]\n",
            "  warnings.warn('Some buckets are empty and will be removed. Unused bucket keys=%s' %\n",
            "/usr/local/lib/python3.10/dist-packages/gluonnlp/data/sampler.py:353: UserWarning: Some buckets are empty and will be removed. Unused bucket keys=[13]\n",
            "  warnings.warn('Some buckets are empty and will be removed. Unused bucket keys=%s' %\n",
            "/usr/local/lib/python3.10/dist-packages/gluonnlp/data/sampler.py:353: UserWarning: Some buckets are empty and will be removed. Unused bucket keys=[14]\n",
            "  warnings.warn('Some buckets are empty and will be removed. Unused bucket keys=%s' %\n",
            "/usr/local/lib/python3.10/dist-packages/gluonnlp/data/sampler.py:353: UserWarning: Some buckets are empty and will be removed. Unused bucket keys=[14]\n",
            "  warnings.warn('Some buckets are empty and will be removed. Unused bucket keys=%s' %\n",
            "/usr/local/lib/python3.10/dist-packages/gluonnlp/data/sampler.py:353: UserWarning: Some buckets are empty and will be removed. Unused bucket keys=[15]\n",
            "  warnings.warn('Some buckets are empty and will be removed. Unused bucket keys=%s' %\n",
            "/usr/local/lib/python3.10/dist-packages/gluonnlp/data/sampler.py:353: UserWarning: Some buckets are empty and will be removed. Unused bucket keys=[15]\n",
            "  warnings.warn('Some buckets are empty and will be removed. Unused bucket keys=%s' %\n",
            "/usr/local/lib/python3.10/dist-packages/gluonnlp/data/sampler.py:353: UserWarning: Some buckets are empty and will be removed. Unused bucket keys=[16]\n",
            "  warnings.warn('Some buckets are empty and will be removed. Unused bucket keys=%s' %\n",
            "/usr/local/lib/python3.10/dist-packages/gluonnlp/data/sampler.py:353: UserWarning: Some buckets are empty and will be removed. Unused bucket keys=[16]\n",
            "  warnings.warn('Some buckets are empty and will be removed. Unused bucket keys=%s' %\n",
            "/usr/local/lib/python3.10/dist-packages/gluonnlp/data/sampler.py:353: UserWarning: Some buckets are empty and will be removed. Unused bucket keys=[17]\n",
            "  warnings.warn('Some buckets are empty and will be removed. Unused bucket keys=%s' %\n",
            "/usr/local/lib/python3.10/dist-packages/gluonnlp/data/sampler.py:353: UserWarning: Some buckets are empty and will be removed. Unused bucket keys=[18]\n",
            "  warnings.warn('Some buckets are empty and will be removed. Unused bucket keys=%s' %\n",
            "/usr/local/lib/python3.10/dist-packages/gluonnlp/data/sampler.py:353: UserWarning: Some buckets are empty and will be removed. Unused bucket keys=[19]\n",
            "  warnings.warn('Some buckets are empty and will be removed. Unused bucket keys=%s' %\n"
          ]
        },
        {
          "metadata": {
            "tags": null
          },
          "name": "stdout",
          "output_type": "stream",
          "text": [
            "Finished item 29 of 104\n"
          ]
        },
        {
          "metadata": {
            "tags": null
          },
          "name": "stderr",
          "output_type": "stream",
          "text": [
            "/usr/local/lib/python3.10/dist-packages/gluonnlp/data/sampler.py:353: UserWarning: Some buckets are empty and will be removed. Unused bucket keys=[5]\n",
            "  warnings.warn('Some buckets are empty and will be removed. Unused bucket keys=%s' %\n",
            "/usr/local/lib/python3.10/dist-packages/gluonnlp/data/sampler.py:353: UserWarning: Some buckets are empty and will be removed. Unused bucket keys=[6]\n",
            "  warnings.warn('Some buckets are empty and will be removed. Unused bucket keys=%s' %\n",
            "/usr/local/lib/python3.10/dist-packages/gluonnlp/data/sampler.py:353: UserWarning: Some buckets are empty and will be removed. Unused bucket keys=[7]\n",
            "  warnings.warn('Some buckets are empty and will be removed. Unused bucket keys=%s' %\n",
            "/usr/local/lib/python3.10/dist-packages/gluonnlp/data/sampler.py:353: UserWarning: Some buckets are empty and will be removed. Unused bucket keys=[11]\n",
            "  warnings.warn('Some buckets are empty and will be removed. Unused bucket keys=%s' %\n",
            "/usr/local/lib/python3.10/dist-packages/gluonnlp/data/sampler.py:353: UserWarning: Some buckets are empty and will be removed. Unused bucket keys=[12]\n",
            "  warnings.warn('Some buckets are empty and will be removed. Unused bucket keys=%s' %\n",
            "/usr/local/lib/python3.10/dist-packages/gluonnlp/data/sampler.py:353: UserWarning: Some buckets are empty and will be removed. Unused bucket keys=[12]\n",
            "  warnings.warn('Some buckets are empty and will be removed. Unused bucket keys=%s' %\n",
            "/usr/local/lib/python3.10/dist-packages/gluonnlp/data/sampler.py:353: UserWarning: Some buckets are empty and will be removed. Unused bucket keys=[13]\n",
            "  warnings.warn('Some buckets are empty and will be removed. Unused bucket keys=%s' %\n",
            "/usr/local/lib/python3.10/dist-packages/gluonnlp/data/sampler.py:353: UserWarning: Some buckets are empty and will be removed. Unused bucket keys=[13]\n",
            "  warnings.warn('Some buckets are empty and will be removed. Unused bucket keys=%s' %\n",
            "/usr/local/lib/python3.10/dist-packages/gluonnlp/data/sampler.py:353: UserWarning: Some buckets are empty and will be removed. Unused bucket keys=[14]\n",
            "  warnings.warn('Some buckets are empty and will be removed. Unused bucket keys=%s' %\n",
            "/usr/local/lib/python3.10/dist-packages/gluonnlp/data/sampler.py:353: UserWarning: Some buckets are empty and will be removed. Unused bucket keys=[16]\n",
            "  warnings.warn('Some buckets are empty and will be removed. Unused bucket keys=%s' %\n",
            "/usr/local/lib/python3.10/dist-packages/gluonnlp/data/sampler.py:353: UserWarning: Some buckets are empty and will be removed. Unused bucket keys=[17]\n",
            "  warnings.warn('Some buckets are empty and will be removed. Unused bucket keys=%s' %\n",
            "/usr/local/lib/python3.10/dist-packages/gluonnlp/data/sampler.py:353: UserWarning: Some buckets are empty and will be removed. Unused bucket keys=[18]\n",
            "  warnings.warn('Some buckets are empty and will be removed. Unused bucket keys=%s' %\n",
            "/usr/local/lib/python3.10/dist-packages/gluonnlp/data/sampler.py:353: UserWarning: Some buckets are empty and will be removed. Unused bucket keys=[19]\n",
            "  warnings.warn('Some buckets are empty and will be removed. Unused bucket keys=%s' %\n",
            "/usr/local/lib/python3.10/dist-packages/gluonnlp/data/sampler.py:353: UserWarning: Some buckets are empty and will be removed. Unused bucket keys=[20]\n",
            "  warnings.warn('Some buckets are empty and will be removed. Unused bucket keys=%s' %\n",
            "/usr/local/lib/python3.10/dist-packages/gluonnlp/data/sampler.py:353: UserWarning: Some buckets are empty and will be removed. Unused bucket keys=[21]\n",
            "  warnings.warn('Some buckets are empty and will be removed. Unused bucket keys=%s' %\n"
          ]
        },
        {
          "metadata": {
            "tags": null
          },
          "name": "stdout",
          "output_type": "stream",
          "text": [
            "Finished item 30 of 104\n"
          ]
        },
        {
          "metadata": {
            "tags": null
          },
          "name": "stderr",
          "output_type": "stream",
          "text": [
            "/usr/local/lib/python3.10/dist-packages/gluonnlp/data/sampler.py:353: UserWarning: Some buckets are empty and will be removed. Unused bucket keys=[5]\n",
            "  warnings.warn('Some buckets are empty and will be removed. Unused bucket keys=%s' %\n",
            "/usr/local/lib/python3.10/dist-packages/gluonnlp/data/sampler.py:353: UserWarning: Some buckets are empty and will be removed. Unused bucket keys=[6]\n",
            "  warnings.warn('Some buckets are empty and will be removed. Unused bucket keys=%s' %\n",
            "/usr/local/lib/python3.10/dist-packages/gluonnlp/data/sampler.py:353: UserWarning: Some buckets are empty and will be removed. Unused bucket keys=[7]\n",
            "  warnings.warn('Some buckets are empty and will be removed. Unused bucket keys=%s' %\n",
            "/usr/local/lib/python3.10/dist-packages/gluonnlp/data/sampler.py:353: UserWarning: Some buckets are empty and will be removed. Unused bucket keys=[8]\n",
            "  warnings.warn('Some buckets are empty and will be removed. Unused bucket keys=%s' %\n",
            "/usr/local/lib/python3.10/dist-packages/gluonnlp/data/sampler.py:353: UserWarning: Some buckets are empty and will be removed. Unused bucket keys=[10]\n",
            "  warnings.warn('Some buckets are empty and will be removed. Unused bucket keys=%s' %\n",
            "/usr/local/lib/python3.10/dist-packages/gluonnlp/data/sampler.py:353: UserWarning: Some buckets are empty and will be removed. Unused bucket keys=[11]\n",
            "  warnings.warn('Some buckets are empty and will be removed. Unused bucket keys=%s' %\n",
            "/usr/local/lib/python3.10/dist-packages/gluonnlp/data/sampler.py:353: UserWarning: Some buckets are empty and will be removed. Unused bucket keys=[11]\n",
            "  warnings.warn('Some buckets are empty and will be removed. Unused bucket keys=%s' %\n",
            "/usr/local/lib/python3.10/dist-packages/gluonnlp/data/sampler.py:353: UserWarning: Some buckets are empty and will be removed. Unused bucket keys=[12]\n",
            "  warnings.warn('Some buckets are empty and will be removed. Unused bucket keys=%s' %\n",
            "/usr/local/lib/python3.10/dist-packages/gluonnlp/data/sampler.py:353: UserWarning: Some buckets are empty and will be removed. Unused bucket keys=[13]\n",
            "  warnings.warn('Some buckets are empty and will be removed. Unused bucket keys=%s' %\n",
            "/usr/local/lib/python3.10/dist-packages/gluonnlp/data/sampler.py:353: UserWarning: Some buckets are empty and will be removed. Unused bucket keys=[14]\n",
            "  warnings.warn('Some buckets are empty and will be removed. Unused bucket keys=%s' %\n",
            "/usr/local/lib/python3.10/dist-packages/gluonnlp/data/sampler.py:353: UserWarning: Some buckets are empty and will be removed. Unused bucket keys=[14]\n",
            "  warnings.warn('Some buckets are empty and will be removed. Unused bucket keys=%s' %\n",
            "/usr/local/lib/python3.10/dist-packages/gluonnlp/data/sampler.py:353: UserWarning: Some buckets are empty and will be removed. Unused bucket keys=[15]\n",
            "  warnings.warn('Some buckets are empty and will be removed. Unused bucket keys=%s' %\n",
            "/usr/local/lib/python3.10/dist-packages/gluonnlp/data/sampler.py:353: UserWarning: Some buckets are empty and will be removed. Unused bucket keys=[15]\n",
            "  warnings.warn('Some buckets are empty and will be removed. Unused bucket keys=%s' %\n",
            "/usr/local/lib/python3.10/dist-packages/gluonnlp/data/sampler.py:353: UserWarning: Some buckets are empty and will be removed. Unused bucket keys=[16]\n",
            "  warnings.warn('Some buckets are empty and will be removed. Unused bucket keys=%s' %\n",
            "/usr/local/lib/python3.10/dist-packages/gluonnlp/data/sampler.py:353: UserWarning: Some buckets are empty and will be removed. Unused bucket keys=[16]\n",
            "  warnings.warn('Some buckets are empty and will be removed. Unused bucket keys=%s' %\n",
            "/usr/local/lib/python3.10/dist-packages/gluonnlp/data/sampler.py:353: UserWarning: Some buckets are empty and will be removed. Unused bucket keys=[17]\n",
            "  warnings.warn('Some buckets are empty and will be removed. Unused bucket keys=%s' %\n"
          ]
        },
        {
          "metadata": {
            "tags": null
          },
          "name": "stdout",
          "output_type": "stream",
          "text": [
            "Finished item 31 of 104\n"
          ]
        },
        {
          "metadata": {
            "tags": null
          },
          "name": "stderr",
          "output_type": "stream",
          "text": [
            "/usr/local/lib/python3.10/dist-packages/gluonnlp/data/sampler.py:353: UserWarning: Some buckets are empty and will be removed. Unused bucket keys=[5]\n",
            "  warnings.warn('Some buckets are empty and will be removed. Unused bucket keys=%s' %\n",
            "/usr/local/lib/python3.10/dist-packages/gluonnlp/data/sampler.py:353: UserWarning: Some buckets are empty and will be removed. Unused bucket keys=[6]\n",
            "  warnings.warn('Some buckets are empty and will be removed. Unused bucket keys=%s' %\n",
            "/usr/local/lib/python3.10/dist-packages/gluonnlp/data/sampler.py:353: UserWarning: Some buckets are empty and will be removed. Unused bucket keys=[7]\n",
            "  warnings.warn('Some buckets are empty and will be removed. Unused bucket keys=%s' %\n",
            "/usr/local/lib/python3.10/dist-packages/gluonnlp/data/sampler.py:353: UserWarning: Some buckets are empty and will be removed. Unused bucket keys=[8]\n",
            "  warnings.warn('Some buckets are empty and will be removed. Unused bucket keys=%s' %\n",
            "/usr/local/lib/python3.10/dist-packages/gluonnlp/data/sampler.py:353: UserWarning: Some buckets are empty and will be removed. Unused bucket keys=[9]\n",
            "  warnings.warn('Some buckets are empty and will be removed. Unused bucket keys=%s' %\n",
            "/usr/local/lib/python3.10/dist-packages/gluonnlp/data/sampler.py:353: UserWarning: Some buckets are empty and will be removed. Unused bucket keys=[10]\n",
            "  warnings.warn('Some buckets are empty and will be removed. Unused bucket keys=%s' %\n",
            "/usr/local/lib/python3.10/dist-packages/gluonnlp/data/sampler.py:353: UserWarning: Some buckets are empty and will be removed. Unused bucket keys=[11]\n",
            "  warnings.warn('Some buckets are empty and will be removed. Unused bucket keys=%s' %\n",
            "/usr/local/lib/python3.10/dist-packages/gluonnlp/data/sampler.py:353: UserWarning: Some buckets are empty and will be removed. Unused bucket keys=[11]\n",
            "  warnings.warn('Some buckets are empty and will be removed. Unused bucket keys=%s' %\n",
            "/usr/local/lib/python3.10/dist-packages/gluonnlp/data/sampler.py:353: UserWarning: Some buckets are empty and will be removed. Unused bucket keys=[12]\n",
            "  warnings.warn('Some buckets are empty and will be removed. Unused bucket keys=%s' %\n",
            "/usr/local/lib/python3.10/dist-packages/gluonnlp/data/sampler.py:353: UserWarning: Some buckets are empty and will be removed. Unused bucket keys=[13]\n",
            "  warnings.warn('Some buckets are empty and will be removed. Unused bucket keys=%s' %\n",
            "/usr/local/lib/python3.10/dist-packages/gluonnlp/data/sampler.py:353: UserWarning: Some buckets are empty and will be removed. Unused bucket keys=[14]\n",
            "  warnings.warn('Some buckets are empty and will be removed. Unused bucket keys=%s' %\n",
            "/usr/local/lib/python3.10/dist-packages/gluonnlp/data/sampler.py:353: UserWarning: Some buckets are empty and will be removed. Unused bucket keys=[14]\n",
            "  warnings.warn('Some buckets are empty and will be removed. Unused bucket keys=%s' %\n",
            "/usr/local/lib/python3.10/dist-packages/gluonnlp/data/sampler.py:353: UserWarning: Some buckets are empty and will be removed. Unused bucket keys=[15]\n",
            "  warnings.warn('Some buckets are empty and will be removed. Unused bucket keys=%s' %\n",
            "/usr/local/lib/python3.10/dist-packages/gluonnlp/data/sampler.py:353: UserWarning: Some buckets are empty and will be removed. Unused bucket keys=[15]\n",
            "  warnings.warn('Some buckets are empty and will be removed. Unused bucket keys=%s' %\n",
            "/usr/local/lib/python3.10/dist-packages/gluonnlp/data/sampler.py:353: UserWarning: Some buckets are empty and will be removed. Unused bucket keys=[16]\n",
            "  warnings.warn('Some buckets are empty and will be removed. Unused bucket keys=%s' %\n",
            "/usr/local/lib/python3.10/dist-packages/gluonnlp/data/sampler.py:353: UserWarning: Some buckets are empty and will be removed. Unused bucket keys=[17]\n",
            "  warnings.warn('Some buckets are empty and will be removed. Unused bucket keys=%s' %\n",
            "/usr/local/lib/python3.10/dist-packages/gluonnlp/data/sampler.py:353: UserWarning: Some buckets are empty and will be removed. Unused bucket keys=[18]\n",
            "  warnings.warn('Some buckets are empty and will be removed. Unused bucket keys=%s' %\n"
          ]
        },
        {
          "metadata": {
            "tags": null
          },
          "name": "stdout",
          "output_type": "stream",
          "text": [
            "Finished item 32 of 104\n"
          ]
        },
        {
          "metadata": {
            "tags": null
          },
          "name": "stderr",
          "output_type": "stream",
          "text": [
            "/usr/local/lib/python3.10/dist-packages/gluonnlp/data/sampler.py:353: UserWarning: Some buckets are empty and will be removed. Unused bucket keys=[6]\n",
            "  warnings.warn('Some buckets are empty and will be removed. Unused bucket keys=%s' %\n",
            "/usr/local/lib/python3.10/dist-packages/gluonnlp/data/sampler.py:353: UserWarning: Some buckets are empty and will be removed. Unused bucket keys=[7]\n",
            "  warnings.warn('Some buckets are empty and will be removed. Unused bucket keys=%s' %\n",
            "/usr/local/lib/python3.10/dist-packages/gluonnlp/data/sampler.py:353: UserWarning: Some buckets are empty and will be removed. Unused bucket keys=[8]\n",
            "  warnings.warn('Some buckets are empty and will be removed. Unused bucket keys=%s' %\n",
            "/usr/local/lib/python3.10/dist-packages/gluonnlp/data/sampler.py:353: UserWarning: Some buckets are empty and will be removed. Unused bucket keys=[9]\n",
            "  warnings.warn('Some buckets are empty and will be removed. Unused bucket keys=%s' %\n",
            "/usr/local/lib/python3.10/dist-packages/gluonnlp/data/sampler.py:353: UserWarning: Some buckets are empty and will be removed. Unused bucket keys=[10]\n",
            "  warnings.warn('Some buckets are empty and will be removed. Unused bucket keys=%s' %\n",
            "/usr/local/lib/python3.10/dist-packages/gluonnlp/data/sampler.py:353: UserWarning: Some buckets are empty and will be removed. Unused bucket keys=[10]\n",
            "  warnings.warn('Some buckets are empty and will be removed. Unused bucket keys=%s' %\n",
            "/usr/local/lib/python3.10/dist-packages/gluonnlp/data/sampler.py:353: UserWarning: Some buckets are empty and will be removed. Unused bucket keys=[11]\n",
            "  warnings.warn('Some buckets are empty and will be removed. Unused bucket keys=%s' %\n",
            "/usr/local/lib/python3.10/dist-packages/gluonnlp/data/sampler.py:353: UserWarning: Some buckets are empty and will be removed. Unused bucket keys=[12]\n",
            "  warnings.warn('Some buckets are empty and will be removed. Unused bucket keys=%s' %\n",
            "/usr/local/lib/python3.10/dist-packages/gluonnlp/data/sampler.py:353: UserWarning: Some buckets are empty and will be removed. Unused bucket keys=[13]\n",
            "  warnings.warn('Some buckets are empty and will be removed. Unused bucket keys=%s' %\n",
            "/usr/local/lib/python3.10/dist-packages/gluonnlp/data/sampler.py:353: UserWarning: Some buckets are empty and will be removed. Unused bucket keys=[13]\n",
            "  warnings.warn('Some buckets are empty and will be removed. Unused bucket keys=%s' %\n",
            "/usr/local/lib/python3.10/dist-packages/gluonnlp/data/sampler.py:353: UserWarning: Some buckets are empty and will be removed. Unused bucket keys=[14]\n",
            "  warnings.warn('Some buckets are empty and will be removed. Unused bucket keys=%s' %\n",
            "/usr/local/lib/python3.10/dist-packages/gluonnlp/data/sampler.py:353: UserWarning: Some buckets are empty and will be removed. Unused bucket keys=[14]\n",
            "  warnings.warn('Some buckets are empty and will be removed. Unused bucket keys=%s' %\n",
            "/usr/local/lib/python3.10/dist-packages/gluonnlp/data/sampler.py:353: UserWarning: Some buckets are empty and will be removed. Unused bucket keys=[15]\n",
            "  warnings.warn('Some buckets are empty and will be removed. Unused bucket keys=%s' %\n",
            "/usr/local/lib/python3.10/dist-packages/gluonnlp/data/sampler.py:353: UserWarning: Some buckets are empty and will be removed. Unused bucket keys=[15]\n",
            "  warnings.warn('Some buckets are empty and will be removed. Unused bucket keys=%s' %\n",
            "/usr/local/lib/python3.10/dist-packages/gluonnlp/data/sampler.py:353: UserWarning: Some buckets are empty and will be removed. Unused bucket keys=[16]\n",
            "  warnings.warn('Some buckets are empty and will be removed. Unused bucket keys=%s' %\n",
            "/usr/local/lib/python3.10/dist-packages/gluonnlp/data/sampler.py:353: UserWarning: Some buckets are empty and will be removed. Unused bucket keys=[16]\n",
            "  warnings.warn('Some buckets are empty and will be removed. Unused bucket keys=%s' %\n",
            "/usr/local/lib/python3.10/dist-packages/gluonnlp/data/sampler.py:353: UserWarning: Some buckets are empty and will be removed. Unused bucket keys=[17]\n",
            "  warnings.warn('Some buckets are empty and will be removed. Unused bucket keys=%s' %\n",
            "/usr/local/lib/python3.10/dist-packages/gluonnlp/data/sampler.py:353: UserWarning: Some buckets are empty and will be removed. Unused bucket keys=[18]\n",
            "  warnings.warn('Some buckets are empty and will be removed. Unused bucket keys=%s' %\n",
            "/usr/local/lib/python3.10/dist-packages/gluonnlp/data/sampler.py:353: UserWarning: Some buckets are empty and will be removed. Unused bucket keys=[19]\n",
            "  warnings.warn('Some buckets are empty and will be removed. Unused bucket keys=%s' %\n"
          ]
        },
        {
          "metadata": {
            "tags": null
          },
          "name": "stdout",
          "output_type": "stream",
          "text": [
            "Finished item 33 of 104\n"
          ]
        },
        {
          "metadata": {
            "tags": null
          },
          "name": "stderr",
          "output_type": "stream",
          "text": [
            "/usr/local/lib/python3.10/dist-packages/gluonnlp/data/sampler.py:353: UserWarning: Some buckets are empty and will be removed. Unused bucket keys=[5]\n",
            "  warnings.warn('Some buckets are empty and will be removed. Unused bucket keys=%s' %\n",
            "/usr/local/lib/python3.10/dist-packages/gluonnlp/data/sampler.py:353: UserWarning: Some buckets are empty and will be removed. Unused bucket keys=[6]\n",
            "  warnings.warn('Some buckets are empty and will be removed. Unused bucket keys=%s' %\n",
            "/usr/local/lib/python3.10/dist-packages/gluonnlp/data/sampler.py:353: UserWarning: Some buckets are empty and will be removed. Unused bucket keys=[7]\n",
            "  warnings.warn('Some buckets are empty and will be removed. Unused bucket keys=%s' %\n",
            "/usr/local/lib/python3.10/dist-packages/gluonnlp/data/sampler.py:353: UserWarning: Some buckets are empty and will be removed. Unused bucket keys=[8]\n",
            "  warnings.warn('Some buckets are empty and will be removed. Unused bucket keys=%s' %\n",
            "/usr/local/lib/python3.10/dist-packages/gluonnlp/data/sampler.py:353: UserWarning: Some buckets are empty and will be removed. Unused bucket keys=[9]\n",
            "  warnings.warn('Some buckets are empty and will be removed. Unused bucket keys=%s' %\n",
            "/usr/local/lib/python3.10/dist-packages/gluonnlp/data/sampler.py:353: UserWarning: Some buckets are empty and will be removed. Unused bucket keys=[10]\n",
            "  warnings.warn('Some buckets are empty and will be removed. Unused bucket keys=%s' %\n",
            "/usr/local/lib/python3.10/dist-packages/gluonnlp/data/sampler.py:353: UserWarning: Some buckets are empty and will be removed. Unused bucket keys=[10]\n",
            "  warnings.warn('Some buckets are empty and will be removed. Unused bucket keys=%s' %\n",
            "/usr/local/lib/python3.10/dist-packages/gluonnlp/data/sampler.py:353: UserWarning: Some buckets are empty and will be removed. Unused bucket keys=[11]\n",
            "  warnings.warn('Some buckets are empty and will be removed. Unused bucket keys=%s' %\n",
            "/usr/local/lib/python3.10/dist-packages/gluonnlp/data/sampler.py:353: UserWarning: Some buckets are empty and will be removed. Unused bucket keys=[11]\n",
            "  warnings.warn('Some buckets are empty and will be removed. Unused bucket keys=%s' %\n",
            "/usr/local/lib/python3.10/dist-packages/gluonnlp/data/sampler.py:353: UserWarning: Some buckets are empty and will be removed. Unused bucket keys=[12]\n",
            "  warnings.warn('Some buckets are empty and will be removed. Unused bucket keys=%s' %\n",
            "/usr/local/lib/python3.10/dist-packages/gluonnlp/data/sampler.py:353: UserWarning: Some buckets are empty and will be removed. Unused bucket keys=[12]\n",
            "  warnings.warn('Some buckets are empty and will be removed. Unused bucket keys=%s' %\n",
            "/usr/local/lib/python3.10/dist-packages/gluonnlp/data/sampler.py:353: UserWarning: Some buckets are empty and will be removed. Unused bucket keys=[13]\n",
            "  warnings.warn('Some buckets are empty and will be removed. Unused bucket keys=%s' %\n",
            "/usr/local/lib/python3.10/dist-packages/gluonnlp/data/sampler.py:353: UserWarning: Some buckets are empty and will be removed. Unused bucket keys=[14]\n",
            "  warnings.warn('Some buckets are empty and will be removed. Unused bucket keys=%s' %\n",
            "/usr/local/lib/python3.10/dist-packages/gluonnlp/data/sampler.py:353: UserWarning: Some buckets are empty and will be removed. Unused bucket keys=[15]\n",
            "  warnings.warn('Some buckets are empty and will be removed. Unused bucket keys=%s' %\n",
            "/usr/local/lib/python3.10/dist-packages/gluonnlp/data/sampler.py:353: UserWarning: Some buckets are empty and will be removed. Unused bucket keys=[15]\n",
            "  warnings.warn('Some buckets are empty and will be removed. Unused bucket keys=%s' %\n",
            "/usr/local/lib/python3.10/dist-packages/gluonnlp/data/sampler.py:353: UserWarning: Some buckets are empty and will be removed. Unused bucket keys=[16]\n",
            "  warnings.warn('Some buckets are empty and will be removed. Unused bucket keys=%s' %\n",
            "/usr/local/lib/python3.10/dist-packages/gluonnlp/data/sampler.py:353: UserWarning: Some buckets are empty and will be removed. Unused bucket keys=[16]\n",
            "  warnings.warn('Some buckets are empty and will be removed. Unused bucket keys=%s' %\n",
            "/usr/local/lib/python3.10/dist-packages/gluonnlp/data/sampler.py:353: UserWarning: Some buckets are empty and will be removed. Unused bucket keys=[17]\n",
            "  warnings.warn('Some buckets are empty and will be removed. Unused bucket keys=%s' %\n"
          ]
        },
        {
          "metadata": {
            "tags": null
          },
          "name": "stdout",
          "output_type": "stream",
          "text": [
            "Finished item 34 of 104\n"
          ]
        },
        {
          "metadata": {
            "tags": null
          },
          "name": "stderr",
          "output_type": "stream",
          "text": [
            "/usr/local/lib/python3.10/dist-packages/gluonnlp/data/sampler.py:353: UserWarning: Some buckets are empty and will be removed. Unused bucket keys=[7]\n",
            "  warnings.warn('Some buckets are empty and will be removed. Unused bucket keys=%s' %\n",
            "/usr/local/lib/python3.10/dist-packages/gluonnlp/data/sampler.py:353: UserWarning: Some buckets are empty and will be removed. Unused bucket keys=[8]\n",
            "  warnings.warn('Some buckets are empty and will be removed. Unused bucket keys=%s' %\n",
            "/usr/local/lib/python3.10/dist-packages/gluonnlp/data/sampler.py:353: UserWarning: Some buckets are empty and will be removed. Unused bucket keys=[10]\n",
            "  warnings.warn('Some buckets are empty and will be removed. Unused bucket keys=%s' %\n",
            "/usr/local/lib/python3.10/dist-packages/gluonnlp/data/sampler.py:353: UserWarning: Some buckets are empty and will be removed. Unused bucket keys=[11]\n",
            "  warnings.warn('Some buckets are empty and will be removed. Unused bucket keys=%s' %\n",
            "/usr/local/lib/python3.10/dist-packages/gluonnlp/data/sampler.py:353: UserWarning: Some buckets are empty and will be removed. Unused bucket keys=[10]\n",
            "  warnings.warn('Some buckets are empty and will be removed. Unused bucket keys=%s' %\n",
            "/usr/local/lib/python3.10/dist-packages/gluonnlp/data/sampler.py:353: UserWarning: Some buckets are empty and will be removed. Unused bucket keys=[12]\n",
            "  warnings.warn('Some buckets are empty and will be removed. Unused bucket keys=%s' %\n",
            "/usr/local/lib/python3.10/dist-packages/gluonnlp/data/sampler.py:353: UserWarning: Some buckets are empty and will be removed. Unused bucket keys=[11]\n",
            "  warnings.warn('Some buckets are empty and will be removed. Unused bucket keys=%s' %\n",
            "/usr/local/lib/python3.10/dist-packages/gluonnlp/data/sampler.py:353: UserWarning: Some buckets are empty and will be removed. Unused bucket keys=[14]\n",
            "  warnings.warn('Some buckets are empty and will be removed. Unused bucket keys=%s' %\n",
            "/usr/local/lib/python3.10/dist-packages/gluonnlp/data/sampler.py:353: UserWarning: Some buckets are empty and will be removed. Unused bucket keys=[13]\n",
            "  warnings.warn('Some buckets are empty and will be removed. Unused bucket keys=%s' %\n",
            "/usr/local/lib/python3.10/dist-packages/gluonnlp/data/sampler.py:353: UserWarning: Some buckets are empty and will be removed. Unused bucket keys=[15]\n",
            "  warnings.warn('Some buckets are empty and will be removed. Unused bucket keys=%s' %\n",
            "/usr/local/lib/python3.10/dist-packages/gluonnlp/data/sampler.py:353: UserWarning: Some buckets are empty and will be removed. Unused bucket keys=[14]\n",
            "  warnings.warn('Some buckets are empty and will be removed. Unused bucket keys=%s' %\n",
            "/usr/local/lib/python3.10/dist-packages/gluonnlp/data/sampler.py:353: UserWarning: Some buckets are empty and will be removed. Unused bucket keys=[17]\n",
            "  warnings.warn('Some buckets are empty and will be removed. Unused bucket keys=%s' %\n",
            "/usr/local/lib/python3.10/dist-packages/gluonnlp/data/sampler.py:353: UserWarning: Some buckets are empty and will be removed. Unused bucket keys=[16]\n",
            "  warnings.warn('Some buckets are empty and will be removed. Unused bucket keys=%s' %\n",
            "/usr/local/lib/python3.10/dist-packages/gluonnlp/data/sampler.py:353: UserWarning: Some buckets are empty and will be removed. Unused bucket keys=[18]\n",
            "  warnings.warn('Some buckets are empty and will be removed. Unused bucket keys=%s' %\n",
            "/usr/local/lib/python3.10/dist-packages/gluonnlp/data/sampler.py:353: UserWarning: Some buckets are empty and will be removed. Unused bucket keys=[17]\n",
            "  warnings.warn('Some buckets are empty and will be removed. Unused bucket keys=%s' %\n",
            "/usr/local/lib/python3.10/dist-packages/gluonnlp/data/sampler.py:353: UserWarning: Some buckets are empty and will be removed. Unused bucket keys=[20]\n",
            "  warnings.warn('Some buckets are empty and will be removed. Unused bucket keys=%s' %\n",
            "/usr/local/lib/python3.10/dist-packages/gluonnlp/data/sampler.py:353: UserWarning: Some buckets are empty and will be removed. Unused bucket keys=[19]\n",
            "  warnings.warn('Some buckets are empty and will be removed. Unused bucket keys=%s' %\n"
          ]
        },
        {
          "metadata": {
            "tags": null
          },
          "name": "stdout",
          "output_type": "stream",
          "text": [
            "Finished item 35 of 104\n"
          ]
        },
        {
          "metadata": {
            "tags": null
          },
          "name": "stderr",
          "output_type": "stream",
          "text": [
            "/usr/local/lib/python3.10/dist-packages/gluonnlp/data/sampler.py:353: UserWarning: Some buckets are empty and will be removed. Unused bucket keys=[7]\n",
            "  warnings.warn('Some buckets are empty and will be removed. Unused bucket keys=%s' %\n",
            "/usr/local/lib/python3.10/dist-packages/gluonnlp/data/sampler.py:353: UserWarning: Some buckets are empty and will be removed. Unused bucket keys=[8]\n",
            "  warnings.warn('Some buckets are empty and will be removed. Unused bucket keys=%s' %\n",
            "/usr/local/lib/python3.10/dist-packages/gluonnlp/data/sampler.py:353: UserWarning: Some buckets are empty and will be removed. Unused bucket keys=[10]\n",
            "  warnings.warn('Some buckets are empty and will be removed. Unused bucket keys=%s' %\n",
            "/usr/local/lib/python3.10/dist-packages/gluonnlp/data/sampler.py:353: UserWarning: Some buckets are empty and will be removed. Unused bucket keys=[11]\n",
            "  warnings.warn('Some buckets are empty and will be removed. Unused bucket keys=%s' %\n",
            "/usr/local/lib/python3.10/dist-packages/gluonnlp/data/sampler.py:353: UserWarning: Some buckets are empty and will be removed. Unused bucket keys=[10]\n",
            "  warnings.warn('Some buckets are empty and will be removed. Unused bucket keys=%s' %\n",
            "/usr/local/lib/python3.10/dist-packages/gluonnlp/data/sampler.py:353: UserWarning: Some buckets are empty and will be removed. Unused bucket keys=[12]\n",
            "  warnings.warn('Some buckets are empty and will be removed. Unused bucket keys=%s' %\n",
            "/usr/local/lib/python3.10/dist-packages/gluonnlp/data/sampler.py:353: UserWarning: Some buckets are empty and will be removed. Unused bucket keys=[11]\n",
            "  warnings.warn('Some buckets are empty and will be removed. Unused bucket keys=%s' %\n",
            "/usr/local/lib/python3.10/dist-packages/gluonnlp/data/sampler.py:353: UserWarning: Some buckets are empty and will be removed. Unused bucket keys=[13]\n",
            "  warnings.warn('Some buckets are empty and will be removed. Unused bucket keys=%s' %\n",
            "/usr/local/lib/python3.10/dist-packages/gluonnlp/data/sampler.py:353: UserWarning: Some buckets are empty and will be removed. Unused bucket keys=[12]\n",
            "  warnings.warn('Some buckets are empty and will be removed. Unused bucket keys=%s' %\n",
            "/usr/local/lib/python3.10/dist-packages/gluonnlp/data/sampler.py:353: UserWarning: Some buckets are empty and will be removed. Unused bucket keys=[16]\n",
            "  warnings.warn('Some buckets are empty and will be removed. Unused bucket keys=%s' %\n",
            "/usr/local/lib/python3.10/dist-packages/gluonnlp/data/sampler.py:353: UserWarning: Some buckets are empty and will be removed. Unused bucket keys=[15]\n",
            "  warnings.warn('Some buckets are empty and will be removed. Unused bucket keys=%s' %\n",
            "/usr/local/lib/python3.10/dist-packages/gluonnlp/data/sampler.py:353: UserWarning: Some buckets are empty and will be removed. Unused bucket keys=[17]\n",
            "  warnings.warn('Some buckets are empty and will be removed. Unused bucket keys=%s' %\n",
            "/usr/local/lib/python3.10/dist-packages/gluonnlp/data/sampler.py:353: UserWarning: Some buckets are empty and will be removed. Unused bucket keys=[16]\n",
            "  warnings.warn('Some buckets are empty and will be removed. Unused bucket keys=%s' %\n",
            "/usr/local/lib/python3.10/dist-packages/gluonnlp/data/sampler.py:353: UserWarning: Some buckets are empty and will be removed. Unused bucket keys=[19]\n",
            "  warnings.warn('Some buckets are empty and will be removed. Unused bucket keys=%s' %\n",
            "/usr/local/lib/python3.10/dist-packages/gluonnlp/data/sampler.py:353: UserWarning: Some buckets are empty and will be removed. Unused bucket keys=[18]\n",
            "  warnings.warn('Some buckets are empty and will be removed. Unused bucket keys=%s' %\n"
          ]
        },
        {
          "metadata": {
            "tags": null
          },
          "name": "stdout",
          "output_type": "stream",
          "text": [
            "Finished item 36 of 104\n"
          ]
        },
        {
          "output_type": "stream",
          "name": "stderr",
          "text": [
            "/usr/local/lib/python3.10/dist-packages/gluonnlp/data/sampler.py:353: UserWarning: Some buckets are empty and will be removed. Unused bucket keys=[5]\n",
            "  warnings.warn('Some buckets are empty and will be removed. Unused bucket keys=%s' %\n",
            "/usr/local/lib/python3.10/dist-packages/gluonnlp/data/sampler.py:353: UserWarning: Some buckets are empty and will be removed. Unused bucket keys=[6]\n",
            "  warnings.warn('Some buckets are empty and will be removed. Unused bucket keys=%s' %\n",
            "/usr/local/lib/python3.10/dist-packages/gluonnlp/data/sampler.py:353: UserWarning: Some buckets are empty and will be removed. Unused bucket keys=[7]\n",
            "  warnings.warn('Some buckets are empty and will be removed. Unused bucket keys=%s' %\n",
            "/usr/local/lib/python3.10/dist-packages/gluonnlp/data/sampler.py:353: UserWarning: Some buckets are empty and will be removed. Unused bucket keys=[9]\n",
            "  warnings.warn('Some buckets are empty and will be removed. Unused bucket keys=%s' %\n",
            "/usr/local/lib/python3.10/dist-packages/gluonnlp/data/sampler.py:353: UserWarning: Some buckets are empty and will be removed. Unused bucket keys=[10]\n",
            "  warnings.warn('Some buckets are empty and will be removed. Unused bucket keys=%s' %\n",
            "/usr/local/lib/python3.10/dist-packages/gluonnlp/data/sampler.py:353: UserWarning: Some buckets are empty and will be removed. Unused bucket keys=[9]\n",
            "  warnings.warn('Some buckets are empty and will be removed. Unused bucket keys=%s' %\n",
            "/usr/local/lib/python3.10/dist-packages/gluonnlp/data/sampler.py:353: UserWarning: Some buckets are empty and will be removed. Unused bucket keys=[11]\n",
            "  warnings.warn('Some buckets are empty and will be removed. Unused bucket keys=%s' %\n",
            "/usr/local/lib/python3.10/dist-packages/gluonnlp/data/sampler.py:353: UserWarning: Some buckets are empty and will be removed. Unused bucket keys=[10]\n",
            "  warnings.warn('Some buckets are empty and will be removed. Unused bucket keys=%s' %\n",
            "/usr/local/lib/python3.10/dist-packages/gluonnlp/data/sampler.py:353: UserWarning: Some buckets are empty and will be removed. Unused bucket keys=[12]\n",
            "  warnings.warn('Some buckets are empty and will be removed. Unused bucket keys=%s' %\n",
            "/usr/local/lib/python3.10/dist-packages/gluonnlp/data/sampler.py:353: UserWarning: Some buckets are empty and will be removed. Unused bucket keys=[11]\n",
            "  warnings.warn('Some buckets are empty and will be removed. Unused bucket keys=%s' %\n",
            "/usr/local/lib/python3.10/dist-packages/gluonnlp/data/sampler.py:353: UserWarning: Some buckets are empty and will be removed. Unused bucket keys=[13]\n",
            "  warnings.warn('Some buckets are empty and will be removed. Unused bucket keys=%s' %\n",
            "/usr/local/lib/python3.10/dist-packages/gluonnlp/data/sampler.py:353: UserWarning: Some buckets are empty and will be removed. Unused bucket keys=[12]\n",
            "  warnings.warn('Some buckets are empty and will be removed. Unused bucket keys=%s' %\n",
            "/usr/local/lib/python3.10/dist-packages/gluonnlp/data/sampler.py:353: UserWarning: Some buckets are empty and will be removed. Unused bucket keys=[14]\n",
            "  warnings.warn('Some buckets are empty and will be removed. Unused bucket keys=%s' %\n",
            "/usr/local/lib/python3.10/dist-packages/gluonnlp/data/sampler.py:353: UserWarning: Some buckets are empty and will be removed. Unused bucket keys=[13]\n",
            "  warnings.warn('Some buckets are empty and will be removed. Unused bucket keys=%s' %\n",
            "/usr/local/lib/python3.10/dist-packages/gluonnlp/data/sampler.py:353: UserWarning: Some buckets are empty and will be removed. Unused bucket keys=[15]\n",
            "  warnings.warn('Some buckets are empty and will be removed. Unused bucket keys=%s' %\n",
            "/usr/local/lib/python3.10/dist-packages/gluonnlp/data/sampler.py:353: UserWarning: Some buckets are empty and will be removed. Unused bucket keys=[14]\n",
            "  warnings.warn('Some buckets are empty and will be removed. Unused bucket keys=%s' %\n",
            "/usr/local/lib/python3.10/dist-packages/gluonnlp/data/sampler.py:353: UserWarning: Some buckets are empty and will be removed. Unused bucket keys=[16]\n",
            "  warnings.warn('Some buckets are empty and will be removed. Unused bucket keys=%s' %\n",
            "/usr/local/lib/python3.10/dist-packages/gluonnlp/data/sampler.py:353: UserWarning: Some buckets are empty and will be removed. Unused bucket keys=[15]\n",
            "  warnings.warn('Some buckets are empty and will be removed. Unused bucket keys=%s' %\n",
            "/usr/local/lib/python3.10/dist-packages/gluonnlp/data/sampler.py:353: UserWarning: Some buckets are empty and will be removed. Unused bucket keys=[17]\n",
            "  warnings.warn('Some buckets are empty and will be removed. Unused bucket keys=%s' %\n",
            "/usr/local/lib/python3.10/dist-packages/gluonnlp/data/sampler.py:353: UserWarning: Some buckets are empty and will be removed. Unused bucket keys=[16]\n",
            "  warnings.warn('Some buckets are empty and will be removed. Unused bucket keys=%s' %\n"
          ]
        },
        {
          "output_type": "stream",
          "name": "stdout",
          "text": [
            "Finished item 37 of 104\n"
          ]
        },
        {
          "output_type": "stream",
          "name": "stderr",
          "text": [
            "/usr/local/lib/python3.10/dist-packages/gluonnlp/data/sampler.py:353: UserWarning: Some buckets are empty and will be removed. Unused bucket keys=[6]\n",
            "  warnings.warn('Some buckets are empty and will be removed. Unused bucket keys=%s' %\n",
            "/usr/local/lib/python3.10/dist-packages/gluonnlp/data/sampler.py:353: UserWarning: Some buckets are empty and will be removed. Unused bucket keys=[7]\n",
            "  warnings.warn('Some buckets are empty and will be removed. Unused bucket keys=%s' %\n",
            "/usr/local/lib/python3.10/dist-packages/gluonnlp/data/sampler.py:353: UserWarning: Some buckets are empty and will be removed. Unused bucket keys=[10]\n",
            "  warnings.warn('Some buckets are empty and will be removed. Unused bucket keys=%s' %\n",
            "/usr/local/lib/python3.10/dist-packages/gluonnlp/data/sampler.py:353: UserWarning: Some buckets are empty and will be removed. Unused bucket keys=[9]\n",
            "  warnings.warn('Some buckets are empty and will be removed. Unused bucket keys=%s' %\n",
            "/usr/local/lib/python3.10/dist-packages/gluonnlp/data/sampler.py:353: UserWarning: Some buckets are empty and will be removed. Unused bucket keys=[11]\n",
            "  warnings.warn('Some buckets are empty and will be removed. Unused bucket keys=%s' %\n",
            "/usr/local/lib/python3.10/dist-packages/gluonnlp/data/sampler.py:353: UserWarning: Some buckets are empty and will be removed. Unused bucket keys=[10]\n",
            "  warnings.warn('Some buckets are empty and will be removed. Unused bucket keys=%s' %\n",
            "/usr/local/lib/python3.10/dist-packages/gluonnlp/data/sampler.py:353: UserWarning: Some buckets are empty and will be removed. Unused bucket keys=[13]\n",
            "  warnings.warn('Some buckets are empty and will be removed. Unused bucket keys=%s' %\n",
            "/usr/local/lib/python3.10/dist-packages/gluonnlp/data/sampler.py:353: UserWarning: Some buckets are empty and will be removed. Unused bucket keys=[12]\n",
            "  warnings.warn('Some buckets are empty and will be removed. Unused bucket keys=%s' %\n",
            "/usr/local/lib/python3.10/dist-packages/gluonnlp/data/sampler.py:353: UserWarning: Some buckets are empty and will be removed. Unused bucket keys=[14]\n",
            "  warnings.warn('Some buckets are empty and will be removed. Unused bucket keys=%s' %\n",
            "/usr/local/lib/python3.10/dist-packages/gluonnlp/data/sampler.py:353: UserWarning: Some buckets are empty and will be removed. Unused bucket keys=[13]\n",
            "  warnings.warn('Some buckets are empty and will be removed. Unused bucket keys=%s' %\n",
            "/usr/local/lib/python3.10/dist-packages/gluonnlp/data/sampler.py:353: UserWarning: Some buckets are empty and will be removed. Unused bucket keys=[15]\n",
            "  warnings.warn('Some buckets are empty and will be removed. Unused bucket keys=%s' %\n",
            "/usr/local/lib/python3.10/dist-packages/gluonnlp/data/sampler.py:353: UserWarning: Some buckets are empty and will be removed. Unused bucket keys=[14]\n",
            "  warnings.warn('Some buckets are empty and will be removed. Unused bucket keys=%s' %\n",
            "/usr/local/lib/python3.10/dist-packages/gluonnlp/data/sampler.py:353: UserWarning: Some buckets are empty and will be removed. Unused bucket keys=[16]\n",
            "  warnings.warn('Some buckets are empty and will be removed. Unused bucket keys=%s' %\n",
            "/usr/local/lib/python3.10/dist-packages/gluonnlp/data/sampler.py:353: UserWarning: Some buckets are empty and will be removed. Unused bucket keys=[15]\n",
            "  warnings.warn('Some buckets are empty and will be removed. Unused bucket keys=%s' %\n",
            "/usr/local/lib/python3.10/dist-packages/gluonnlp/data/sampler.py:353: UserWarning: Some buckets are empty and will be removed. Unused bucket keys=[17]\n",
            "  warnings.warn('Some buckets are empty and will be removed. Unused bucket keys=%s' %\n",
            "/usr/local/lib/python3.10/dist-packages/gluonnlp/data/sampler.py:353: UserWarning: Some buckets are empty and will be removed. Unused bucket keys=[16]\n",
            "  warnings.warn('Some buckets are empty and will be removed. Unused bucket keys=%s' %\n",
            "/usr/local/lib/python3.10/dist-packages/gluonnlp/data/sampler.py:353: UserWarning: Some buckets are empty and will be removed. Unused bucket keys=[19]\n",
            "  warnings.warn('Some buckets are empty and will be removed. Unused bucket keys=%s' %\n",
            "/usr/local/lib/python3.10/dist-packages/gluonnlp/data/sampler.py:353: UserWarning: Some buckets are empty and will be removed. Unused bucket keys=[18]\n",
            "  warnings.warn('Some buckets are empty and will be removed. Unused bucket keys=%s' %\n"
          ]
        },
        {
          "output_type": "stream",
          "name": "stdout",
          "text": [
            "Finished item 38 of 104\n"
          ]
        },
        {
          "output_type": "stream",
          "name": "stderr",
          "text": [
            "/usr/local/lib/python3.10/dist-packages/gluonnlp/data/sampler.py:353: UserWarning: Some buckets are empty and will be removed. Unused bucket keys=[5]\n",
            "  warnings.warn('Some buckets are empty and will be removed. Unused bucket keys=%s' %\n",
            "/usr/local/lib/python3.10/dist-packages/gluonnlp/data/sampler.py:353: UserWarning: Some buckets are empty and will be removed. Unused bucket keys=[9]\n",
            "  warnings.warn('Some buckets are empty and will be removed. Unused bucket keys=%s' %\n",
            "/usr/local/lib/python3.10/dist-packages/gluonnlp/data/sampler.py:353: UserWarning: Some buckets are empty and will be removed. Unused bucket keys=[12]\n",
            "  warnings.warn('Some buckets are empty and will be removed. Unused bucket keys=%s' %\n",
            "/usr/local/lib/python3.10/dist-packages/gluonnlp/data/sampler.py:353: UserWarning: Some buckets are empty and will be removed. Unused bucket keys=[11]\n",
            "  warnings.warn('Some buckets are empty and will be removed. Unused bucket keys=%s' %\n",
            "/usr/local/lib/python3.10/dist-packages/gluonnlp/data/sampler.py:353: UserWarning: Some buckets are empty and will be removed. Unused bucket keys=[13]\n",
            "  warnings.warn('Some buckets are empty and will be removed. Unused bucket keys=%s' %\n",
            "/usr/local/lib/python3.10/dist-packages/gluonnlp/data/sampler.py:353: UserWarning: Some buckets are empty and will be removed. Unused bucket keys=[12]\n",
            "  warnings.warn('Some buckets are empty and will be removed. Unused bucket keys=%s' %\n",
            "/usr/local/lib/python3.10/dist-packages/gluonnlp/data/sampler.py:353: UserWarning: Some buckets are empty and will be removed. Unused bucket keys=[14]\n",
            "  warnings.warn('Some buckets are empty and will be removed. Unused bucket keys=%s' %\n",
            "/usr/local/lib/python3.10/dist-packages/gluonnlp/data/sampler.py:353: UserWarning: Some buckets are empty and will be removed. Unused bucket keys=[13]\n",
            "  warnings.warn('Some buckets are empty and will be removed. Unused bucket keys=%s' %\n",
            "/usr/local/lib/python3.10/dist-packages/gluonnlp/data/sampler.py:353: UserWarning: Some buckets are empty and will be removed. Unused bucket keys=[16]\n",
            "  warnings.warn('Some buckets are empty and will be removed. Unused bucket keys=%s' %\n",
            "/usr/local/lib/python3.10/dist-packages/gluonnlp/data/sampler.py:353: UserWarning: Some buckets are empty and will be removed. Unused bucket keys=[15]\n",
            "  warnings.warn('Some buckets are empty and will be removed. Unused bucket keys=%s' %\n",
            "/usr/local/lib/python3.10/dist-packages/gluonnlp/data/sampler.py:353: UserWarning: Some buckets are empty and will be removed. Unused bucket keys=[17]\n",
            "  warnings.warn('Some buckets are empty and will be removed. Unused bucket keys=%s' %\n",
            "/usr/local/lib/python3.10/dist-packages/gluonnlp/data/sampler.py:353: UserWarning: Some buckets are empty and will be removed. Unused bucket keys=[16]\n",
            "  warnings.warn('Some buckets are empty and will be removed. Unused bucket keys=%s' %\n",
            "/usr/local/lib/python3.10/dist-packages/gluonnlp/data/sampler.py:353: UserWarning: Some buckets are empty and will be removed. Unused bucket keys=[18]\n",
            "  warnings.warn('Some buckets are empty and will be removed. Unused bucket keys=%s' %\n",
            "/usr/local/lib/python3.10/dist-packages/gluonnlp/data/sampler.py:353: UserWarning: Some buckets are empty and will be removed. Unused bucket keys=[17]\n",
            "  warnings.warn('Some buckets are empty and will be removed. Unused bucket keys=%s' %\n",
            "/usr/local/lib/python3.10/dist-packages/gluonnlp/data/sampler.py:353: UserWarning: Some buckets are empty and will be removed. Unused bucket keys=[20]\n",
            "  warnings.warn('Some buckets are empty and will be removed. Unused bucket keys=%s' %\n",
            "/usr/local/lib/python3.10/dist-packages/gluonnlp/data/sampler.py:353: UserWarning: Some buckets are empty and will be removed. Unused bucket keys=[19]\n",
            "  warnings.warn('Some buckets are empty and will be removed. Unused bucket keys=%s' %\n"
          ]
        },
        {
          "output_type": "stream",
          "name": "stdout",
          "text": [
            "Finished item 39 of 104\n"
          ]
        },
        {
          "output_type": "stream",
          "name": "stderr",
          "text": [
            "/usr/local/lib/python3.10/dist-packages/gluonnlp/data/sampler.py:353: UserWarning: Some buckets are empty and will be removed. Unused bucket keys=[6]\n",
            "  warnings.warn('Some buckets are empty and will be removed. Unused bucket keys=%s' %\n",
            "/usr/local/lib/python3.10/dist-packages/gluonnlp/data/sampler.py:353: UserWarning: Some buckets are empty and will be removed. Unused bucket keys=[7]\n",
            "  warnings.warn('Some buckets are empty and will be removed. Unused bucket keys=%s' %\n",
            "/usr/local/lib/python3.10/dist-packages/gluonnlp/data/sampler.py:353: UserWarning: Some buckets are empty and will be removed. Unused bucket keys=[10]\n",
            "  warnings.warn('Some buckets are empty and will be removed. Unused bucket keys=%s' %\n",
            "/usr/local/lib/python3.10/dist-packages/gluonnlp/data/sampler.py:353: UserWarning: Some buckets are empty and will be removed. Unused bucket keys=[9]\n",
            "  warnings.warn('Some buckets are empty and will be removed. Unused bucket keys=%s' %\n",
            "/usr/local/lib/python3.10/dist-packages/gluonnlp/data/sampler.py:353: UserWarning: Some buckets are empty and will be removed. Unused bucket keys=[11]\n",
            "  warnings.warn('Some buckets are empty and will be removed. Unused bucket keys=%s' %\n",
            "/usr/local/lib/python3.10/dist-packages/gluonnlp/data/sampler.py:353: UserWarning: Some buckets are empty and will be removed. Unused bucket keys=[10]\n",
            "  warnings.warn('Some buckets are empty and will be removed. Unused bucket keys=%s' %\n",
            "/usr/local/lib/python3.10/dist-packages/gluonnlp/data/sampler.py:353: UserWarning: Some buckets are empty and will be removed. Unused bucket keys=[12]\n",
            "  warnings.warn('Some buckets are empty and will be removed. Unused bucket keys=%s' %\n",
            "/usr/local/lib/python3.10/dist-packages/gluonnlp/data/sampler.py:353: UserWarning: Some buckets are empty and will be removed. Unused bucket keys=[11]\n",
            "  warnings.warn('Some buckets are empty and will be removed. Unused bucket keys=%s' %\n",
            "/usr/local/lib/python3.10/dist-packages/gluonnlp/data/sampler.py:353: UserWarning: Some buckets are empty and will be removed. Unused bucket keys=[13]\n",
            "  warnings.warn('Some buckets are empty and will be removed. Unused bucket keys=%s' %\n",
            "/usr/local/lib/python3.10/dist-packages/gluonnlp/data/sampler.py:353: UserWarning: Some buckets are empty and will be removed. Unused bucket keys=[12]\n",
            "  warnings.warn('Some buckets are empty and will be removed. Unused bucket keys=%s' %\n",
            "/usr/local/lib/python3.10/dist-packages/gluonnlp/data/sampler.py:353: UserWarning: Some buckets are empty and will be removed. Unused bucket keys=[14]\n",
            "  warnings.warn('Some buckets are empty and will be removed. Unused bucket keys=%s' %\n",
            "/usr/local/lib/python3.10/dist-packages/gluonnlp/data/sampler.py:353: UserWarning: Some buckets are empty and will be removed. Unused bucket keys=[13]\n",
            "  warnings.warn('Some buckets are empty and will be removed. Unused bucket keys=%s' %\n",
            "/usr/local/lib/python3.10/dist-packages/gluonnlp/data/sampler.py:353: UserWarning: Some buckets are empty and will be removed. Unused bucket keys=[16]\n",
            "  warnings.warn('Some buckets are empty and will be removed. Unused bucket keys=%s' %\n",
            "/usr/local/lib/python3.10/dist-packages/gluonnlp/data/sampler.py:353: UserWarning: Some buckets are empty and will be removed. Unused bucket keys=[15]\n",
            "  warnings.warn('Some buckets are empty and will be removed. Unused bucket keys=%s' %\n",
            "/usr/local/lib/python3.10/dist-packages/gluonnlp/data/sampler.py:353: UserWarning: Some buckets are empty and will be removed. Unused bucket keys=[17]\n",
            "  warnings.warn('Some buckets are empty and will be removed. Unused bucket keys=%s' %\n",
            "/usr/local/lib/python3.10/dist-packages/gluonnlp/data/sampler.py:353: UserWarning: Some buckets are empty and will be removed. Unused bucket keys=[16]\n",
            "  warnings.warn('Some buckets are empty and will be removed. Unused bucket keys=%s' %\n",
            "/usr/local/lib/python3.10/dist-packages/gluonnlp/data/sampler.py:353: UserWarning: Some buckets are empty and will be removed. Unused bucket keys=[19]\n",
            "  warnings.warn('Some buckets are empty and will be removed. Unused bucket keys=%s' %\n",
            "/usr/local/lib/python3.10/dist-packages/gluonnlp/data/sampler.py:353: UserWarning: Some buckets are empty and will be removed. Unused bucket keys=[18]\n",
            "  warnings.warn('Some buckets are empty and will be removed. Unused bucket keys=%s' %\n"
          ]
        },
        {
          "output_type": "stream",
          "name": "stdout",
          "text": [
            "Finished item 40 of 104\n"
          ]
        },
        {
          "output_type": "stream",
          "name": "stderr",
          "text": [
            "/usr/local/lib/python3.10/dist-packages/gluonnlp/data/sampler.py:353: UserWarning: Some buckets are empty and will be removed. Unused bucket keys=[5]\n",
            "  warnings.warn('Some buckets are empty and will be removed. Unused bucket keys=%s' %\n",
            "/usr/local/lib/python3.10/dist-packages/gluonnlp/data/sampler.py:353: UserWarning: Some buckets are empty and will be removed. Unused bucket keys=[6]\n",
            "  warnings.warn('Some buckets are empty and will be removed. Unused bucket keys=%s' %\n",
            "/usr/local/lib/python3.10/dist-packages/gluonnlp/data/sampler.py:353: UserWarning: Some buckets are empty and will be removed. Unused bucket keys=[7]\n",
            "  warnings.warn('Some buckets are empty and will be removed. Unused bucket keys=%s' %\n",
            "/usr/local/lib/python3.10/dist-packages/gluonnlp/data/sampler.py:353: UserWarning: Some buckets are empty and will be removed. Unused bucket keys=[8]\n",
            "  warnings.warn('Some buckets are empty and will be removed. Unused bucket keys=%s' %\n",
            "/usr/local/lib/python3.10/dist-packages/gluonnlp/data/sampler.py:353: UserWarning: Some buckets are empty and will be removed. Unused bucket keys=[9]\n",
            "  warnings.warn('Some buckets are empty and will be removed. Unused bucket keys=%s' %\n",
            "/usr/local/lib/python3.10/dist-packages/gluonnlp/data/sampler.py:353: UserWarning: Some buckets are empty and will be removed. Unused bucket keys=[13]\n",
            "  warnings.warn('Some buckets are empty and will be removed. Unused bucket keys=%s' %\n",
            "/usr/local/lib/python3.10/dist-packages/gluonnlp/data/sampler.py:353: UserWarning: Some buckets are empty and will be removed. Unused bucket keys=[12]\n",
            "  warnings.warn('Some buckets are empty and will be removed. Unused bucket keys=%s' %\n",
            "/usr/local/lib/python3.10/dist-packages/gluonnlp/data/sampler.py:353: UserWarning: Some buckets are empty and will be removed. Unused bucket keys=[14]\n",
            "  warnings.warn('Some buckets are empty and will be removed. Unused bucket keys=%s' %\n",
            "/usr/local/lib/python3.10/dist-packages/gluonnlp/data/sampler.py:353: UserWarning: Some buckets are empty and will be removed. Unused bucket keys=[13]\n",
            "  warnings.warn('Some buckets are empty and will be removed. Unused bucket keys=%s' %\n",
            "/usr/local/lib/python3.10/dist-packages/gluonnlp/data/sampler.py:353: UserWarning: Some buckets are empty and will be removed. Unused bucket keys=[15]\n",
            "  warnings.warn('Some buckets are empty and will be removed. Unused bucket keys=%s' %\n",
            "/usr/local/lib/python3.10/dist-packages/gluonnlp/data/sampler.py:353: UserWarning: Some buckets are empty and will be removed. Unused bucket keys=[14]\n",
            "  warnings.warn('Some buckets are empty and will be removed. Unused bucket keys=%s' %\n",
            "/usr/local/lib/python3.10/dist-packages/gluonnlp/data/sampler.py:353: UserWarning: Some buckets are empty and will be removed. Unused bucket keys=[16]\n",
            "  warnings.warn('Some buckets are empty and will be removed. Unused bucket keys=%s' %\n",
            "/usr/local/lib/python3.10/dist-packages/gluonnlp/data/sampler.py:353: UserWarning: Some buckets are empty and will be removed. Unused bucket keys=[15]\n",
            "  warnings.warn('Some buckets are empty and will be removed. Unused bucket keys=%s' %\n",
            "/usr/local/lib/python3.10/dist-packages/gluonnlp/data/sampler.py:353: UserWarning: Some buckets are empty and will be removed. Unused bucket keys=[17]\n",
            "  warnings.warn('Some buckets are empty and will be removed. Unused bucket keys=%s' %\n",
            "/usr/local/lib/python3.10/dist-packages/gluonnlp/data/sampler.py:353: UserWarning: Some buckets are empty and will be removed. Unused bucket keys=[16]\n",
            "  warnings.warn('Some buckets are empty and will be removed. Unused bucket keys=%s' %\n",
            "/usr/local/lib/python3.10/dist-packages/gluonnlp/data/sampler.py:353: UserWarning: Some buckets are empty and will be removed. Unused bucket keys=[18]\n",
            "  warnings.warn('Some buckets are empty and will be removed. Unused bucket keys=%s' %\n",
            "/usr/local/lib/python3.10/dist-packages/gluonnlp/data/sampler.py:353: UserWarning: Some buckets are empty and will be removed. Unused bucket keys=[17]\n",
            "  warnings.warn('Some buckets are empty and will be removed. Unused bucket keys=%s' %\n",
            "/usr/local/lib/python3.10/dist-packages/gluonnlp/data/sampler.py:353: UserWarning: Some buckets are empty and will be removed. Unused bucket keys=[19]\n",
            "  warnings.warn('Some buckets are empty and will be removed. Unused bucket keys=%s' %\n",
            "/usr/local/lib/python3.10/dist-packages/gluonnlp/data/sampler.py:353: UserWarning: Some buckets are empty and will be removed. Unused bucket keys=[18]\n",
            "  warnings.warn('Some buckets are empty and will be removed. Unused bucket keys=%s' %\n",
            "/usr/local/lib/python3.10/dist-packages/gluonnlp/data/sampler.py:353: UserWarning: Some buckets are empty and will be removed. Unused bucket keys=[20]\n",
            "  warnings.warn('Some buckets are empty and will be removed. Unused bucket keys=%s' %\n",
            "/usr/local/lib/python3.10/dist-packages/gluonnlp/data/sampler.py:353: UserWarning: Some buckets are empty and will be removed. Unused bucket keys=[19]\n",
            "  warnings.warn('Some buckets are empty and will be removed. Unused bucket keys=%s' %\n"
          ]
        },
        {
          "output_type": "stream",
          "name": "stdout",
          "text": [
            "Finished item 41 of 104\n"
          ]
        },
        {
          "output_type": "stream",
          "name": "stderr",
          "text": [
            "/usr/local/lib/python3.10/dist-packages/gluonnlp/data/sampler.py:353: UserWarning: Some buckets are empty and will be removed. Unused bucket keys=[5]\n",
            "  warnings.warn('Some buckets are empty and will be removed. Unused bucket keys=%s' %\n",
            "/usr/local/lib/python3.10/dist-packages/gluonnlp/data/sampler.py:353: UserWarning: Some buckets are empty and will be removed. Unused bucket keys=[6]\n",
            "  warnings.warn('Some buckets are empty and will be removed. Unused bucket keys=%s' %\n",
            "/usr/local/lib/python3.10/dist-packages/gluonnlp/data/sampler.py:353: UserWarning: Some buckets are empty and will be removed. Unused bucket keys=[7]\n",
            "  warnings.warn('Some buckets are empty and will be removed. Unused bucket keys=%s' %\n",
            "/usr/local/lib/python3.10/dist-packages/gluonnlp/data/sampler.py:353: UserWarning: Some buckets are empty and will be removed. Unused bucket keys=[8]\n",
            "  warnings.warn('Some buckets are empty and will be removed. Unused bucket keys=%s' %\n",
            "/usr/local/lib/python3.10/dist-packages/gluonnlp/data/sampler.py:353: UserWarning: Some buckets are empty and will be removed. Unused bucket keys=[9]\n",
            "  warnings.warn('Some buckets are empty and will be removed. Unused bucket keys=%s' %\n",
            "/usr/local/lib/python3.10/dist-packages/gluonnlp/data/sampler.py:353: UserWarning: Some buckets are empty and will be removed. Unused bucket keys=[12]\n",
            "  warnings.warn('Some buckets are empty and will be removed. Unused bucket keys=%s' %\n",
            "/usr/local/lib/python3.10/dist-packages/gluonnlp/data/sampler.py:353: UserWarning: Some buckets are empty and will be removed. Unused bucket keys=[11]\n",
            "  warnings.warn('Some buckets are empty and will be removed. Unused bucket keys=%s' %\n",
            "/usr/local/lib/python3.10/dist-packages/gluonnlp/data/sampler.py:353: UserWarning: Some buckets are empty and will be removed. Unused bucket keys=[13]\n",
            "  warnings.warn('Some buckets are empty and will be removed. Unused bucket keys=%s' %\n",
            "/usr/local/lib/python3.10/dist-packages/gluonnlp/data/sampler.py:353: UserWarning: Some buckets are empty and will be removed. Unused bucket keys=[12]\n",
            "  warnings.warn('Some buckets are empty and will be removed. Unused bucket keys=%s' %\n",
            "/usr/local/lib/python3.10/dist-packages/gluonnlp/data/sampler.py:353: UserWarning: Some buckets are empty and will be removed. Unused bucket keys=[15]\n",
            "  warnings.warn('Some buckets are empty and will be removed. Unused bucket keys=%s' %\n",
            "/usr/local/lib/python3.10/dist-packages/gluonnlp/data/sampler.py:353: UserWarning: Some buckets are empty and will be removed. Unused bucket keys=[14]\n",
            "  warnings.warn('Some buckets are empty and will be removed. Unused bucket keys=%s' %\n",
            "/usr/local/lib/python3.10/dist-packages/gluonnlp/data/sampler.py:353: UserWarning: Some buckets are empty and will be removed. Unused bucket keys=[16]\n",
            "  warnings.warn('Some buckets are empty and will be removed. Unused bucket keys=%s' %\n",
            "/usr/local/lib/python3.10/dist-packages/gluonnlp/data/sampler.py:353: UserWarning: Some buckets are empty and will be removed. Unused bucket keys=[15]\n",
            "  warnings.warn('Some buckets are empty and will be removed. Unused bucket keys=%s' %\n",
            "/usr/local/lib/python3.10/dist-packages/gluonnlp/data/sampler.py:353: UserWarning: Some buckets are empty and will be removed. Unused bucket keys=[17]\n",
            "  warnings.warn('Some buckets are empty and will be removed. Unused bucket keys=%s' %\n",
            "/usr/local/lib/python3.10/dist-packages/gluonnlp/data/sampler.py:353: UserWarning: Some buckets are empty and will be removed. Unused bucket keys=[16]\n",
            "  warnings.warn('Some buckets are empty and will be removed. Unused bucket keys=%s' %\n",
            "/usr/local/lib/python3.10/dist-packages/gluonnlp/data/sampler.py:353: UserWarning: Some buckets are empty and will be removed. Unused bucket keys=[18]\n",
            "  warnings.warn('Some buckets are empty and will be removed. Unused bucket keys=%s' %\n",
            "/usr/local/lib/python3.10/dist-packages/gluonnlp/data/sampler.py:353: UserWarning: Some buckets are empty and will be removed. Unused bucket keys=[17]\n",
            "  warnings.warn('Some buckets are empty and will be removed. Unused bucket keys=%s' %\n",
            "/usr/local/lib/python3.10/dist-packages/gluonnlp/data/sampler.py:353: UserWarning: Some buckets are empty and will be removed. Unused bucket keys=[20]\n",
            "  warnings.warn('Some buckets are empty and will be removed. Unused bucket keys=%s' %\n",
            "/usr/local/lib/python3.10/dist-packages/gluonnlp/data/sampler.py:353: UserWarning: Some buckets are empty and will be removed. Unused bucket keys=[19]\n",
            "  warnings.warn('Some buckets are empty and will be removed. Unused bucket keys=%s' %\n",
            "/usr/local/lib/python3.10/dist-packages/gluonnlp/data/sampler.py:353: UserWarning: Some buckets are empty and will be removed. Unused bucket keys=[22]\n",
            "  warnings.warn('Some buckets are empty and will be removed. Unused bucket keys=%s' %\n",
            "/usr/local/lib/python3.10/dist-packages/gluonnlp/data/sampler.py:353: UserWarning: Some buckets are empty and will be removed. Unused bucket keys=[21]\n",
            "  warnings.warn('Some buckets are empty and will be removed. Unused bucket keys=%s' %\n"
          ]
        },
        {
          "output_type": "stream",
          "name": "stdout",
          "text": [
            "Finished item 42 of 104\n"
          ]
        },
        {
          "output_type": "stream",
          "name": "stderr",
          "text": [
            "/usr/local/lib/python3.10/dist-packages/gluonnlp/data/sampler.py:353: UserWarning: Some buckets are empty and will be removed. Unused bucket keys=[6]\n",
            "  warnings.warn('Some buckets are empty and will be removed. Unused bucket keys=%s' %\n",
            "/usr/local/lib/python3.10/dist-packages/gluonnlp/data/sampler.py:353: UserWarning: Some buckets are empty and will be removed. Unused bucket keys=[7]\n",
            "  warnings.warn('Some buckets are empty and will be removed. Unused bucket keys=%s' %\n",
            "/usr/local/lib/python3.10/dist-packages/gluonnlp/data/sampler.py:353: UserWarning: Some buckets are empty and will be removed. Unused bucket keys=[10]\n",
            "  warnings.warn('Some buckets are empty and will be removed. Unused bucket keys=%s' %\n",
            "/usr/local/lib/python3.10/dist-packages/gluonnlp/data/sampler.py:353: UserWarning: Some buckets are empty and will be removed. Unused bucket keys=[9]\n",
            "  warnings.warn('Some buckets are empty and will be removed. Unused bucket keys=%s' %\n",
            "/usr/local/lib/python3.10/dist-packages/gluonnlp/data/sampler.py:353: UserWarning: Some buckets are empty and will be removed. Unused bucket keys=[11]\n",
            "  warnings.warn('Some buckets are empty and will be removed. Unused bucket keys=%s' %\n",
            "/usr/local/lib/python3.10/dist-packages/gluonnlp/data/sampler.py:353: UserWarning: Some buckets are empty and will be removed. Unused bucket keys=[10]\n",
            "  warnings.warn('Some buckets are empty and will be removed. Unused bucket keys=%s' %\n",
            "/usr/local/lib/python3.10/dist-packages/gluonnlp/data/sampler.py:353: UserWarning: Some buckets are empty and will be removed. Unused bucket keys=[12]\n",
            "  warnings.warn('Some buckets are empty and will be removed. Unused bucket keys=%s' %\n",
            "/usr/local/lib/python3.10/dist-packages/gluonnlp/data/sampler.py:353: UserWarning: Some buckets are empty and will be removed. Unused bucket keys=[11]\n",
            "  warnings.warn('Some buckets are empty and will be removed. Unused bucket keys=%s' %\n",
            "/usr/local/lib/python3.10/dist-packages/gluonnlp/data/sampler.py:353: UserWarning: Some buckets are empty and will be removed. Unused bucket keys=[13]\n",
            "  warnings.warn('Some buckets are empty and will be removed. Unused bucket keys=%s' %\n",
            "/usr/local/lib/python3.10/dist-packages/gluonnlp/data/sampler.py:353: UserWarning: Some buckets are empty and will be removed. Unused bucket keys=[12]\n",
            "  warnings.warn('Some buckets are empty and will be removed. Unused bucket keys=%s' %\n",
            "/usr/local/lib/python3.10/dist-packages/gluonnlp/data/sampler.py:353: UserWarning: Some buckets are empty and will be removed. Unused bucket keys=[14]\n",
            "  warnings.warn('Some buckets are empty and will be removed. Unused bucket keys=%s' %\n",
            "/usr/local/lib/python3.10/dist-packages/gluonnlp/data/sampler.py:353: UserWarning: Some buckets are empty and will be removed. Unused bucket keys=[13]\n",
            "  warnings.warn('Some buckets are empty and will be removed. Unused bucket keys=%s' %\n",
            "/usr/local/lib/python3.10/dist-packages/gluonnlp/data/sampler.py:353: UserWarning: Some buckets are empty and will be removed. Unused bucket keys=[15]\n",
            "  warnings.warn('Some buckets are empty and will be removed. Unused bucket keys=%s' %\n",
            "/usr/local/lib/python3.10/dist-packages/gluonnlp/data/sampler.py:353: UserWarning: Some buckets are empty and will be removed. Unused bucket keys=[14]\n",
            "  warnings.warn('Some buckets are empty and will be removed. Unused bucket keys=%s' %\n",
            "/usr/local/lib/python3.10/dist-packages/gluonnlp/data/sampler.py:353: UserWarning: Some buckets are empty and will be removed. Unused bucket keys=[16]\n",
            "  warnings.warn('Some buckets are empty and will be removed. Unused bucket keys=%s' %\n",
            "/usr/local/lib/python3.10/dist-packages/gluonnlp/data/sampler.py:353: UserWarning: Some buckets are empty and will be removed. Unused bucket keys=[15]\n",
            "  warnings.warn('Some buckets are empty and will be removed. Unused bucket keys=%s' %\n",
            "/usr/local/lib/python3.10/dist-packages/gluonnlp/data/sampler.py:353: UserWarning: Some buckets are empty and will be removed. Unused bucket keys=[18]\n",
            "  warnings.warn('Some buckets are empty and will be removed. Unused bucket keys=%s' %\n",
            "/usr/local/lib/python3.10/dist-packages/gluonnlp/data/sampler.py:353: UserWarning: Some buckets are empty and will be removed. Unused bucket keys=[17]\n",
            "  warnings.warn('Some buckets are empty and will be removed. Unused bucket keys=%s' %\n"
          ]
        },
        {
          "output_type": "stream",
          "name": "stdout",
          "text": [
            "Finished item 43 of 104\n"
          ]
        },
        {
          "output_type": "stream",
          "name": "stderr",
          "text": [
            "/usr/local/lib/python3.10/dist-packages/gluonnlp/data/sampler.py:353: UserWarning: Some buckets are empty and will be removed. Unused bucket keys=[7]\n",
            "  warnings.warn('Some buckets are empty and will be removed. Unused bucket keys=%s' %\n",
            "/usr/local/lib/python3.10/dist-packages/gluonnlp/data/sampler.py:353: UserWarning: Some buckets are empty and will be removed. Unused bucket keys=[10]\n",
            "  warnings.warn('Some buckets are empty and will be removed. Unused bucket keys=%s' %\n",
            "/usr/local/lib/python3.10/dist-packages/gluonnlp/data/sampler.py:353: UserWarning: Some buckets are empty and will be removed. Unused bucket keys=[9]\n",
            "  warnings.warn('Some buckets are empty and will be removed. Unused bucket keys=%s' %\n",
            "/usr/local/lib/python3.10/dist-packages/gluonnlp/data/sampler.py:353: UserWarning: Some buckets are empty and will be removed. Unused bucket keys=[11]\n",
            "  warnings.warn('Some buckets are empty and will be removed. Unused bucket keys=%s' %\n",
            "/usr/local/lib/python3.10/dist-packages/gluonnlp/data/sampler.py:353: UserWarning: Some buckets are empty and will be removed. Unused bucket keys=[10]\n",
            "  warnings.warn('Some buckets are empty and will be removed. Unused bucket keys=%s' %\n",
            "/usr/local/lib/python3.10/dist-packages/gluonnlp/data/sampler.py:353: UserWarning: Some buckets are empty and will be removed. Unused bucket keys=[12]\n",
            "  warnings.warn('Some buckets are empty and will be removed. Unused bucket keys=%s' %\n",
            "/usr/local/lib/python3.10/dist-packages/gluonnlp/data/sampler.py:353: UserWarning: Some buckets are empty and will be removed. Unused bucket keys=[11]\n",
            "  warnings.warn('Some buckets are empty and will be removed. Unused bucket keys=%s' %\n",
            "/usr/local/lib/python3.10/dist-packages/gluonnlp/data/sampler.py:353: UserWarning: Some buckets are empty and will be removed. Unused bucket keys=[13]\n",
            "  warnings.warn('Some buckets are empty and will be removed. Unused bucket keys=%s' %\n",
            "/usr/local/lib/python3.10/dist-packages/gluonnlp/data/sampler.py:353: UserWarning: Some buckets are empty and will be removed. Unused bucket keys=[12]\n",
            "  warnings.warn('Some buckets are empty and will be removed. Unused bucket keys=%s' %\n",
            "/usr/local/lib/python3.10/dist-packages/gluonnlp/data/sampler.py:353: UserWarning: Some buckets are empty and will be removed. Unused bucket keys=[14]\n",
            "  warnings.warn('Some buckets are empty and will be removed. Unused bucket keys=%s' %\n",
            "/usr/local/lib/python3.10/dist-packages/gluonnlp/data/sampler.py:353: UserWarning: Some buckets are empty and will be removed. Unused bucket keys=[13]\n",
            "  warnings.warn('Some buckets are empty and will be removed. Unused bucket keys=%s' %\n",
            "/usr/local/lib/python3.10/dist-packages/gluonnlp/data/sampler.py:353: UserWarning: Some buckets are empty and will be removed. Unused bucket keys=[15]\n",
            "  warnings.warn('Some buckets are empty and will be removed. Unused bucket keys=%s' %\n",
            "/usr/local/lib/python3.10/dist-packages/gluonnlp/data/sampler.py:353: UserWarning: Some buckets are empty and will be removed. Unused bucket keys=[14]\n",
            "  warnings.warn('Some buckets are empty and will be removed. Unused bucket keys=%s' %\n",
            "/usr/local/lib/python3.10/dist-packages/gluonnlp/data/sampler.py:353: UserWarning: Some buckets are empty and will be removed. Unused bucket keys=[17]\n",
            "  warnings.warn('Some buckets are empty and will be removed. Unused bucket keys=%s' %\n",
            "/usr/local/lib/python3.10/dist-packages/gluonnlp/data/sampler.py:353: UserWarning: Some buckets are empty and will be removed. Unused bucket keys=[16]\n",
            "  warnings.warn('Some buckets are empty and will be removed. Unused bucket keys=%s' %\n"
          ]
        },
        {
          "output_type": "stream",
          "name": "stdout",
          "text": [
            "Finished item 44 of 104\n"
          ]
        },
        {
          "output_type": "stream",
          "name": "stderr",
          "text": [
            "/usr/local/lib/python3.10/dist-packages/gluonnlp/data/sampler.py:353: UserWarning: Some buckets are empty and will be removed. Unused bucket keys=[5]\n",
            "  warnings.warn('Some buckets are empty and will be removed. Unused bucket keys=%s' %\n",
            "/usr/local/lib/python3.10/dist-packages/gluonnlp/data/sampler.py:353: UserWarning: Some buckets are empty and will be removed. Unused bucket keys=[6]\n",
            "  warnings.warn('Some buckets are empty and will be removed. Unused bucket keys=%s' %\n",
            "/usr/local/lib/python3.10/dist-packages/gluonnlp/data/sampler.py:353: UserWarning: Some buckets are empty and will be removed. Unused bucket keys=[7]\n",
            "  warnings.warn('Some buckets are empty and will be removed. Unused bucket keys=%s' %\n",
            "/usr/local/lib/python3.10/dist-packages/gluonnlp/data/sampler.py:353: UserWarning: Some buckets are empty and will be removed. Unused bucket keys=[9]\n",
            "  warnings.warn('Some buckets are empty and will be removed. Unused bucket keys=%s' %\n",
            "/usr/local/lib/python3.10/dist-packages/gluonnlp/data/sampler.py:353: UserWarning: Some buckets are empty and will be removed. Unused bucket keys=[10]\n",
            "  warnings.warn('Some buckets are empty and will be removed. Unused bucket keys=%s' %\n",
            "/usr/local/lib/python3.10/dist-packages/gluonnlp/data/sampler.py:353: UserWarning: Some buckets are empty and will be removed. Unused bucket keys=[9]\n",
            "  warnings.warn('Some buckets are empty and will be removed. Unused bucket keys=%s' %\n",
            "/usr/local/lib/python3.10/dist-packages/gluonnlp/data/sampler.py:353: UserWarning: Some buckets are empty and will be removed. Unused bucket keys=[11]\n",
            "  warnings.warn('Some buckets are empty and will be removed. Unused bucket keys=%s' %\n",
            "/usr/local/lib/python3.10/dist-packages/gluonnlp/data/sampler.py:353: UserWarning: Some buckets are empty and will be removed. Unused bucket keys=[10]\n",
            "  warnings.warn('Some buckets are empty and will be removed. Unused bucket keys=%s' %\n",
            "/usr/local/lib/python3.10/dist-packages/gluonnlp/data/sampler.py:353: UserWarning: Some buckets are empty and will be removed. Unused bucket keys=[12]\n",
            "  warnings.warn('Some buckets are empty and will be removed. Unused bucket keys=%s' %\n",
            "/usr/local/lib/python3.10/dist-packages/gluonnlp/data/sampler.py:353: UserWarning: Some buckets are empty and will be removed. Unused bucket keys=[11]\n",
            "  warnings.warn('Some buckets are empty and will be removed. Unused bucket keys=%s' %\n",
            "/usr/local/lib/python3.10/dist-packages/gluonnlp/data/sampler.py:353: UserWarning: Some buckets are empty and will be removed. Unused bucket keys=[13]\n",
            "  warnings.warn('Some buckets are empty and will be removed. Unused bucket keys=%s' %\n",
            "/usr/local/lib/python3.10/dist-packages/gluonnlp/data/sampler.py:353: UserWarning: Some buckets are empty and will be removed. Unused bucket keys=[12]\n",
            "  warnings.warn('Some buckets are empty and will be removed. Unused bucket keys=%s' %\n",
            "/usr/local/lib/python3.10/dist-packages/gluonnlp/data/sampler.py:353: UserWarning: Some buckets are empty and will be removed. Unused bucket keys=[14]\n",
            "  warnings.warn('Some buckets are empty and will be removed. Unused bucket keys=%s' %\n",
            "/usr/local/lib/python3.10/dist-packages/gluonnlp/data/sampler.py:353: UserWarning: Some buckets are empty and will be removed. Unused bucket keys=[13]\n",
            "  warnings.warn('Some buckets are empty and will be removed. Unused bucket keys=%s' %\n",
            "/usr/local/lib/python3.10/dist-packages/gluonnlp/data/sampler.py:353: UserWarning: Some buckets are empty and will be removed. Unused bucket keys=[15]\n",
            "  warnings.warn('Some buckets are empty and will be removed. Unused bucket keys=%s' %\n",
            "/usr/local/lib/python3.10/dist-packages/gluonnlp/data/sampler.py:353: UserWarning: Some buckets are empty and will be removed. Unused bucket keys=[14]\n",
            "  warnings.warn('Some buckets are empty and will be removed. Unused bucket keys=%s' %\n",
            "/usr/local/lib/python3.10/dist-packages/gluonnlp/data/sampler.py:353: UserWarning: Some buckets are empty and will be removed. Unused bucket keys=[16]\n",
            "  warnings.warn('Some buckets are empty and will be removed. Unused bucket keys=%s' %\n",
            "/usr/local/lib/python3.10/dist-packages/gluonnlp/data/sampler.py:353: UserWarning: Some buckets are empty and will be removed. Unused bucket keys=[15]\n",
            "  warnings.warn('Some buckets are empty and will be removed. Unused bucket keys=%s' %\n",
            "/usr/local/lib/python3.10/dist-packages/gluonnlp/data/sampler.py:353: UserWarning: Some buckets are empty and will be removed. Unused bucket keys=[18]\n",
            "  warnings.warn('Some buckets are empty and will be removed. Unused bucket keys=%s' %\n",
            "/usr/local/lib/python3.10/dist-packages/gluonnlp/data/sampler.py:353: UserWarning: Some buckets are empty and will be removed. Unused bucket keys=[17]\n",
            "  warnings.warn('Some buckets are empty and will be removed. Unused bucket keys=%s' %\n"
          ]
        },
        {
          "output_type": "stream",
          "name": "stdout",
          "text": [
            "Finished item 45 of 104\n"
          ]
        },
        {
          "output_type": "stream",
          "name": "stderr",
          "text": [
            "/usr/local/lib/python3.10/dist-packages/gluonnlp/data/sampler.py:353: UserWarning: Some buckets are empty and will be removed. Unused bucket keys=[5]\n",
            "  warnings.warn('Some buckets are empty and will be removed. Unused bucket keys=%s' %\n",
            "/usr/local/lib/python3.10/dist-packages/gluonnlp/data/sampler.py:353: UserWarning: Some buckets are empty and will be removed. Unused bucket keys=[6]\n",
            "  warnings.warn('Some buckets are empty and will be removed. Unused bucket keys=%s' %\n",
            "/usr/local/lib/python3.10/dist-packages/gluonnlp/data/sampler.py:353: UserWarning: Some buckets are empty and will be removed. Unused bucket keys=[7]\n",
            "  warnings.warn('Some buckets are empty and will be removed. Unused bucket keys=%s' %\n",
            "/usr/local/lib/python3.10/dist-packages/gluonnlp/data/sampler.py:353: UserWarning: Some buckets are empty and will be removed. Unused bucket keys=[8]\n",
            "  warnings.warn('Some buckets are empty and will be removed. Unused bucket keys=%s' %\n",
            "/usr/local/lib/python3.10/dist-packages/gluonnlp/data/sampler.py:353: UserWarning: Some buckets are empty and will be removed. Unused bucket keys=[9]\n",
            "  warnings.warn('Some buckets are empty and will be removed. Unused bucket keys=%s' %\n",
            "/usr/local/lib/python3.10/dist-packages/gluonnlp/data/sampler.py:353: UserWarning: Some buckets are empty and will be removed. Unused bucket keys=[13]\n",
            "  warnings.warn('Some buckets are empty and will be removed. Unused bucket keys=%s' %\n",
            "/usr/local/lib/python3.10/dist-packages/gluonnlp/data/sampler.py:353: UserWarning: Some buckets are empty and will be removed. Unused bucket keys=[14]\n",
            "  warnings.warn('Some buckets are empty and will be removed. Unused bucket keys=%s' %\n",
            "/usr/local/lib/python3.10/dist-packages/gluonnlp/data/sampler.py:353: UserWarning: Some buckets are empty and will be removed. Unused bucket keys=[15]\n",
            "  warnings.warn('Some buckets are empty and will be removed. Unused bucket keys=%s' %\n",
            "/usr/local/lib/python3.10/dist-packages/gluonnlp/data/sampler.py:353: UserWarning: Some buckets are empty and will be removed. Unused bucket keys=[16]\n",
            "  warnings.warn('Some buckets are empty and will be removed. Unused bucket keys=%s' %\n",
            "/usr/local/lib/python3.10/dist-packages/gluonnlp/data/sampler.py:353: UserWarning: Some buckets are empty and will be removed. Unused bucket keys=[18]\n",
            "  warnings.warn('Some buckets are empty and will be removed. Unused bucket keys=%s' %\n",
            "/usr/local/lib/python3.10/dist-packages/gluonnlp/data/sampler.py:353: UserWarning: Some buckets are empty and will be removed. Unused bucket keys=[19]\n",
            "  warnings.warn('Some buckets are empty and will be removed. Unused bucket keys=%s' %\n",
            "/usr/local/lib/python3.10/dist-packages/gluonnlp/data/sampler.py:353: UserWarning: Some buckets are empty and will be removed. Unused bucket keys=[21]\n",
            "  warnings.warn('Some buckets are empty and will be removed. Unused bucket keys=%s' %\n"
          ]
        },
        {
          "output_type": "stream",
          "name": "stdout",
          "text": [
            "Finished item 46 of 104\n"
          ]
        },
        {
          "output_type": "stream",
          "name": "stderr",
          "text": [
            "/usr/local/lib/python3.10/dist-packages/gluonnlp/data/sampler.py:353: UserWarning: Some buckets are empty and will be removed. Unused bucket keys=[5]\n",
            "  warnings.warn('Some buckets are empty and will be removed. Unused bucket keys=%s' %\n",
            "/usr/local/lib/python3.10/dist-packages/gluonnlp/data/sampler.py:353: UserWarning: Some buckets are empty and will be removed. Unused bucket keys=[6]\n",
            "  warnings.warn('Some buckets are empty and will be removed. Unused bucket keys=%s' %\n",
            "/usr/local/lib/python3.10/dist-packages/gluonnlp/data/sampler.py:353: UserWarning: Some buckets are empty and will be removed. Unused bucket keys=[7]\n",
            "  warnings.warn('Some buckets are empty and will be removed. Unused bucket keys=%s' %\n",
            "/usr/local/lib/python3.10/dist-packages/gluonnlp/data/sampler.py:353: UserWarning: Some buckets are empty and will be removed. Unused bucket keys=[9]\n",
            "  warnings.warn('Some buckets are empty and will be removed. Unused bucket keys=%s' %\n",
            "/usr/local/lib/python3.10/dist-packages/gluonnlp/data/sampler.py:353: UserWarning: Some buckets are empty and will be removed. Unused bucket keys=[11]\n",
            "  warnings.warn('Some buckets are empty and will be removed. Unused bucket keys=%s' %\n",
            "/usr/local/lib/python3.10/dist-packages/gluonnlp/data/sampler.py:353: UserWarning: Some buckets are empty and will be removed. Unused bucket keys=[12]\n",
            "  warnings.warn('Some buckets are empty and will be removed. Unused bucket keys=%s' %\n",
            "/usr/local/lib/python3.10/dist-packages/gluonnlp/data/sampler.py:353: UserWarning: Some buckets are empty and will be removed. Unused bucket keys=[14]\n",
            "  warnings.warn('Some buckets are empty and will be removed. Unused bucket keys=%s' %\n",
            "/usr/local/lib/python3.10/dist-packages/gluonnlp/data/sampler.py:353: UserWarning: Some buckets are empty and will be removed. Unused bucket keys=[15]\n",
            "  warnings.warn('Some buckets are empty and will be removed. Unused bucket keys=%s' %\n",
            "/usr/local/lib/python3.10/dist-packages/gluonnlp/data/sampler.py:353: UserWarning: Some buckets are empty and will be removed. Unused bucket keys=[16]\n",
            "  warnings.warn('Some buckets are empty and will be removed. Unused bucket keys=%s' %\n",
            "/usr/local/lib/python3.10/dist-packages/gluonnlp/data/sampler.py:353: UserWarning: Some buckets are empty and will be removed. Unused bucket keys=[17]\n",
            "  warnings.warn('Some buckets are empty and will be removed. Unused bucket keys=%s' %\n"
          ]
        },
        {
          "output_type": "stream",
          "name": "stdout",
          "text": [
            "Finished item 47 of 104\n"
          ]
        },
        {
          "output_type": "stream",
          "name": "stderr",
          "text": [
            "/usr/local/lib/python3.10/dist-packages/gluonnlp/data/sampler.py:353: UserWarning: Some buckets are empty and will be removed. Unused bucket keys=[5]\n",
            "  warnings.warn('Some buckets are empty and will be removed. Unused bucket keys=%s' %\n",
            "/usr/local/lib/python3.10/dist-packages/gluonnlp/data/sampler.py:353: UserWarning: Some buckets are empty and will be removed. Unused bucket keys=[6]\n",
            "  warnings.warn('Some buckets are empty and will be removed. Unused bucket keys=%s' %\n",
            "/usr/local/lib/python3.10/dist-packages/gluonnlp/data/sampler.py:353: UserWarning: Some buckets are empty and will be removed. Unused bucket keys=[7]\n",
            "  warnings.warn('Some buckets are empty and will be removed. Unused bucket keys=%s' %\n",
            "/usr/local/lib/python3.10/dist-packages/gluonnlp/data/sampler.py:353: UserWarning: Some buckets are empty and will be removed. Unused bucket keys=[9]\n",
            "  warnings.warn('Some buckets are empty and will be removed. Unused bucket keys=%s' %\n",
            "/usr/local/lib/python3.10/dist-packages/gluonnlp/data/sampler.py:353: UserWarning: Some buckets are empty and will be removed. Unused bucket keys=[10]\n",
            "  warnings.warn('Some buckets are empty and will be removed. Unused bucket keys=%s' %\n",
            "/usr/local/lib/python3.10/dist-packages/gluonnlp/data/sampler.py:353: UserWarning: Some buckets are empty and will be removed. Unused bucket keys=[11]\n",
            "  warnings.warn('Some buckets are empty and will be removed. Unused bucket keys=%s' %\n",
            "/usr/local/lib/python3.10/dist-packages/gluonnlp/data/sampler.py:353: UserWarning: Some buckets are empty and will be removed. Unused bucket keys=[12]\n",
            "  warnings.warn('Some buckets are empty and will be removed. Unused bucket keys=%s' %\n",
            "/usr/local/lib/python3.10/dist-packages/gluonnlp/data/sampler.py:353: UserWarning: Some buckets are empty and will be removed. Unused bucket keys=[13]\n",
            "  warnings.warn('Some buckets are empty and will be removed. Unused bucket keys=%s' %\n",
            "/usr/local/lib/python3.10/dist-packages/gluonnlp/data/sampler.py:353: UserWarning: Some buckets are empty and will be removed. Unused bucket keys=[14]\n",
            "  warnings.warn('Some buckets are empty and will be removed. Unused bucket keys=%s' %\n",
            "/usr/local/lib/python3.10/dist-packages/gluonnlp/data/sampler.py:353: UserWarning: Some buckets are empty and will be removed. Unused bucket keys=[15]\n",
            "  warnings.warn('Some buckets are empty and will be removed. Unused bucket keys=%s' %\n",
            "/usr/local/lib/python3.10/dist-packages/gluonnlp/data/sampler.py:353: UserWarning: Some buckets are empty and will be removed. Unused bucket keys=[17]\n",
            "  warnings.warn('Some buckets are empty and will be removed. Unused bucket keys=%s' %\n"
          ]
        },
        {
          "output_type": "stream",
          "name": "stdout",
          "text": [
            "Finished item 48 of 104\n"
          ]
        },
        {
          "output_type": "stream",
          "name": "stderr",
          "text": [
            "/usr/local/lib/python3.10/dist-packages/gluonnlp/data/sampler.py:353: UserWarning: Some buckets are empty and will be removed. Unused bucket keys=[6]\n",
            "  warnings.warn('Some buckets are empty and will be removed. Unused bucket keys=%s' %\n",
            "/usr/local/lib/python3.10/dist-packages/gluonnlp/data/sampler.py:353: UserWarning: Some buckets are empty and will be removed. Unused bucket keys=[9]\n",
            "  warnings.warn('Some buckets are empty and will be removed. Unused bucket keys=%s' %\n",
            "/usr/local/lib/python3.10/dist-packages/gluonnlp/data/sampler.py:353: UserWarning: Some buckets are empty and will be removed. Unused bucket keys=[8]\n",
            "  warnings.warn('Some buckets are empty and will be removed. Unused bucket keys=%s' %\n",
            "/usr/local/lib/python3.10/dist-packages/gluonnlp/data/sampler.py:353: UserWarning: Some buckets are empty and will be removed. Unused bucket keys=[10]\n",
            "  warnings.warn('Some buckets are empty and will be removed. Unused bucket keys=%s' %\n",
            "/usr/local/lib/python3.10/dist-packages/gluonnlp/data/sampler.py:353: UserWarning: Some buckets are empty and will be removed. Unused bucket keys=[9]\n",
            "  warnings.warn('Some buckets are empty and will be removed. Unused bucket keys=%s' %\n",
            "/usr/local/lib/python3.10/dist-packages/gluonnlp/data/sampler.py:353: UserWarning: Some buckets are empty and will be removed. Unused bucket keys=[11]\n",
            "  warnings.warn('Some buckets are empty and will be removed. Unused bucket keys=%s' %\n",
            "/usr/local/lib/python3.10/dist-packages/gluonnlp/data/sampler.py:353: UserWarning: Some buckets are empty and will be removed. Unused bucket keys=[10]\n",
            "  warnings.warn('Some buckets are empty and will be removed. Unused bucket keys=%s' %\n",
            "/usr/local/lib/python3.10/dist-packages/gluonnlp/data/sampler.py:353: UserWarning: Some buckets are empty and will be removed. Unused bucket keys=[12]\n",
            "  warnings.warn('Some buckets are empty and will be removed. Unused bucket keys=%s' %\n",
            "/usr/local/lib/python3.10/dist-packages/gluonnlp/data/sampler.py:353: UserWarning: Some buckets are empty and will be removed. Unused bucket keys=[11]\n",
            "  warnings.warn('Some buckets are empty and will be removed. Unused bucket keys=%s' %\n",
            "/usr/local/lib/python3.10/dist-packages/gluonnlp/data/sampler.py:353: UserWarning: Some buckets are empty and will be removed. Unused bucket keys=[14]\n",
            "  warnings.warn('Some buckets are empty and will be removed. Unused bucket keys=%s' %\n",
            "/usr/local/lib/python3.10/dist-packages/gluonnlp/data/sampler.py:353: UserWarning: Some buckets are empty and will be removed. Unused bucket keys=[13]\n",
            "  warnings.warn('Some buckets are empty and will be removed. Unused bucket keys=%s' %\n",
            "/usr/local/lib/python3.10/dist-packages/gluonnlp/data/sampler.py:353: UserWarning: Some buckets are empty and will be removed. Unused bucket keys=[16]\n",
            "  warnings.warn('Some buckets are empty and will be removed. Unused bucket keys=%s' %\n",
            "/usr/local/lib/python3.10/dist-packages/gluonnlp/data/sampler.py:353: UserWarning: Some buckets are empty and will be removed. Unused bucket keys=[15]\n",
            "  warnings.warn('Some buckets are empty and will be removed. Unused bucket keys=%s' %\n"
          ]
        },
        {
          "output_type": "stream",
          "name": "stdout",
          "text": [
            "Finished item 49 of 104\n"
          ]
        },
        {
          "output_type": "stream",
          "name": "stderr",
          "text": [
            "/usr/local/lib/python3.10/dist-packages/gluonnlp/data/sampler.py:353: UserWarning: Some buckets are empty and will be removed. Unused bucket keys=[5]\n",
            "  warnings.warn('Some buckets are empty and will be removed. Unused bucket keys=%s' %\n",
            "/usr/local/lib/python3.10/dist-packages/gluonnlp/data/sampler.py:353: UserWarning: Some buckets are empty and will be removed. Unused bucket keys=[6]\n",
            "  warnings.warn('Some buckets are empty and will be removed. Unused bucket keys=%s' %\n",
            "/usr/local/lib/python3.10/dist-packages/gluonnlp/data/sampler.py:353: UserWarning: Some buckets are empty and will be removed. Unused bucket keys=[7]\n",
            "  warnings.warn('Some buckets are empty and will be removed. Unused bucket keys=%s' %\n",
            "/usr/local/lib/python3.10/dist-packages/gluonnlp/data/sampler.py:353: UserWarning: Some buckets are empty and will be removed. Unused bucket keys=[8]\n",
            "  warnings.warn('Some buckets are empty and will be removed. Unused bucket keys=%s' %\n",
            "/usr/local/lib/python3.10/dist-packages/gluonnlp/data/sampler.py:353: UserWarning: Some buckets are empty and will be removed. Unused bucket keys=[9]\n",
            "  warnings.warn('Some buckets are empty and will be removed. Unused bucket keys=%s' %\n",
            "/usr/local/lib/python3.10/dist-packages/gluonnlp/data/sampler.py:353: UserWarning: Some buckets are empty and will be removed. Unused bucket keys=[10]\n",
            "  warnings.warn('Some buckets are empty and will be removed. Unused bucket keys=%s' %\n",
            "/usr/local/lib/python3.10/dist-packages/gluonnlp/data/sampler.py:353: UserWarning: Some buckets are empty and will be removed. Unused bucket keys=[11]\n",
            "  warnings.warn('Some buckets are empty and will be removed. Unused bucket keys=%s' %\n",
            "/usr/local/lib/python3.10/dist-packages/gluonnlp/data/sampler.py:353: UserWarning: Some buckets are empty and will be removed. Unused bucket keys=[12]\n",
            "  warnings.warn('Some buckets are empty and will be removed. Unused bucket keys=%s' %\n",
            "/usr/local/lib/python3.10/dist-packages/gluonnlp/data/sampler.py:353: UserWarning: Some buckets are empty and will be removed. Unused bucket keys=[13]\n",
            "  warnings.warn('Some buckets are empty and will be removed. Unused bucket keys=%s' %\n",
            "/usr/local/lib/python3.10/dist-packages/gluonnlp/data/sampler.py:353: UserWarning: Some buckets are empty and will be removed. Unused bucket keys=[14]\n",
            "  warnings.warn('Some buckets are empty and will be removed. Unused bucket keys=%s' %\n",
            "/usr/local/lib/python3.10/dist-packages/gluonnlp/data/sampler.py:353: UserWarning: Some buckets are empty and will be removed. Unused bucket keys=[15]\n",
            "  warnings.warn('Some buckets are empty and will be removed. Unused bucket keys=%s' %\n",
            "/usr/local/lib/python3.10/dist-packages/gluonnlp/data/sampler.py:353: UserWarning: Some buckets are empty and will be removed. Unused bucket keys=[16]\n",
            "  warnings.warn('Some buckets are empty and will be removed. Unused bucket keys=%s' %\n",
            "/usr/local/lib/python3.10/dist-packages/gluonnlp/data/sampler.py:353: UserWarning: Some buckets are empty and will be removed. Unused bucket keys=[18]\n",
            "  warnings.warn('Some buckets are empty and will be removed. Unused bucket keys=%s' %\n"
          ]
        },
        {
          "output_type": "stream",
          "name": "stdout",
          "text": [
            "Finished item 50 of 104\n"
          ]
        },
        {
          "output_type": "stream",
          "name": "stderr",
          "text": [
            "/usr/local/lib/python3.10/dist-packages/gluonnlp/data/sampler.py:353: UserWarning: Some buckets are empty and will be removed. Unused bucket keys=[6]\n",
            "  warnings.warn('Some buckets are empty and will be removed. Unused bucket keys=%s' %\n",
            "/usr/local/lib/python3.10/dist-packages/gluonnlp/data/sampler.py:353: UserWarning: Some buckets are empty and will be removed. Unused bucket keys=[7]\n",
            "  warnings.warn('Some buckets are empty and will be removed. Unused bucket keys=%s' %\n",
            "/usr/local/lib/python3.10/dist-packages/gluonnlp/data/sampler.py:353: UserWarning: Some buckets are empty and will be removed. Unused bucket keys=[9]\n",
            "  warnings.warn('Some buckets are empty and will be removed. Unused bucket keys=%s' %\n",
            "/usr/local/lib/python3.10/dist-packages/gluonnlp/data/sampler.py:353: UserWarning: Some buckets are empty and will be removed. Unused bucket keys=[10]\n",
            "  warnings.warn('Some buckets are empty and will be removed. Unused bucket keys=%s' %\n",
            "/usr/local/lib/python3.10/dist-packages/gluonnlp/data/sampler.py:353: UserWarning: Some buckets are empty and will be removed. Unused bucket keys=[11]\n",
            "  warnings.warn('Some buckets are empty and will be removed. Unused bucket keys=%s' %\n",
            "/usr/local/lib/python3.10/dist-packages/gluonnlp/data/sampler.py:353: UserWarning: Some buckets are empty and will be removed. Unused bucket keys=[12]\n",
            "  warnings.warn('Some buckets are empty and will be removed. Unused bucket keys=%s' %\n",
            "/usr/local/lib/python3.10/dist-packages/gluonnlp/data/sampler.py:353: UserWarning: Some buckets are empty and will be removed. Unused bucket keys=[16]\n",
            "  warnings.warn('Some buckets are empty and will be removed. Unused bucket keys=%s' %\n"
          ]
        },
        {
          "output_type": "stream",
          "name": "stdout",
          "text": [
            "Finished item 51 of 104\n"
          ]
        },
        {
          "output_type": "stream",
          "name": "stderr",
          "text": [
            "/usr/local/lib/python3.10/dist-packages/gluonnlp/data/sampler.py:353: UserWarning: Some buckets are empty and will be removed. Unused bucket keys=[5]\n",
            "  warnings.warn('Some buckets are empty and will be removed. Unused bucket keys=%s' %\n",
            "/usr/local/lib/python3.10/dist-packages/gluonnlp/data/sampler.py:353: UserWarning: Some buckets are empty and will be removed. Unused bucket keys=[6]\n",
            "  warnings.warn('Some buckets are empty and will be removed. Unused bucket keys=%s' %\n",
            "/usr/local/lib/python3.10/dist-packages/gluonnlp/data/sampler.py:353: UserWarning: Some buckets are empty and will be removed. Unused bucket keys=[7]\n",
            "  warnings.warn('Some buckets are empty and will be removed. Unused bucket keys=%s' %\n",
            "/usr/local/lib/python3.10/dist-packages/gluonnlp/data/sampler.py:353: UserWarning: Some buckets are empty and will be removed. Unused bucket keys=[9]\n",
            "  warnings.warn('Some buckets are empty and will be removed. Unused bucket keys=%s' %\n",
            "/usr/local/lib/python3.10/dist-packages/gluonnlp/data/sampler.py:353: UserWarning: Some buckets are empty and will be removed. Unused bucket keys=[11]\n",
            "  warnings.warn('Some buckets are empty and will be removed. Unused bucket keys=%s' %\n",
            "/usr/local/lib/python3.10/dist-packages/gluonnlp/data/sampler.py:353: UserWarning: Some buckets are empty and will be removed. Unused bucket keys=[12]\n",
            "  warnings.warn('Some buckets are empty and will be removed. Unused bucket keys=%s' %\n",
            "/usr/local/lib/python3.10/dist-packages/gluonnlp/data/sampler.py:353: UserWarning: Some buckets are empty and will be removed. Unused bucket keys=[13]\n",
            "  warnings.warn('Some buckets are empty and will be removed. Unused bucket keys=%s' %\n",
            "/usr/local/lib/python3.10/dist-packages/gluonnlp/data/sampler.py:353: UserWarning: Some buckets are empty and will be removed. Unused bucket keys=[14]\n",
            "  warnings.warn('Some buckets are empty and will be removed. Unused bucket keys=%s' %\n",
            "/usr/local/lib/python3.10/dist-packages/gluonnlp/data/sampler.py:353: UserWarning: Some buckets are empty and will be removed. Unused bucket keys=[15]\n",
            "  warnings.warn('Some buckets are empty and will be removed. Unused bucket keys=%s' %\n",
            "/usr/local/lib/python3.10/dist-packages/gluonnlp/data/sampler.py:353: UserWarning: Some buckets are empty and will be removed. Unused bucket keys=[17]\n",
            "  warnings.warn('Some buckets are empty and will be removed. Unused bucket keys=%s' %\n"
          ]
        },
        {
          "output_type": "stream",
          "name": "stdout",
          "text": [
            "Finished item 52 of 104\n"
          ]
        },
        {
          "output_type": "stream",
          "name": "stderr",
          "text": [
            "/usr/local/lib/python3.10/dist-packages/gluonnlp/data/sampler.py:353: UserWarning: Some buckets are empty and will be removed. Unused bucket keys=[5]\n",
            "  warnings.warn('Some buckets are empty and will be removed. Unused bucket keys=%s' %\n",
            "/usr/local/lib/python3.10/dist-packages/gluonnlp/data/sampler.py:353: UserWarning: Some buckets are empty and will be removed. Unused bucket keys=[6]\n",
            "  warnings.warn('Some buckets are empty and will be removed. Unused bucket keys=%s' %\n",
            "/usr/local/lib/python3.10/dist-packages/gluonnlp/data/sampler.py:353: UserWarning: Some buckets are empty and will be removed. Unused bucket keys=[7]\n",
            "  warnings.warn('Some buckets are empty and will be removed. Unused bucket keys=%s' %\n",
            "/usr/local/lib/python3.10/dist-packages/gluonnlp/data/sampler.py:353: UserWarning: Some buckets are empty and will be removed. Unused bucket keys=[8]\n",
            "  warnings.warn('Some buckets are empty and will be removed. Unused bucket keys=%s' %\n",
            "/usr/local/lib/python3.10/dist-packages/gluonnlp/data/sampler.py:353: UserWarning: Some buckets are empty and will be removed. Unused bucket keys=[9]\n",
            "  warnings.warn('Some buckets are empty and will be removed. Unused bucket keys=%s' %\n",
            "/usr/local/lib/python3.10/dist-packages/gluonnlp/data/sampler.py:353: UserWarning: Some buckets are empty and will be removed. Unused bucket keys=[10]\n",
            "  warnings.warn('Some buckets are empty and will be removed. Unused bucket keys=%s' %\n",
            "/usr/local/lib/python3.10/dist-packages/gluonnlp/data/sampler.py:353: UserWarning: Some buckets are empty and will be removed. Unused bucket keys=[11]\n",
            "  warnings.warn('Some buckets are empty and will be removed. Unused bucket keys=%s' %\n",
            "/usr/local/lib/python3.10/dist-packages/gluonnlp/data/sampler.py:353: UserWarning: Some buckets are empty and will be removed. Unused bucket keys=[12]\n",
            "  warnings.warn('Some buckets are empty and will be removed. Unused bucket keys=%s' %\n",
            "/usr/local/lib/python3.10/dist-packages/gluonnlp/data/sampler.py:353: UserWarning: Some buckets are empty and will be removed. Unused bucket keys=[13]\n",
            "  warnings.warn('Some buckets are empty and will be removed. Unused bucket keys=%s' %\n",
            "/usr/local/lib/python3.10/dist-packages/gluonnlp/data/sampler.py:353: UserWarning: Some buckets are empty and will be removed. Unused bucket keys=[14]\n",
            "  warnings.warn('Some buckets are empty and will be removed. Unused bucket keys=%s' %\n",
            "/usr/local/lib/python3.10/dist-packages/gluonnlp/data/sampler.py:353: UserWarning: Some buckets are empty and will be removed. Unused bucket keys=[15]\n",
            "  warnings.warn('Some buckets are empty and will be removed. Unused bucket keys=%s' %\n",
            "/usr/local/lib/python3.10/dist-packages/gluonnlp/data/sampler.py:353: UserWarning: Some buckets are empty and will be removed. Unused bucket keys=[16]\n",
            "  warnings.warn('Some buckets are empty and will be removed. Unused bucket keys=%s' %\n",
            "/usr/local/lib/python3.10/dist-packages/gluonnlp/data/sampler.py:353: UserWarning: Some buckets are empty and will be removed. Unused bucket keys=[17]\n",
            "  warnings.warn('Some buckets are empty and will be removed. Unused bucket keys=%s' %\n",
            "/usr/local/lib/python3.10/dist-packages/gluonnlp/data/sampler.py:353: UserWarning: Some buckets are empty and will be removed. Unused bucket keys=[19]\n",
            "  warnings.warn('Some buckets are empty and will be removed. Unused bucket keys=%s' %\n"
          ]
        },
        {
          "output_type": "stream",
          "name": "stdout",
          "text": [
            "Finished item 53 of 104\n"
          ]
        },
        {
          "output_type": "stream",
          "name": "stderr",
          "text": [
            "/usr/local/lib/python3.10/dist-packages/gluonnlp/data/sampler.py:353: UserWarning: Some buckets are empty and will be removed. Unused bucket keys=[5]\n",
            "  warnings.warn('Some buckets are empty and will be removed. Unused bucket keys=%s' %\n",
            "/usr/local/lib/python3.10/dist-packages/gluonnlp/data/sampler.py:353: UserWarning: Some buckets are empty and will be removed. Unused bucket keys=[6]\n",
            "  warnings.warn('Some buckets are empty and will be removed. Unused bucket keys=%s' %\n",
            "/usr/local/lib/python3.10/dist-packages/gluonnlp/data/sampler.py:353: UserWarning: Some buckets are empty and will be removed. Unused bucket keys=[7]\n",
            "  warnings.warn('Some buckets are empty and will be removed. Unused bucket keys=%s' %\n",
            "/usr/local/lib/python3.10/dist-packages/gluonnlp/data/sampler.py:353: UserWarning: Some buckets are empty and will be removed. Unused bucket keys=[8]\n",
            "  warnings.warn('Some buckets are empty and will be removed. Unused bucket keys=%s' %\n",
            "/usr/local/lib/python3.10/dist-packages/gluonnlp/data/sampler.py:353: UserWarning: Some buckets are empty and will be removed. Unused bucket keys=[9]\n",
            "  warnings.warn('Some buckets are empty and will be removed. Unused bucket keys=%s' %\n",
            "/usr/local/lib/python3.10/dist-packages/gluonnlp/data/sampler.py:353: UserWarning: Some buckets are empty and will be removed. Unused bucket keys=[10]\n",
            "  warnings.warn('Some buckets are empty and will be removed. Unused bucket keys=%s' %\n",
            "/usr/local/lib/python3.10/dist-packages/gluonnlp/data/sampler.py:353: UserWarning: Some buckets are empty and will be removed. Unused bucket keys=[11]\n",
            "  warnings.warn('Some buckets are empty and will be removed. Unused bucket keys=%s' %\n",
            "/usr/local/lib/python3.10/dist-packages/gluonnlp/data/sampler.py:353: UserWarning: Some buckets are empty and will be removed. Unused bucket keys=[12]\n",
            "  warnings.warn('Some buckets are empty and will be removed. Unused bucket keys=%s' %\n",
            "/usr/local/lib/python3.10/dist-packages/gluonnlp/data/sampler.py:353: UserWarning: Some buckets are empty and will be removed. Unused bucket keys=[13]\n",
            "  warnings.warn('Some buckets are empty and will be removed. Unused bucket keys=%s' %\n",
            "/usr/local/lib/python3.10/dist-packages/gluonnlp/data/sampler.py:353: UserWarning: Some buckets are empty and will be removed. Unused bucket keys=[14]\n",
            "  warnings.warn('Some buckets are empty and will be removed. Unused bucket keys=%s' %\n",
            "/usr/local/lib/python3.10/dist-packages/gluonnlp/data/sampler.py:353: UserWarning: Some buckets are empty and will be removed. Unused bucket keys=[15]\n",
            "  warnings.warn('Some buckets are empty and will be removed. Unused bucket keys=%s' %\n",
            "/usr/local/lib/python3.10/dist-packages/gluonnlp/data/sampler.py:353: UserWarning: Some buckets are empty and will be removed. Unused bucket keys=[16]\n",
            "  warnings.warn('Some buckets are empty and will be removed. Unused bucket keys=%s' %\n"
          ]
        },
        {
          "output_type": "stream",
          "name": "stdout",
          "text": [
            "Finished item 54 of 104\n"
          ]
        },
        {
          "output_type": "stream",
          "name": "stderr",
          "text": [
            "/usr/local/lib/python3.10/dist-packages/gluonnlp/data/sampler.py:353: UserWarning: Some buckets are empty and will be removed. Unused bucket keys=[6]\n",
            "  warnings.warn('Some buckets are empty and will be removed. Unused bucket keys=%s' %\n",
            "/usr/local/lib/python3.10/dist-packages/gluonnlp/data/sampler.py:353: UserWarning: Some buckets are empty and will be removed. Unused bucket keys=[7]\n",
            "  warnings.warn('Some buckets are empty and will be removed. Unused bucket keys=%s' %\n",
            "/usr/local/lib/python3.10/dist-packages/gluonnlp/data/sampler.py:353: UserWarning: Some buckets are empty and will be removed. Unused bucket keys=[10]\n",
            "  warnings.warn('Some buckets are empty and will be removed. Unused bucket keys=%s' %\n",
            "/usr/local/lib/python3.10/dist-packages/gluonnlp/data/sampler.py:353: UserWarning: Some buckets are empty and will be removed. Unused bucket keys=[11]\n",
            "  warnings.warn('Some buckets are empty and will be removed. Unused bucket keys=%s' %\n",
            "/usr/local/lib/python3.10/dist-packages/gluonnlp/data/sampler.py:353: UserWarning: Some buckets are empty and will be removed. Unused bucket keys=[12]\n",
            "  warnings.warn('Some buckets are empty and will be removed. Unused bucket keys=%s' %\n",
            "/usr/local/lib/python3.10/dist-packages/gluonnlp/data/sampler.py:353: UserWarning: Some buckets are empty and will be removed. Unused bucket keys=[13]\n",
            "  warnings.warn('Some buckets are empty and will be removed. Unused bucket keys=%s' %\n",
            "/usr/local/lib/python3.10/dist-packages/gluonnlp/data/sampler.py:353: UserWarning: Some buckets are empty and will be removed. Unused bucket keys=[14]\n",
            "  warnings.warn('Some buckets are empty and will be removed. Unused bucket keys=%s' %\n",
            "/usr/local/lib/python3.10/dist-packages/gluonnlp/data/sampler.py:353: UserWarning: Some buckets are empty and will be removed. Unused bucket keys=[15]\n",
            "  warnings.warn('Some buckets are empty and will be removed. Unused bucket keys=%s' %\n",
            "/usr/local/lib/python3.10/dist-packages/gluonnlp/data/sampler.py:353: UserWarning: Some buckets are empty and will be removed. Unused bucket keys=[17]\n",
            "  warnings.warn('Some buckets are empty and will be removed. Unused bucket keys=%s' %\n"
          ]
        },
        {
          "output_type": "stream",
          "name": "stdout",
          "text": [
            "Finished item 55 of 104\n"
          ]
        },
        {
          "output_type": "stream",
          "name": "stderr",
          "text": [
            "/usr/local/lib/python3.10/dist-packages/gluonnlp/data/sampler.py:353: UserWarning: Some buckets are empty and will be removed. Unused bucket keys=[6]\n",
            "  warnings.warn('Some buckets are empty and will be removed. Unused bucket keys=%s' %\n",
            "/usr/local/lib/python3.10/dist-packages/gluonnlp/data/sampler.py:353: UserWarning: Some buckets are empty and will be removed. Unused bucket keys=[7]\n",
            "  warnings.warn('Some buckets are empty and will be removed. Unused bucket keys=%s' %\n",
            "/usr/local/lib/python3.10/dist-packages/gluonnlp/data/sampler.py:353: UserWarning: Some buckets are empty and will be removed. Unused bucket keys=[9]\n",
            "  warnings.warn('Some buckets are empty and will be removed. Unused bucket keys=%s' %\n",
            "/usr/local/lib/python3.10/dist-packages/gluonnlp/data/sampler.py:353: UserWarning: Some buckets are empty and will be removed. Unused bucket keys=[10]\n",
            "  warnings.warn('Some buckets are empty and will be removed. Unused bucket keys=%s' %\n",
            "/usr/local/lib/python3.10/dist-packages/gluonnlp/data/sampler.py:353: UserWarning: Some buckets are empty and will be removed. Unused bucket keys=[11]\n",
            "  warnings.warn('Some buckets are empty and will be removed. Unused bucket keys=%s' %\n",
            "/usr/local/lib/python3.10/dist-packages/gluonnlp/data/sampler.py:353: UserWarning: Some buckets are empty and will be removed. Unused bucket keys=[12]\n",
            "  warnings.warn('Some buckets are empty and will be removed. Unused bucket keys=%s' %\n",
            "/usr/local/lib/python3.10/dist-packages/gluonnlp/data/sampler.py:353: UserWarning: Some buckets are empty and will be removed. Unused bucket keys=[13]\n",
            "  warnings.warn('Some buckets are empty and will be removed. Unused bucket keys=%s' %\n",
            "/usr/local/lib/python3.10/dist-packages/gluonnlp/data/sampler.py:353: UserWarning: Some buckets are empty and will be removed. Unused bucket keys=[14]\n",
            "  warnings.warn('Some buckets are empty and will be removed. Unused bucket keys=%s' %\n",
            "/usr/local/lib/python3.10/dist-packages/gluonnlp/data/sampler.py:353: UserWarning: Some buckets are empty and will be removed. Unused bucket keys=[15]\n",
            "  warnings.warn('Some buckets are empty and will be removed. Unused bucket keys=%s' %\n",
            "/usr/local/lib/python3.10/dist-packages/gluonnlp/data/sampler.py:353: UserWarning: Some buckets are empty and will be removed. Unused bucket keys=[16]\n",
            "  warnings.warn('Some buckets are empty and will be removed. Unused bucket keys=%s' %\n",
            "/usr/local/lib/python3.10/dist-packages/gluonnlp/data/sampler.py:353: UserWarning: Some buckets are empty and will be removed. Unused bucket keys=[18]\n",
            "  warnings.warn('Some buckets are empty and will be removed. Unused bucket keys=%s' %\n"
          ]
        },
        {
          "output_type": "stream",
          "name": "stdout",
          "text": [
            "Finished item 56 of 104\n"
          ]
        },
        {
          "output_type": "stream",
          "name": "stderr",
          "text": [
            "/usr/local/lib/python3.10/dist-packages/gluonnlp/data/sampler.py:353: UserWarning: Some buckets are empty and will be removed. Unused bucket keys=[5]\n",
            "  warnings.warn('Some buckets are empty and will be removed. Unused bucket keys=%s' %\n",
            "/usr/local/lib/python3.10/dist-packages/gluonnlp/data/sampler.py:353: UserWarning: Some buckets are empty and will be removed. Unused bucket keys=[6]\n",
            "  warnings.warn('Some buckets are empty and will be removed. Unused bucket keys=%s' %\n",
            "/usr/local/lib/python3.10/dist-packages/gluonnlp/data/sampler.py:353: UserWarning: Some buckets are empty and will be removed. Unused bucket keys=[7]\n",
            "  warnings.warn('Some buckets are empty and will be removed. Unused bucket keys=%s' %\n",
            "/usr/local/lib/python3.10/dist-packages/gluonnlp/data/sampler.py:353: UserWarning: Some buckets are empty and will be removed. Unused bucket keys=[8]\n",
            "  warnings.warn('Some buckets are empty and will be removed. Unused bucket keys=%s' %\n",
            "/usr/local/lib/python3.10/dist-packages/gluonnlp/data/sampler.py:353: UserWarning: Some buckets are empty and will be removed. Unused bucket keys=[9]\n",
            "  warnings.warn('Some buckets are empty and will be removed. Unused bucket keys=%s' %\n",
            "/usr/local/lib/python3.10/dist-packages/gluonnlp/data/sampler.py:353: UserWarning: Some buckets are empty and will be removed. Unused bucket keys=[11]\n",
            "  warnings.warn('Some buckets are empty and will be removed. Unused bucket keys=%s' %\n",
            "/usr/local/lib/python3.10/dist-packages/gluonnlp/data/sampler.py:353: UserWarning: Some buckets are empty and will be removed. Unused bucket keys=[12]\n",
            "  warnings.warn('Some buckets are empty and will be removed. Unused bucket keys=%s' %\n",
            "/usr/local/lib/python3.10/dist-packages/gluonnlp/data/sampler.py:353: UserWarning: Some buckets are empty and will be removed. Unused bucket keys=[13]\n",
            "  warnings.warn('Some buckets are empty and will be removed. Unused bucket keys=%s' %\n",
            "/usr/local/lib/python3.10/dist-packages/gluonnlp/data/sampler.py:353: UserWarning: Some buckets are empty and will be removed. Unused bucket keys=[14]\n",
            "  warnings.warn('Some buckets are empty and will be removed. Unused bucket keys=%s' %\n"
          ]
        },
        {
          "output_type": "stream",
          "name": "stdout",
          "text": [
            "Finished item 57 of 104\n"
          ]
        },
        {
          "output_type": "stream",
          "name": "stderr",
          "text": [
            "/usr/local/lib/python3.10/dist-packages/gluonnlp/data/sampler.py:353: UserWarning: Some buckets are empty and will be removed. Unused bucket keys=[5]\n",
            "  warnings.warn('Some buckets are empty and will be removed. Unused bucket keys=%s' %\n",
            "/usr/local/lib/python3.10/dist-packages/gluonnlp/data/sampler.py:353: UserWarning: Some buckets are empty and will be removed. Unused bucket keys=[6]\n",
            "  warnings.warn('Some buckets are empty and will be removed. Unused bucket keys=%s' %\n",
            "/usr/local/lib/python3.10/dist-packages/gluonnlp/data/sampler.py:353: UserWarning: Some buckets are empty and will be removed. Unused bucket keys=[7]\n",
            "  warnings.warn('Some buckets are empty and will be removed. Unused bucket keys=%s' %\n",
            "/usr/local/lib/python3.10/dist-packages/gluonnlp/data/sampler.py:353: UserWarning: Some buckets are empty and will be removed. Unused bucket keys=[8]\n",
            "  warnings.warn('Some buckets are empty and will be removed. Unused bucket keys=%s' %\n",
            "/usr/local/lib/python3.10/dist-packages/gluonnlp/data/sampler.py:353: UserWarning: Some buckets are empty and will be removed. Unused bucket keys=[9]\n",
            "  warnings.warn('Some buckets are empty and will be removed. Unused bucket keys=%s' %\n",
            "/usr/local/lib/python3.10/dist-packages/gluonnlp/data/sampler.py:353: UserWarning: Some buckets are empty and will be removed. Unused bucket keys=[10]\n",
            "  warnings.warn('Some buckets are empty and will be removed. Unused bucket keys=%s' %\n",
            "/usr/local/lib/python3.10/dist-packages/gluonnlp/data/sampler.py:353: UserWarning: Some buckets are empty and will be removed. Unused bucket keys=[11]\n",
            "  warnings.warn('Some buckets are empty and will be removed. Unused bucket keys=%s' %\n",
            "/usr/local/lib/python3.10/dist-packages/gluonnlp/data/sampler.py:353: UserWarning: Some buckets are empty and will be removed. Unused bucket keys=[12]\n",
            "  warnings.warn('Some buckets are empty and will be removed. Unused bucket keys=%s' %\n",
            "/usr/local/lib/python3.10/dist-packages/gluonnlp/data/sampler.py:353: UserWarning: Some buckets are empty and will be removed. Unused bucket keys=[13]\n",
            "  warnings.warn('Some buckets are empty and will be removed. Unused bucket keys=%s' %\n",
            "/usr/local/lib/python3.10/dist-packages/gluonnlp/data/sampler.py:353: UserWarning: Some buckets are empty and will be removed. Unused bucket keys=[14]\n",
            "  warnings.warn('Some buckets are empty and will be removed. Unused bucket keys=%s' %\n",
            "/usr/local/lib/python3.10/dist-packages/gluonnlp/data/sampler.py:353: UserWarning: Some buckets are empty and will be removed. Unused bucket keys=[15]\n",
            "  warnings.warn('Some buckets are empty and will be removed. Unused bucket keys=%s' %\n",
            "/usr/local/lib/python3.10/dist-packages/gluonnlp/data/sampler.py:353: UserWarning: Some buckets are empty and will be removed. Unused bucket keys=[16]\n",
            "  warnings.warn('Some buckets are empty and will be removed. Unused bucket keys=%s' %\n",
            "/usr/local/lib/python3.10/dist-packages/gluonnlp/data/sampler.py:353: UserWarning: Some buckets are empty and will be removed. Unused bucket keys=[17]\n",
            "  warnings.warn('Some buckets are empty and will be removed. Unused bucket keys=%s' %\n"
          ]
        },
        {
          "output_type": "stream",
          "name": "stdout",
          "text": [
            "Finished item 58 of 104\n"
          ]
        },
        {
          "output_type": "stream",
          "name": "stderr",
          "text": [
            "/usr/local/lib/python3.10/dist-packages/gluonnlp/data/sampler.py:353: UserWarning: Some buckets are empty and will be removed. Unused bucket keys=[5]\n",
            "  warnings.warn('Some buckets are empty and will be removed. Unused bucket keys=%s' %\n",
            "/usr/local/lib/python3.10/dist-packages/gluonnlp/data/sampler.py:353: UserWarning: Some buckets are empty and will be removed. Unused bucket keys=[6]\n",
            "  warnings.warn('Some buckets are empty and will be removed. Unused bucket keys=%s' %\n",
            "/usr/local/lib/python3.10/dist-packages/gluonnlp/data/sampler.py:353: UserWarning: Some buckets are empty and will be removed. Unused bucket keys=[7]\n",
            "  warnings.warn('Some buckets are empty and will be removed. Unused bucket keys=%s' %\n",
            "/usr/local/lib/python3.10/dist-packages/gluonnlp/data/sampler.py:353: UserWarning: Some buckets are empty and will be removed. Unused bucket keys=[9]\n",
            "  warnings.warn('Some buckets are empty and will be removed. Unused bucket keys=%s' %\n",
            "/usr/local/lib/python3.10/dist-packages/gluonnlp/data/sampler.py:353: UserWarning: Some buckets are empty and will be removed. Unused bucket keys=[10]\n",
            "  warnings.warn('Some buckets are empty and will be removed. Unused bucket keys=%s' %\n",
            "/usr/local/lib/python3.10/dist-packages/gluonnlp/data/sampler.py:353: UserWarning: Some buckets are empty and will be removed. Unused bucket keys=[11]\n",
            "  warnings.warn('Some buckets are empty and will be removed. Unused bucket keys=%s' %\n",
            "/usr/local/lib/python3.10/dist-packages/gluonnlp/data/sampler.py:353: UserWarning: Some buckets are empty and will be removed. Unused bucket keys=[12]\n",
            "  warnings.warn('Some buckets are empty and will be removed. Unused bucket keys=%s' %\n",
            "/usr/local/lib/python3.10/dist-packages/gluonnlp/data/sampler.py:353: UserWarning: Some buckets are empty and will be removed. Unused bucket keys=[14]\n",
            "  warnings.warn('Some buckets are empty and will be removed. Unused bucket keys=%s' %\n",
            "/usr/local/lib/python3.10/dist-packages/gluonnlp/data/sampler.py:353: UserWarning: Some buckets are empty and will be removed. Unused bucket keys=[15]\n",
            "  warnings.warn('Some buckets are empty and will be removed. Unused bucket keys=%s' %\n",
            "/usr/local/lib/python3.10/dist-packages/gluonnlp/data/sampler.py:353: UserWarning: Some buckets are empty and will be removed. Unused bucket keys=[17]\n",
            "  warnings.warn('Some buckets are empty and will be removed. Unused bucket keys=%s' %\n"
          ]
        },
        {
          "output_type": "stream",
          "name": "stdout",
          "text": [
            "Finished item 59 of 104\n"
          ]
        },
        {
          "output_type": "stream",
          "name": "stderr",
          "text": [
            "/usr/local/lib/python3.10/dist-packages/gluonnlp/data/sampler.py:353: UserWarning: Some buckets are empty and will be removed. Unused bucket keys=[5]\n",
            "  warnings.warn('Some buckets are empty and will be removed. Unused bucket keys=%s' %\n",
            "/usr/local/lib/python3.10/dist-packages/gluonnlp/data/sampler.py:353: UserWarning: Some buckets are empty and will be removed. Unused bucket keys=[6]\n",
            "  warnings.warn('Some buckets are empty and will be removed. Unused bucket keys=%s' %\n",
            "/usr/local/lib/python3.10/dist-packages/gluonnlp/data/sampler.py:353: UserWarning: Some buckets are empty and will be removed. Unused bucket keys=[7]\n",
            "  warnings.warn('Some buckets are empty and will be removed. Unused bucket keys=%s' %\n",
            "/usr/local/lib/python3.10/dist-packages/gluonnlp/data/sampler.py:353: UserWarning: Some buckets are empty and will be removed. Unused bucket keys=[8]\n",
            "  warnings.warn('Some buckets are empty and will be removed. Unused bucket keys=%s' %\n",
            "/usr/local/lib/python3.10/dist-packages/gluonnlp/data/sampler.py:353: UserWarning: Some buckets are empty and will be removed. Unused bucket keys=[9]\n",
            "  warnings.warn('Some buckets are empty and will be removed. Unused bucket keys=%s' %\n",
            "/usr/local/lib/python3.10/dist-packages/gluonnlp/data/sampler.py:353: UserWarning: Some buckets are empty and will be removed. Unused bucket keys=[11]\n",
            "  warnings.warn('Some buckets are empty and will be removed. Unused bucket keys=%s' %\n",
            "/usr/local/lib/python3.10/dist-packages/gluonnlp/data/sampler.py:353: UserWarning: Some buckets are empty and will be removed. Unused bucket keys=[12]\n",
            "  warnings.warn('Some buckets are empty and will be removed. Unused bucket keys=%s' %\n",
            "/usr/local/lib/python3.10/dist-packages/gluonnlp/data/sampler.py:353: UserWarning: Some buckets are empty and will be removed. Unused bucket keys=[13]\n",
            "  warnings.warn('Some buckets are empty and will be removed. Unused bucket keys=%s' %\n",
            "/usr/local/lib/python3.10/dist-packages/gluonnlp/data/sampler.py:353: UserWarning: Some buckets are empty and will be removed. Unused bucket keys=[14]\n",
            "  warnings.warn('Some buckets are empty and will be removed. Unused bucket keys=%s' %\n",
            "/usr/local/lib/python3.10/dist-packages/gluonnlp/data/sampler.py:353: UserWarning: Some buckets are empty and will be removed. Unused bucket keys=[16]\n",
            "  warnings.warn('Some buckets are empty and will be removed. Unused bucket keys=%s' %\n"
          ]
        },
        {
          "output_type": "stream",
          "name": "stdout",
          "text": [
            "Finished item 60 of 104\n"
          ]
        },
        {
          "output_type": "stream",
          "name": "stderr",
          "text": [
            "/usr/local/lib/python3.10/dist-packages/gluonnlp/data/sampler.py:353: UserWarning: Some buckets are empty and will be removed. Unused bucket keys=[5]\n",
            "  warnings.warn('Some buckets are empty and will be removed. Unused bucket keys=%s' %\n",
            "/usr/local/lib/python3.10/dist-packages/gluonnlp/data/sampler.py:353: UserWarning: Some buckets are empty and will be removed. Unused bucket keys=[6]\n",
            "  warnings.warn('Some buckets are empty and will be removed. Unused bucket keys=%s' %\n",
            "/usr/local/lib/python3.10/dist-packages/gluonnlp/data/sampler.py:353: UserWarning: Some buckets are empty and will be removed. Unused bucket keys=[7]\n",
            "  warnings.warn('Some buckets are empty and will be removed. Unused bucket keys=%s' %\n",
            "/usr/local/lib/python3.10/dist-packages/gluonnlp/data/sampler.py:353: UserWarning: Some buckets are empty and will be removed. Unused bucket keys=[10]\n",
            "  warnings.warn('Some buckets are empty and will be removed. Unused bucket keys=%s' %\n",
            "/usr/local/lib/python3.10/dist-packages/gluonnlp/data/sampler.py:353: UserWarning: Some buckets are empty and will be removed. Unused bucket keys=[11]\n",
            "  warnings.warn('Some buckets are empty and will be removed. Unused bucket keys=%s' %\n",
            "/usr/local/lib/python3.10/dist-packages/gluonnlp/data/sampler.py:353: UserWarning: Some buckets are empty and will be removed. Unused bucket keys=[12]\n",
            "  warnings.warn('Some buckets are empty and will be removed. Unused bucket keys=%s' %\n",
            "/usr/local/lib/python3.10/dist-packages/gluonnlp/data/sampler.py:353: UserWarning: Some buckets are empty and will be removed. Unused bucket keys=[13]\n",
            "  warnings.warn('Some buckets are empty and will be removed. Unused bucket keys=%s' %\n",
            "/usr/local/lib/python3.10/dist-packages/gluonnlp/data/sampler.py:353: UserWarning: Some buckets are empty and will be removed. Unused bucket keys=[15]\n",
            "  warnings.warn('Some buckets are empty and will be removed. Unused bucket keys=%s' %\n",
            "/usr/local/lib/python3.10/dist-packages/gluonnlp/data/sampler.py:353: UserWarning: Some buckets are empty and will be removed. Unused bucket keys=[16]\n",
            "  warnings.warn('Some buckets are empty and will be removed. Unused bucket keys=%s' %\n",
            "/usr/local/lib/python3.10/dist-packages/gluonnlp/data/sampler.py:353: UserWarning: Some buckets are empty and will be removed. Unused bucket keys=[18]\n",
            "  warnings.warn('Some buckets are empty and will be removed. Unused bucket keys=%s' %\n"
          ]
        },
        {
          "output_type": "stream",
          "name": "stdout",
          "text": [
            "Finished item 61 of 104\n"
          ]
        },
        {
          "output_type": "stream",
          "name": "stderr",
          "text": [
            "/usr/local/lib/python3.10/dist-packages/gluonnlp/data/sampler.py:353: UserWarning: Some buckets are empty and will be removed. Unused bucket keys=[5]\n",
            "  warnings.warn('Some buckets are empty and will be removed. Unused bucket keys=%s' %\n",
            "/usr/local/lib/python3.10/dist-packages/gluonnlp/data/sampler.py:353: UserWarning: Some buckets are empty and will be removed. Unused bucket keys=[6]\n",
            "  warnings.warn('Some buckets are empty and will be removed. Unused bucket keys=%s' %\n",
            "/usr/local/lib/python3.10/dist-packages/gluonnlp/data/sampler.py:353: UserWarning: Some buckets are empty and will be removed. Unused bucket keys=[7]\n",
            "  warnings.warn('Some buckets are empty and will be removed. Unused bucket keys=%s' %\n",
            "/usr/local/lib/python3.10/dist-packages/gluonnlp/data/sampler.py:353: UserWarning: Some buckets are empty and will be removed. Unused bucket keys=[10]\n",
            "  warnings.warn('Some buckets are empty and will be removed. Unused bucket keys=%s' %\n",
            "/usr/local/lib/python3.10/dist-packages/gluonnlp/data/sampler.py:353: UserWarning: Some buckets are empty and will be removed. Unused bucket keys=[12]\n",
            "  warnings.warn('Some buckets are empty and will be removed. Unused bucket keys=%s' %\n",
            "/usr/local/lib/python3.10/dist-packages/gluonnlp/data/sampler.py:353: UserWarning: Some buckets are empty and will be removed. Unused bucket keys=[13]\n",
            "  warnings.warn('Some buckets are empty and will be removed. Unused bucket keys=%s' %\n",
            "/usr/local/lib/python3.10/dist-packages/gluonnlp/data/sampler.py:353: UserWarning: Some buckets are empty and will be removed. Unused bucket keys=[14]\n",
            "  warnings.warn('Some buckets are empty and will be removed. Unused bucket keys=%s' %\n",
            "/usr/local/lib/python3.10/dist-packages/gluonnlp/data/sampler.py:353: UserWarning: Some buckets are empty and will be removed. Unused bucket keys=[15]\n",
            "  warnings.warn('Some buckets are empty and will be removed. Unused bucket keys=%s' %\n",
            "/usr/local/lib/python3.10/dist-packages/gluonnlp/data/sampler.py:353: UserWarning: Some buckets are empty and will be removed. Unused bucket keys=[16]\n",
            "  warnings.warn('Some buckets are empty and will be removed. Unused bucket keys=%s' %\n",
            "/usr/local/lib/python3.10/dist-packages/gluonnlp/data/sampler.py:353: UserWarning: Some buckets are empty and will be removed. Unused bucket keys=[18]\n",
            "  warnings.warn('Some buckets are empty and will be removed. Unused bucket keys=%s' %\n"
          ]
        },
        {
          "output_type": "stream",
          "name": "stdout",
          "text": [
            "Finished item 62 of 104\n"
          ]
        },
        {
          "output_type": "stream",
          "name": "stderr",
          "text": [
            "/usr/local/lib/python3.10/dist-packages/gluonnlp/data/sampler.py:353: UserWarning: Some buckets are empty and will be removed. Unused bucket keys=[6]\n",
            "  warnings.warn('Some buckets are empty and will be removed. Unused bucket keys=%s' %\n",
            "/usr/local/lib/python3.10/dist-packages/gluonnlp/data/sampler.py:353: UserWarning: Some buckets are empty and will be removed. Unused bucket keys=[7]\n",
            "  warnings.warn('Some buckets are empty and will be removed. Unused bucket keys=%s' %\n",
            "/usr/local/lib/python3.10/dist-packages/gluonnlp/data/sampler.py:353: UserWarning: Some buckets are empty and will be removed. Unused bucket keys=[8]\n",
            "  warnings.warn('Some buckets are empty and will be removed. Unused bucket keys=%s' %\n",
            "/usr/local/lib/python3.10/dist-packages/gluonnlp/data/sampler.py:353: UserWarning: Some buckets are empty and will be removed. Unused bucket keys=[9]\n",
            "  warnings.warn('Some buckets are empty and will be removed. Unused bucket keys=%s' %\n",
            "/usr/local/lib/python3.10/dist-packages/gluonnlp/data/sampler.py:353: UserWarning: Some buckets are empty and will be removed. Unused bucket keys=[10]\n",
            "  warnings.warn('Some buckets are empty and will be removed. Unused bucket keys=%s' %\n",
            "/usr/local/lib/python3.10/dist-packages/gluonnlp/data/sampler.py:353: UserWarning: Some buckets are empty and will be removed. Unused bucket keys=[11]\n",
            "  warnings.warn('Some buckets are empty and will be removed. Unused bucket keys=%s' %\n",
            "/usr/local/lib/python3.10/dist-packages/gluonnlp/data/sampler.py:353: UserWarning: Some buckets are empty and will be removed. Unused bucket keys=[12]\n",
            "  warnings.warn('Some buckets are empty and will be removed. Unused bucket keys=%s' %\n",
            "/usr/local/lib/python3.10/dist-packages/gluonnlp/data/sampler.py:353: UserWarning: Some buckets are empty and will be removed. Unused bucket keys=[13]\n",
            "  warnings.warn('Some buckets are empty and will be removed. Unused bucket keys=%s' %\n",
            "/usr/local/lib/python3.10/dist-packages/gluonnlp/data/sampler.py:353: UserWarning: Some buckets are empty and will be removed. Unused bucket keys=[14]\n",
            "  warnings.warn('Some buckets are empty and will be removed. Unused bucket keys=%s' %\n",
            "/usr/local/lib/python3.10/dist-packages/gluonnlp/data/sampler.py:353: UserWarning: Some buckets are empty and will be removed. Unused bucket keys=[15]\n",
            "  warnings.warn('Some buckets are empty and will be removed. Unused bucket keys=%s' %\n",
            "/usr/local/lib/python3.10/dist-packages/gluonnlp/data/sampler.py:353: UserWarning: Some buckets are empty and will be removed. Unused bucket keys=[16]\n",
            "  warnings.warn('Some buckets are empty and will be removed. Unused bucket keys=%s' %\n",
            "/usr/local/lib/python3.10/dist-packages/gluonnlp/data/sampler.py:353: UserWarning: Some buckets are empty and will be removed. Unused bucket keys=[18]\n",
            "  warnings.warn('Some buckets are empty and will be removed. Unused bucket keys=%s' %\n"
          ]
        },
        {
          "output_type": "stream",
          "name": "stdout",
          "text": [
            "Finished item 63 of 104\n"
          ]
        },
        {
          "output_type": "stream",
          "name": "stderr",
          "text": [
            "/usr/local/lib/python3.10/dist-packages/gluonnlp/data/sampler.py:353: UserWarning: Some buckets are empty and will be removed. Unused bucket keys=[5]\n",
            "  warnings.warn('Some buckets are empty and will be removed. Unused bucket keys=%s' %\n",
            "/usr/local/lib/python3.10/dist-packages/gluonnlp/data/sampler.py:353: UserWarning: Some buckets are empty and will be removed. Unused bucket keys=[6]\n",
            "  warnings.warn('Some buckets are empty and will be removed. Unused bucket keys=%s' %\n",
            "/usr/local/lib/python3.10/dist-packages/gluonnlp/data/sampler.py:353: UserWarning: Some buckets are empty and will be removed. Unused bucket keys=[7]\n",
            "  warnings.warn('Some buckets are empty and will be removed. Unused bucket keys=%s' %\n",
            "/usr/local/lib/python3.10/dist-packages/gluonnlp/data/sampler.py:353: UserWarning: Some buckets are empty and will be removed. Unused bucket keys=[10]\n",
            "  warnings.warn('Some buckets are empty and will be removed. Unused bucket keys=%s' %\n",
            "/usr/local/lib/python3.10/dist-packages/gluonnlp/data/sampler.py:353: UserWarning: Some buckets are empty and will be removed. Unused bucket keys=[12]\n",
            "  warnings.warn('Some buckets are empty and will be removed. Unused bucket keys=%s' %\n",
            "/usr/local/lib/python3.10/dist-packages/gluonnlp/data/sampler.py:353: UserWarning: Some buckets are empty and will be removed. Unused bucket keys=[13]\n",
            "  warnings.warn('Some buckets are empty and will be removed. Unused bucket keys=%s' %\n",
            "/usr/local/lib/python3.10/dist-packages/gluonnlp/data/sampler.py:353: UserWarning: Some buckets are empty and will be removed. Unused bucket keys=[14]\n",
            "  warnings.warn('Some buckets are empty and will be removed. Unused bucket keys=%s' %\n",
            "/usr/local/lib/python3.10/dist-packages/gluonnlp/data/sampler.py:353: UserWarning: Some buckets are empty and will be removed. Unused bucket keys=[15]\n",
            "  warnings.warn('Some buckets are empty and will be removed. Unused bucket keys=%s' %\n",
            "/usr/local/lib/python3.10/dist-packages/gluonnlp/data/sampler.py:353: UserWarning: Some buckets are empty and will be removed. Unused bucket keys=[17]\n",
            "  warnings.warn('Some buckets are empty and will be removed. Unused bucket keys=%s' %\n"
          ]
        },
        {
          "output_type": "stream",
          "name": "stdout",
          "text": [
            "Finished item 64 of 104\n"
          ]
        },
        {
          "output_type": "stream",
          "name": "stderr",
          "text": [
            "/usr/local/lib/python3.10/dist-packages/gluonnlp/data/sampler.py:353: UserWarning: Some buckets are empty and will be removed. Unused bucket keys=[5]\n",
            "  warnings.warn('Some buckets are empty and will be removed. Unused bucket keys=%s' %\n",
            "/usr/local/lib/python3.10/dist-packages/gluonnlp/data/sampler.py:353: UserWarning: Some buckets are empty and will be removed. Unused bucket keys=[6]\n",
            "  warnings.warn('Some buckets are empty and will be removed. Unused bucket keys=%s' %\n",
            "/usr/local/lib/python3.10/dist-packages/gluonnlp/data/sampler.py:353: UserWarning: Some buckets are empty and will be removed. Unused bucket keys=[7]\n",
            "  warnings.warn('Some buckets are empty and will be removed. Unused bucket keys=%s' %\n",
            "/usr/local/lib/python3.10/dist-packages/gluonnlp/data/sampler.py:353: UserWarning: Some buckets are empty and will be removed. Unused bucket keys=[9]\n",
            "  warnings.warn('Some buckets are empty and will be removed. Unused bucket keys=%s' %\n",
            "/usr/local/lib/python3.10/dist-packages/gluonnlp/data/sampler.py:353: UserWarning: Some buckets are empty and will be removed. Unused bucket keys=[12]\n",
            "  warnings.warn('Some buckets are empty and will be removed. Unused bucket keys=%s' %\n",
            "/usr/local/lib/python3.10/dist-packages/gluonnlp/data/sampler.py:353: UserWarning: Some buckets are empty and will be removed. Unused bucket keys=[13]\n",
            "  warnings.warn('Some buckets are empty and will be removed. Unused bucket keys=%s' %\n",
            "/usr/local/lib/python3.10/dist-packages/gluonnlp/data/sampler.py:353: UserWarning: Some buckets are empty and will be removed. Unused bucket keys=[14]\n",
            "  warnings.warn('Some buckets are empty and will be removed. Unused bucket keys=%s' %\n",
            "/usr/local/lib/python3.10/dist-packages/gluonnlp/data/sampler.py:353: UserWarning: Some buckets are empty and will be removed. Unused bucket keys=[15]\n",
            "  warnings.warn('Some buckets are empty and will be removed. Unused bucket keys=%s' %\n",
            "/usr/local/lib/python3.10/dist-packages/gluonnlp/data/sampler.py:353: UserWarning: Some buckets are empty and will be removed. Unused bucket keys=[16]\n",
            "  warnings.warn('Some buckets are empty and will be removed. Unused bucket keys=%s' %\n",
            "/usr/local/lib/python3.10/dist-packages/gluonnlp/data/sampler.py:353: UserWarning: Some buckets are empty and will be removed. Unused bucket keys=[18]\n",
            "  warnings.warn('Some buckets are empty and will be removed. Unused bucket keys=%s' %\n"
          ]
        },
        {
          "output_type": "stream",
          "name": "stdout",
          "text": [
            "Finished item 65 of 104\n"
          ]
        },
        {
          "output_type": "stream",
          "name": "stderr",
          "text": [
            "/usr/local/lib/python3.10/dist-packages/gluonnlp/data/sampler.py:353: UserWarning: Some buckets are empty and will be removed. Unused bucket keys=[5]\n",
            "  warnings.warn('Some buckets are empty and will be removed. Unused bucket keys=%s' %\n",
            "/usr/local/lib/python3.10/dist-packages/gluonnlp/data/sampler.py:353: UserWarning: Some buckets are empty and will be removed. Unused bucket keys=[6]\n",
            "  warnings.warn('Some buckets are empty and will be removed. Unused bucket keys=%s' %\n",
            "/usr/local/lib/python3.10/dist-packages/gluonnlp/data/sampler.py:353: UserWarning: Some buckets are empty and will be removed. Unused bucket keys=[7]\n",
            "  warnings.warn('Some buckets are empty and will be removed. Unused bucket keys=%s' %\n",
            "/usr/local/lib/python3.10/dist-packages/gluonnlp/data/sampler.py:353: UserWarning: Some buckets are empty and will be removed. Unused bucket keys=[9]\n",
            "  warnings.warn('Some buckets are empty and will be removed. Unused bucket keys=%s' %\n",
            "/usr/local/lib/python3.10/dist-packages/gluonnlp/data/sampler.py:353: UserWarning: Some buckets are empty and will be removed. Unused bucket keys=[10]\n",
            "  warnings.warn('Some buckets are empty and will be removed. Unused bucket keys=%s' %\n",
            "/usr/local/lib/python3.10/dist-packages/gluonnlp/data/sampler.py:353: UserWarning: Some buckets are empty and will be removed. Unused bucket keys=[11]\n",
            "  warnings.warn('Some buckets are empty and will be removed. Unused bucket keys=%s' %\n",
            "/usr/local/lib/python3.10/dist-packages/gluonnlp/data/sampler.py:353: UserWarning: Some buckets are empty and will be removed. Unused bucket keys=[12]\n",
            "  warnings.warn('Some buckets are empty and will be removed. Unused bucket keys=%s' %\n",
            "/usr/local/lib/python3.10/dist-packages/gluonnlp/data/sampler.py:353: UserWarning: Some buckets are empty and will be removed. Unused bucket keys=[13]\n",
            "  warnings.warn('Some buckets are empty and will be removed. Unused bucket keys=%s' %\n",
            "/usr/local/lib/python3.10/dist-packages/gluonnlp/data/sampler.py:353: UserWarning: Some buckets are empty and will be removed. Unused bucket keys=[14]\n",
            "  warnings.warn('Some buckets are empty and will be removed. Unused bucket keys=%s' %\n",
            "/usr/local/lib/python3.10/dist-packages/gluonnlp/data/sampler.py:353: UserWarning: Some buckets are empty and will be removed. Unused bucket keys=[15]\n",
            "  warnings.warn('Some buckets are empty and will be removed. Unused bucket keys=%s' %\n",
            "/usr/local/lib/python3.10/dist-packages/gluonnlp/data/sampler.py:353: UserWarning: Some buckets are empty and will be removed. Unused bucket keys=[16]\n",
            "  warnings.warn('Some buckets are empty and will be removed. Unused bucket keys=%s' %\n",
            "/usr/local/lib/python3.10/dist-packages/gluonnlp/data/sampler.py:353: UserWarning: Some buckets are empty and will be removed. Unused bucket keys=[18]\n",
            "  warnings.warn('Some buckets are empty and will be removed. Unused bucket keys=%s' %\n"
          ]
        },
        {
          "output_type": "stream",
          "name": "stdout",
          "text": [
            "Finished item 66 of 104\n"
          ]
        },
        {
          "output_type": "stream",
          "name": "stderr",
          "text": [
            "/usr/local/lib/python3.10/dist-packages/gluonnlp/data/sampler.py:353: UserWarning: Some buckets are empty and will be removed. Unused bucket keys=[5]\n",
            "  warnings.warn('Some buckets are empty and will be removed. Unused bucket keys=%s' %\n",
            "/usr/local/lib/python3.10/dist-packages/gluonnlp/data/sampler.py:353: UserWarning: Some buckets are empty and will be removed. Unused bucket keys=[6]\n",
            "  warnings.warn('Some buckets are empty and will be removed. Unused bucket keys=%s' %\n",
            "/usr/local/lib/python3.10/dist-packages/gluonnlp/data/sampler.py:353: UserWarning: Some buckets are empty and will be removed. Unused bucket keys=[7]\n",
            "  warnings.warn('Some buckets are empty and will be removed. Unused bucket keys=%s' %\n",
            "/usr/local/lib/python3.10/dist-packages/gluonnlp/data/sampler.py:353: UserWarning: Some buckets are empty and will be removed. Unused bucket keys=[8]\n",
            "  warnings.warn('Some buckets are empty and will be removed. Unused bucket keys=%s' %\n",
            "/usr/local/lib/python3.10/dist-packages/gluonnlp/data/sampler.py:353: UserWarning: Some buckets are empty and will be removed. Unused bucket keys=[9]\n",
            "  warnings.warn('Some buckets are empty and will be removed. Unused bucket keys=%s' %\n",
            "/usr/local/lib/python3.10/dist-packages/gluonnlp/data/sampler.py:353: UserWarning: Some buckets are empty and will be removed. Unused bucket keys=[10]\n",
            "  warnings.warn('Some buckets are empty and will be removed. Unused bucket keys=%s' %\n",
            "/usr/local/lib/python3.10/dist-packages/gluonnlp/data/sampler.py:353: UserWarning: Some buckets are empty and will be removed. Unused bucket keys=[13]\n",
            "  warnings.warn('Some buckets are empty and will be removed. Unused bucket keys=%s' %\n",
            "/usr/local/lib/python3.10/dist-packages/gluonnlp/data/sampler.py:353: UserWarning: Some buckets are empty and will be removed. Unused bucket keys=[14]\n",
            "  warnings.warn('Some buckets are empty and will be removed. Unused bucket keys=%s' %\n",
            "/usr/local/lib/python3.10/dist-packages/gluonnlp/data/sampler.py:353: UserWarning: Some buckets are empty and will be removed. Unused bucket keys=[15]\n",
            "  warnings.warn('Some buckets are empty and will be removed. Unused bucket keys=%s' %\n",
            "/usr/local/lib/python3.10/dist-packages/gluonnlp/data/sampler.py:353: UserWarning: Some buckets are empty and will be removed. Unused bucket keys=[16]\n",
            "  warnings.warn('Some buckets are empty and will be removed. Unused bucket keys=%s' %\n",
            "/usr/local/lib/python3.10/dist-packages/gluonnlp/data/sampler.py:353: UserWarning: Some buckets are empty and will be removed. Unused bucket keys=[17]\n",
            "  warnings.warn('Some buckets are empty and will be removed. Unused bucket keys=%s' %\n",
            "/usr/local/lib/python3.10/dist-packages/gluonnlp/data/sampler.py:353: UserWarning: Some buckets are empty and will be removed. Unused bucket keys=[19]\n",
            "  warnings.warn('Some buckets are empty and will be removed. Unused bucket keys=%s' %\n"
          ]
        },
        {
          "output_type": "stream",
          "name": "stdout",
          "text": [
            "Finished item 67 of 104\n"
          ]
        },
        {
          "output_type": "stream",
          "name": "stderr",
          "text": [
            "/usr/local/lib/python3.10/dist-packages/gluonnlp/data/sampler.py:353: UserWarning: Some buckets are empty and will be removed. Unused bucket keys=[5]\n",
            "  warnings.warn('Some buckets are empty and will be removed. Unused bucket keys=%s' %\n",
            "/usr/local/lib/python3.10/dist-packages/gluonnlp/data/sampler.py:353: UserWarning: Some buckets are empty and will be removed. Unused bucket keys=[6]\n",
            "  warnings.warn('Some buckets are empty and will be removed. Unused bucket keys=%s' %\n",
            "/usr/local/lib/python3.10/dist-packages/gluonnlp/data/sampler.py:353: UserWarning: Some buckets are empty and will be removed. Unused bucket keys=[7]\n",
            "  warnings.warn('Some buckets are empty and will be removed. Unused bucket keys=%s' %\n",
            "/usr/local/lib/python3.10/dist-packages/gluonnlp/data/sampler.py:353: UserWarning: Some buckets are empty and will be removed. Unused bucket keys=[8]\n",
            "  warnings.warn('Some buckets are empty and will be removed. Unused bucket keys=%s' %\n",
            "/usr/local/lib/python3.10/dist-packages/gluonnlp/data/sampler.py:353: UserWarning: Some buckets are empty and will be removed. Unused bucket keys=[9]\n",
            "  warnings.warn('Some buckets are empty and will be removed. Unused bucket keys=%s' %\n",
            "/usr/local/lib/python3.10/dist-packages/gluonnlp/data/sampler.py:353: UserWarning: Some buckets are empty and will be removed. Unused bucket keys=[11]\n",
            "  warnings.warn('Some buckets are empty and will be removed. Unused bucket keys=%s' %\n",
            "/usr/local/lib/python3.10/dist-packages/gluonnlp/data/sampler.py:353: UserWarning: Some buckets are empty and will be removed. Unused bucket keys=[12]\n",
            "  warnings.warn('Some buckets are empty and will be removed. Unused bucket keys=%s' %\n",
            "/usr/local/lib/python3.10/dist-packages/gluonnlp/data/sampler.py:353: UserWarning: Some buckets are empty and will be removed. Unused bucket keys=[13]\n",
            "  warnings.warn('Some buckets are empty and will be removed. Unused bucket keys=%s' %\n",
            "/usr/local/lib/python3.10/dist-packages/gluonnlp/data/sampler.py:353: UserWarning: Some buckets are empty and will be removed. Unused bucket keys=[14]\n",
            "  warnings.warn('Some buckets are empty and will be removed. Unused bucket keys=%s' %\n",
            "/usr/local/lib/python3.10/dist-packages/gluonnlp/data/sampler.py:353: UserWarning: Some buckets are empty and will be removed. Unused bucket keys=[16]\n",
            "  warnings.warn('Some buckets are empty and will be removed. Unused bucket keys=%s' %\n"
          ]
        },
        {
          "output_type": "stream",
          "name": "stdout",
          "text": [
            "Finished item 68 of 104\n"
          ]
        },
        {
          "output_type": "stream",
          "name": "stderr",
          "text": [
            "/usr/local/lib/python3.10/dist-packages/gluonnlp/data/sampler.py:353: UserWarning: Some buckets are empty and will be removed. Unused bucket keys=[6]\n",
            "  warnings.warn('Some buckets are empty and will be removed. Unused bucket keys=%s' %\n",
            "/usr/local/lib/python3.10/dist-packages/gluonnlp/data/sampler.py:353: UserWarning: Some buckets are empty and will be removed. Unused bucket keys=[7]\n",
            "  warnings.warn('Some buckets are empty and will be removed. Unused bucket keys=%s' %\n",
            "/usr/local/lib/python3.10/dist-packages/gluonnlp/data/sampler.py:353: UserWarning: Some buckets are empty and will be removed. Unused bucket keys=[8]\n",
            "  warnings.warn('Some buckets are empty and will be removed. Unused bucket keys=%s' %\n",
            "/usr/local/lib/python3.10/dist-packages/gluonnlp/data/sampler.py:353: UserWarning: Some buckets are empty and will be removed. Unused bucket keys=[9]\n",
            "  warnings.warn('Some buckets are empty and will be removed. Unused bucket keys=%s' %\n",
            "/usr/local/lib/python3.10/dist-packages/gluonnlp/data/sampler.py:353: UserWarning: Some buckets are empty and will be removed. Unused bucket keys=[10]\n",
            "  warnings.warn('Some buckets are empty and will be removed. Unused bucket keys=%s' %\n",
            "/usr/local/lib/python3.10/dist-packages/gluonnlp/data/sampler.py:353: UserWarning: Some buckets are empty and will be removed. Unused bucket keys=[11]\n",
            "  warnings.warn('Some buckets are empty and will be removed. Unused bucket keys=%s' %\n",
            "/usr/local/lib/python3.10/dist-packages/gluonnlp/data/sampler.py:353: UserWarning: Some buckets are empty and will be removed. Unused bucket keys=[12]\n",
            "  warnings.warn('Some buckets are empty and will be removed. Unused bucket keys=%s' %\n",
            "/usr/local/lib/python3.10/dist-packages/gluonnlp/data/sampler.py:353: UserWarning: Some buckets are empty and will be removed. Unused bucket keys=[13]\n",
            "  warnings.warn('Some buckets are empty and will be removed. Unused bucket keys=%s' %\n",
            "/usr/local/lib/python3.10/dist-packages/gluonnlp/data/sampler.py:353: UserWarning: Some buckets are empty and will be removed. Unused bucket keys=[14]\n",
            "  warnings.warn('Some buckets are empty and will be removed. Unused bucket keys=%s' %\n",
            "/usr/local/lib/python3.10/dist-packages/gluonnlp/data/sampler.py:353: UserWarning: Some buckets are empty and will be removed. Unused bucket keys=[15]\n",
            "  warnings.warn('Some buckets are empty and will be removed. Unused bucket keys=%s' %\n",
            "/usr/local/lib/python3.10/dist-packages/gluonnlp/data/sampler.py:353: UserWarning: Some buckets are empty and will be removed. Unused bucket keys=[16]\n",
            "  warnings.warn('Some buckets are empty and will be removed. Unused bucket keys=%s' %\n",
            "/usr/local/lib/python3.10/dist-packages/gluonnlp/data/sampler.py:353: UserWarning: Some buckets are empty and will be removed. Unused bucket keys=[18]\n",
            "  warnings.warn('Some buckets are empty and will be removed. Unused bucket keys=%s' %\n"
          ]
        },
        {
          "output_type": "stream",
          "name": "stdout",
          "text": [
            "Finished item 69 of 104\n"
          ]
        },
        {
          "output_type": "stream",
          "name": "stderr",
          "text": [
            "/usr/local/lib/python3.10/dist-packages/gluonnlp/data/sampler.py:353: UserWarning: Some buckets are empty and will be removed. Unused bucket keys=[6]\n",
            "  warnings.warn('Some buckets are empty and will be removed. Unused bucket keys=%s' %\n",
            "/usr/local/lib/python3.10/dist-packages/gluonnlp/data/sampler.py:353: UserWarning: Some buckets are empty and will be removed. Unused bucket keys=[7]\n",
            "  warnings.warn('Some buckets are empty and will be removed. Unused bucket keys=%s' %\n",
            "/usr/local/lib/python3.10/dist-packages/gluonnlp/data/sampler.py:353: UserWarning: Some buckets are empty and will be removed. Unused bucket keys=[8]\n",
            "  warnings.warn('Some buckets are empty and will be removed. Unused bucket keys=%s' %\n",
            "/usr/local/lib/python3.10/dist-packages/gluonnlp/data/sampler.py:353: UserWarning: Some buckets are empty and will be removed. Unused bucket keys=[9]\n",
            "  warnings.warn('Some buckets are empty and will be removed. Unused bucket keys=%s' %\n",
            "/usr/local/lib/python3.10/dist-packages/gluonnlp/data/sampler.py:353: UserWarning: Some buckets are empty and will be removed. Unused bucket keys=[10]\n",
            "  warnings.warn('Some buckets are empty and will be removed. Unused bucket keys=%s' %\n",
            "/usr/local/lib/python3.10/dist-packages/gluonnlp/data/sampler.py:353: UserWarning: Some buckets are empty and will be removed. Unused bucket keys=[11]\n",
            "  warnings.warn('Some buckets are empty and will be removed. Unused bucket keys=%s' %\n",
            "/usr/local/lib/python3.10/dist-packages/gluonnlp/data/sampler.py:353: UserWarning: Some buckets are empty and will be removed. Unused bucket keys=[12]\n",
            "  warnings.warn('Some buckets are empty and will be removed. Unused bucket keys=%s' %\n",
            "/usr/local/lib/python3.10/dist-packages/gluonnlp/data/sampler.py:353: UserWarning: Some buckets are empty and will be removed. Unused bucket keys=[13]\n",
            "  warnings.warn('Some buckets are empty and will be removed. Unused bucket keys=%s' %\n",
            "/usr/local/lib/python3.10/dist-packages/gluonnlp/data/sampler.py:353: UserWarning: Some buckets are empty and will be removed. Unused bucket keys=[14]\n",
            "  warnings.warn('Some buckets are empty and will be removed. Unused bucket keys=%s' %\n",
            "/usr/local/lib/python3.10/dist-packages/gluonnlp/data/sampler.py:353: UserWarning: Some buckets are empty and will be removed. Unused bucket keys=[15]\n",
            "  warnings.warn('Some buckets are empty and will be removed. Unused bucket keys=%s' %\n",
            "/usr/local/lib/python3.10/dist-packages/gluonnlp/data/sampler.py:353: UserWarning: Some buckets are empty and will be removed. Unused bucket keys=[16]\n",
            "  warnings.warn('Some buckets are empty and will be removed. Unused bucket keys=%s' %\n",
            "/usr/local/lib/python3.10/dist-packages/gluonnlp/data/sampler.py:353: UserWarning: Some buckets are empty and will be removed. Unused bucket keys=[17]\n",
            "  warnings.warn('Some buckets are empty and will be removed. Unused bucket keys=%s' %\n",
            "/usr/local/lib/python3.10/dist-packages/gluonnlp/data/sampler.py:353: UserWarning: Some buckets are empty and will be removed. Unused bucket keys=[19]\n",
            "  warnings.warn('Some buckets are empty and will be removed. Unused bucket keys=%s' %\n"
          ]
        },
        {
          "output_type": "stream",
          "name": "stdout",
          "text": [
            "Finished item 70 of 104\n"
          ]
        },
        {
          "output_type": "stream",
          "name": "stderr",
          "text": [
            "/usr/local/lib/python3.10/dist-packages/gluonnlp/data/sampler.py:353: UserWarning: Some buckets are empty and will be removed. Unused bucket keys=[5]\n",
            "  warnings.warn('Some buckets are empty and will be removed. Unused bucket keys=%s' %\n",
            "/usr/local/lib/python3.10/dist-packages/gluonnlp/data/sampler.py:353: UserWarning: Some buckets are empty and will be removed. Unused bucket keys=[6]\n",
            "  warnings.warn('Some buckets are empty and will be removed. Unused bucket keys=%s' %\n",
            "/usr/local/lib/python3.10/dist-packages/gluonnlp/data/sampler.py:353: UserWarning: Some buckets are empty and will be removed. Unused bucket keys=[7]\n",
            "  warnings.warn('Some buckets are empty and will be removed. Unused bucket keys=%s' %\n",
            "/usr/local/lib/python3.10/dist-packages/gluonnlp/data/sampler.py:353: UserWarning: Some buckets are empty and will be removed. Unused bucket keys=[8]\n",
            "  warnings.warn('Some buckets are empty and will be removed. Unused bucket keys=%s' %\n",
            "/usr/local/lib/python3.10/dist-packages/gluonnlp/data/sampler.py:353: UserWarning: Some buckets are empty and will be removed. Unused bucket keys=[9]\n",
            "  warnings.warn('Some buckets are empty and will be removed. Unused bucket keys=%s' %\n",
            "/usr/local/lib/python3.10/dist-packages/gluonnlp/data/sampler.py:353: UserWarning: Some buckets are empty and will be removed. Unused bucket keys=[10]\n",
            "  warnings.warn('Some buckets are empty and will be removed. Unused bucket keys=%s' %\n",
            "/usr/local/lib/python3.10/dist-packages/gluonnlp/data/sampler.py:353: UserWarning: Some buckets are empty and will be removed. Unused bucket keys=[11]\n",
            "  warnings.warn('Some buckets are empty and will be removed. Unused bucket keys=%s' %\n",
            "/usr/local/lib/python3.10/dist-packages/gluonnlp/data/sampler.py:353: UserWarning: Some buckets are empty and will be removed. Unused bucket keys=[12]\n",
            "  warnings.warn('Some buckets are empty and will be removed. Unused bucket keys=%s' %\n",
            "/usr/local/lib/python3.10/dist-packages/gluonnlp/data/sampler.py:353: UserWarning: Some buckets are empty and will be removed. Unused bucket keys=[13]\n",
            "  warnings.warn('Some buckets are empty and will be removed. Unused bucket keys=%s' %\n",
            "/usr/local/lib/python3.10/dist-packages/gluonnlp/data/sampler.py:353: UserWarning: Some buckets are empty and will be removed. Unused bucket keys=[15]\n",
            "  warnings.warn('Some buckets are empty and will be removed. Unused bucket keys=%s' %\n",
            "/usr/local/lib/python3.10/dist-packages/gluonnlp/data/sampler.py:353: UserWarning: Some buckets are empty and will be removed. Unused bucket keys=[16]\n",
            "  warnings.warn('Some buckets are empty and will be removed. Unused bucket keys=%s' %\n",
            "/usr/local/lib/python3.10/dist-packages/gluonnlp/data/sampler.py:353: UserWarning: Some buckets are empty and will be removed. Unused bucket keys=[17]\n",
            "  warnings.warn('Some buckets are empty and will be removed. Unused bucket keys=%s' %\n",
            "/usr/local/lib/python3.10/dist-packages/gluonnlp/data/sampler.py:353: UserWarning: Some buckets are empty and will be removed. Unused bucket keys=[19]\n",
            "  warnings.warn('Some buckets are empty and will be removed. Unused bucket keys=%s' %\n"
          ]
        },
        {
          "output_type": "stream",
          "name": "stdout",
          "text": [
            "Finished item 71 of 104\n"
          ]
        },
        {
          "output_type": "stream",
          "name": "stderr",
          "text": [
            "/usr/local/lib/python3.10/dist-packages/gluonnlp/data/sampler.py:353: UserWarning: Some buckets are empty and will be removed. Unused bucket keys=[5]\n",
            "  warnings.warn('Some buckets are empty and will be removed. Unused bucket keys=%s' %\n",
            "/usr/local/lib/python3.10/dist-packages/gluonnlp/data/sampler.py:353: UserWarning: Some buckets are empty and will be removed. Unused bucket keys=[6]\n",
            "  warnings.warn('Some buckets are empty and will be removed. Unused bucket keys=%s' %\n",
            "/usr/local/lib/python3.10/dist-packages/gluonnlp/data/sampler.py:353: UserWarning: Some buckets are empty and will be removed. Unused bucket keys=[7]\n",
            "  warnings.warn('Some buckets are empty and will be removed. Unused bucket keys=%s' %\n",
            "/usr/local/lib/python3.10/dist-packages/gluonnlp/data/sampler.py:353: UserWarning: Some buckets are empty and will be removed. Unused bucket keys=[8]\n",
            "  warnings.warn('Some buckets are empty and will be removed. Unused bucket keys=%s' %\n",
            "/usr/local/lib/python3.10/dist-packages/gluonnlp/data/sampler.py:353: UserWarning: Some buckets are empty and will be removed. Unused bucket keys=[11]\n",
            "  warnings.warn('Some buckets are empty and will be removed. Unused bucket keys=%s' %\n",
            "/usr/local/lib/python3.10/dist-packages/gluonnlp/data/sampler.py:353: UserWarning: Some buckets are empty and will be removed. Unused bucket keys=[12]\n",
            "  warnings.warn('Some buckets are empty and will be removed. Unused bucket keys=%s' %\n",
            "/usr/local/lib/python3.10/dist-packages/gluonnlp/data/sampler.py:353: UserWarning: Some buckets are empty and will be removed. Unused bucket keys=[14]\n",
            "  warnings.warn('Some buckets are empty and will be removed. Unused bucket keys=%s' %\n",
            "/usr/local/lib/python3.10/dist-packages/gluonnlp/data/sampler.py:353: UserWarning: Some buckets are empty and will be removed. Unused bucket keys=[15]\n",
            "  warnings.warn('Some buckets are empty and will be removed. Unused bucket keys=%s' %\n",
            "/usr/local/lib/python3.10/dist-packages/gluonnlp/data/sampler.py:353: UserWarning: Some buckets are empty and will be removed. Unused bucket keys=[16]\n",
            "  warnings.warn('Some buckets are empty and will be removed. Unused bucket keys=%s' %\n",
            "/usr/local/lib/python3.10/dist-packages/gluonnlp/data/sampler.py:353: UserWarning: Some buckets are empty and will be removed. Unused bucket keys=[17]\n",
            "  warnings.warn('Some buckets are empty and will be removed. Unused bucket keys=%s' %\n",
            "/usr/local/lib/python3.10/dist-packages/gluonnlp/data/sampler.py:353: UserWarning: Some buckets are empty and will be removed. Unused bucket keys=[20]\n",
            "  warnings.warn('Some buckets are empty and will be removed. Unused bucket keys=%s' %\n"
          ]
        },
        {
          "output_type": "stream",
          "name": "stdout",
          "text": [
            "Finished item 72 of 104\n"
          ]
        },
        {
          "output_type": "stream",
          "name": "stderr",
          "text": [
            "/usr/local/lib/python3.10/dist-packages/gluonnlp/data/sampler.py:353: UserWarning: Some buckets are empty and will be removed. Unused bucket keys=[6]\n",
            "  warnings.warn('Some buckets are empty and will be removed. Unused bucket keys=%s' %\n",
            "/usr/local/lib/python3.10/dist-packages/gluonnlp/data/sampler.py:353: UserWarning: Some buckets are empty and will be removed. Unused bucket keys=[7]\n",
            "  warnings.warn('Some buckets are empty and will be removed. Unused bucket keys=%s' %\n",
            "/usr/local/lib/python3.10/dist-packages/gluonnlp/data/sampler.py:353: UserWarning: Some buckets are empty and will be removed. Unused bucket keys=[9]\n",
            "  warnings.warn('Some buckets are empty and will be removed. Unused bucket keys=%s' %\n",
            "/usr/local/lib/python3.10/dist-packages/gluonnlp/data/sampler.py:353: UserWarning: Some buckets are empty and will be removed. Unused bucket keys=[10]\n",
            "  warnings.warn('Some buckets are empty and will be removed. Unused bucket keys=%s' %\n",
            "/usr/local/lib/python3.10/dist-packages/gluonnlp/data/sampler.py:353: UserWarning: Some buckets are empty and will be removed. Unused bucket keys=[11]\n",
            "  warnings.warn('Some buckets are empty and will be removed. Unused bucket keys=%s' %\n",
            "/usr/local/lib/python3.10/dist-packages/gluonnlp/data/sampler.py:353: UserWarning: Some buckets are empty and will be removed. Unused bucket keys=[12]\n",
            "  warnings.warn('Some buckets are empty and will be removed. Unused bucket keys=%s' %\n",
            "/usr/local/lib/python3.10/dist-packages/gluonnlp/data/sampler.py:353: UserWarning: Some buckets are empty and will be removed. Unused bucket keys=[13]\n",
            "  warnings.warn('Some buckets are empty and will be removed. Unused bucket keys=%s' %\n",
            "/usr/local/lib/python3.10/dist-packages/gluonnlp/data/sampler.py:353: UserWarning: Some buckets are empty and will be removed. Unused bucket keys=[14]\n",
            "  warnings.warn('Some buckets are empty and will be removed. Unused bucket keys=%s' %\n",
            "/usr/local/lib/python3.10/dist-packages/gluonnlp/data/sampler.py:353: UserWarning: Some buckets are empty and will be removed. Unused bucket keys=[16]\n",
            "  warnings.warn('Some buckets are empty and will be removed. Unused bucket keys=%s' %\n",
            "/usr/local/lib/python3.10/dist-packages/gluonnlp/data/sampler.py:353: UserWarning: Some buckets are empty and will be removed. Unused bucket keys=[17]\n",
            "  warnings.warn('Some buckets are empty and will be removed. Unused bucket keys=%s' %\n",
            "/usr/local/lib/python3.10/dist-packages/gluonnlp/data/sampler.py:353: UserWarning: Some buckets are empty and will be removed. Unused bucket keys=[19]\n",
            "  warnings.warn('Some buckets are empty and will be removed. Unused bucket keys=%s' %\n"
          ]
        },
        {
          "output_type": "stream",
          "name": "stdout",
          "text": [
            "Finished item 73 of 104\n"
          ]
        },
        {
          "output_type": "stream",
          "name": "stderr",
          "text": [
            "/usr/local/lib/python3.10/dist-packages/gluonnlp/data/sampler.py:353: UserWarning: Some buckets are empty and will be removed. Unused bucket keys=[5]\n",
            "  warnings.warn('Some buckets are empty and will be removed. Unused bucket keys=%s' %\n",
            "/usr/local/lib/python3.10/dist-packages/gluonnlp/data/sampler.py:353: UserWarning: Some buckets are empty and will be removed. Unused bucket keys=[6]\n",
            "  warnings.warn('Some buckets are empty and will be removed. Unused bucket keys=%s' %\n",
            "/usr/local/lib/python3.10/dist-packages/gluonnlp/data/sampler.py:353: UserWarning: Some buckets are empty and will be removed. Unused bucket keys=[7]\n",
            "  warnings.warn('Some buckets are empty and will be removed. Unused bucket keys=%s' %\n",
            "/usr/local/lib/python3.10/dist-packages/gluonnlp/data/sampler.py:353: UserWarning: Some buckets are empty and will be removed. Unused bucket keys=[8]\n",
            "  warnings.warn('Some buckets are empty and will be removed. Unused bucket keys=%s' %\n",
            "/usr/local/lib/python3.10/dist-packages/gluonnlp/data/sampler.py:353: UserWarning: Some buckets are empty and will be removed. Unused bucket keys=[9]\n",
            "  warnings.warn('Some buckets are empty and will be removed. Unused bucket keys=%s' %\n",
            "/usr/local/lib/python3.10/dist-packages/gluonnlp/data/sampler.py:353: UserWarning: Some buckets are empty and will be removed. Unused bucket keys=[10]\n",
            "  warnings.warn('Some buckets are empty and will be removed. Unused bucket keys=%s' %\n",
            "/usr/local/lib/python3.10/dist-packages/gluonnlp/data/sampler.py:353: UserWarning: Some buckets are empty and will be removed. Unused bucket keys=[11]\n",
            "  warnings.warn('Some buckets are empty and will be removed. Unused bucket keys=%s' %\n",
            "/usr/local/lib/python3.10/dist-packages/gluonnlp/data/sampler.py:353: UserWarning: Some buckets are empty and will be removed. Unused bucket keys=[12]\n",
            "  warnings.warn('Some buckets are empty and will be removed. Unused bucket keys=%s' %\n",
            "/usr/local/lib/python3.10/dist-packages/gluonnlp/data/sampler.py:353: UserWarning: Some buckets are empty and will be removed. Unused bucket keys=[13]\n",
            "  warnings.warn('Some buckets are empty and will be removed. Unused bucket keys=%s' %\n",
            "/usr/local/lib/python3.10/dist-packages/gluonnlp/data/sampler.py:353: UserWarning: Some buckets are empty and will be removed. Unused bucket keys=[14]\n",
            "  warnings.warn('Some buckets are empty and will be removed. Unused bucket keys=%s' %\n",
            "/usr/local/lib/python3.10/dist-packages/gluonnlp/data/sampler.py:353: UserWarning: Some buckets are empty and will be removed. Unused bucket keys=[17]\n",
            "  warnings.warn('Some buckets are empty and will be removed. Unused bucket keys=%s' %\n",
            "/usr/local/lib/python3.10/dist-packages/gluonnlp/data/sampler.py:353: UserWarning: Some buckets are empty and will be removed. Unused bucket keys=[19]\n",
            "  warnings.warn('Some buckets are empty and will be removed. Unused bucket keys=%s' %\n"
          ]
        },
        {
          "output_type": "stream",
          "name": "stdout",
          "text": [
            "Finished item 74 of 104\n"
          ]
        },
        {
          "output_type": "stream",
          "name": "stderr",
          "text": [
            "/usr/local/lib/python3.10/dist-packages/gluonnlp/data/sampler.py:353: UserWarning: Some buckets are empty and will be removed. Unused bucket keys=[6]\n",
            "  warnings.warn('Some buckets are empty and will be removed. Unused bucket keys=%s' %\n",
            "/usr/local/lib/python3.10/dist-packages/gluonnlp/data/sampler.py:353: UserWarning: Some buckets are empty and will be removed. Unused bucket keys=[7]\n",
            "  warnings.warn('Some buckets are empty and will be removed. Unused bucket keys=%s' %\n",
            "/usr/local/lib/python3.10/dist-packages/gluonnlp/data/sampler.py:353: UserWarning: Some buckets are empty and will be removed. Unused bucket keys=[8]\n",
            "  warnings.warn('Some buckets are empty and will be removed. Unused bucket keys=%s' %\n",
            "/usr/local/lib/python3.10/dist-packages/gluonnlp/data/sampler.py:353: UserWarning: Some buckets are empty and will be removed. Unused bucket keys=[9]\n",
            "  warnings.warn('Some buckets are empty and will be removed. Unused bucket keys=%s' %\n",
            "/usr/local/lib/python3.10/dist-packages/gluonnlp/data/sampler.py:353: UserWarning: Some buckets are empty and will be removed. Unused bucket keys=[11]\n",
            "  warnings.warn('Some buckets are empty and will be removed. Unused bucket keys=%s' %\n",
            "/usr/local/lib/python3.10/dist-packages/gluonnlp/data/sampler.py:353: UserWarning: Some buckets are empty and will be removed. Unused bucket keys=[12]\n",
            "  warnings.warn('Some buckets are empty and will be removed. Unused bucket keys=%s' %\n",
            "/usr/local/lib/python3.10/dist-packages/gluonnlp/data/sampler.py:353: UserWarning: Some buckets are empty and will be removed. Unused bucket keys=[13]\n",
            "  warnings.warn('Some buckets are empty and will be removed. Unused bucket keys=%s' %\n",
            "/usr/local/lib/python3.10/dist-packages/gluonnlp/data/sampler.py:353: UserWarning: Some buckets are empty and will be removed. Unused bucket keys=[14]\n",
            "  warnings.warn('Some buckets are empty and will be removed. Unused bucket keys=%s' %\n",
            "/usr/local/lib/python3.10/dist-packages/gluonnlp/data/sampler.py:353: UserWarning: Some buckets are empty and will be removed. Unused bucket keys=[15]\n",
            "  warnings.warn('Some buckets are empty and will be removed. Unused bucket keys=%s' %\n",
            "/usr/local/lib/python3.10/dist-packages/gluonnlp/data/sampler.py:353: UserWarning: Some buckets are empty and will be removed. Unused bucket keys=[16]\n",
            "  warnings.warn('Some buckets are empty and will be removed. Unused bucket keys=%s' %\n",
            "/usr/local/lib/python3.10/dist-packages/gluonnlp/data/sampler.py:353: UserWarning: Some buckets are empty and will be removed. Unused bucket keys=[17]\n",
            "  warnings.warn('Some buckets are empty and will be removed. Unused bucket keys=%s' %\n",
            "/usr/local/lib/python3.10/dist-packages/gluonnlp/data/sampler.py:353: UserWarning: Some buckets are empty and will be removed. Unused bucket keys=[18]\n",
            "  warnings.warn('Some buckets are empty and will be removed. Unused bucket keys=%s' %\n",
            "/usr/local/lib/python3.10/dist-packages/gluonnlp/data/sampler.py:353: UserWarning: Some buckets are empty and will be removed. Unused bucket keys=[20]\n",
            "  warnings.warn('Some buckets are empty and will be removed. Unused bucket keys=%s' %\n"
          ]
        },
        {
          "output_type": "stream",
          "name": "stdout",
          "text": [
            "Finished item 75 of 104\n"
          ]
        },
        {
          "output_type": "stream",
          "name": "stderr",
          "text": [
            "/usr/local/lib/python3.10/dist-packages/gluonnlp/data/sampler.py:353: UserWarning: Some buckets are empty and will be removed. Unused bucket keys=[5]\n",
            "  warnings.warn('Some buckets are empty and will be removed. Unused bucket keys=%s' %\n",
            "/usr/local/lib/python3.10/dist-packages/gluonnlp/data/sampler.py:353: UserWarning: Some buckets are empty and will be removed. Unused bucket keys=[6]\n",
            "  warnings.warn('Some buckets are empty and will be removed. Unused bucket keys=%s' %\n",
            "/usr/local/lib/python3.10/dist-packages/gluonnlp/data/sampler.py:353: UserWarning: Some buckets are empty and will be removed. Unused bucket keys=[7]\n",
            "  warnings.warn('Some buckets are empty and will be removed. Unused bucket keys=%s' %\n",
            "/usr/local/lib/python3.10/dist-packages/gluonnlp/data/sampler.py:353: UserWarning: Some buckets are empty and will be removed. Unused bucket keys=[9]\n",
            "  warnings.warn('Some buckets are empty and will be removed. Unused bucket keys=%s' %\n",
            "/usr/local/lib/python3.10/dist-packages/gluonnlp/data/sampler.py:353: UserWarning: Some buckets are empty and will be removed. Unused bucket keys=[10]\n",
            "  warnings.warn('Some buckets are empty and will be removed. Unused bucket keys=%s' %\n",
            "/usr/local/lib/python3.10/dist-packages/gluonnlp/data/sampler.py:353: UserWarning: Some buckets are empty and will be removed. Unused bucket keys=[11]\n",
            "  warnings.warn('Some buckets are empty and will be removed. Unused bucket keys=%s' %\n",
            "/usr/local/lib/python3.10/dist-packages/gluonnlp/data/sampler.py:353: UserWarning: Some buckets are empty and will be removed. Unused bucket keys=[14]\n",
            "  warnings.warn('Some buckets are empty and will be removed. Unused bucket keys=%s' %\n",
            "/usr/local/lib/python3.10/dist-packages/gluonnlp/data/sampler.py:353: UserWarning: Some buckets are empty and will be removed. Unused bucket keys=[15]\n",
            "  warnings.warn('Some buckets are empty and will be removed. Unused bucket keys=%s' %\n",
            "/usr/local/lib/python3.10/dist-packages/gluonnlp/data/sampler.py:353: UserWarning: Some buckets are empty and will be removed. Unused bucket keys=[16]\n",
            "  warnings.warn('Some buckets are empty and will be removed. Unused bucket keys=%s' %\n",
            "/usr/local/lib/python3.10/dist-packages/gluonnlp/data/sampler.py:353: UserWarning: Some buckets are empty and will be removed. Unused bucket keys=[18]\n",
            "  warnings.warn('Some buckets are empty and will be removed. Unused bucket keys=%s' %\n"
          ]
        },
        {
          "output_type": "stream",
          "name": "stdout",
          "text": [
            "Finished item 76 of 104\n"
          ]
        },
        {
          "output_type": "stream",
          "name": "stderr",
          "text": [
            "/usr/local/lib/python3.10/dist-packages/gluonnlp/data/sampler.py:353: UserWarning: Some buckets are empty and will be removed. Unused bucket keys=[5]\n",
            "  warnings.warn('Some buckets are empty and will be removed. Unused bucket keys=%s' %\n",
            "/usr/local/lib/python3.10/dist-packages/gluonnlp/data/sampler.py:353: UserWarning: Some buckets are empty and will be removed. Unused bucket keys=[6]\n",
            "  warnings.warn('Some buckets are empty and will be removed. Unused bucket keys=%s' %\n",
            "/usr/local/lib/python3.10/dist-packages/gluonnlp/data/sampler.py:353: UserWarning: Some buckets are empty and will be removed. Unused bucket keys=[7]\n",
            "  warnings.warn('Some buckets are empty and will be removed. Unused bucket keys=%s' %\n",
            "/usr/local/lib/python3.10/dist-packages/gluonnlp/data/sampler.py:353: UserWarning: Some buckets are empty and will be removed. Unused bucket keys=[8]\n",
            "  warnings.warn('Some buckets are empty and will be removed. Unused bucket keys=%s' %\n",
            "/usr/local/lib/python3.10/dist-packages/gluonnlp/data/sampler.py:353: UserWarning: Some buckets are empty and will be removed. Unused bucket keys=[12]\n",
            "  warnings.warn('Some buckets are empty and will be removed. Unused bucket keys=%s' %\n",
            "/usr/local/lib/python3.10/dist-packages/gluonnlp/data/sampler.py:353: UserWarning: Some buckets are empty and will be removed. Unused bucket keys=[13]\n",
            "  warnings.warn('Some buckets are empty and will be removed. Unused bucket keys=%s' %\n",
            "/usr/local/lib/python3.10/dist-packages/gluonnlp/data/sampler.py:353: UserWarning: Some buckets are empty and will be removed. Unused bucket keys=[14]\n",
            "  warnings.warn('Some buckets are empty and will be removed. Unused bucket keys=%s' %\n",
            "/usr/local/lib/python3.10/dist-packages/gluonnlp/data/sampler.py:353: UserWarning: Some buckets are empty and will be removed. Unused bucket keys=[16]\n",
            "  warnings.warn('Some buckets are empty and will be removed. Unused bucket keys=%s' %\n",
            "/usr/local/lib/python3.10/dist-packages/gluonnlp/data/sampler.py:353: UserWarning: Some buckets are empty and will be removed. Unused bucket keys=[18]\n",
            "  warnings.warn('Some buckets are empty and will be removed. Unused bucket keys=%s' %\n",
            "/usr/local/lib/python3.10/dist-packages/gluonnlp/data/sampler.py:353: UserWarning: Some buckets are empty and will be removed. Unused bucket keys=[20]\n",
            "  warnings.warn('Some buckets are empty and will be removed. Unused bucket keys=%s' %\n"
          ]
        },
        {
          "output_type": "stream",
          "name": "stdout",
          "text": [
            "Finished item 77 of 104\n"
          ]
        },
        {
          "output_type": "stream",
          "name": "stderr",
          "text": [
            "/usr/local/lib/python3.10/dist-packages/gluonnlp/data/sampler.py:353: UserWarning: Some buckets are empty and will be removed. Unused bucket keys=[6]\n",
            "  warnings.warn('Some buckets are empty and will be removed. Unused bucket keys=%s' %\n",
            "/usr/local/lib/python3.10/dist-packages/gluonnlp/data/sampler.py:353: UserWarning: Some buckets are empty and will be removed. Unused bucket keys=[7]\n",
            "  warnings.warn('Some buckets are empty and will be removed. Unused bucket keys=%s' %\n",
            "/usr/local/lib/python3.10/dist-packages/gluonnlp/data/sampler.py:353: UserWarning: Some buckets are empty and will be removed. Unused bucket keys=[10]\n",
            "  warnings.warn('Some buckets are empty and will be removed. Unused bucket keys=%s' %\n",
            "/usr/local/lib/python3.10/dist-packages/gluonnlp/data/sampler.py:353: UserWarning: Some buckets are empty and will be removed. Unused bucket keys=[12]\n",
            "  warnings.warn('Some buckets are empty and will be removed. Unused bucket keys=%s' %\n",
            "/usr/local/lib/python3.10/dist-packages/gluonnlp/data/sampler.py:353: UserWarning: Some buckets are empty and will be removed. Unused bucket keys=[13]\n",
            "  warnings.warn('Some buckets are empty and will be removed. Unused bucket keys=%s' %\n",
            "/usr/local/lib/python3.10/dist-packages/gluonnlp/data/sampler.py:353: UserWarning: Some buckets are empty and will be removed. Unused bucket keys=[14]\n",
            "  warnings.warn('Some buckets are empty and will be removed. Unused bucket keys=%s' %\n",
            "/usr/local/lib/python3.10/dist-packages/gluonnlp/data/sampler.py:353: UserWarning: Some buckets are empty and will be removed. Unused bucket keys=[15]\n",
            "  warnings.warn('Some buckets are empty and will be removed. Unused bucket keys=%s' %\n",
            "/usr/local/lib/python3.10/dist-packages/gluonnlp/data/sampler.py:353: UserWarning: Some buckets are empty and will be removed. Unused bucket keys=[16]\n",
            "  warnings.warn('Some buckets are empty and will be removed. Unused bucket keys=%s' %\n",
            "/usr/local/lib/python3.10/dist-packages/gluonnlp/data/sampler.py:353: UserWarning: Some buckets are empty and will be removed. Unused bucket keys=[17]\n",
            "  warnings.warn('Some buckets are empty and will be removed. Unused bucket keys=%s' %\n",
            "/usr/local/lib/python3.10/dist-packages/gluonnlp/data/sampler.py:353: UserWarning: Some buckets are empty and will be removed. Unused bucket keys=[19]\n",
            "  warnings.warn('Some buckets are empty and will be removed. Unused bucket keys=%s' %\n",
            "/usr/local/lib/python3.10/dist-packages/gluonnlp/data/sampler.py:353: UserWarning: Some buckets are empty and will be removed. Unused bucket keys=[21]\n",
            "  warnings.warn('Some buckets are empty and will be removed. Unused bucket keys=%s' %\n"
          ]
        },
        {
          "output_type": "stream",
          "name": "stdout",
          "text": [
            "Finished item 78 of 104\n"
          ]
        },
        {
          "output_type": "stream",
          "name": "stderr",
          "text": [
            "/usr/local/lib/python3.10/dist-packages/gluonnlp/data/sampler.py:353: UserWarning: Some buckets are empty and will be removed. Unused bucket keys=[5]\n",
            "  warnings.warn('Some buckets are empty and will be removed. Unused bucket keys=%s' %\n",
            "/usr/local/lib/python3.10/dist-packages/gluonnlp/data/sampler.py:353: UserWarning: Some buckets are empty and will be removed. Unused bucket keys=[6]\n",
            "  warnings.warn('Some buckets are empty and will be removed. Unused bucket keys=%s' %\n",
            "/usr/local/lib/python3.10/dist-packages/gluonnlp/data/sampler.py:353: UserWarning: Some buckets are empty and will be removed. Unused bucket keys=[7]\n",
            "  warnings.warn('Some buckets are empty and will be removed. Unused bucket keys=%s' %\n",
            "/usr/local/lib/python3.10/dist-packages/gluonnlp/data/sampler.py:353: UserWarning: Some buckets are empty and will be removed. Unused bucket keys=[8]\n",
            "  warnings.warn('Some buckets are empty and will be removed. Unused bucket keys=%s' %\n",
            "/usr/local/lib/python3.10/dist-packages/gluonnlp/data/sampler.py:353: UserWarning: Some buckets are empty and will be removed. Unused bucket keys=[10]\n",
            "  warnings.warn('Some buckets are empty and will be removed. Unused bucket keys=%s' %\n",
            "/usr/local/lib/python3.10/dist-packages/gluonnlp/data/sampler.py:353: UserWarning: Some buckets are empty and will be removed. Unused bucket keys=[12]\n",
            "  warnings.warn('Some buckets are empty and will be removed. Unused bucket keys=%s' %\n",
            "/usr/local/lib/python3.10/dist-packages/gluonnlp/data/sampler.py:353: UserWarning: Some buckets are empty and will be removed. Unused bucket keys=[13]\n",
            "  warnings.warn('Some buckets are empty and will be removed. Unused bucket keys=%s' %\n",
            "/usr/local/lib/python3.10/dist-packages/gluonnlp/data/sampler.py:353: UserWarning: Some buckets are empty and will be removed. Unused bucket keys=[14]\n",
            "  warnings.warn('Some buckets are empty and will be removed. Unused bucket keys=%s' %\n",
            "/usr/local/lib/python3.10/dist-packages/gluonnlp/data/sampler.py:353: UserWarning: Some buckets are empty and will be removed. Unused bucket keys=[17]\n",
            "  warnings.warn('Some buckets are empty and will be removed. Unused bucket keys=%s' %\n"
          ]
        },
        {
          "output_type": "stream",
          "name": "stdout",
          "text": [
            "Finished item 79 of 104\n"
          ]
        },
        {
          "output_type": "stream",
          "name": "stderr",
          "text": [
            "/usr/local/lib/python3.10/dist-packages/gluonnlp/data/sampler.py:353: UserWarning: Some buckets are empty and will be removed. Unused bucket keys=[5]\n",
            "  warnings.warn('Some buckets are empty and will be removed. Unused bucket keys=%s' %\n",
            "/usr/local/lib/python3.10/dist-packages/gluonnlp/data/sampler.py:353: UserWarning: Some buckets are empty and will be removed. Unused bucket keys=[6]\n",
            "  warnings.warn('Some buckets are empty and will be removed. Unused bucket keys=%s' %\n",
            "/usr/local/lib/python3.10/dist-packages/gluonnlp/data/sampler.py:353: UserWarning: Some buckets are empty and will be removed. Unused bucket keys=[7]\n",
            "  warnings.warn('Some buckets are empty and will be removed. Unused bucket keys=%s' %\n",
            "/usr/local/lib/python3.10/dist-packages/gluonnlp/data/sampler.py:353: UserWarning: Some buckets are empty and will be removed. Unused bucket keys=[8]\n",
            "  warnings.warn('Some buckets are empty and will be removed. Unused bucket keys=%s' %\n",
            "/usr/local/lib/python3.10/dist-packages/gluonnlp/data/sampler.py:353: UserWarning: Some buckets are empty and will be removed. Unused bucket keys=[9]\n",
            "  warnings.warn('Some buckets are empty and will be removed. Unused bucket keys=%s' %\n",
            "/usr/local/lib/python3.10/dist-packages/gluonnlp/data/sampler.py:353: UserWarning: Some buckets are empty and will be removed. Unused bucket keys=[10]\n",
            "  warnings.warn('Some buckets are empty and will be removed. Unused bucket keys=%s' %\n",
            "/usr/local/lib/python3.10/dist-packages/gluonnlp/data/sampler.py:353: UserWarning: Some buckets are empty and will be removed. Unused bucket keys=[11]\n",
            "  warnings.warn('Some buckets are empty and will be removed. Unused bucket keys=%s' %\n",
            "/usr/local/lib/python3.10/dist-packages/gluonnlp/data/sampler.py:353: UserWarning: Some buckets are empty and will be removed. Unused bucket keys=[12]\n",
            "  warnings.warn('Some buckets are empty and will be removed. Unused bucket keys=%s' %\n",
            "/usr/local/lib/python3.10/dist-packages/gluonnlp/data/sampler.py:353: UserWarning: Some buckets are empty and will be removed. Unused bucket keys=[13]\n",
            "  warnings.warn('Some buckets are empty and will be removed. Unused bucket keys=%s' %\n",
            "/usr/local/lib/python3.10/dist-packages/gluonnlp/data/sampler.py:353: UserWarning: Some buckets are empty and will be removed. Unused bucket keys=[14]\n",
            "  warnings.warn('Some buckets are empty and will be removed. Unused bucket keys=%s' %\n",
            "/usr/local/lib/python3.10/dist-packages/gluonnlp/data/sampler.py:353: UserWarning: Some buckets are empty and will be removed. Unused bucket keys=[15]\n",
            "  warnings.warn('Some buckets are empty and will be removed. Unused bucket keys=%s' %\n",
            "/usr/local/lib/python3.10/dist-packages/gluonnlp/data/sampler.py:353: UserWarning: Some buckets are empty and will be removed. Unused bucket keys=[16]\n",
            "  warnings.warn('Some buckets are empty and will be removed. Unused bucket keys=%s' %\n",
            "/usr/local/lib/python3.10/dist-packages/gluonnlp/data/sampler.py:353: UserWarning: Some buckets are empty and will be removed. Unused bucket keys=[17]\n",
            "  warnings.warn('Some buckets are empty and will be removed. Unused bucket keys=%s' %\n",
            "/usr/local/lib/python3.10/dist-packages/gluonnlp/data/sampler.py:353: UserWarning: Some buckets are empty and will be removed. Unused bucket keys=[19]\n",
            "  warnings.warn('Some buckets are empty and will be removed. Unused bucket keys=%s' %\n"
          ]
        },
        {
          "output_type": "stream",
          "name": "stdout",
          "text": [
            "Finished item 80 of 104\n"
          ]
        },
        {
          "output_type": "stream",
          "name": "stderr",
          "text": [
            "/usr/local/lib/python3.10/dist-packages/gluonnlp/data/sampler.py:353: UserWarning: Some buckets are empty and will be removed. Unused bucket keys=[5]\n",
            "  warnings.warn('Some buckets are empty and will be removed. Unused bucket keys=%s' %\n",
            "/usr/local/lib/python3.10/dist-packages/gluonnlp/data/sampler.py:353: UserWarning: Some buckets are empty and will be removed. Unused bucket keys=[6]\n",
            "  warnings.warn('Some buckets are empty and will be removed. Unused bucket keys=%s' %\n",
            "/usr/local/lib/python3.10/dist-packages/gluonnlp/data/sampler.py:353: UserWarning: Some buckets are empty and will be removed. Unused bucket keys=[8]\n",
            "  warnings.warn('Some buckets are empty and will be removed. Unused bucket keys=%s' %\n",
            "/usr/local/lib/python3.10/dist-packages/gluonnlp/data/sampler.py:353: UserWarning: Some buckets are empty and will be removed. Unused bucket keys=[9]\n",
            "  warnings.warn('Some buckets are empty and will be removed. Unused bucket keys=%s' %\n",
            "/usr/local/lib/python3.10/dist-packages/gluonnlp/data/sampler.py:353: UserWarning: Some buckets are empty and will be removed. Unused bucket keys=[10]\n",
            "  warnings.warn('Some buckets are empty and will be removed. Unused bucket keys=%s' %\n",
            "/usr/local/lib/python3.10/dist-packages/gluonnlp/data/sampler.py:353: UserWarning: Some buckets are empty and will be removed. Unused bucket keys=[11]\n",
            "  warnings.warn('Some buckets are empty and will be removed. Unused bucket keys=%s' %\n",
            "/usr/local/lib/python3.10/dist-packages/gluonnlp/data/sampler.py:353: UserWarning: Some buckets are empty and will be removed. Unused bucket keys=[12]\n",
            "  warnings.warn('Some buckets are empty and will be removed. Unused bucket keys=%s' %\n",
            "/usr/local/lib/python3.10/dist-packages/gluonnlp/data/sampler.py:353: UserWarning: Some buckets are empty and will be removed. Unused bucket keys=[13]\n",
            "  warnings.warn('Some buckets are empty and will be removed. Unused bucket keys=%s' %\n",
            "/usr/local/lib/python3.10/dist-packages/gluonnlp/data/sampler.py:353: UserWarning: Some buckets are empty and will be removed. Unused bucket keys=[14]\n",
            "  warnings.warn('Some buckets are empty and will be removed. Unused bucket keys=%s' %\n",
            "/usr/local/lib/python3.10/dist-packages/gluonnlp/data/sampler.py:353: UserWarning: Some buckets are empty and will be removed. Unused bucket keys=[15]\n",
            "  warnings.warn('Some buckets are empty and will be removed. Unused bucket keys=%s' %\n",
            "/usr/local/lib/python3.10/dist-packages/gluonnlp/data/sampler.py:353: UserWarning: Some buckets are empty and will be removed. Unused bucket keys=[16]\n",
            "  warnings.warn('Some buckets are empty and will be removed. Unused bucket keys=%s' %\n",
            "/usr/local/lib/python3.10/dist-packages/gluonnlp/data/sampler.py:353: UserWarning: Some buckets are empty and will be removed. Unused bucket keys=[18]\n",
            "  warnings.warn('Some buckets are empty and will be removed. Unused bucket keys=%s' %\n"
          ]
        },
        {
          "output_type": "stream",
          "name": "stdout",
          "text": [
            "Finished item 81 of 104\n"
          ]
        },
        {
          "output_type": "stream",
          "name": "stderr",
          "text": [
            "/usr/local/lib/python3.10/dist-packages/gluonnlp/data/sampler.py:353: UserWarning: Some buckets are empty and will be removed. Unused bucket keys=[5]\n",
            "  warnings.warn('Some buckets are empty and will be removed. Unused bucket keys=%s' %\n",
            "/usr/local/lib/python3.10/dist-packages/gluonnlp/data/sampler.py:353: UserWarning: Some buckets are empty and will be removed. Unused bucket keys=[7]\n",
            "  warnings.warn('Some buckets are empty and will be removed. Unused bucket keys=%s' %\n",
            "/usr/local/lib/python3.10/dist-packages/gluonnlp/data/sampler.py:353: UserWarning: Some buckets are empty and will be removed. Unused bucket keys=[8]\n",
            "  warnings.warn('Some buckets are empty and will be removed. Unused bucket keys=%s' %\n",
            "/usr/local/lib/python3.10/dist-packages/gluonnlp/data/sampler.py:353: UserWarning: Some buckets are empty and will be removed. Unused bucket keys=[10]\n",
            "  warnings.warn('Some buckets are empty and will be removed. Unused bucket keys=%s' %\n",
            "/usr/local/lib/python3.10/dist-packages/gluonnlp/data/sampler.py:353: UserWarning: Some buckets are empty and will be removed. Unused bucket keys=[12]\n",
            "  warnings.warn('Some buckets are empty and will be removed. Unused bucket keys=%s' %\n",
            "/usr/local/lib/python3.10/dist-packages/gluonnlp/data/sampler.py:353: UserWarning: Some buckets are empty and will be removed. Unused bucket keys=[13]\n",
            "  warnings.warn('Some buckets are empty and will be removed. Unused bucket keys=%s' %\n",
            "/usr/local/lib/python3.10/dist-packages/gluonnlp/data/sampler.py:353: UserWarning: Some buckets are empty and will be removed. Unused bucket keys=[14]\n",
            "  warnings.warn('Some buckets are empty and will be removed. Unused bucket keys=%s' %\n",
            "/usr/local/lib/python3.10/dist-packages/gluonnlp/data/sampler.py:353: UserWarning: Some buckets are empty and will be removed. Unused bucket keys=[15]\n",
            "  warnings.warn('Some buckets are empty and will be removed. Unused bucket keys=%s' %\n",
            "/usr/local/lib/python3.10/dist-packages/gluonnlp/data/sampler.py:353: UserWarning: Some buckets are empty and will be removed. Unused bucket keys=[17]\n",
            "  warnings.warn('Some buckets are empty and will be removed. Unused bucket keys=%s' %\n"
          ]
        },
        {
          "output_type": "stream",
          "name": "stdout",
          "text": [
            "Finished item 82 of 104\n"
          ]
        },
        {
          "output_type": "stream",
          "name": "stderr",
          "text": [
            "/usr/local/lib/python3.10/dist-packages/gluonnlp/data/sampler.py:353: UserWarning: Some buckets are empty and will be removed. Unused bucket keys=[5]\n",
            "  warnings.warn('Some buckets are empty and will be removed. Unused bucket keys=%s' %\n",
            "/usr/local/lib/python3.10/dist-packages/gluonnlp/data/sampler.py:353: UserWarning: Some buckets are empty and will be removed. Unused bucket keys=[6]\n",
            "  warnings.warn('Some buckets are empty and will be removed. Unused bucket keys=%s' %\n",
            "/usr/local/lib/python3.10/dist-packages/gluonnlp/data/sampler.py:353: UserWarning: Some buckets are empty and will be removed. Unused bucket keys=[7]\n",
            "  warnings.warn('Some buckets are empty and will be removed. Unused bucket keys=%s' %\n",
            "/usr/local/lib/python3.10/dist-packages/gluonnlp/data/sampler.py:353: UserWarning: Some buckets are empty and will be removed. Unused bucket keys=[8]\n",
            "  warnings.warn('Some buckets are empty and will be removed. Unused bucket keys=%s' %\n",
            "/usr/local/lib/python3.10/dist-packages/gluonnlp/data/sampler.py:353: UserWarning: Some buckets are empty and will be removed. Unused bucket keys=[9]\n",
            "  warnings.warn('Some buckets are empty and will be removed. Unused bucket keys=%s' %\n",
            "/usr/local/lib/python3.10/dist-packages/gluonnlp/data/sampler.py:353: UserWarning: Some buckets are empty and will be removed. Unused bucket keys=[10]\n",
            "  warnings.warn('Some buckets are empty and will be removed. Unused bucket keys=%s' %\n",
            "/usr/local/lib/python3.10/dist-packages/gluonnlp/data/sampler.py:353: UserWarning: Some buckets are empty and will be removed. Unused bucket keys=[11]\n",
            "  warnings.warn('Some buckets are empty and will be removed. Unused bucket keys=%s' %\n",
            "/usr/local/lib/python3.10/dist-packages/gluonnlp/data/sampler.py:353: UserWarning: Some buckets are empty and will be removed. Unused bucket keys=[12]\n",
            "  warnings.warn('Some buckets are empty and will be removed. Unused bucket keys=%s' %\n",
            "/usr/local/lib/python3.10/dist-packages/gluonnlp/data/sampler.py:353: UserWarning: Some buckets are empty and will be removed. Unused bucket keys=[13]\n",
            "  warnings.warn('Some buckets are empty and will be removed. Unused bucket keys=%s' %\n",
            "/usr/local/lib/python3.10/dist-packages/gluonnlp/data/sampler.py:353: UserWarning: Some buckets are empty and will be removed. Unused bucket keys=[14]\n",
            "  warnings.warn('Some buckets are empty and will be removed. Unused bucket keys=%s' %\n",
            "/usr/local/lib/python3.10/dist-packages/gluonnlp/data/sampler.py:353: UserWarning: Some buckets are empty and will be removed. Unused bucket keys=[15]\n",
            "  warnings.warn('Some buckets are empty and will be removed. Unused bucket keys=%s' %\n",
            "/usr/local/lib/python3.10/dist-packages/gluonnlp/data/sampler.py:353: UserWarning: Some buckets are empty and will be removed. Unused bucket keys=[16]\n",
            "  warnings.warn('Some buckets are empty and will be removed. Unused bucket keys=%s' %\n",
            "/usr/local/lib/python3.10/dist-packages/gluonnlp/data/sampler.py:353: UserWarning: Some buckets are empty and will be removed. Unused bucket keys=[17]\n",
            "  warnings.warn('Some buckets are empty and will be removed. Unused bucket keys=%s' %\n",
            "/usr/local/lib/python3.10/dist-packages/gluonnlp/data/sampler.py:353: UserWarning: Some buckets are empty and will be removed. Unused bucket keys=[19]\n",
            "  warnings.warn('Some buckets are empty and will be removed. Unused bucket keys=%s' %\n"
          ]
        },
        {
          "output_type": "stream",
          "name": "stdout",
          "text": [
            "Finished item 83 of 104\n"
          ]
        },
        {
          "output_type": "stream",
          "name": "stderr",
          "text": [
            "/usr/local/lib/python3.10/dist-packages/gluonnlp/data/sampler.py:353: UserWarning: Some buckets are empty and will be removed. Unused bucket keys=[6]\n",
            "  warnings.warn('Some buckets are empty and will be removed. Unused bucket keys=%s' %\n",
            "/usr/local/lib/python3.10/dist-packages/gluonnlp/data/sampler.py:353: UserWarning: Some buckets are empty and will be removed. Unused bucket keys=[7]\n",
            "  warnings.warn('Some buckets are empty and will be removed. Unused bucket keys=%s' %\n",
            "/usr/local/lib/python3.10/dist-packages/gluonnlp/data/sampler.py:353: UserWarning: Some buckets are empty and will be removed. Unused bucket keys=[8]\n",
            "  warnings.warn('Some buckets are empty and will be removed. Unused bucket keys=%s' %\n",
            "/usr/local/lib/python3.10/dist-packages/gluonnlp/data/sampler.py:353: UserWarning: Some buckets are empty and will be removed. Unused bucket keys=[9]\n",
            "  warnings.warn('Some buckets are empty and will be removed. Unused bucket keys=%s' %\n",
            "/usr/local/lib/python3.10/dist-packages/gluonnlp/data/sampler.py:353: UserWarning: Some buckets are empty and will be removed. Unused bucket keys=[10]\n",
            "  warnings.warn('Some buckets are empty and will be removed. Unused bucket keys=%s' %\n",
            "/usr/local/lib/python3.10/dist-packages/gluonnlp/data/sampler.py:353: UserWarning: Some buckets are empty and will be removed. Unused bucket keys=[11]\n",
            "  warnings.warn('Some buckets are empty and will be removed. Unused bucket keys=%s' %\n",
            "/usr/local/lib/python3.10/dist-packages/gluonnlp/data/sampler.py:353: UserWarning: Some buckets are empty and will be removed. Unused bucket keys=[13]\n",
            "  warnings.warn('Some buckets are empty and will be removed. Unused bucket keys=%s' %\n",
            "/usr/local/lib/python3.10/dist-packages/gluonnlp/data/sampler.py:353: UserWarning: Some buckets are empty and will be removed. Unused bucket keys=[14]\n",
            "  warnings.warn('Some buckets are empty and will be removed. Unused bucket keys=%s' %\n",
            "/usr/local/lib/python3.10/dist-packages/gluonnlp/data/sampler.py:353: UserWarning: Some buckets are empty and will be removed. Unused bucket keys=[15]\n",
            "  warnings.warn('Some buckets are empty and will be removed. Unused bucket keys=%s' %\n",
            "/usr/local/lib/python3.10/dist-packages/gluonnlp/data/sampler.py:353: UserWarning: Some buckets are empty and will be removed. Unused bucket keys=[16]\n",
            "  warnings.warn('Some buckets are empty and will be removed. Unused bucket keys=%s' %\n",
            "/usr/local/lib/python3.10/dist-packages/gluonnlp/data/sampler.py:353: UserWarning: Some buckets are empty and will be removed. Unused bucket keys=[19]\n",
            "  warnings.warn('Some buckets are empty and will be removed. Unused bucket keys=%s' %\n",
            "/usr/local/lib/python3.10/dist-packages/gluonnlp/data/sampler.py:353: UserWarning: Some buckets are empty and will be removed. Unused bucket keys=[20]\n",
            "  warnings.warn('Some buckets are empty and will be removed. Unused bucket keys=%s' %\n",
            "/usr/local/lib/python3.10/dist-packages/gluonnlp/data/sampler.py:353: UserWarning: Some buckets are empty and will be removed. Unused bucket keys=[22]\n",
            "  warnings.warn('Some buckets are empty and will be removed. Unused bucket keys=%s' %\n"
          ]
        },
        {
          "output_type": "stream",
          "name": "stdout",
          "text": [
            "Finished item 84 of 104\n"
          ]
        },
        {
          "output_type": "stream",
          "name": "stderr",
          "text": [
            "/usr/local/lib/python3.10/dist-packages/gluonnlp/data/sampler.py:353: UserWarning: Some buckets are empty and will be removed. Unused bucket keys=[5]\n",
            "  warnings.warn('Some buckets are empty and will be removed. Unused bucket keys=%s' %\n",
            "/usr/local/lib/python3.10/dist-packages/gluonnlp/data/sampler.py:353: UserWarning: Some buckets are empty and will be removed. Unused bucket keys=[6]\n",
            "  warnings.warn('Some buckets are empty and will be removed. Unused bucket keys=%s' %\n",
            "/usr/local/lib/python3.10/dist-packages/gluonnlp/data/sampler.py:353: UserWarning: Some buckets are empty and will be removed. Unused bucket keys=[7]\n",
            "  warnings.warn('Some buckets are empty and will be removed. Unused bucket keys=%s' %\n",
            "/usr/local/lib/python3.10/dist-packages/gluonnlp/data/sampler.py:353: UserWarning: Some buckets are empty and will be removed. Unused bucket keys=[8]\n",
            "  warnings.warn('Some buckets are empty and will be removed. Unused bucket keys=%s' %\n",
            "/usr/local/lib/python3.10/dist-packages/gluonnlp/data/sampler.py:353: UserWarning: Some buckets are empty and will be removed. Unused bucket keys=[9]\n",
            "  warnings.warn('Some buckets are empty and will be removed. Unused bucket keys=%s' %\n",
            "/usr/local/lib/python3.10/dist-packages/gluonnlp/data/sampler.py:353: UserWarning: Some buckets are empty and will be removed. Unused bucket keys=[10]\n",
            "  warnings.warn('Some buckets are empty and will be removed. Unused bucket keys=%s' %\n",
            "/usr/local/lib/python3.10/dist-packages/gluonnlp/data/sampler.py:353: UserWarning: Some buckets are empty and will be removed. Unused bucket keys=[11]\n",
            "  warnings.warn('Some buckets are empty and will be removed. Unused bucket keys=%s' %\n",
            "/usr/local/lib/python3.10/dist-packages/gluonnlp/data/sampler.py:353: UserWarning: Some buckets are empty and will be removed. Unused bucket keys=[12]\n",
            "  warnings.warn('Some buckets are empty and will be removed. Unused bucket keys=%s' %\n",
            "/usr/local/lib/python3.10/dist-packages/gluonnlp/data/sampler.py:353: UserWarning: Some buckets are empty and will be removed. Unused bucket keys=[13]\n",
            "  warnings.warn('Some buckets are empty and will be removed. Unused bucket keys=%s' %\n",
            "/usr/local/lib/python3.10/dist-packages/gluonnlp/data/sampler.py:353: UserWarning: Some buckets are empty and will be removed. Unused bucket keys=[14]\n",
            "  warnings.warn('Some buckets are empty and will be removed. Unused bucket keys=%s' %\n",
            "/usr/local/lib/python3.10/dist-packages/gluonnlp/data/sampler.py:353: UserWarning: Some buckets are empty and will be removed. Unused bucket keys=[15]\n",
            "  warnings.warn('Some buckets are empty and will be removed. Unused bucket keys=%s' %\n",
            "/usr/local/lib/python3.10/dist-packages/gluonnlp/data/sampler.py:353: UserWarning: Some buckets are empty and will be removed. Unused bucket keys=[16]\n",
            "  warnings.warn('Some buckets are empty and will be removed. Unused bucket keys=%s' %\n",
            "/usr/local/lib/python3.10/dist-packages/gluonnlp/data/sampler.py:353: UserWarning: Some buckets are empty and will be removed. Unused bucket keys=[17]\n",
            "  warnings.warn('Some buckets are empty and will be removed. Unused bucket keys=%s' %\n",
            "/usr/local/lib/python3.10/dist-packages/gluonnlp/data/sampler.py:353: UserWarning: Some buckets are empty and will be removed. Unused bucket keys=[19]\n",
            "  warnings.warn('Some buckets are empty and will be removed. Unused bucket keys=%s' %\n"
          ]
        },
        {
          "output_type": "stream",
          "name": "stdout",
          "text": [
            "Finished item 85 of 104\n"
          ]
        },
        {
          "output_type": "stream",
          "name": "stderr",
          "text": [
            "/usr/local/lib/python3.10/dist-packages/gluonnlp/data/sampler.py:353: UserWarning: Some buckets are empty and will be removed. Unused bucket keys=[5]\n",
            "  warnings.warn('Some buckets are empty and will be removed. Unused bucket keys=%s' %\n",
            "/usr/local/lib/python3.10/dist-packages/gluonnlp/data/sampler.py:353: UserWarning: Some buckets are empty and will be removed. Unused bucket keys=[6]\n",
            "  warnings.warn('Some buckets are empty and will be removed. Unused bucket keys=%s' %\n",
            "/usr/local/lib/python3.10/dist-packages/gluonnlp/data/sampler.py:353: UserWarning: Some buckets are empty and will be removed. Unused bucket keys=[7]\n",
            "  warnings.warn('Some buckets are empty and will be removed. Unused bucket keys=%s' %\n",
            "/usr/local/lib/python3.10/dist-packages/gluonnlp/data/sampler.py:353: UserWarning: Some buckets are empty and will be removed. Unused bucket keys=[9]\n",
            "  warnings.warn('Some buckets are empty and will be removed. Unused bucket keys=%s' %\n",
            "/usr/local/lib/python3.10/dist-packages/gluonnlp/data/sampler.py:353: UserWarning: Some buckets are empty and will be removed. Unused bucket keys=[10]\n",
            "  warnings.warn('Some buckets are empty and will be removed. Unused bucket keys=%s' %\n",
            "/usr/local/lib/python3.10/dist-packages/gluonnlp/data/sampler.py:353: UserWarning: Some buckets are empty and will be removed. Unused bucket keys=[11]\n",
            "  warnings.warn('Some buckets are empty and will be removed. Unused bucket keys=%s' %\n",
            "/usr/local/lib/python3.10/dist-packages/gluonnlp/data/sampler.py:353: UserWarning: Some buckets are empty and will be removed. Unused bucket keys=[12]\n",
            "  warnings.warn('Some buckets are empty and will be removed. Unused bucket keys=%s' %\n",
            "/usr/local/lib/python3.10/dist-packages/gluonnlp/data/sampler.py:353: UserWarning: Some buckets are empty and will be removed. Unused bucket keys=[13]\n",
            "  warnings.warn('Some buckets are empty and will be removed. Unused bucket keys=%s' %\n",
            "/usr/local/lib/python3.10/dist-packages/gluonnlp/data/sampler.py:353: UserWarning: Some buckets are empty and will be removed. Unused bucket keys=[14]\n",
            "  warnings.warn('Some buckets are empty and will be removed. Unused bucket keys=%s' %\n",
            "/usr/local/lib/python3.10/dist-packages/gluonnlp/data/sampler.py:353: UserWarning: Some buckets are empty and will be removed. Unused bucket keys=[15]\n",
            "  warnings.warn('Some buckets are empty and will be removed. Unused bucket keys=%s' %\n",
            "/usr/local/lib/python3.10/dist-packages/gluonnlp/data/sampler.py:353: UserWarning: Some buckets are empty and will be removed. Unused bucket keys=[16]\n",
            "  warnings.warn('Some buckets are empty and will be removed. Unused bucket keys=%s' %\n",
            "/usr/local/lib/python3.10/dist-packages/gluonnlp/data/sampler.py:353: UserWarning: Some buckets are empty and will be removed. Unused bucket keys=[18]\n",
            "  warnings.warn('Some buckets are empty and will be removed. Unused bucket keys=%s' %\n"
          ]
        },
        {
          "output_type": "stream",
          "name": "stdout",
          "text": [
            "Finished item 86 of 104\n"
          ]
        },
        {
          "output_type": "stream",
          "name": "stderr",
          "text": [
            "/usr/local/lib/python3.10/dist-packages/gluonnlp/data/sampler.py:353: UserWarning: Some buckets are empty and will be removed. Unused bucket keys=[6]\n",
            "  warnings.warn('Some buckets are empty and will be removed. Unused bucket keys=%s' %\n",
            "/usr/local/lib/python3.10/dist-packages/gluonnlp/data/sampler.py:353: UserWarning: Some buckets are empty and will be removed. Unused bucket keys=[7]\n",
            "  warnings.warn('Some buckets are empty and will be removed. Unused bucket keys=%s' %\n",
            "/usr/local/lib/python3.10/dist-packages/gluonnlp/data/sampler.py:353: UserWarning: Some buckets are empty and will be removed. Unused bucket keys=[9]\n",
            "  warnings.warn('Some buckets are empty and will be removed. Unused bucket keys=%s' %\n",
            "/usr/local/lib/python3.10/dist-packages/gluonnlp/data/sampler.py:353: UserWarning: Some buckets are empty and will be removed. Unused bucket keys=[10]\n",
            "  warnings.warn('Some buckets are empty and will be removed. Unused bucket keys=%s' %\n",
            "/usr/local/lib/python3.10/dist-packages/gluonnlp/data/sampler.py:353: UserWarning: Some buckets are empty and will be removed. Unused bucket keys=[11]\n",
            "  warnings.warn('Some buckets are empty and will be removed. Unused bucket keys=%s' %\n",
            "/usr/local/lib/python3.10/dist-packages/gluonnlp/data/sampler.py:353: UserWarning: Some buckets are empty and will be removed. Unused bucket keys=[12]\n",
            "  warnings.warn('Some buckets are empty and will be removed. Unused bucket keys=%s' %\n",
            "/usr/local/lib/python3.10/dist-packages/gluonnlp/data/sampler.py:353: UserWarning: Some buckets are empty and will be removed. Unused bucket keys=[13]\n",
            "  warnings.warn('Some buckets are empty and will be removed. Unused bucket keys=%s' %\n",
            "/usr/local/lib/python3.10/dist-packages/gluonnlp/data/sampler.py:353: UserWarning: Some buckets are empty and will be removed. Unused bucket keys=[14]\n",
            "  warnings.warn('Some buckets are empty and will be removed. Unused bucket keys=%s' %\n",
            "/usr/local/lib/python3.10/dist-packages/gluonnlp/data/sampler.py:353: UserWarning: Some buckets are empty and will be removed. Unused bucket keys=[15]\n",
            "  warnings.warn('Some buckets are empty and will be removed. Unused bucket keys=%s' %\n",
            "/usr/local/lib/python3.10/dist-packages/gluonnlp/data/sampler.py:353: UserWarning: Some buckets are empty and will be removed. Unused bucket keys=[16]\n",
            "  warnings.warn('Some buckets are empty and will be removed. Unused bucket keys=%s' %\n",
            "/usr/local/lib/python3.10/dist-packages/gluonnlp/data/sampler.py:353: UserWarning: Some buckets are empty and will be removed. Unused bucket keys=[17]\n",
            "  warnings.warn('Some buckets are empty and will be removed. Unused bucket keys=%s' %\n",
            "/usr/local/lib/python3.10/dist-packages/gluonnlp/data/sampler.py:353: UserWarning: Some buckets are empty and will be removed. Unused bucket keys=[18]\n",
            "  warnings.warn('Some buckets are empty and will be removed. Unused bucket keys=%s' %\n",
            "/usr/local/lib/python3.10/dist-packages/gluonnlp/data/sampler.py:353: UserWarning: Some buckets are empty and will be removed. Unused bucket keys=[20]\n",
            "  warnings.warn('Some buckets are empty and will be removed. Unused bucket keys=%s' %\n"
          ]
        },
        {
          "output_type": "stream",
          "name": "stdout",
          "text": [
            "Finished item 87 of 104\n"
          ]
        },
        {
          "output_type": "stream",
          "name": "stderr",
          "text": [
            "/usr/local/lib/python3.10/dist-packages/gluonnlp/data/sampler.py:353: UserWarning: Some buckets are empty and will be removed. Unused bucket keys=[5]\n",
            "  warnings.warn('Some buckets are empty and will be removed. Unused bucket keys=%s' %\n",
            "/usr/local/lib/python3.10/dist-packages/gluonnlp/data/sampler.py:353: UserWarning: Some buckets are empty and will be removed. Unused bucket keys=[6]\n",
            "  warnings.warn('Some buckets are empty and will be removed. Unused bucket keys=%s' %\n",
            "/usr/local/lib/python3.10/dist-packages/gluonnlp/data/sampler.py:353: UserWarning: Some buckets are empty and will be removed. Unused bucket keys=[7]\n",
            "  warnings.warn('Some buckets are empty and will be removed. Unused bucket keys=%s' %\n",
            "/usr/local/lib/python3.10/dist-packages/gluonnlp/data/sampler.py:353: UserWarning: Some buckets are empty and will be removed. Unused bucket keys=[8]\n",
            "  warnings.warn('Some buckets are empty and will be removed. Unused bucket keys=%s' %\n",
            "/usr/local/lib/python3.10/dist-packages/gluonnlp/data/sampler.py:353: UserWarning: Some buckets are empty and will be removed. Unused bucket keys=[10]\n",
            "  warnings.warn('Some buckets are empty and will be removed. Unused bucket keys=%s' %\n",
            "/usr/local/lib/python3.10/dist-packages/gluonnlp/data/sampler.py:353: UserWarning: Some buckets are empty and will be removed. Unused bucket keys=[11]\n",
            "  warnings.warn('Some buckets are empty and will be removed. Unused bucket keys=%s' %\n",
            "/usr/local/lib/python3.10/dist-packages/gluonnlp/data/sampler.py:353: UserWarning: Some buckets are empty and will be removed. Unused bucket keys=[12]\n",
            "  warnings.warn('Some buckets are empty and will be removed. Unused bucket keys=%s' %\n",
            "/usr/local/lib/python3.10/dist-packages/gluonnlp/data/sampler.py:353: UserWarning: Some buckets are empty and will be removed. Unused bucket keys=[14]\n",
            "  warnings.warn('Some buckets are empty and will be removed. Unused bucket keys=%s' %\n",
            "/usr/local/lib/python3.10/dist-packages/gluonnlp/data/sampler.py:353: UserWarning: Some buckets are empty and will be removed. Unused bucket keys=[15]\n",
            "  warnings.warn('Some buckets are empty and will be removed. Unused bucket keys=%s' %\n",
            "/usr/local/lib/python3.10/dist-packages/gluonnlp/data/sampler.py:353: UserWarning: Some buckets are empty and will be removed. Unused bucket keys=[16]\n",
            "  warnings.warn('Some buckets are empty and will be removed. Unused bucket keys=%s' %\n",
            "/usr/local/lib/python3.10/dist-packages/gluonnlp/data/sampler.py:353: UserWarning: Some buckets are empty and will be removed. Unused bucket keys=[17]\n",
            "  warnings.warn('Some buckets are empty and will be removed. Unused bucket keys=%s' %\n",
            "/usr/local/lib/python3.10/dist-packages/gluonnlp/data/sampler.py:353: UserWarning: Some buckets are empty and will be removed. Unused bucket keys=[19]\n",
            "  warnings.warn('Some buckets are empty and will be removed. Unused bucket keys=%s' %\n"
          ]
        },
        {
          "output_type": "stream",
          "name": "stdout",
          "text": [
            "Finished item 88 of 104\n"
          ]
        },
        {
          "output_type": "stream",
          "name": "stderr",
          "text": [
            "/usr/local/lib/python3.10/dist-packages/gluonnlp/data/sampler.py:353: UserWarning: Some buckets are empty and will be removed. Unused bucket keys=[5]\n",
            "  warnings.warn('Some buckets are empty and will be removed. Unused bucket keys=%s' %\n",
            "/usr/local/lib/python3.10/dist-packages/gluonnlp/data/sampler.py:353: UserWarning: Some buckets are empty and will be removed. Unused bucket keys=[6]\n",
            "  warnings.warn('Some buckets are empty and will be removed. Unused bucket keys=%s' %\n",
            "/usr/local/lib/python3.10/dist-packages/gluonnlp/data/sampler.py:353: UserWarning: Some buckets are empty and will be removed. Unused bucket keys=[7]\n",
            "  warnings.warn('Some buckets are empty and will be removed. Unused bucket keys=%s' %\n",
            "/usr/local/lib/python3.10/dist-packages/gluonnlp/data/sampler.py:353: UserWarning: Some buckets are empty and will be removed. Unused bucket keys=[9]\n",
            "  warnings.warn('Some buckets are empty and will be removed. Unused bucket keys=%s' %\n",
            "/usr/local/lib/python3.10/dist-packages/gluonnlp/data/sampler.py:353: UserWarning: Some buckets are empty and will be removed. Unused bucket keys=[10]\n",
            "  warnings.warn('Some buckets are empty and will be removed. Unused bucket keys=%s' %\n",
            "/usr/local/lib/python3.10/dist-packages/gluonnlp/data/sampler.py:353: UserWarning: Some buckets are empty and will be removed. Unused bucket keys=[11]\n",
            "  warnings.warn('Some buckets are empty and will be removed. Unused bucket keys=%s' %\n",
            "/usr/local/lib/python3.10/dist-packages/gluonnlp/data/sampler.py:353: UserWarning: Some buckets are empty and will be removed. Unused bucket keys=[13]\n",
            "  warnings.warn('Some buckets are empty and will be removed. Unused bucket keys=%s' %\n",
            "/usr/local/lib/python3.10/dist-packages/gluonnlp/data/sampler.py:353: UserWarning: Some buckets are empty and will be removed. Unused bucket keys=[14]\n",
            "  warnings.warn('Some buckets are empty and will be removed. Unused bucket keys=%s' %\n",
            "/usr/local/lib/python3.10/dist-packages/gluonnlp/data/sampler.py:353: UserWarning: Some buckets are empty and will be removed. Unused bucket keys=[15]\n",
            "  warnings.warn('Some buckets are empty and will be removed. Unused bucket keys=%s' %\n",
            "/usr/local/lib/python3.10/dist-packages/gluonnlp/data/sampler.py:353: UserWarning: Some buckets are empty and will be removed. Unused bucket keys=[16]\n",
            "  warnings.warn('Some buckets are empty and will be removed. Unused bucket keys=%s' %\n",
            "/usr/local/lib/python3.10/dist-packages/gluonnlp/data/sampler.py:353: UserWarning: Some buckets are empty and will be removed. Unused bucket keys=[17]\n",
            "  warnings.warn('Some buckets are empty and will be removed. Unused bucket keys=%s' %\n",
            "/usr/local/lib/python3.10/dist-packages/gluonnlp/data/sampler.py:353: UserWarning: Some buckets are empty and will be removed. Unused bucket keys=[18]\n",
            "  warnings.warn('Some buckets are empty and will be removed. Unused bucket keys=%s' %\n"
          ]
        },
        {
          "output_type": "stream",
          "name": "stdout",
          "text": [
            "Finished item 89 of 104\n"
          ]
        },
        {
          "output_type": "stream",
          "name": "stderr",
          "text": [
            "/usr/local/lib/python3.10/dist-packages/gluonnlp/data/sampler.py:353: UserWarning: Some buckets are empty and will be removed. Unused bucket keys=[5]\n",
            "  warnings.warn('Some buckets are empty and will be removed. Unused bucket keys=%s' %\n",
            "/usr/local/lib/python3.10/dist-packages/gluonnlp/data/sampler.py:353: UserWarning: Some buckets are empty and will be removed. Unused bucket keys=[6]\n",
            "  warnings.warn('Some buckets are empty and will be removed. Unused bucket keys=%s' %\n",
            "/usr/local/lib/python3.10/dist-packages/gluonnlp/data/sampler.py:353: UserWarning: Some buckets are empty and will be removed. Unused bucket keys=[8]\n",
            "  warnings.warn('Some buckets are empty and will be removed. Unused bucket keys=%s' %\n",
            "/usr/local/lib/python3.10/dist-packages/gluonnlp/data/sampler.py:353: UserWarning: Some buckets are empty and will be removed. Unused bucket keys=[9]\n",
            "  warnings.warn('Some buckets are empty and will be removed. Unused bucket keys=%s' %\n",
            "/usr/local/lib/python3.10/dist-packages/gluonnlp/data/sampler.py:353: UserWarning: Some buckets are empty and will be removed. Unused bucket keys=[12]\n",
            "  warnings.warn('Some buckets are empty and will be removed. Unused bucket keys=%s' %\n",
            "/usr/local/lib/python3.10/dist-packages/gluonnlp/data/sampler.py:353: UserWarning: Some buckets are empty and will be removed. Unused bucket keys=[13]\n",
            "  warnings.warn('Some buckets are empty and will be removed. Unused bucket keys=%s' %\n",
            "/usr/local/lib/python3.10/dist-packages/gluonnlp/data/sampler.py:353: UserWarning: Some buckets are empty and will be removed. Unused bucket keys=[14]\n",
            "  warnings.warn('Some buckets are empty and will be removed. Unused bucket keys=%s' %\n",
            "/usr/local/lib/python3.10/dist-packages/gluonnlp/data/sampler.py:353: UserWarning: Some buckets are empty and will be removed. Unused bucket keys=[15]\n",
            "  warnings.warn('Some buckets are empty and will be removed. Unused bucket keys=%s' %\n",
            "/usr/local/lib/python3.10/dist-packages/gluonnlp/data/sampler.py:353: UserWarning: Some buckets are empty and will be removed. Unused bucket keys=[17]\n",
            "  warnings.warn('Some buckets are empty and will be removed. Unused bucket keys=%s' %\n"
          ]
        },
        {
          "output_type": "stream",
          "name": "stdout",
          "text": [
            "Finished item 90 of 104\n"
          ]
        },
        {
          "output_type": "stream",
          "name": "stderr",
          "text": [
            "/usr/local/lib/python3.10/dist-packages/gluonnlp/data/sampler.py:353: UserWarning: Some buckets are empty and will be removed. Unused bucket keys=[5]\n",
            "  warnings.warn('Some buckets are empty and will be removed. Unused bucket keys=%s' %\n",
            "/usr/local/lib/python3.10/dist-packages/gluonnlp/data/sampler.py:353: UserWarning: Some buckets are empty and will be removed. Unused bucket keys=[6]\n",
            "  warnings.warn('Some buckets are empty and will be removed. Unused bucket keys=%s' %\n",
            "/usr/local/lib/python3.10/dist-packages/gluonnlp/data/sampler.py:353: UserWarning: Some buckets are empty and will be removed. Unused bucket keys=[7]\n",
            "  warnings.warn('Some buckets are empty and will be removed. Unused bucket keys=%s' %\n",
            "/usr/local/lib/python3.10/dist-packages/gluonnlp/data/sampler.py:353: UserWarning: Some buckets are empty and will be removed. Unused bucket keys=[8]\n",
            "  warnings.warn('Some buckets are empty and will be removed. Unused bucket keys=%s' %\n",
            "/usr/local/lib/python3.10/dist-packages/gluonnlp/data/sampler.py:353: UserWarning: Some buckets are empty and will be removed. Unused bucket keys=[9]\n",
            "  warnings.warn('Some buckets are empty and will be removed. Unused bucket keys=%s' %\n",
            "/usr/local/lib/python3.10/dist-packages/gluonnlp/data/sampler.py:353: UserWarning: Some buckets are empty and will be removed. Unused bucket keys=[10]\n",
            "  warnings.warn('Some buckets are empty and will be removed. Unused bucket keys=%s' %\n",
            "/usr/local/lib/python3.10/dist-packages/gluonnlp/data/sampler.py:353: UserWarning: Some buckets are empty and will be removed. Unused bucket keys=[11]\n",
            "  warnings.warn('Some buckets are empty and will be removed. Unused bucket keys=%s' %\n",
            "/usr/local/lib/python3.10/dist-packages/gluonnlp/data/sampler.py:353: UserWarning: Some buckets are empty and will be removed. Unused bucket keys=[12]\n",
            "  warnings.warn('Some buckets are empty and will be removed. Unused bucket keys=%s' %\n",
            "/usr/local/lib/python3.10/dist-packages/gluonnlp/data/sampler.py:353: UserWarning: Some buckets are empty and will be removed. Unused bucket keys=[13]\n",
            "  warnings.warn('Some buckets are empty and will be removed. Unused bucket keys=%s' %\n",
            "/usr/local/lib/python3.10/dist-packages/gluonnlp/data/sampler.py:353: UserWarning: Some buckets are empty and will be removed. Unused bucket keys=[14]\n",
            "  warnings.warn('Some buckets are empty and will be removed. Unused bucket keys=%s' %\n",
            "/usr/local/lib/python3.10/dist-packages/gluonnlp/data/sampler.py:353: UserWarning: Some buckets are empty and will be removed. Unused bucket keys=[15]\n",
            "  warnings.warn('Some buckets are empty and will be removed. Unused bucket keys=%s' %\n",
            "/usr/local/lib/python3.10/dist-packages/gluonnlp/data/sampler.py:353: UserWarning: Some buckets are empty and will be removed. Unused bucket keys=[16]\n",
            "  warnings.warn('Some buckets are empty and will be removed. Unused bucket keys=%s' %\n",
            "/usr/local/lib/python3.10/dist-packages/gluonnlp/data/sampler.py:353: UserWarning: Some buckets are empty and will be removed. Unused bucket keys=[18]\n",
            "  warnings.warn('Some buckets are empty and will be removed. Unused bucket keys=%s' %\n"
          ]
        },
        {
          "output_type": "stream",
          "name": "stdout",
          "text": [
            "Finished item 91 of 104\n"
          ]
        },
        {
          "output_type": "stream",
          "name": "stderr",
          "text": [
            "/usr/local/lib/python3.10/dist-packages/gluonnlp/data/sampler.py:353: UserWarning: Some buckets are empty and will be removed. Unused bucket keys=[5]\n",
            "  warnings.warn('Some buckets are empty and will be removed. Unused bucket keys=%s' %\n",
            "/usr/local/lib/python3.10/dist-packages/gluonnlp/data/sampler.py:353: UserWarning: Some buckets are empty and will be removed. Unused bucket keys=[6]\n",
            "  warnings.warn('Some buckets are empty and will be removed. Unused bucket keys=%s' %\n",
            "/usr/local/lib/python3.10/dist-packages/gluonnlp/data/sampler.py:353: UserWarning: Some buckets are empty and will be removed. Unused bucket keys=[7]\n",
            "  warnings.warn('Some buckets are empty and will be removed. Unused bucket keys=%s' %\n",
            "/usr/local/lib/python3.10/dist-packages/gluonnlp/data/sampler.py:353: UserWarning: Some buckets are empty and will be removed. Unused bucket keys=[8]\n",
            "  warnings.warn('Some buckets are empty and will be removed. Unused bucket keys=%s' %\n",
            "/usr/local/lib/python3.10/dist-packages/gluonnlp/data/sampler.py:353: UserWarning: Some buckets are empty and will be removed. Unused bucket keys=[10]\n",
            "  warnings.warn('Some buckets are empty and will be removed. Unused bucket keys=%s' %\n",
            "/usr/local/lib/python3.10/dist-packages/gluonnlp/data/sampler.py:353: UserWarning: Some buckets are empty and will be removed. Unused bucket keys=[11]\n",
            "  warnings.warn('Some buckets are empty and will be removed. Unused bucket keys=%s' %\n",
            "/usr/local/lib/python3.10/dist-packages/gluonnlp/data/sampler.py:353: UserWarning: Some buckets are empty and will be removed. Unused bucket keys=[12]\n",
            "  warnings.warn('Some buckets are empty and will be removed. Unused bucket keys=%s' %\n",
            "/usr/local/lib/python3.10/dist-packages/gluonnlp/data/sampler.py:353: UserWarning: Some buckets are empty and will be removed. Unused bucket keys=[13]\n",
            "  warnings.warn('Some buckets are empty and will be removed. Unused bucket keys=%s' %\n",
            "/usr/local/lib/python3.10/dist-packages/gluonnlp/data/sampler.py:353: UserWarning: Some buckets are empty and will be removed. Unused bucket keys=[14]\n",
            "  warnings.warn('Some buckets are empty and will be removed. Unused bucket keys=%s' %\n",
            "/usr/local/lib/python3.10/dist-packages/gluonnlp/data/sampler.py:353: UserWarning: Some buckets are empty and will be removed. Unused bucket keys=[15]\n",
            "  warnings.warn('Some buckets are empty and will be removed. Unused bucket keys=%s' %\n",
            "/usr/local/lib/python3.10/dist-packages/gluonnlp/data/sampler.py:353: UserWarning: Some buckets are empty and will be removed. Unused bucket keys=[16]\n",
            "  warnings.warn('Some buckets are empty and will be removed. Unused bucket keys=%s' %\n",
            "/usr/local/lib/python3.10/dist-packages/gluonnlp/data/sampler.py:353: UserWarning: Some buckets are empty and will be removed. Unused bucket keys=[17]\n",
            "  warnings.warn('Some buckets are empty and will be removed. Unused bucket keys=%s' %\n",
            "/usr/local/lib/python3.10/dist-packages/gluonnlp/data/sampler.py:353: UserWarning: Some buckets are empty and will be removed. Unused bucket keys=[19]\n",
            "  warnings.warn('Some buckets are empty and will be removed. Unused bucket keys=%s' %\n"
          ]
        },
        {
          "output_type": "stream",
          "name": "stdout",
          "text": [
            "Finished item 92 of 104\n"
          ]
        },
        {
          "output_type": "stream",
          "name": "stderr",
          "text": [
            "/usr/local/lib/python3.10/dist-packages/gluonnlp/data/sampler.py:353: UserWarning: Some buckets are empty and will be removed. Unused bucket keys=[5]\n",
            "  warnings.warn('Some buckets are empty and will be removed. Unused bucket keys=%s' %\n",
            "/usr/local/lib/python3.10/dist-packages/gluonnlp/data/sampler.py:353: UserWarning: Some buckets are empty and will be removed. Unused bucket keys=[6]\n",
            "  warnings.warn('Some buckets are empty and will be removed. Unused bucket keys=%s' %\n",
            "/usr/local/lib/python3.10/dist-packages/gluonnlp/data/sampler.py:353: UserWarning: Some buckets are empty and will be removed. Unused bucket keys=[7]\n",
            "  warnings.warn('Some buckets are empty and will be removed. Unused bucket keys=%s' %\n",
            "/usr/local/lib/python3.10/dist-packages/gluonnlp/data/sampler.py:353: UserWarning: Some buckets are empty and will be removed. Unused bucket keys=[9]\n",
            "  warnings.warn('Some buckets are empty and will be removed. Unused bucket keys=%s' %\n",
            "/usr/local/lib/python3.10/dist-packages/gluonnlp/data/sampler.py:353: UserWarning: Some buckets are empty and will be removed. Unused bucket keys=[10]\n",
            "  warnings.warn('Some buckets are empty and will be removed. Unused bucket keys=%s' %\n",
            "/usr/local/lib/python3.10/dist-packages/gluonnlp/data/sampler.py:353: UserWarning: Some buckets are empty and will be removed. Unused bucket keys=[11]\n",
            "  warnings.warn('Some buckets are empty and will be removed. Unused bucket keys=%s' %\n",
            "/usr/local/lib/python3.10/dist-packages/gluonnlp/data/sampler.py:353: UserWarning: Some buckets are empty and will be removed. Unused bucket keys=[12]\n",
            "  warnings.warn('Some buckets are empty and will be removed. Unused bucket keys=%s' %\n",
            "/usr/local/lib/python3.10/dist-packages/gluonnlp/data/sampler.py:353: UserWarning: Some buckets are empty and will be removed. Unused bucket keys=[15]\n",
            "  warnings.warn('Some buckets are empty and will be removed. Unused bucket keys=%s' %\n",
            "/usr/local/lib/python3.10/dist-packages/gluonnlp/data/sampler.py:353: UserWarning: Some buckets are empty and will be removed. Unused bucket keys=[17]\n",
            "  warnings.warn('Some buckets are empty and will be removed. Unused bucket keys=%s' %\n"
          ]
        },
        {
          "output_type": "stream",
          "name": "stdout",
          "text": [
            "Finished item 93 of 104\n"
          ]
        },
        {
          "output_type": "stream",
          "name": "stderr",
          "text": [
            "/usr/local/lib/python3.10/dist-packages/gluonnlp/data/sampler.py:353: UserWarning: Some buckets are empty and will be removed. Unused bucket keys=[5]\n",
            "  warnings.warn('Some buckets are empty and will be removed. Unused bucket keys=%s' %\n",
            "/usr/local/lib/python3.10/dist-packages/gluonnlp/data/sampler.py:353: UserWarning: Some buckets are empty and will be removed. Unused bucket keys=[6]\n",
            "  warnings.warn('Some buckets are empty and will be removed. Unused bucket keys=%s' %\n",
            "/usr/local/lib/python3.10/dist-packages/gluonnlp/data/sampler.py:353: UserWarning: Some buckets are empty and will be removed. Unused bucket keys=[8]\n",
            "  warnings.warn('Some buckets are empty and will be removed. Unused bucket keys=%s' %\n",
            "/usr/local/lib/python3.10/dist-packages/gluonnlp/data/sampler.py:353: UserWarning: Some buckets are empty and will be removed. Unused bucket keys=[9]\n",
            "  warnings.warn('Some buckets are empty and will be removed. Unused bucket keys=%s' %\n",
            "/usr/local/lib/python3.10/dist-packages/gluonnlp/data/sampler.py:353: UserWarning: Some buckets are empty and will be removed. Unused bucket keys=[10]\n",
            "  warnings.warn('Some buckets are empty and will be removed. Unused bucket keys=%s' %\n",
            "/usr/local/lib/python3.10/dist-packages/gluonnlp/data/sampler.py:353: UserWarning: Some buckets are empty and will be removed. Unused bucket keys=[11]\n",
            "  warnings.warn('Some buckets are empty and will be removed. Unused bucket keys=%s' %\n",
            "/usr/local/lib/python3.10/dist-packages/gluonnlp/data/sampler.py:353: UserWarning: Some buckets are empty and will be removed. Unused bucket keys=[12]\n",
            "  warnings.warn('Some buckets are empty and will be removed. Unused bucket keys=%s' %\n",
            "/usr/local/lib/python3.10/dist-packages/gluonnlp/data/sampler.py:353: UserWarning: Some buckets are empty and will be removed. Unused bucket keys=[13]\n",
            "  warnings.warn('Some buckets are empty and will be removed. Unused bucket keys=%s' %\n",
            "/usr/local/lib/python3.10/dist-packages/gluonnlp/data/sampler.py:353: UserWarning: Some buckets are empty and will be removed. Unused bucket keys=[14]\n",
            "  warnings.warn('Some buckets are empty and will be removed. Unused bucket keys=%s' %\n"
          ]
        },
        {
          "output_type": "stream",
          "name": "stdout",
          "text": [
            "Finished item 94 of 104\n"
          ]
        },
        {
          "output_type": "stream",
          "name": "stderr",
          "text": [
            "/usr/local/lib/python3.10/dist-packages/gluonnlp/data/sampler.py:353: UserWarning: Some buckets are empty and will be removed. Unused bucket keys=[5]\n",
            "  warnings.warn('Some buckets are empty and will be removed. Unused bucket keys=%s' %\n",
            "/usr/local/lib/python3.10/dist-packages/gluonnlp/data/sampler.py:353: UserWarning: Some buckets are empty and will be removed. Unused bucket keys=[6]\n",
            "  warnings.warn('Some buckets are empty and will be removed. Unused bucket keys=%s' %\n",
            "/usr/local/lib/python3.10/dist-packages/gluonnlp/data/sampler.py:353: UserWarning: Some buckets are empty and will be removed. Unused bucket keys=[8]\n",
            "  warnings.warn('Some buckets are empty and will be removed. Unused bucket keys=%s' %\n",
            "/usr/local/lib/python3.10/dist-packages/gluonnlp/data/sampler.py:353: UserWarning: Some buckets are empty and will be removed. Unused bucket keys=[9]\n",
            "  warnings.warn('Some buckets are empty and will be removed. Unused bucket keys=%s' %\n",
            "/usr/local/lib/python3.10/dist-packages/gluonnlp/data/sampler.py:353: UserWarning: Some buckets are empty and will be removed. Unused bucket keys=[10]\n",
            "  warnings.warn('Some buckets are empty and will be removed. Unused bucket keys=%s' %\n",
            "/usr/local/lib/python3.10/dist-packages/gluonnlp/data/sampler.py:353: UserWarning: Some buckets are empty and will be removed. Unused bucket keys=[12]\n",
            "  warnings.warn('Some buckets are empty and will be removed. Unused bucket keys=%s' %\n",
            "/usr/local/lib/python3.10/dist-packages/gluonnlp/data/sampler.py:353: UserWarning: Some buckets are empty and will be removed. Unused bucket keys=[13]\n",
            "  warnings.warn('Some buckets are empty and will be removed. Unused bucket keys=%s' %\n",
            "/usr/local/lib/python3.10/dist-packages/gluonnlp/data/sampler.py:353: UserWarning: Some buckets are empty and will be removed. Unused bucket keys=[14]\n",
            "  warnings.warn('Some buckets are empty and will be removed. Unused bucket keys=%s' %\n",
            "/usr/local/lib/python3.10/dist-packages/gluonnlp/data/sampler.py:353: UserWarning: Some buckets are empty and will be removed. Unused bucket keys=[15]\n",
            "  warnings.warn('Some buckets are empty and will be removed. Unused bucket keys=%s' %\n",
            "/usr/local/lib/python3.10/dist-packages/gluonnlp/data/sampler.py:353: UserWarning: Some buckets are empty and will be removed. Unused bucket keys=[16]\n",
            "  warnings.warn('Some buckets are empty and will be removed. Unused bucket keys=%s' %\n"
          ]
        },
        {
          "output_type": "stream",
          "name": "stdout",
          "text": [
            "Finished item 95 of 104\n"
          ]
        },
        {
          "output_type": "stream",
          "name": "stderr",
          "text": [
            "/usr/local/lib/python3.10/dist-packages/gluonnlp/data/sampler.py:353: UserWarning: Some buckets are empty and will be removed. Unused bucket keys=[6]\n",
            "  warnings.warn('Some buckets are empty and will be removed. Unused bucket keys=%s' %\n",
            "/usr/local/lib/python3.10/dist-packages/gluonnlp/data/sampler.py:353: UserWarning: Some buckets are empty and will be removed. Unused bucket keys=[7]\n",
            "  warnings.warn('Some buckets are empty and will be removed. Unused bucket keys=%s' %\n",
            "/usr/local/lib/python3.10/dist-packages/gluonnlp/data/sampler.py:353: UserWarning: Some buckets are empty and will be removed. Unused bucket keys=[8]\n",
            "  warnings.warn('Some buckets are empty and will be removed. Unused bucket keys=%s' %\n",
            "/usr/local/lib/python3.10/dist-packages/gluonnlp/data/sampler.py:353: UserWarning: Some buckets are empty and will be removed. Unused bucket keys=[9]\n",
            "  warnings.warn('Some buckets are empty and will be removed. Unused bucket keys=%s' %\n",
            "/usr/local/lib/python3.10/dist-packages/gluonnlp/data/sampler.py:353: UserWarning: Some buckets are empty and will be removed. Unused bucket keys=[10]\n",
            "  warnings.warn('Some buckets are empty and will be removed. Unused bucket keys=%s' %\n",
            "/usr/local/lib/python3.10/dist-packages/gluonnlp/data/sampler.py:353: UserWarning: Some buckets are empty and will be removed. Unused bucket keys=[11]\n",
            "  warnings.warn('Some buckets are empty and will be removed. Unused bucket keys=%s' %\n",
            "/usr/local/lib/python3.10/dist-packages/gluonnlp/data/sampler.py:353: UserWarning: Some buckets are empty and will be removed. Unused bucket keys=[12]\n",
            "  warnings.warn('Some buckets are empty and will be removed. Unused bucket keys=%s' %\n",
            "/usr/local/lib/python3.10/dist-packages/gluonnlp/data/sampler.py:353: UserWarning: Some buckets are empty and will be removed. Unused bucket keys=[13]\n",
            "  warnings.warn('Some buckets are empty and will be removed. Unused bucket keys=%s' %\n",
            "/usr/local/lib/python3.10/dist-packages/gluonnlp/data/sampler.py:353: UserWarning: Some buckets are empty and will be removed. Unused bucket keys=[14]\n",
            "  warnings.warn('Some buckets are empty and will be removed. Unused bucket keys=%s' %\n",
            "/usr/local/lib/python3.10/dist-packages/gluonnlp/data/sampler.py:353: UserWarning: Some buckets are empty and will be removed. Unused bucket keys=[15]\n",
            "  warnings.warn('Some buckets are empty and will be removed. Unused bucket keys=%s' %\n",
            "/usr/local/lib/python3.10/dist-packages/gluonnlp/data/sampler.py:353: UserWarning: Some buckets are empty and will be removed. Unused bucket keys=[16]\n",
            "  warnings.warn('Some buckets are empty and will be removed. Unused bucket keys=%s' %\n",
            "/usr/local/lib/python3.10/dist-packages/gluonnlp/data/sampler.py:353: UserWarning: Some buckets are empty and will be removed. Unused bucket keys=[18]\n",
            "  warnings.warn('Some buckets are empty and will be removed. Unused bucket keys=%s' %\n"
          ]
        },
        {
          "output_type": "stream",
          "name": "stdout",
          "text": [
            "Finished item 96 of 104\n"
          ]
        },
        {
          "output_type": "stream",
          "name": "stderr",
          "text": [
            "/usr/local/lib/python3.10/dist-packages/gluonnlp/data/sampler.py:353: UserWarning: Some buckets are empty and will be removed. Unused bucket keys=[5]\n",
            "  warnings.warn('Some buckets are empty and will be removed. Unused bucket keys=%s' %\n",
            "/usr/local/lib/python3.10/dist-packages/gluonnlp/data/sampler.py:353: UserWarning: Some buckets are empty and will be removed. Unused bucket keys=[6]\n",
            "  warnings.warn('Some buckets are empty and will be removed. Unused bucket keys=%s' %\n",
            "/usr/local/lib/python3.10/dist-packages/gluonnlp/data/sampler.py:353: UserWarning: Some buckets are empty and will be removed. Unused bucket keys=[7]\n",
            "  warnings.warn('Some buckets are empty and will be removed. Unused bucket keys=%s' %\n",
            "/usr/local/lib/python3.10/dist-packages/gluonnlp/data/sampler.py:353: UserWarning: Some buckets are empty and will be removed. Unused bucket keys=[9]\n",
            "  warnings.warn('Some buckets are empty and will be removed. Unused bucket keys=%s' %\n",
            "/usr/local/lib/python3.10/dist-packages/gluonnlp/data/sampler.py:353: UserWarning: Some buckets are empty and will be removed. Unused bucket keys=[10]\n",
            "  warnings.warn('Some buckets are empty and will be removed. Unused bucket keys=%s' %\n",
            "/usr/local/lib/python3.10/dist-packages/gluonnlp/data/sampler.py:353: UserWarning: Some buckets are empty and will be removed. Unused bucket keys=[12]\n",
            "  warnings.warn('Some buckets are empty and will be removed. Unused bucket keys=%s' %\n",
            "/usr/local/lib/python3.10/dist-packages/gluonnlp/data/sampler.py:353: UserWarning: Some buckets are empty and will be removed. Unused bucket keys=[13]\n",
            "  warnings.warn('Some buckets are empty and will be removed. Unused bucket keys=%s' %\n",
            "/usr/local/lib/python3.10/dist-packages/gluonnlp/data/sampler.py:353: UserWarning: Some buckets are empty and will be removed. Unused bucket keys=[14]\n",
            "  warnings.warn('Some buckets are empty and will be removed. Unused bucket keys=%s' %\n",
            "/usr/local/lib/python3.10/dist-packages/gluonnlp/data/sampler.py:353: UserWarning: Some buckets are empty and will be removed. Unused bucket keys=[15]\n",
            "  warnings.warn('Some buckets are empty and will be removed. Unused bucket keys=%s' %\n",
            "/usr/local/lib/python3.10/dist-packages/gluonnlp/data/sampler.py:353: UserWarning: Some buckets are empty and will be removed. Unused bucket keys=[16]\n",
            "  warnings.warn('Some buckets are empty and will be removed. Unused bucket keys=%s' %\n",
            "/usr/local/lib/python3.10/dist-packages/gluonnlp/data/sampler.py:353: UserWarning: Some buckets are empty and will be removed. Unused bucket keys=[17]\n",
            "  warnings.warn('Some buckets are empty and will be removed. Unused bucket keys=%s' %\n",
            "/usr/local/lib/python3.10/dist-packages/gluonnlp/data/sampler.py:353: UserWarning: Some buckets are empty and will be removed. Unused bucket keys=[18]\n",
            "  warnings.warn('Some buckets are empty and will be removed. Unused bucket keys=%s' %\n",
            "/usr/local/lib/python3.10/dist-packages/gluonnlp/data/sampler.py:353: UserWarning: Some buckets are empty and will be removed. Unused bucket keys=[20]\n",
            "  warnings.warn('Some buckets are empty and will be removed. Unused bucket keys=%s' %\n"
          ]
        },
        {
          "output_type": "stream",
          "name": "stdout",
          "text": [
            "Finished item 97 of 104\n"
          ]
        },
        {
          "output_type": "stream",
          "name": "stderr",
          "text": [
            "/usr/local/lib/python3.10/dist-packages/gluonnlp/data/sampler.py:353: UserWarning: Some buckets are empty and will be removed. Unused bucket keys=[5]\n",
            "  warnings.warn('Some buckets are empty and will be removed. Unused bucket keys=%s' %\n",
            "/usr/local/lib/python3.10/dist-packages/gluonnlp/data/sampler.py:353: UserWarning: Some buckets are empty and will be removed. Unused bucket keys=[6]\n",
            "  warnings.warn('Some buckets are empty and will be removed. Unused bucket keys=%s' %\n",
            "/usr/local/lib/python3.10/dist-packages/gluonnlp/data/sampler.py:353: UserWarning: Some buckets are empty and will be removed. Unused bucket keys=[7]\n",
            "  warnings.warn('Some buckets are empty and will be removed. Unused bucket keys=%s' %\n",
            "/usr/local/lib/python3.10/dist-packages/gluonnlp/data/sampler.py:353: UserWarning: Some buckets are empty and will be removed. Unused bucket keys=[8]\n",
            "  warnings.warn('Some buckets are empty and will be removed. Unused bucket keys=%s' %\n",
            "/usr/local/lib/python3.10/dist-packages/gluonnlp/data/sampler.py:353: UserWarning: Some buckets are empty and will be removed. Unused bucket keys=[9]\n",
            "  warnings.warn('Some buckets are empty and will be removed. Unused bucket keys=%s' %\n",
            "/usr/local/lib/python3.10/dist-packages/gluonnlp/data/sampler.py:353: UserWarning: Some buckets are empty and will be removed. Unused bucket keys=[10]\n",
            "  warnings.warn('Some buckets are empty and will be removed. Unused bucket keys=%s' %\n",
            "/usr/local/lib/python3.10/dist-packages/gluonnlp/data/sampler.py:353: UserWarning: Some buckets are empty and will be removed. Unused bucket keys=[11]\n",
            "  warnings.warn('Some buckets are empty and will be removed. Unused bucket keys=%s' %\n",
            "/usr/local/lib/python3.10/dist-packages/gluonnlp/data/sampler.py:353: UserWarning: Some buckets are empty and will be removed. Unused bucket keys=[12]\n",
            "  warnings.warn('Some buckets are empty and will be removed. Unused bucket keys=%s' %\n",
            "/usr/local/lib/python3.10/dist-packages/gluonnlp/data/sampler.py:353: UserWarning: Some buckets are empty and will be removed. Unused bucket keys=[13]\n",
            "  warnings.warn('Some buckets are empty and will be removed. Unused bucket keys=%s' %\n",
            "/usr/local/lib/python3.10/dist-packages/gluonnlp/data/sampler.py:353: UserWarning: Some buckets are empty and will be removed. Unused bucket keys=[14]\n",
            "  warnings.warn('Some buckets are empty and will be removed. Unused bucket keys=%s' %\n",
            "/usr/local/lib/python3.10/dist-packages/gluonnlp/data/sampler.py:353: UserWarning: Some buckets are empty and will be removed. Unused bucket keys=[15]\n",
            "  warnings.warn('Some buckets are empty and will be removed. Unused bucket keys=%s' %\n",
            "/usr/local/lib/python3.10/dist-packages/gluonnlp/data/sampler.py:353: UserWarning: Some buckets are empty and will be removed. Unused bucket keys=[17]\n",
            "  warnings.warn('Some buckets are empty and will be removed. Unused bucket keys=%s' %\n"
          ]
        },
        {
          "output_type": "stream",
          "name": "stdout",
          "text": [
            "Finished item 98 of 104\n"
          ]
        },
        {
          "output_type": "stream",
          "name": "stderr",
          "text": [
            "/usr/local/lib/python3.10/dist-packages/gluonnlp/data/sampler.py:353: UserWarning: Some buckets are empty and will be removed. Unused bucket keys=[5]\n",
            "  warnings.warn('Some buckets are empty and will be removed. Unused bucket keys=%s' %\n",
            "/usr/local/lib/python3.10/dist-packages/gluonnlp/data/sampler.py:353: UserWarning: Some buckets are empty and will be removed. Unused bucket keys=[6]\n",
            "  warnings.warn('Some buckets are empty and will be removed. Unused bucket keys=%s' %\n",
            "/usr/local/lib/python3.10/dist-packages/gluonnlp/data/sampler.py:353: UserWarning: Some buckets are empty and will be removed. Unused bucket keys=[7]\n",
            "  warnings.warn('Some buckets are empty and will be removed. Unused bucket keys=%s' %\n",
            "/usr/local/lib/python3.10/dist-packages/gluonnlp/data/sampler.py:353: UserWarning: Some buckets are empty and will be removed. Unused bucket keys=[8]\n",
            "  warnings.warn('Some buckets are empty and will be removed. Unused bucket keys=%s' %\n",
            "/usr/local/lib/python3.10/dist-packages/gluonnlp/data/sampler.py:353: UserWarning: Some buckets are empty and will be removed. Unused bucket keys=[9]\n",
            "  warnings.warn('Some buckets are empty and will be removed. Unused bucket keys=%s' %\n",
            "/usr/local/lib/python3.10/dist-packages/gluonnlp/data/sampler.py:353: UserWarning: Some buckets are empty and will be removed. Unused bucket keys=[10]\n",
            "  warnings.warn('Some buckets are empty and will be removed. Unused bucket keys=%s' %\n",
            "/usr/local/lib/python3.10/dist-packages/gluonnlp/data/sampler.py:353: UserWarning: Some buckets are empty and will be removed. Unused bucket keys=[11]\n",
            "  warnings.warn('Some buckets are empty and will be removed. Unused bucket keys=%s' %\n",
            "/usr/local/lib/python3.10/dist-packages/gluonnlp/data/sampler.py:353: UserWarning: Some buckets are empty and will be removed. Unused bucket keys=[13]\n",
            "  warnings.warn('Some buckets are empty and will be removed. Unused bucket keys=%s' %\n",
            "/usr/local/lib/python3.10/dist-packages/gluonnlp/data/sampler.py:353: UserWarning: Some buckets are empty and will be removed. Unused bucket keys=[15]\n",
            "  warnings.warn('Some buckets are empty and will be removed. Unused bucket keys=%s' %\n",
            "/usr/local/lib/python3.10/dist-packages/gluonnlp/data/sampler.py:353: UserWarning: Some buckets are empty and will be removed. Unused bucket keys=[16]\n",
            "  warnings.warn('Some buckets are empty and will be removed. Unused bucket keys=%s' %\n",
            "/usr/local/lib/python3.10/dist-packages/gluonnlp/data/sampler.py:353: UserWarning: Some buckets are empty and will be removed. Unused bucket keys=[18]\n",
            "  warnings.warn('Some buckets are empty and will be removed. Unused bucket keys=%s' %\n"
          ]
        },
        {
          "output_type": "stream",
          "name": "stdout",
          "text": [
            "Finished item 99 of 104\n"
          ]
        },
        {
          "output_type": "stream",
          "name": "stderr",
          "text": [
            "/usr/local/lib/python3.10/dist-packages/gluonnlp/data/sampler.py:353: UserWarning: Some buckets are empty and will be removed. Unused bucket keys=[5]\n",
            "  warnings.warn('Some buckets are empty and will be removed. Unused bucket keys=%s' %\n",
            "/usr/local/lib/python3.10/dist-packages/gluonnlp/data/sampler.py:353: UserWarning: Some buckets are empty and will be removed. Unused bucket keys=[6]\n",
            "  warnings.warn('Some buckets are empty and will be removed. Unused bucket keys=%s' %\n",
            "/usr/local/lib/python3.10/dist-packages/gluonnlp/data/sampler.py:353: UserWarning: Some buckets are empty and will be removed. Unused bucket keys=[7]\n",
            "  warnings.warn('Some buckets are empty and will be removed. Unused bucket keys=%s' %\n",
            "/usr/local/lib/python3.10/dist-packages/gluonnlp/data/sampler.py:353: UserWarning: Some buckets are empty and will be removed. Unused bucket keys=[9]\n",
            "  warnings.warn('Some buckets are empty and will be removed. Unused bucket keys=%s' %\n",
            "/usr/local/lib/python3.10/dist-packages/gluonnlp/data/sampler.py:353: UserWarning: Some buckets are empty and will be removed. Unused bucket keys=[10]\n",
            "  warnings.warn('Some buckets are empty and will be removed. Unused bucket keys=%s' %\n",
            "/usr/local/lib/python3.10/dist-packages/gluonnlp/data/sampler.py:353: UserWarning: Some buckets are empty and will be removed. Unused bucket keys=[11]\n",
            "  warnings.warn('Some buckets are empty and will be removed. Unused bucket keys=%s' %\n",
            "/usr/local/lib/python3.10/dist-packages/gluonnlp/data/sampler.py:353: UserWarning: Some buckets are empty and will be removed. Unused bucket keys=[12]\n",
            "  warnings.warn('Some buckets are empty and will be removed. Unused bucket keys=%s' %\n",
            "/usr/local/lib/python3.10/dist-packages/gluonnlp/data/sampler.py:353: UserWarning: Some buckets are empty and will be removed. Unused bucket keys=[14]\n",
            "  warnings.warn('Some buckets are empty and will be removed. Unused bucket keys=%s' %\n",
            "/usr/local/lib/python3.10/dist-packages/gluonnlp/data/sampler.py:353: UserWarning: Some buckets are empty and will be removed. Unused bucket keys=[15]\n",
            "  warnings.warn('Some buckets are empty and will be removed. Unused bucket keys=%s' %\n",
            "/usr/local/lib/python3.10/dist-packages/gluonnlp/data/sampler.py:353: UserWarning: Some buckets are empty and will be removed. Unused bucket keys=[17]\n",
            "  warnings.warn('Some buckets are empty and will be removed. Unused bucket keys=%s' %\n"
          ]
        },
        {
          "output_type": "stream",
          "name": "stdout",
          "text": [
            "Finished item 100 of 104\n"
          ]
        },
        {
          "output_type": "stream",
          "name": "stderr",
          "text": [
            "/usr/local/lib/python3.10/dist-packages/gluonnlp/data/sampler.py:353: UserWarning: Some buckets are empty and will be removed. Unused bucket keys=[7]\n",
            "  warnings.warn('Some buckets are empty and will be removed. Unused bucket keys=%s' %\n",
            "/usr/local/lib/python3.10/dist-packages/gluonnlp/data/sampler.py:353: UserWarning: Some buckets are empty and will be removed. Unused bucket keys=[9]\n",
            "  warnings.warn('Some buckets are empty and will be removed. Unused bucket keys=%s' %\n",
            "/usr/local/lib/python3.10/dist-packages/gluonnlp/data/sampler.py:353: UserWarning: Some buckets are empty and will be removed. Unused bucket keys=[10]\n",
            "  warnings.warn('Some buckets are empty and will be removed. Unused bucket keys=%s' %\n",
            "/usr/local/lib/python3.10/dist-packages/gluonnlp/data/sampler.py:353: UserWarning: Some buckets are empty and will be removed. Unused bucket keys=[9]\n",
            "  warnings.warn('Some buckets are empty and will be removed. Unused bucket keys=%s' %\n",
            "/usr/local/lib/python3.10/dist-packages/gluonnlp/data/sampler.py:353: UserWarning: Some buckets are empty and will be removed. Unused bucket keys=[11]\n",
            "  warnings.warn('Some buckets are empty and will be removed. Unused bucket keys=%s' %\n",
            "/usr/local/lib/python3.10/dist-packages/gluonnlp/data/sampler.py:353: UserWarning: Some buckets are empty and will be removed. Unused bucket keys=[10]\n",
            "  warnings.warn('Some buckets are empty and will be removed. Unused bucket keys=%s' %\n",
            "/usr/local/lib/python3.10/dist-packages/gluonnlp/data/sampler.py:353: UserWarning: Some buckets are empty and will be removed. Unused bucket keys=[12]\n",
            "  warnings.warn('Some buckets are empty and will be removed. Unused bucket keys=%s' %\n",
            "/usr/local/lib/python3.10/dist-packages/gluonnlp/data/sampler.py:353: UserWarning: Some buckets are empty and will be removed. Unused bucket keys=[11]\n",
            "  warnings.warn('Some buckets are empty and will be removed. Unused bucket keys=%s' %\n",
            "/usr/local/lib/python3.10/dist-packages/gluonnlp/data/sampler.py:353: UserWarning: Some buckets are empty and will be removed. Unused bucket keys=[14]\n",
            "  warnings.warn('Some buckets are empty and will be removed. Unused bucket keys=%s' %\n",
            "/usr/local/lib/python3.10/dist-packages/gluonnlp/data/sampler.py:353: UserWarning: Some buckets are empty and will be removed. Unused bucket keys=[13]\n",
            "  warnings.warn('Some buckets are empty and will be removed. Unused bucket keys=%s' %\n",
            "/usr/local/lib/python3.10/dist-packages/gluonnlp/data/sampler.py:353: UserWarning: Some buckets are empty and will be removed. Unused bucket keys=[15]\n",
            "  warnings.warn('Some buckets are empty and will be removed. Unused bucket keys=%s' %\n",
            "/usr/local/lib/python3.10/dist-packages/gluonnlp/data/sampler.py:353: UserWarning: Some buckets are empty and will be removed. Unused bucket keys=[14]\n",
            "  warnings.warn('Some buckets are empty and will be removed. Unused bucket keys=%s' %\n",
            "/usr/local/lib/python3.10/dist-packages/gluonnlp/data/sampler.py:353: UserWarning: Some buckets are empty and will be removed. Unused bucket keys=[16]\n",
            "  warnings.warn('Some buckets are empty and will be removed. Unused bucket keys=%s' %\n",
            "/usr/local/lib/python3.10/dist-packages/gluonnlp/data/sampler.py:353: UserWarning: Some buckets are empty and will be removed. Unused bucket keys=[15]\n",
            "  warnings.warn('Some buckets are empty and will be removed. Unused bucket keys=%s' %\n",
            "/usr/local/lib/python3.10/dist-packages/gluonnlp/data/sampler.py:353: UserWarning: Some buckets are empty and will be removed. Unused bucket keys=[17]\n",
            "  warnings.warn('Some buckets are empty and will be removed. Unused bucket keys=%s' %\n",
            "/usr/local/lib/python3.10/dist-packages/gluonnlp/data/sampler.py:353: UserWarning: Some buckets are empty and will be removed. Unused bucket keys=[16]\n",
            "  warnings.warn('Some buckets are empty and will be removed. Unused bucket keys=%s' %\n",
            "/usr/local/lib/python3.10/dist-packages/gluonnlp/data/sampler.py:353: UserWarning: Some buckets are empty and will be removed. Unused bucket keys=[18]\n",
            "  warnings.warn('Some buckets are empty and will be removed. Unused bucket keys=%s' %\n",
            "/usr/local/lib/python3.10/dist-packages/gluonnlp/data/sampler.py:353: UserWarning: Some buckets are empty and will be removed. Unused bucket keys=[17]\n",
            "  warnings.warn('Some buckets are empty and will be removed. Unused bucket keys=%s' %\n"
          ]
        },
        {
          "output_type": "stream",
          "name": "stdout",
          "text": [
            "Finished item 101 of 104\n"
          ]
        },
        {
          "output_type": "stream",
          "name": "stderr",
          "text": [
            "/usr/local/lib/python3.10/dist-packages/gluonnlp/data/sampler.py:353: UserWarning: Some buckets are empty and will be removed. Unused bucket keys=[5]\n",
            "  warnings.warn('Some buckets are empty and will be removed. Unused bucket keys=%s' %\n",
            "/usr/local/lib/python3.10/dist-packages/gluonnlp/data/sampler.py:353: UserWarning: Some buckets are empty and will be removed. Unused bucket keys=[6]\n",
            "  warnings.warn('Some buckets are empty and will be removed. Unused bucket keys=%s' %\n",
            "/usr/local/lib/python3.10/dist-packages/gluonnlp/data/sampler.py:353: UserWarning: Some buckets are empty and will be removed. Unused bucket keys=[7]\n",
            "  warnings.warn('Some buckets are empty and will be removed. Unused bucket keys=%s' %\n",
            "/usr/local/lib/python3.10/dist-packages/gluonnlp/data/sampler.py:353: UserWarning: Some buckets are empty and will be removed. Unused bucket keys=[10]\n",
            "  warnings.warn('Some buckets are empty and will be removed. Unused bucket keys=%s' %\n",
            "/usr/local/lib/python3.10/dist-packages/gluonnlp/data/sampler.py:353: UserWarning: Some buckets are empty and will be removed. Unused bucket keys=[11]\n",
            "  warnings.warn('Some buckets are empty and will be removed. Unused bucket keys=%s' %\n",
            "/usr/local/lib/python3.10/dist-packages/gluonnlp/data/sampler.py:353: UserWarning: Some buckets are empty and will be removed. Unused bucket keys=[12]\n",
            "  warnings.warn('Some buckets are empty and will be removed. Unused bucket keys=%s' %\n",
            "/usr/local/lib/python3.10/dist-packages/gluonnlp/data/sampler.py:353: UserWarning: Some buckets are empty and will be removed. Unused bucket keys=[13]\n",
            "  warnings.warn('Some buckets are empty and will be removed. Unused bucket keys=%s' %\n",
            "/usr/local/lib/python3.10/dist-packages/gluonnlp/data/sampler.py:353: UserWarning: Some buckets are empty and will be removed. Unused bucket keys=[14]\n",
            "  warnings.warn('Some buckets are empty and will be removed. Unused bucket keys=%s' %\n",
            "/usr/local/lib/python3.10/dist-packages/gluonnlp/data/sampler.py:353: UserWarning: Some buckets are empty and will be removed. Unused bucket keys=[15]\n",
            "  warnings.warn('Some buckets are empty and will be removed. Unused bucket keys=%s' %\n",
            "/usr/local/lib/python3.10/dist-packages/gluonnlp/data/sampler.py:353: UserWarning: Some buckets are empty and will be removed. Unused bucket keys=[16]\n",
            "  warnings.warn('Some buckets are empty and will be removed. Unused bucket keys=%s' %\n",
            "/usr/local/lib/python3.10/dist-packages/gluonnlp/data/sampler.py:353: UserWarning: Some buckets are empty and will be removed. Unused bucket keys=[17]\n",
            "  warnings.warn('Some buckets are empty and will be removed. Unused bucket keys=%s' %\n",
            "/usr/local/lib/python3.10/dist-packages/gluonnlp/data/sampler.py:353: UserWarning: Some buckets are empty and will be removed. Unused bucket keys=[21]\n",
            "  warnings.warn('Some buckets are empty and will be removed. Unused bucket keys=%s' %\n"
          ]
        },
        {
          "output_type": "stream",
          "name": "stdout",
          "text": [
            "Finished item 102 of 104\n"
          ]
        },
        {
          "output_type": "stream",
          "name": "stderr",
          "text": [
            "/usr/local/lib/python3.10/dist-packages/gluonnlp/data/sampler.py:353: UserWarning: Some buckets are empty and will be removed. Unused bucket keys=[6]\n",
            "  warnings.warn('Some buckets are empty and will be removed. Unused bucket keys=%s' %\n",
            "/usr/local/lib/python3.10/dist-packages/gluonnlp/data/sampler.py:353: UserWarning: Some buckets are empty and will be removed. Unused bucket keys=[7]\n",
            "  warnings.warn('Some buckets are empty and will be removed. Unused bucket keys=%s' %\n",
            "/usr/local/lib/python3.10/dist-packages/gluonnlp/data/sampler.py:353: UserWarning: Some buckets are empty and will be removed. Unused bucket keys=[9]\n",
            "  warnings.warn('Some buckets are empty and will be removed. Unused bucket keys=%s' %\n",
            "/usr/local/lib/python3.10/dist-packages/gluonnlp/data/sampler.py:353: UserWarning: Some buckets are empty and will be removed. Unused bucket keys=[10]\n",
            "  warnings.warn('Some buckets are empty and will be removed. Unused bucket keys=%s' %\n",
            "/usr/local/lib/python3.10/dist-packages/gluonnlp/data/sampler.py:353: UserWarning: Some buckets are empty and will be removed. Unused bucket keys=[14]\n",
            "  warnings.warn('Some buckets are empty and will be removed. Unused bucket keys=%s' %\n",
            "/usr/local/lib/python3.10/dist-packages/gluonnlp/data/sampler.py:353: UserWarning: Some buckets are empty and will be removed. Unused bucket keys=[13]\n",
            "  warnings.warn('Some buckets are empty and will be removed. Unused bucket keys=%s' %\n",
            "/usr/local/lib/python3.10/dist-packages/gluonnlp/data/sampler.py:353: UserWarning: Some buckets are empty and will be removed. Unused bucket keys=[14]\n",
            "  warnings.warn('Some buckets are empty and will be removed. Unused bucket keys=%s' %\n",
            "/usr/local/lib/python3.10/dist-packages/gluonnlp/data/sampler.py:353: UserWarning: Some buckets are empty and will be removed. Unused bucket keys=[16]\n",
            "  warnings.warn('Some buckets are empty and will be removed. Unused bucket keys=%s' %\n"
          ]
        },
        {
          "output_type": "stream",
          "name": "stdout",
          "text": [
            "Finished item 103 of 104\n"
          ]
        },
        {
          "output_type": "stream",
          "name": "stderr",
          "text": [
            "/usr/local/lib/python3.10/dist-packages/gluonnlp/data/sampler.py:353: UserWarning: Some buckets are empty and will be removed. Unused bucket keys=[5]\n",
            "  warnings.warn('Some buckets are empty and will be removed. Unused bucket keys=%s' %\n",
            "/usr/local/lib/python3.10/dist-packages/gluonnlp/data/sampler.py:353: UserWarning: Some buckets are empty and will be removed. Unused bucket keys=[6]\n",
            "  warnings.warn('Some buckets are empty and will be removed. Unused bucket keys=%s' %\n",
            "/usr/local/lib/python3.10/dist-packages/gluonnlp/data/sampler.py:353: UserWarning: Some buckets are empty and will be removed. Unused bucket keys=[7]\n",
            "  warnings.warn('Some buckets are empty and will be removed. Unused bucket keys=%s' %\n",
            "/usr/local/lib/python3.10/dist-packages/gluonnlp/data/sampler.py:353: UserWarning: Some buckets are empty and will be removed. Unused bucket keys=[9]\n",
            "  warnings.warn('Some buckets are empty and will be removed. Unused bucket keys=%s' %\n",
            "/usr/local/lib/python3.10/dist-packages/gluonnlp/data/sampler.py:353: UserWarning: Some buckets are empty and will be removed. Unused bucket keys=[11]\n",
            "  warnings.warn('Some buckets are empty and will be removed. Unused bucket keys=%s' %\n",
            "/usr/local/lib/python3.10/dist-packages/gluonnlp/data/sampler.py:353: UserWarning: Some buckets are empty and will be removed. Unused bucket keys=[12]\n",
            "  warnings.warn('Some buckets are empty and will be removed. Unused bucket keys=%s' %\n",
            "/usr/local/lib/python3.10/dist-packages/gluonnlp/data/sampler.py:353: UserWarning: Some buckets are empty and will be removed. Unused bucket keys=[13]\n",
            "  warnings.warn('Some buckets are empty and will be removed. Unused bucket keys=%s' %\n",
            "/usr/local/lib/python3.10/dist-packages/gluonnlp/data/sampler.py:353: UserWarning: Some buckets are empty and will be removed. Unused bucket keys=[15]\n",
            "  warnings.warn('Some buckets are empty and will be removed. Unused bucket keys=%s' %\n",
            "/usr/local/lib/python3.10/dist-packages/gluonnlp/data/sampler.py:353: UserWarning: Some buckets are empty and will be removed. Unused bucket keys=[17]\n",
            "  warnings.warn('Some buckets are empty and will be removed. Unused bucket keys=%s' %\n"
          ]
        },
        {
          "output_type": "stream",
          "name": "stdout",
          "text": [
            "Finished item 104 of 104\n"
          ]
        }
      ]
    },
    {
      "cell_type": "markdown",
      "source": [
        "The following commented out functions were written to allow you to easily adjust the language specific setup to your experimental materials. `delete_nonwords_after` adds words to the list of nonwords that should not be considered for distractors, such as acronyms or slang words, for example, if your experimental materials consist of formal language. `switch_word_cap` allows you to make a word that might have been algorithmically saved as lowercase, like \"trump's,\" uppercase because it is more commonly found in this form, and vice versa."
      ],
      "metadata": {
        "id": "ZRxC5iwWIeHH"
      }
    },
    {
      "cell_type": "code",
      "source": [
        "#eng.delete_nonwords_after([\"werid_word0\",\"weird_word1\"])\n",
        "#eng.switch_word_cap(\"Wrong_capitalized\",\"wrong_lowercase\")"
      ],
      "metadata": {
        "id": "DKC-tpaFM_Gi"
      },
      "execution_count": null,
      "outputs": []
    }
  ]
}